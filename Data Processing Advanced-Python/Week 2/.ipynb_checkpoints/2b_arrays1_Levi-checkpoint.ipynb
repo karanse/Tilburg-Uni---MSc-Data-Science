{
 "cells": [
  {
   "cell_type": "markdown",
   "metadata": {},
   "source": [
    "# 2. Arrays - Part 2"
   ]
  },
  {
   "cell_type": "code",
   "execution_count": 1,
   "metadata": {},
   "outputs": [],
   "source": [
    "import numpy"
   ]
  },
  {
   "cell_type": "markdown",
   "metadata": {},
   "source": [
    "## Structured arrays\n",
    "\n",
    "A structured array consists of a number of columns, where each column can be a different datatype. \n",
    "\n",
    "Full information about structured arrays: \n",
    "http://docs.scipy.org/doc/numpy-1.10.1/user/basics.rec.html#structured-arrays\n",
    "\n",
    "One of the possible ways to specify a structured array is to use a list of tuples as `dtype`:\n",
    "For every column in the array a tuple is specified with the name of the column and the type of data in it. For example: "
   ]
  },
  {
   "cell_type": "code",
   "execution_count": 3,
   "metadata": {},
   "outputs": [],
   "source": [
    "dtype = [('Name', 'U10'), ('Country', 'U10'), ('Area', 'float64')]"
   ]
  },
  {
   "cell_type": "markdown",
   "metadata": {},
   "source": [
    "The content of the array can then be given as a list of tuples, like so:"
   ]
  },
  {
   "cell_type": "code",
   "execution_count": 4,
   "metadata": {},
   "outputs": [
    {
     "name": "stdout",
     "output_type": "stream",
     "text": [
      "[('Amsterdam', 'Netherland', 219.3) ('Paris', 'France', 105.4)\n",
      " ('Barcelona', 'Spain', 101.9)]\n"
     ]
    }
   ],
   "source": [
    "city = numpy.array([('Amsterdam', 'Netherlands', 219.3),\n",
    "                    ('Paris',     'France',      105.4 ),\n",
    "                    ('Barcelona', 'Spain',       101.9 )],\n",
    "                     dtype=dtype)\n",
    "print(city)"
   ]
  },
  {
   "cell_type": "markdown",
   "metadata": {},
   "source": [
    "### Indexing structured arrays\n",
    "The rows in a structured array can be accessed by regular indexing. The columns of the array by using the column names that are specified when the array was created."
   ]
  },
  {
   "cell_type": "code",
   "execution_count": 4,
   "metadata": {},
   "outputs": [
    {
     "name": "stdout",
     "output_type": "stream",
     "text": [
      "('Amsterdam', 'Netherland', 219.3)\n"
     ]
    }
   ],
   "source": [
    "# Access first row\n",
    "print(city[0])"
   ]
  },
  {
   "cell_type": "code",
   "execution_count": 5,
   "metadata": {},
   "outputs": [
    {
     "name": "stdout",
     "output_type": "stream",
     "text": [
      "[('Amsterdam', 'Netherland',  219.3) ('Paris', 'France',  105.4)]\n"
     ]
    }
   ],
   "source": [
    "# Access first two rows\n",
    "print(city[0:2])"
   ]
  },
  {
   "cell_type": "code",
   "execution_count": 6,
   "metadata": {},
   "outputs": [
    {
     "name": "stdout",
     "output_type": "stream",
     "text": [
      "[ 219.3  105.4  101.9]\n"
     ]
    }
   ],
   "source": [
    "# Access column by name\n",
    "print(city['Area'])"
   ]
  },
  {
   "cell_type": "code",
   "execution_count": 7,
   "metadata": {},
   "outputs": [
    {
     "name": "stdout",
     "output_type": "stream",
     "text": [
      "[('Amsterdam',  219.3) ('Paris',  105.4) ('Barcelona',  101.9)]\n"
     ]
    }
   ],
   "source": [
    "# Access two columns using list of names\n",
    "print(city[['Name', 'Area']])"
   ]
  },
  {
   "cell_type": "code",
   "execution_count": 8,
   "metadata": {},
   "outputs": [
    {
     "name": "stdout",
     "output_type": "stream",
     "text": [
      "[('Amsterdam', 'Netherland') ('Paris', 'France') ('Barcelona', 'Spain')]\n"
     ]
    }
   ],
   "source": [
    "print(city[['Name', 'Country']])"
   ]
  },
  {
   "cell_type": "code",
   "execution_count": 9,
   "metadata": {},
   "outputs": [
    {
     "name": "stdout",
     "output_type": "stream",
     "text": [
      "(3,) [('Name', '<U10'), ('Country', '<U10'), ('Area', '<f8')]\n"
     ]
    }
   ],
   "source": [
    "# Print information about the array\n",
    "print(city.shape, city.dtype)"
   ]
  },
  {
   "cell_type": "markdown",
   "metadata": {},
   "source": [
    "Note that structured arrays like this one, even though they have rows and columns, \n",
    "are treated as one-dimensional.\n",
    "\n",
    "### Accessing and modifying column names\n",
    "\n",
    "For example:\n"
   ]
  },
  {
   "cell_type": "code",
   "execution_count": 10,
   "metadata": {},
   "outputs": [
    {
     "data": {
      "text/plain": [
       "('Name', 'Country', 'Area')"
      ]
     },
     "execution_count": 10,
     "metadata": {},
     "output_type": "execute_result"
    }
   ],
   "source": [
    "city.dtype.names"
   ]
  },
  {
   "cell_type": "code",
   "execution_count": 36,
   "metadata": {},
   "outputs": [
    {
     "name": "stdout",
     "output_type": "stream",
     "text": [
      "[ 219.3  105.4  101.9]\n"
     ]
    }
   ],
   "source": [
    "city.dtype.names = ('name', 'country', 'area')\n",
    "print(city['area'])"
   ]
  },
  {
   "cell_type": "markdown",
   "metadata": {},
   "source": [
    "### Loading data into structured arrays\n",
    "\n",
    "Structured arrays are useful for loading and working with tabular data with heterogeneous column types. \n",
    "\n",
    "#### Exercise 2b.1\n",
    "\n",
    "Complete the following code loading the data from file [populations.txt](populations.txt). Load the year column as an `int`, and the other columns as `float`."
   ]
  },
  {
   "cell_type": "code",
   "execution_count": 41,
   "metadata": {},
   "outputs": [
    {
     "name": "stdout",
     "output_type": "stream",
     "text": [
      "[('year', '<i8'), ('hare', '<f8'), ('lynx', '<f8'), ('carrot', '<f8')]\n"
     ]
    }
   ],
   "source": [
    "# Define dtype\n",
    "dtype = ###\n",
    "# load data\n",
    "population = numpy.loadtxt(\"populations.txt\", dtype=dtype)\n",
    "print(population.dtype)          "
   ]
  },
  {
   "cell_type": "code",
   "execution_count": 11,
   "metadata": {},
   "outputs": [
    {
     "name": "stdout",
     "output_type": "stream",
     "text": [
      "[('year', '<i8'), ('hare', '<f4'), ('lynx', '<f4'), ('carrot', '<f4')]\n",
      "\n",
      "[1900 1901 1902 1903 1904 1905 1906 1907 1908 1909 1910 1911 1912 1913\n",
      " 1914 1915 1916 1917 1918 1919 1920]\n"
     ]
    }
   ],
   "source": [
    "# Define dtype\n",
    "dtype = [('year', 'int64'), ('hare', 'float32'), ('lynx', 'float32'), ('carrot', 'float32')]\n",
    "# load data\n",
    "population = numpy.loadtxt(\"populations.txt\", dtype=dtype)\n",
    "print(population.dtype)  \n",
    "print()\n",
    "print(population['year'])"
   ]
  },
  {
   "cell_type": "markdown",
   "metadata": {},
   "source": [
    "An alternative way of loading tabular data using `genfromtxt`:"
   ]
  },
  {
   "cell_type": "code",
   "execution_count": 12,
   "metadata": {},
   "outputs": [
    {
     "name": "stdout",
     "output_type": "stream",
     "text": [
      "[('year', '<i4'), ('hare', '<f8'), ('lynx', '<f8'), ('carrot', '<f8')]\n"
     ]
    }
   ],
   "source": [
    "population = numpy.genfromtxt(\"populations.txt\", \n",
    "                 names=True,\n",
    "                 dtype=['int','float','float','float'])\n",
    "# Access lynx column\n",
    "\n",
    "print(population.dtype)"
   ]
  },
  {
   "cell_type": "markdown",
   "metadata": {},
   "source": [
    "### Record arrays\n",
    "There is a special interface to structured arrays called **record arrays**. For details, see https://docs.scipy.org/doc/numpy-1.10.1/user/basics.rec.html#record-arrays"
   ]
  },
  {
   "cell_type": "markdown",
   "metadata": {},
   "source": [
    "## Array Indexing\n",
    "\n",
    "For complete information  about indexing see\n",
    "http://docs.scipy.org/doc/numpy/user/basics.indexing.html\n",
    "\n",
    "You have already seen how to access content of the array by using an index for each dimension. This method is know as matrix indexing. In addition to matrix indexing, there are other ways to address content in an array\n",
    "\n",
    "- Linear indexing transforms an n-dimensional array to a 1-dimensional list. This linear index is returned when the `argmin` and `argmax` function are applied to an n-dimensional array. "
   ]
  },
  {
   "cell_type": "code",
   "execution_count": 36,
   "metadata": {},
   "outputs": [
    {
     "name": "stdout",
     "output_type": "stream",
     "text": [
      "[[-0.96711833 -0.31263832 -0.65671877 -0.34615566 -0.35171064]\n",
      " [-0.58052896  0.38414511  0.1072721   0.4367427   0.97591012]\n",
      " [ 0.05996992 -0.26526259 -0.5342021   0.0356053  -0.2844797 ]\n",
      " [-0.86828768  0.36656498  0.65806258 -0.08870592  0.67975278]\n",
      " [ 0.72201723  0.7334242  -0.09318075 -0.48833775  0.80003276]]\n",
      "9\n",
      "9\n"
     ]
    }
   ],
   "source": [
    "a = numpy.random.uniform(-1, 1, (5,5))\n",
    "print(a)\n",
    "# Return the index of the maximum value\n",
    "print(numpy.argmax(a))\n",
    "print(a.argmax())"
   ]
  },
  {
   "cell_type": "markdown",
   "metadata": {},
   "source": [
    "- Boolean indexing, which returns all values in the array for which the index is True."
   ]
  },
  {
   "cell_type": "code",
   "execution_count": 5,
   "metadata": {},
   "outputs": [
    {
     "name": "stdout",
     "output_type": "stream",
     "text": [
      "[[-0.48496136 -0.93564666  0.72212637 -0.35643598 -0.45344981]\n",
      " [ 0.14726467  0.32735759  0.92349949  0.80114722 -0.96157192]\n",
      " [-0.30724214 -0.11736103 -0.66453254  0.50938986  0.70903591]\n",
      " [ 0.75685385 -0.84854998 -0.21417462  0.32328654  0.13149776]\n",
      " [-0.08419494  0.94408696  0.56894668  0.49897243 -0.2192275 ]]\n",
      "\n",
      "[[False False  True False False]\n",
      " [ True  True  True  True False]\n",
      " [False False False  True  True]\n",
      " [ True False False  True  True]\n",
      " [False  True  True  True False]]\n",
      "\n",
      "[0.72212637 0.14726467 0.32735759 0.92349949 0.80114722 0.50938986\n",
      " 0.70903591 0.75685385 0.32328654 0.13149776 0.94408696 0.56894668\n",
      " 0.49897243]\n",
      "[0.14726467 0.75685385]\n"
     ]
    }
   ],
   "source": [
    "a = numpy.random.uniform(-1, 1, (5,5))\n",
    "# Create a boolean index for positive numbers in array a\n",
    "print(a)\n",
    "\n",
    "print()\n",
    "\n",
    "index = a > 0.0\n",
    "print(index)\n",
    "\n",
    "print()\n",
    "print(a[index])\n",
    "# Return all the positive numbers (in first column)\n",
    "print(a[:,0][index[:,0]])"
   ]
  },
  {
   "cell_type": "markdown",
   "metadata": {},
   "source": [
    "- Indexing with an array of indices. In this case you specify a separate array in which you store the indices as integers and you will return exactly the elements of the array with these indices. "
   ]
  },
  {
   "cell_type": "code",
   "execution_count": 10,
   "metadata": {},
   "outputs": [
    {
     "name": "stdout",
     "output_type": "stream",
     "text": [
      "[0.         0.11111111 0.22222222 0.33333333 0.44444444 0.55555556\n",
      " 0.66666667 0.77777778 0.88888889 1.        ]\n",
      "[2 3 5 8]\n",
      "\n",
      "[0.22222222 0.33333333 0.55555556 0.88888889]\n"
     ]
    }
   ],
   "source": [
    "b = numpy.linspace(0,1,10)  #linspace creates an array of evenly spaced values (here: from 0 to 1, in 10 steps)\n",
    "print(b)\n",
    "\n",
    "# Return numbers at prime indices\n",
    "index = numpy.array([ 2, 3, 5, 7])\n",
    "print(index)\n",
    "\n",
    "print()\n",
    "\n",
    "print(b[index])"
   ]
  },
  {
   "cell_type": "markdown",
   "metadata": {},
   "source": [
    "### Linear and matrix indexing\n",
    "\n",
    "Indexing in a 1-dimensional matrix is similar as indexing in a Python list. \n",
    "\n",
    "Indexing in a n-dimensional matrix has one index for every dimension. To access one element of the array, the index of every dimension should be given. When accessing more than one element, the slice syntax `m:n` can be used, and this works similar as it works with lists, but you can use the `m:n` for every dimension. \n",
    "\n",
    "If the index is `[m:n]` then indices that are used are `m` up to but not including `n`.\n",
    "\n",
    "If you have the linear index and you want to convert it to a matrix index, you can use the function `numpy.unravel_index()`.\n",
    "\n",
    "The first argument is the linear index and the second argument is the shape of the array for which you want to transform the index. For example: `numpy.unravel_index(linear_index, (2,3))`. "
   ]
  },
  {
   "cell_type": "code",
   "execution_count": 7,
   "metadata": {},
   "outputs": [
    {
     "name": "stdout",
     "output_type": "stream",
     "text": [
      "[[[ 0  1  2  3]\n",
      "  [ 4  5  6  7]\n",
      "  [ 8  9 10 11]]\n",
      "\n",
      " [[12 13 14 15]\n",
      "  [16 17 18 19]\n",
      "  [20 21 22 23]]]\n"
     ]
    }
   ],
   "source": [
    "# indexing in a 3-dimensional array\n",
    "z = numpy.arange(24).reshape((2, 3, 4))\n",
    "print(z)"
   ]
  },
  {
   "cell_type": "code",
   "execution_count": 8,
   "metadata": {},
   "outputs": [
    {
     "name": "stdout",
     "output_type": "stream",
     "text": [
      "[[ 7 11]\n",
      " [19 23]]\n",
      "\n",
      "[[ 8  9 10 11]\n",
      " [20 21 22 23]]\n"
     ]
    }
   ],
   "source": [
    "# slices\n",
    "#first to second block (up to but not including two, so block 0 and 1) , second up to third row, second column\n",
    "print(z[0:2, 1:3, 3]) \n",
    "print()\n",
    "\n",
    "#all blocks, third row, all columns\n",
    "print(z[:, 2, :])"
   ]
  },
  {
   "cell_type": "code",
   "execution_count": 33,
   "metadata": {},
   "outputs": [
    {
     "name": "stdout",
     "output_type": "stream",
     "text": [
      "\n",
      " For a array with dimensions (2, 3, 4), the linear index:  10  is equal to multidimensional index:  (0, 2, 2)\n"
     ]
    }
   ],
   "source": [
    "# linear indexing\n",
    "linear_index = 10\n",
    "print(\"\\n For a array with dimensions (2, 3, 4), the linear index: \", linear_index, \" is equal to \\\n",
    "multidimensional index: \", numpy.unravel_index(linear_index, z.shape))"
   ]
  },
  {
   "cell_type": "markdown",
   "metadata": {},
   "source": [
    "#### Exercise 2b.2\n",
    "\n",
    "Create a $4\\times3$ matrix of random numbers between $0$ and $1$. \n",
    "Find the row and column position of the minimum and the maximum value."
   ]
  },
  {
   "cell_type": "code",
   "execution_count": 23,
   "metadata": {},
   "outputs": [
    {
     "name": "stdout",
     "output_type": "stream",
     "text": [
      "[[0.5010974  0.24849547 0.5035657 ]\n",
      " [0.95544633 0.90737887 0.20776028]\n",
      " [0.37933878 0.87306233 0.56619238]\n",
      " [0.24968791 0.13625361 0.44254668]]\n",
      "\n",
      "min index = 10\n",
      "max index = 3\n",
      "(1, 0) (3, 1)\n",
      "\n",
      "0.9554463345057926\n"
     ]
    }
   ],
   "source": [
    "e_2b2 = numpy.random.uniform(0,1,(4,3))\n",
    "\n",
    "print(e_2b2)\n",
    "\n",
    "print()\n",
    "#minimum:\n",
    "print(\"min index =\" , numpy.argmin(e_2b2))\n",
    "\n",
    "#maximum \n",
    "print('max index =', numpy.argmax(e_2b2) )\n",
    "\n",
    "imax = numpy.unravel_index(numpy.argmax(e_2b2), e_2b2.shape)\n",
    "imin = numpy.unravel_index(numpy.argmin(e_2b2), e_2b2.shape)\n",
    "\n",
    "print(imax, imin)\n",
    "\n",
    "print()\n",
    "\n",
    "print(e_2b2[imax])"
   ]
  },
  {
   "cell_type": "markdown",
   "metadata": {},
   "source": [
    "#### Exercise 2b.3 \n",
    "\n",
    "Complete the following code to print years with the smallest number of hares, lynxes and carrots in the \n",
    "populations dataset."
   ]
  },
  {
   "cell_type": "code",
   "execution_count": 34,
   "metadata": {},
   "outputs": [
    {
     "name": "stdout",
     "output_type": "stream",
     "text": [
      "Least # of hare in year 1917\n",
      "Least # of lynx in year 1900\n",
      "Least # of carrot in year 1916\n"
     ]
    }
   ],
   "source": [
    "##correct answer\n",
    "for species in ['hare', 'lynx', 'carrot'] :\n",
    "    year = population['year'][numpy.argmin(population[species])]\n",
    "    print(\"Least # of {} in year {}\".format(species, year))\n"
   ]
  },
  {
   "cell_type": "code",
   "execution_count": 32,
   "metadata": {},
   "outputs": [
    {
     "name": "stdout",
     "output_type": "stream",
     "text": [
      "Least # of hare in year [1917]\n",
      "Least # of lynx in year [1900]\n",
      "Least # of carrot in year [1916]\n"
     ]
    }
   ],
   "source": [
    "for species in ['hare', 'lynx', 'carrot'] :\n",
    "    year = population['year'][numpy.unravel_index([numpy.argmin(population[species])], population.shape)]\n",
    "    print(\"Least # of {} in year {}\".format(species, year))\n",
    "\n",
    "#numpy.unravel_index([numpy.argmin(population[species])], population.shape)"
   ]
  },
  {
   "cell_type": "code",
   "execution_count": null,
   "metadata": {},
   "outputs": [],
   "source": [
    "\n",
    "for species in [...] :\n",
    "    \n",
    "    year = \n",
    "    print(\"Least # of {} in year {}\".format(species, year))\n",
    "    \n",
    "   "
   ]
  },
  {
   "cell_type": "markdown",
   "metadata": {},
   "source": [
    "### Boolean indexing\n",
    "\n",
    "A boolean index can be created directly, but most often it is built by specifying a certain condition.\n",
    "\n",
    "The condition will return a `True` or `False` for every position in the array and when the condition is True then the corresponding element will be retrieved."
   ]
  },
  {
   "cell_type": "code",
   "execution_count": 59,
   "metadata": {},
   "outputs": [
    {
     "name": "stdout",
     "output_type": "stream",
     "text": [
      "x = [1 2 3 4 5]\n",
      "y = [ True False  True False  True]\n",
      "\n",
      "Only elements of x for which the value in y is True:  [1 3 5]\n",
      "Only elements of x for which the condition is True:  [4 5]\n"
     ]
    }
   ],
   "source": [
    "# Boolean indexing\n",
    "x = numpy.arange(1, 6)\n",
    "print('x =', x)\n",
    "y = numpy.array([True, False, True, False, True ])\n",
    "print(\"y =\", y)\n",
    "print()\n",
    "print(\"Only elements of x for which the value in y is True: \", x[y])\n",
    "\n",
    "# boolean indexing by using a condition\n",
    "print(\"Only elements of x for which the condition is True: \", x[x>3])"
   ]
  },
  {
   "cell_type": "markdown",
   "metadata": {},
   "source": [
    "#### Exercise 2b.4\n",
    "Use the population data to\n",
    "\n",
    "1. Select all the years in which there are more than 50000 lynxes;\n",
    "2. Select all the years in which there are more lynxes than hares."
   ]
  },
  {
   "cell_type": "code",
   "execution_count": 47,
   "metadata": {},
   "outputs": [
    {
     "name": "stdout",
     "output_type": "stream",
     "text": [
      "years with more than 50000 lynxes : [1904 1915]\n",
      "years with more lynxes than hares: [1904 1905 1906 1915 1916 1917]\n"
     ]
    }
   ],
   "source": [
    "#Select all the years in which there are more than 50000 lynxes\n",
    "criteria = [population['lynx'] > 50000]\n",
    "print('years with more than 50000 lynxes :', population['year'][criteria])\n",
    "\n",
    "#Select all the years in which there are more lynxes than hares.\n",
    "criteria = [population['lynx'] > population['hare']]\n",
    "print('years with more lynxes than hares:', population['year'][criteria])"
   ]
  },
  {
   "cell_type": "code",
   "execution_count": 48,
   "metadata": {},
   "outputs": [
    {
     "name": "stdout",
     "output_type": "stream",
     "text": [
      "years with more than 50000 lynxes : [1904 1915]\n",
      "years with more lynxes than hares: [1904 1905 1906 1915 1916 1917]\n"
     ]
    }
   ],
   "source": [
    "#Select all the years in which there are more than 50000 lynxes\n",
    "print('years with more than 50000 lynxes :' , population['year'][population['lynx'] > 50000])\n",
    "\n",
    "#Select all the years in which there are more lynxes than hares.\n",
    "print('years with more lynxes than hares:', population['year'][population['lynx'] > population['hare']])"
   ]
  },
  {
   "cell_type": "markdown",
   "metadata": {},
   "source": [
    "### Indexing with an array of indices\n",
    "\n",
    "In this case you specify a separate array in which you store the indices as integers and you will return exactly the elements of the array with these indices.\n",
    "\n",
    "One advantage of this is that you can explicitly specify the order in which you want to have the values and you can return multiple times the value at a certain position. "
   ]
  },
  {
   "cell_type": "code",
   "execution_count": 81,
   "metadata": {},
   "outputs": [
    {
     "name": "stdout",
     "output_type": "stream",
     "text": [
      "Array x:  [100 101 102 103 104 105 106 107 108 109 110]\n",
      "Array with indices:  [8 3 8 4 9 3]\n",
      "Indexing with an array of indices will give: [108 103 108 104 109 103]\n"
     ]
    }
   ],
   "source": [
    "x = numpy.arange(100, 111)\n",
    "y = numpy.array([8, 3, 8, 4, 9, 3])\n",
    "print(\"Array x: \", x)\n",
    "print(\"Array with indices: \", y)\n",
    "print(\"Indexing with an array of indices will give:\", x[y])"
   ]
  },
  {
   "cell_type": "markdown",
   "metadata": {},
   "source": [
    "#### Exercise 2b.5\n",
    "\n",
    "Indexing with an array is often useful when we want to randomize the order of items in some data. Complete the following code which creates a scrambled version of the population data"
   ]
  },
  {
   "cell_type": "code",
   "execution_count": 55,
   "metadata": {},
   "outputs": [
    {
     "name": "stdout",
     "output_type": "stream",
     "text": [
      "21\n",
      "[(1907, 21400., 13000., 42300.) (1909, 25400.,  9100., 42100.)\n",
      " (1900, 30000.,  4000., 48300.) (1920, 24700.,  8600., 47300.)\n",
      " (1916, 11200., 29700., 36700.) (1915, 19500., 51100., 39000.)\n",
      " (1906, 18100., 19000., 38600.) (1902, 70200.,  9800., 41500.)\n",
      " (1903, 77400., 35200., 38200.) (1912, 57000., 12300., 43800.)\n",
      " (1914, 52300., 45700., 39400.) (1917,  7600., 15800., 41800.)\n",
      " (1901, 47200.,  6100., 48200.) (1919, 16200., 10100., 41300.)\n",
      " (1911, 40300.,  8000., 46800.) (1913, 76600., 19500., 40900.)\n",
      " (1904, 36300., 59400., 40600.) (1908, 22000.,  8300., 44500.)\n",
      " (1910, 27100.,  7400., 46000.) (1918, 14600.,  9700., 43300.)\n",
      " (1905, 20600., 41700., 39800.)]\n",
      "[1907 1909 1900 1920 1916 1915 1906 1902 1903 1912 1914 1917 1901 1919\n",
      " 1911 1913 1904 1908 1910 1918 1905]\n"
     ]
    }
   ],
   "source": [
    "# Create an index for the rows of population (from 0 to population.shape[0])\n",
    "print(population.shape[0])\n",
    "index = numpy.arange(0,population.shape[0])\n",
    "\n",
    "# Shuffle the index\n",
    "numpy.random.shuffle(index)\n",
    "\n",
    "# Create a scrambled version\n",
    "population_rand = population[index]\n",
    "print(population_rand)\n",
    "print(population_rand['year'])"
   ]
  },
  {
   "cell_type": "markdown",
   "metadata": {},
   "source": [
    "## Vector stacking\n",
    "\n",
    "Sometimes you want to combine two or more vectors to create an array. This is called vector stacking. Vector stacking can be done in two different ways horizontal and vertical. \n",
    "- horizontal stack: `numpy.hstack([x, y, z])`\n",
    "- vertical stack: `numpy.vstack([x, y, z])`"
   ]
  },
  {
   "cell_type": "code",
   "execution_count": 82,
   "metadata": {},
   "outputs": [
    {
     "name": "stdout",
     "output_type": "stream",
     "text": [
      "Horizontal stack:  [ 0  1  2  3  4  5  6  7  8  9 10 11 12 13 14]\n",
      "Vertical stack: \n",
      "[[ 0  1  2  3  4]\n",
      " [ 5  6  7  8  9]\n",
      " [10 11 12 13 14]]\n"
     ]
    }
   ],
   "source": [
    "x = numpy.arange(0, 5)                     \n",
    "y = numpy.arange(5, 10)   \n",
    "z = numpy.arange(10, 15)\n",
    "print(\"Horizontal stack: \",  numpy.hstack([x,y, z]) )\n",
    "print(\"Vertical stack: \")\n",
    "print( numpy.vstack([x,y, z]))"
   ]
  },
  {
   "cell_type": "markdown",
   "metadata": {},
   "source": [
    "### Save data set to file\n",
    "\n",
    "To save an array from numpy as a separate file you specify the filename and the array you want to save. Use the following functions:\n",
    "- `numpy.savetxt(filename, array)` : save an array to a text file. Some optional arguments are: delimiter=' ', newline = '\\n', header = ' '. http://docs.scipy.org/doc/numpy-1.10.0/reference/generated/numpy.savetxt.html#numpy.savetxt\n",
    "- `numpy.save(filename, array)` : save an array to a binary file in numpy `.npy` format. http://docs.scipy.org/doc/numpy-1.10.0/reference/generated/numpy.save.html#numpy.save\n"
   ]
  },
  {
   "cell_type": "code",
   "execution_count": 85,
   "metadata": {},
   "outputs": [],
   "source": [
    "#exercise 2b.6\n",
    "population\n",
    "#save an array to a text file\n",
    "numpy.savetxt('population_text', population)\n",
    "\n",
    "#save an array to a binary file in numpy .npy format\n",
    "numpy.save('population_npy', population)"
   ]
  },
  {
   "cell_type": "code",
   "execution_count": 87,
   "metadata": {},
   "outputs": [
    {
     "data": {
      "text/plain": [
       "array([(1900, 30000.,  4000., 48300.), (1901, 47200.,  6100., 48200.),\n",
       "       (1902, 70200.,  9800., 41500.), (1903, 77400., 35200., 38200.),\n",
       "       (1904, 36300., 59400., 40600.), (1905, 20600., 41700., 39800.),\n",
       "       (1906, 18100., 19000., 38600.), (1907, 21400., 13000., 42300.),\n",
       "       (1908, 22000.,  8300., 44500.), (1909, 25400.,  9100., 42100.),\n",
       "       (1910, 27100.,  7400., 46000.), (1911, 40300.,  8000., 46800.),\n",
       "       (1912, 57000., 12300., 43800.), (1913, 76600., 19500., 40900.),\n",
       "       (1914, 52300., 45700., 39400.), (1915, 19500., 51100., 39000.),\n",
       "       (1916, 11200., 29700., 36700.), (1917,  7600., 15800., 41800.),\n",
       "       (1918, 14600.,  9700., 43300.), (1919, 16200., 10100., 41300.),\n",
       "       (1920, 24700.,  8600., 47300.)],\n",
       "      dtype=[('year', '<i8'), ('hare', '<f4'), ('lynx', '<f4'), ('carrot', '<f4')])"
      ]
     },
     "execution_count": 87,
     "metadata": {},
     "output_type": "execute_result"
    }
   ],
   "source": [
    "#load it back into a numpy array\n",
    "numpy.load('population_npy.npy')"
   ]
  },
  {
   "cell_type": "markdown",
   "metadata": {},
   "source": [
    "#### Exercise 2b.6 \n",
    "\n",
    "Save the population data to a `.npy` file. Figure out how to load it back into a numpy array.\n",
    "\n",
    "#### Exercise 2b.7\n",
    "The files\n",
    "\n",
    "- [irisa.txt](irisa.txt)\n",
    "- [irisb.txt](irisb.txt)\n",
    "- [irisc.txt](irisc.txt)\n",
    "\n",
    "contain the data for the iris dataset. Each file has these columns:\n",
    "\n",
    "- `SepalLength` \n",
    "- `SepalWidth`\n",
    "- `PetalLength` \n",
    "- `PetalWidth` \n",
    "- `Species`\n",
    "\n",
    "Load this data, and create a single array with all the species."
   ]
  },
  {
   "cell_type": "code",
   "execution_count": 57,
   "metadata": {},
   "outputs": [
    {
     "name": "stdout",
     "output_type": "stream",
     "text": [
      "[(5.1, 3.5, 1.4, 0.2, 'setosa') (4.9, 3. , 1.4, 0.2, 'setosa')\n",
      " (4.7, 3.2, 1.3, 0.2, 'setosa') (4.6, 3.1, 1.5, 0.2, 'setosa')\n",
      " (5. , 3.6, 1.4, 0.2, 'setosa') (5.4, 3.9, 1.7, 0.4, 'setosa')\n",
      " (4.6, 3.4, 1.4, 0.3, 'setosa') (5. , 3.4, 1.5, 0.2, 'setosa')\n",
      " (4.4, 2.9, 1.4, 0.2, 'setosa') (4.9, 3.1, 1.5, 0.1, 'setosa')\n",
      " (5.4, 3.7, 1.5, 0.2, 'setosa') (4.8, 3.4, 1.6, 0.2, 'setosa')\n",
      " (4.8, 3. , 1.4, 0.1, 'setosa') (4.3, 3. , 1.1, 0.1, 'setosa')\n",
      " (5.8, 4. , 1.2, 0.2, 'setosa') (5.7, 4.4, 1.5, 0.4, 'setosa')\n",
      " (5.4, 3.9, 1.3, 0.4, 'setosa') (5.1, 3.5, 1.4, 0.3, 'setosa')\n",
      " (5.7, 3.8, 1.7, 0.3, 'setosa') (5.1, 3.8, 1.5, 0.3, 'setosa')\n",
      " (5.4, 3.4, 1.7, 0.2, 'setosa') (5.1, 3.7, 1.5, 0.4, 'setosa')\n",
      " (4.6, 3.6, 1. , 0.2, 'setosa') (5.1, 3.3, 1.7, 0.5, 'setosa')\n",
      " (4.8, 3.4, 1.9, 0.2, 'setosa') (5. , 3. , 1.6, 0.2, 'setosa')\n",
      " (5. , 3.4, 1.6, 0.4, 'setosa') (5.2, 3.5, 1.5, 0.2, 'setosa')\n",
      " (5.2, 3.4, 1.4, 0.2, 'setosa') (4.7, 3.2, 1.6, 0.2, 'setosa')\n",
      " (4.8, 3.1, 1.6, 0.2, 'setosa') (5.4, 3.4, 1.5, 0.4, 'setosa')\n",
      " (5.2, 4.1, 1.5, 0.1, 'setosa') (5.5, 4.2, 1.4, 0.2, 'setosa')\n",
      " (4.9, 3.1, 1.5, 0.2, 'setosa') (5. , 3.2, 1.2, 0.2, 'setosa')\n",
      " (5.5, 3.5, 1.3, 0.2, 'setosa') (4.9, 3.6, 1.4, 0.1, 'setosa')\n",
      " (4.4, 3. , 1.3, 0.2, 'setosa') (5.1, 3.4, 1.5, 0.2, 'setosa')\n",
      " (5. , 3.5, 1.3, 0.3, 'setosa') (4.5, 2.3, 1.3, 0.3, 'setosa')\n",
      " (4.4, 3.2, 1.3, 0.2, 'setosa') (5. , 3.5, 1.6, 0.6, 'setosa')\n",
      " (5.1, 3.8, 1.9, 0.4, 'setosa') (4.8, 3. , 1.4, 0.3, 'setosa')\n",
      " (5.1, 3.8, 1.6, 0.2, 'setosa') (4.6, 3.2, 1.4, 0.2, 'setosa')\n",
      " (5.3, 3.7, 1.5, 0.2, 'setosa') (5. , 3.3, 1.4, 0.2, 'setosa')\n",
      " (7. , 3.2, 4.7, 1.4, 'versicolor') (6.4, 3.2, 4.5, 1.5, 'versicolor')\n",
      " (6.9, 3.1, 4.9, 1.5, 'versicolor') (5.5, 2.3, 4. , 1.3, 'versicolor')\n",
      " (6.5, 2.8, 4.6, 1.5, 'versicolor') (5.7, 2.8, 4.5, 1.3, 'versicolor')\n",
      " (6.3, 3.3, 4.7, 1.6, 'versicolor') (4.9, 2.4, 3.3, 1. , 'versicolor')\n",
      " (6.6, 2.9, 4.6, 1.3, 'versicolor') (5.2, 2.7, 3.9, 1.4, 'versicolor')\n",
      " (5. , 2. , 3.5, 1. , 'versicolor') (5.9, 3. , 4.2, 1.5, 'versicolor')\n",
      " (6. , 2.2, 4. , 1. , 'versicolor') (6.1, 2.9, 4.7, 1.4, 'versicolor')\n",
      " (5.6, 2.9, 3.6, 1.3, 'versicolor') (6.7, 3.1, 4.4, 1.4, 'versicolor')\n",
      " (5.6, 3. , 4.5, 1.5, 'versicolor') (5.8, 2.7, 4.1, 1. , 'versicolor')\n",
      " (6.2, 2.2, 4.5, 1.5, 'versicolor') (5.6, 2.5, 3.9, 1.1, 'versicolor')\n",
      " (5.9, 3.2, 4.8, 1.8, 'versicolor') (6.1, 2.8, 4. , 1.3, 'versicolor')\n",
      " (6.3, 2.5, 4.9, 1.5, 'versicolor') (6.1, 2.8, 4.7, 1.2, 'versicolor')\n",
      " (6.4, 2.9, 4.3, 1.3, 'versicolor') (6.6, 3. , 4.4, 1.4, 'versicolor')\n",
      " (6.8, 2.8, 4.8, 1.4, 'versicolor') (6.7, 3. , 5. , 1.7, 'versicolor')\n",
      " (6. , 2.9, 4.5, 1.5, 'versicolor') (5.7, 2.6, 3.5, 1. , 'versicolor')\n",
      " (5.5, 2.4, 3.8, 1.1, 'versicolor') (5.5, 2.4, 3.7, 1. , 'versicolor')\n",
      " (5.8, 2.7, 3.9, 1.2, 'versicolor') (6. , 2.7, 5.1, 1.6, 'versicolor')\n",
      " (5.4, 3. , 4.5, 1.5, 'versicolor') (6. , 3.4, 4.5, 1.6, 'versicolor')\n",
      " (6.7, 3.1, 4.7, 1.5, 'versicolor') (6.3, 2.3, 4.4, 1.3, 'versicolor')\n",
      " (5.6, 3. , 4.1, 1.3, 'versicolor') (5.5, 2.5, 4. , 1.3, 'versicolor')\n",
      " (5.5, 2.6, 4.4, 1.2, 'versicolor') (6.1, 3. , 4.6, 1.4, 'versicolor')\n",
      " (5.8, 2.6, 4. , 1.2, 'versicolor') (5. , 2.3, 3.3, 1. , 'versicolor')\n",
      " (5.6, 2.7, 4.2, 1.3, 'versicolor') (5.7, 3. , 4.2, 1.2, 'versicolor')\n",
      " (5.7, 2.9, 4.2, 1.3, 'versicolor') (6.2, 2.9, 4.3, 1.3, 'versicolor')\n",
      " (5.1, 2.5, 3. , 1.1, 'versicolor') (5.7, 2.8, 4.1, 1.3, 'versicolor')\n",
      " (6.3, 3.3, 6. , 2.5, 'virginica') (5.8, 2.7, 5.1, 1.9, 'virginica')\n",
      " (7.1, 3. , 5.9, 2.1, 'virginica') (6.3, 2.9, 5.6, 1.8, 'virginica')\n",
      " (6.5, 3. , 5.8, 2.2, 'virginica') (7.6, 3. , 6.6, 2.1, 'virginica')\n",
      " (4.9, 2.5, 4.5, 1.7, 'virginica') (7.3, 2.9, 6.3, 1.8, 'virginica')\n",
      " (6.7, 2.5, 5.8, 1.8, 'virginica') (7.2, 3.6, 6.1, 2.5, 'virginica')\n",
      " (6.5, 3.2, 5.1, 2. , 'virginica') (6.4, 2.7, 5.3, 1.9, 'virginica')\n",
      " (6.8, 3. , 5.5, 2.1, 'virginica') (5.7, 2.5, 5. , 2. , 'virginica')\n",
      " (5.8, 2.8, 5.1, 2.4, 'virginica') (6.4, 3.2, 5.3, 2.3, 'virginica')\n",
      " (6.5, 3. , 5.5, 1.8, 'virginica') (7.7, 3.8, 6.7, 2.2, 'virginica')\n",
      " (7.7, 2.6, 6.9, 2.3, 'virginica') (6. , 2.2, 5. , 1.5, 'virginica')\n",
      " (6.9, 3.2, 5.7, 2.3, 'virginica') (5.6, 2.8, 4.9, 2. , 'virginica')\n",
      " (7.7, 2.8, 6.7, 2. , 'virginica') (6.3, 2.7, 4.9, 1.8, 'virginica')\n",
      " (6.7, 3.3, 5.7, 2.1, 'virginica') (7.2, 3.2, 6. , 1.8, 'virginica')\n",
      " (6.2, 2.8, 4.8, 1.8, 'virginica') (6.1, 3. , 4.9, 1.8, 'virginica')\n",
      " (6.4, 2.8, 5.6, 2.1, 'virginica') (7.2, 3. , 5.8, 1.6, 'virginica')\n",
      " (7.4, 2.8, 6.1, 1.9, 'virginica') (7.9, 3.8, 6.4, 2. , 'virginica')\n",
      " (6.4, 2.8, 5.6, 2.2, 'virginica') (6.3, 2.8, 5.1, 1.5, 'virginica')\n",
      " (6.1, 2.6, 5.6, 1.4, 'virginica') (7.7, 3. , 6.1, 2.3, 'virginica')\n",
      " (6.3, 3.4, 5.6, 2.4, 'virginica') (6.4, 3.1, 5.5, 1.8, 'virginica')\n",
      " (6. , 3. , 4.8, 1.8, 'virginica') (6.9, 3.1, 5.4, 2.1, 'virginica')\n",
      " (6.7, 3.1, 5.6, 2.4, 'virginica') (6.9, 3.1, 5.1, 2.3, 'virginica')\n",
      " (5.8, 2.7, 5.1, 1.9, 'virginica') (6.8, 3.2, 5.9, 2.3, 'virginica')\n",
      " (6.7, 3.3, 5.7, 2.5, 'virginica') (6.7, 3. , 5.2, 2.3, 'virginica')\n",
      " (6.3, 2.5, 5. , 1.9, 'virginica') (6.5, 3. , 5.2, 2. , 'virginica')\n",
      " (6.2, 3.4, 5.4, 2.3, 'virginica') (5.9, 3. , 5.1, 1.8, 'virginica')]\n"
     ]
    }
   ],
   "source": [
    "dtype = [('sepallength', 'float64'), ('sepalwidth', 'float64'), ('petallength', 'float64'), ('petalwidth', 'float64'), ('species', 'U10')]\n",
    "irisa = numpy.loadtxt('irisa.txt', dtype=dtype)\n",
    "irisb = numpy.loadtxt('irisb.txt', dtype=dtype)\n",
    "irisc = numpy.loadtxt('irisc.txt', dtype=dtype)\n",
    "\n",
    "iris = numpy.hstack([irisa, irisb, irisc])\n",
    "print(iris)"
   ]
  },
  {
   "cell_type": "code",
   "execution_count": 64,
   "metadata": {},
   "outputs": [
    {
     "name": "stdout",
     "output_type": "stream",
     "text": [
      "(7.9, 3.8, 6.4, 2., 'virginica')\n",
      "species with the highest sepallenght: virginica\n",
      "species with the smallest sepallenght: setosa\n"
     ]
    }
   ],
   "source": [
    "#Select the flower with highest sepallenght:\n",
    "\n",
    "index = iris['sepallength'].argmax()\n",
    "print(iris[index])\n",
    "\n",
    "#Select the species of the flower with highest sepallenght:\n",
    "print('species with the highest sepallenght:', iris[index]['species'])\n",
    "\n",
    "#Select the species of the flower with smallest sepallenght:\n",
    "index = iris['sepallength'].argmin()\n",
    "print('species with the smallest sepallenght:', iris[index]['species'])\n",
    "\n"
   ]
  }
 ],
 "metadata": {
  "kernelspec": {
   "display_name": "Python 3",
   "language": "python",
   "name": "python3"
  },
  "language_info": {
   "codemirror_mode": {
    "name": "ipython",
    "version": 3
   },
   "file_extension": ".py",
   "mimetype": "text/x-python",
   "name": "python",
   "nbconvert_exporter": "python",
   "pygments_lexer": "ipython3",
   "version": "3.6.4"
  }
 },
 "nbformat": 4,
 "nbformat_minor": 1
}
