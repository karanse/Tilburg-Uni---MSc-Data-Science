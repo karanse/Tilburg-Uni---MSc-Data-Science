{
 "cells": [
  {
   "cell_type": "markdown",
   "metadata": {},
   "source": [
    "# 2. Arrays - Part 2"
   ]
  },
  {
   "cell_type": "code",
   "execution_count": 6,
   "metadata": {},
   "outputs": [],
   "source": [
    "import numpy as np\n",
    "import numpy"
   ]
  },
  {
   "cell_type": "markdown",
   "metadata": {},
   "source": [
    "## Structured arrays\n",
    "\n",
    "A structured array consists of a number of columns, where each column can be a different datatype. \n",
    "\n",
    "Full information about structured arrays: \n",
    "http://docs.scipy.org/doc/numpy-1.10.1/user/basics.rec.html#structured-arrays\n",
    "\n",
    "One of the possible ways to specify a structured array is to use a list of tuples as `dtype`:\n",
    "For every column in the array a tuple is specified with the name of the column and the type of data in it. For example: "
   ]
  },
  {
   "cell_type": "code",
   "execution_count": 1,
   "metadata": {},
   "outputs": [],
   "source": [
    "dtype = [('Name', 'U10'), ('Country', 'U10'), ('Area', 'float64')]"
   ]
  },
  {
   "cell_type": "code",
   "execution_count": 2,
   "metadata": {},
   "outputs": [],
   "source": [
    "dtype = [('Name', 'U10'), ('Country', 'U10'), ('Area', 'float64')]"
   ]
  },
  {
   "cell_type": "code",
   "execution_count": 5,
   "metadata": {},
   "outputs": [
    {
     "name": "stdout",
     "output_type": "stream",
     "text": [
      "[('Name', 'U10'), ('Country', 'U10'), ('Area', 'float64')]\n"
     ]
    }
   ],
   "source": [
    "print(dtype)"
   ]
  },
  {
   "cell_type": "markdown",
   "metadata": {},
   "source": [
    "The content of the array can then be given as a list of tuples, like so:"
   ]
  },
  {
   "cell_type": "code",
   "execution_count": 7,
   "metadata": {},
   "outputs": [
    {
     "name": "stdout",
     "output_type": "stream",
     "text": [
      "[('Amsterdam', 'Netherland', 219.3) ('Paris', 'France', 105.4)\n",
      " ('Barcelona', 'Spain', 101.9)]\n"
     ]
    }
   ],
   "source": [
    "city = numpy.array([('Amsterdam', 'Netherlands', 219.3),\n",
    "                    ('Paris',     'France',      105.4 ),\n",
    "                    ('Barcelona', 'Spain',       101.9 )],\n",
    "                     dtype=dtype)\n",
    "print(city)"
   ]
  },
  {
   "cell_type": "code",
   "execution_count": 8,
   "metadata": {},
   "outputs": [
    {
     "data": {
      "text/plain": [
       "1"
      ]
     },
     "execution_count": 8,
     "metadata": {},
     "output_type": "execute_result"
    }
   ],
   "source": [
    "city.ndim"
   ]
  },
  {
   "cell_type": "code",
   "execution_count": 9,
   "metadata": {},
   "outputs": [
    {
     "data": {
      "text/plain": [
       "(array(['Netherland', 'France', 'Spain'], dtype='<U10'),\n",
       " array([219.3, 105.4, 101.9]),\n",
       " array(['Amsterdam', 'Paris', 'Barcelona'], dtype='<U10'))"
      ]
     },
     "execution_count": 9,
     "metadata": {},
     "output_type": "execute_result"
    }
   ],
   "source": [
    "city['Country'], city['Area'], city['Name']"
   ]
  },
  {
   "cell_type": "code",
   "execution_count": 11,
   "metadata": {},
   "outputs": [
    {
     "data": {
      "text/plain": [
       "(array(['Netherland', 'France', 'Spain'], dtype='<U10'),\n",
       " array([219.3, 105.4, 101.9]),\n",
       " array(['Amsterdam', 'Paris', 'Barcelona'], dtype='<U10'))"
      ]
     },
     "execution_count": 11,
     "metadata": {},
     "output_type": "execute_result"
    }
   ],
   "source": [
    "city['Country'], city['Area'], city['Name']"
   ]
  },
  {
   "cell_type": "markdown",
   "metadata": {},
   "source": [
    "### Indexing structured arrays\n",
    "The rows in a structured array can be accessed by regular indexing. The columns of the array by using the column names that are specified when the array was created."
   ]
  },
  {
   "cell_type": "code",
   "execution_count": 8,
   "metadata": {},
   "outputs": [
    {
     "name": "stdout",
     "output_type": "stream",
     "text": [
      "('Amsterdam', 'Netherland', 219.3)\n"
     ]
    }
   ],
   "source": [
    "# Access first row\n",
    "print(city[0])"
   ]
  },
  {
   "cell_type": "code",
   "execution_count": 9,
   "metadata": {},
   "outputs": [
    {
     "data": {
      "text/plain": [
       "('Amsterdam', 'Netherland', 219.3)"
      ]
     },
     "execution_count": 9,
     "metadata": {},
     "output_type": "execute_result"
    }
   ],
   "source": [
    "city[0]"
   ]
  },
  {
   "cell_type": "code",
   "execution_count": 12,
   "metadata": {},
   "outputs": [
    {
     "name": "stdout",
     "output_type": "stream",
     "text": [
      "[('Amsterdam', 'Netherland', 219.3) ('Paris', 'France', 105.4)]\n"
     ]
    }
   ],
   "source": [
    "# Access first two rows\n",
    "print(city[0:2])"
   ]
  },
  {
   "cell_type": "code",
   "execution_count": 13,
   "metadata": {},
   "outputs": [
    {
     "name": "stdout",
     "output_type": "stream",
     "text": [
      "[219.3 105.4 101.9]\n"
     ]
    }
   ],
   "source": [
    "# Access column by name\n",
    "print(city['Area'])"
   ]
  },
  {
   "cell_type": "code",
   "execution_count": 14,
   "metadata": {},
   "outputs": [
    {
     "name": "stdout",
     "output_type": "stream",
     "text": [
      "[('Amsterdam', 219.3) ('Paris', 105.4) ('Barcelona', 101.9)]\n"
     ]
    }
   ],
   "source": [
    "# Access two columns using list of names\n",
    "print(city[['Name', 'Area']])"
   ]
  },
  {
   "cell_type": "code",
   "execution_count": 15,
   "metadata": {},
   "outputs": [
    {
     "name": "stdout",
     "output_type": "stream",
     "text": [
      "[('Amsterdam', 'Netherland') ('Paris', 'France') ('Barcelona', 'Spain')]\n"
     ]
    }
   ],
   "source": [
    "print(city[['Name', 'Country']])"
   ]
  },
  {
   "cell_type": "code",
   "execution_count": 14,
   "metadata": {},
   "outputs": [
    {
     "name": "stdout",
     "output_type": "stream",
     "text": [
      "(3,) [('Name', '<U10'), ('Country', '<U10'), ('Area', '<f8')]\n"
     ]
    }
   ],
   "source": [
    "# Print information about the array\n",
    "print(city.shape, city.dtype)"
   ]
  },
  {
   "cell_type": "code",
   "execution_count": 17,
   "metadata": {},
   "outputs": [
    {
     "name": "stdout",
     "output_type": "stream",
     "text": [
      "(3,)\n",
      "[('Name', '<U10'), ('Country', '<U10'), ('Area', '<f8')]\n"
     ]
    },
    {
     "data": {
      "text/plain": [
       "(None, None)"
      ]
     },
     "execution_count": 17,
     "metadata": {},
     "output_type": "execute_result"
    }
   ],
   "source": [
    "print(city.shape), print(city.dtype)"
   ]
  },
  {
   "cell_type": "markdown",
   "metadata": {},
   "source": [
    "Note that structured arrays like this one, even though they have rows and columns, \n",
    "are treated as one-dimensional.\n",
    "\n",
    "### Accessing and modifying column names\n",
    "\n",
    "For example:\n"
   ]
  },
  {
   "cell_type": "code",
   "execution_count": 15,
   "metadata": {},
   "outputs": [
    {
     "data": {
      "text/plain": [
       "('Name', 'Country', 'Area')"
      ]
     },
     "execution_count": 15,
     "metadata": {},
     "output_type": "execute_result"
    }
   ],
   "source": [
    "city.dtype.names"
   ]
  },
  {
   "cell_type": "code",
   "execution_count": 18,
   "metadata": {},
   "outputs": [
    {
     "data": {
      "text/plain": [
       "('Name', 'Country', 'Area')"
      ]
     },
     "execution_count": 18,
     "metadata": {},
     "output_type": "execute_result"
    }
   ],
   "source": [
    "city.dtype.names"
   ]
  },
  {
   "cell_type": "code",
   "execution_count": 16,
   "metadata": {},
   "outputs": [
    {
     "name": "stdout",
     "output_type": "stream",
     "text": [
      "[219.3 105.4 101.9]\n"
     ]
    }
   ],
   "source": [
    "city.dtype.names = ('name', 'country', 'area')\n",
    "print(city['area'])"
   ]
  },
  {
   "cell_type": "code",
   "execution_count": 20,
   "metadata": {},
   "outputs": [
    {
     "data": {
      "text/plain": [
       "('name', 'country', 'area')"
      ]
     },
     "execution_count": 20,
     "metadata": {},
     "output_type": "execute_result"
    }
   ],
   "source": [
    "city.dtype.names = ('name','country', 'area')\n",
    "city.dtype.names"
   ]
  },
  {
   "cell_type": "code",
   "execution_count": 21,
   "metadata": {},
   "outputs": [
    {
     "data": {
      "text/plain": [
       "dtype([('name', '<U10'), ('country', '<U10'), ('area', '<f8')])"
      ]
     },
     "execution_count": 21,
     "metadata": {},
     "output_type": "execute_result"
    }
   ],
   "source": [
    "city.dtype"
   ]
  },
  {
   "cell_type": "markdown",
   "metadata": {},
   "source": [
    "### Loading data into structured arrays\n",
    "\n",
    "Structured arrays are useful for loading and working with tabular data with heterogeneous column types. \n",
    "\n",
    "#### Exercise 2b.1\n",
    "\n",
    "Complete the following code loading the data from file [populations.txt](populations.txt). Load the year column as an `int`, and the other columns as `float`."
   ]
  },
  {
   "cell_type": "code",
   "execution_count": 22,
   "metadata": {},
   "outputs": [
    {
     "name": "stdout",
     "output_type": "stream",
     "text": [
      "[('year', '<i8'), ('hare', '<f8'), ('lynx', '<f8'), ('carrot', '<f8')]\n"
     ]
    }
   ],
   "source": [
    "# Define dtype\n",
    "dtype = [('year','i8'), ('hare', 'f8'), ('lynx', 'f8'), ('carrot', 'f8')]\n",
    "# load data\n",
    "population = numpy.loadtxt(\"populations.txt\", dtype=dtype)\n",
    "print(population.dtype)       \n"
   ]
  },
  {
   "cell_type": "markdown",
   "metadata": {},
   "source": [
    "An alternative way of loading tabular data using `genfromtxt`:"
   ]
  },
  {
   "cell_type": "code",
   "execution_count": 23,
   "metadata": {},
   "outputs": [
    {
     "name": "stdout",
     "output_type": "stream",
     "text": [
      "[ 4000.  6100.  9800. 35200. 59400. 41700. 19000. 13000.  8300.  9100.\n",
      "  7400.  8000. 12300. 19500. 45700. 51100. 29700. 15800.  9700. 10100.\n",
      "  8600.]\n",
      "[('year', '<i8'), ('hare', '<f8'), ('lynx', '<f8'), ('carrot', '<f8')]\n"
     ]
    }
   ],
   "source": [
    "population = numpy.genfromtxt(\"populations.txt\", \n",
    "                 names=True,\n",
    "                 dtype=['int','float','float','float'])\n",
    "# Access lynx column\n",
    "\n",
    "print(population['lynx'])\n",
    "\n",
    "\n",
    "print(population.dtype)"
   ]
  },
  {
   "cell_type": "code",
   "execution_count": 29,
   "metadata": {},
   "outputs": [
    {
     "name": "stdout",
     "output_type": "stream",
     "text": [
      "[ 4000.  6100.  9800. 35200. 59400. 41700. 19000. 13000.  8300.  9100.\n",
      "  7400.  8000. 12300. 19500. 45700. 51100. 29700. 15800.  9700. 10100.\n",
      "  8600.]\n",
      "[('year', '<i8'), ('hare', '<f8'), ('lynx', '<f8'), ('carrot', '<f8')]\n"
     ]
    }
   ],
   "source": [
    "population = np.genfromtxt(\"populations.txt\", \n",
    "                          names = True,\n",
    "                          dtype = ['int', 'float', 'float','float'])\n",
    "print(population['lynx'])\n",
    "\n",
    "print(population.dtype)"
   ]
  },
  {
   "cell_type": "markdown",
   "metadata": {},
   "source": [
    "### Record arrays\n",
    "There is a special interface to structured arrays called **record arrays**. For details, see https://docs.scipy.org/doc/numpy-1.10.1/user/basics.rec.html#record-arrays"
   ]
  },
  {
   "cell_type": "code",
   "execution_count": 38,
   "metadata": {},
   "outputs": [
    {
     "name": "stdout",
     "output_type": "stream",
     "text": [
      "<class 'numpy.recarray'>\n",
      "[1900 1901 1902 1903 1904 1905 1906 1907 1908 1909 1910 1911 1912 1913\n",
      " 1914 1915 1916 1917 1918 1919 1920]\n",
      "[48300. 48200. 41500.]\n",
      "[30000. 47200. 70200.]\n"
     ]
    }
   ],
   "source": [
    "pop2 = np.rec.array(population)\n",
    "print(type(pop2))\n",
    "\n",
    "print(pop2.year)\n",
    "\n",
    "print(pop2[0:3].carrot)\n",
    "print(pop2[0:3].hare)"
   ]
  },
  {
   "cell_type": "markdown",
   "metadata": {},
   "source": [
    "## Array Indexing\n",
    "\n",
    "For complete information  about indexing see\n",
    "http://docs.scipy.org/doc/numpy/user/basics.indexing.html\n",
    "\n",
    "You have already seen how to access content of the array by using an index for each dimension. This method is know as matrix indexing. In addition to matrix indexing, there are other ways to address content in an array\n",
    "\n",
    "- Linear indexing transforms an n-dimensional array to a 1-dimensional list. This linear index is returned when the `argmin` and `argmax` function are applied to an n-dimensional array. "
   ]
  },
  {
   "cell_type": "code",
   "execution_count": 20,
   "metadata": {},
   "outputs": [
    {
     "name": "stdout",
     "output_type": "stream",
     "text": [
      "[[ 0.5742096   0.75687853  0.35885174  0.16858814 -0.26401042]\n",
      " [ 0.9158619   0.74355223 -0.6763735  -0.69540853  0.36883388]\n",
      " [-0.1085984   0.96037587  0.07502181 -0.37324387  0.44493281]\n",
      " [ 0.65608343  0.15671954 -0.1385521  -0.40119154 -0.14156916]\n",
      " [ 0.24731078  0.00809253 -0.87772442  0.59791545 -0.83205954]]\n"
     ]
    },
    {
     "data": {
      "text/plain": [
       "11"
      ]
     },
     "execution_count": 20,
     "metadata": {},
     "output_type": "execute_result"
    }
   ],
   "source": [
    "a = numpy.random.uniform(-1, 1, (5,5))\n",
    "print(a)\n",
    "# Return the index of the maximum value\n",
    "numpy.argmax(a)"
   ]
  },
  {
   "cell_type": "code",
   "execution_count": 41,
   "metadata": {},
   "outputs": [
    {
     "name": "stdout",
     "output_type": "stream",
     "text": [
      "[[ 0.98343966  0.91467061  0.23534256  0.56683186  0.55814336]\n",
      " [-0.10145228  0.59607992  0.62880735  0.54511689  0.37513249]\n",
      " [ 0.16355048  0.53314915  0.88002621  0.64323189  0.98143013]\n",
      " [ 0.03717994 -0.70257969  0.76595041 -0.96604096  0.31457879]\n",
      " [ 0.50485088 -0.5593839  -0.62020545 -0.5856025  -0.74651862]]\n",
      "0 18\n"
     ]
    }
   ],
   "source": [
    "b = np.random.uniform(-1,1, (5,5))\n",
    "print(b)\n",
    "\n",
    "print(np.argmax(b), np.argmin(b))"
   ]
  },
  {
   "cell_type": "markdown",
   "metadata": {},
   "source": [
    "- Boolean indexing, which returns all values in the array for which the index is True."
   ]
  },
  {
   "cell_type": "code",
   "execution_count": 21,
   "metadata": {},
   "outputs": [
    {
     "name": "stdout",
     "output_type": "stream",
     "text": [
      "[[-0.98377591  0.06072144  0.99218221 -0.83158922 -0.41705789]\n",
      " [-0.83507594 -0.05563875 -0.15104522 -0.43933757 -0.31865632]\n",
      " [ 0.83525921  0.77563887  0.66405576 -0.92629227 -0.72016054]\n",
      " [-0.45154832 -0.83404489 -0.61577725  0.99245354  0.25021523]\n",
      " [ 0.81220112 -0.05254329 -0.30535853  0.25473508  0.31116835]]\n",
      "[[False  True  True False False]\n",
      " [False False False False False]\n",
      " [ True  True  True False False]\n",
      " [False False False  True  True]\n",
      " [ True False False  True  True]]\n",
      "[0.83525921 0.81220112]\n"
     ]
    }
   ],
   "source": [
    "a = numpy.random.uniform(-1, 1, (5,5))\n",
    "# Create a boolean index for positive numbers in array a\n",
    "print(a)\n",
    "index = a > 0.\n",
    "print(index)\n",
    "# Return all the positive numbers\n",
    "print(a[:,0][index[:,0]])"
   ]
  },
  {
   "cell_type": "code",
   "execution_count": 49,
   "metadata": {},
   "outputs": [
    {
     "name": "stdout",
     "output_type": "stream",
     "text": [
      "[[ 0.98343966  0.91467061  0.23534256  0.56683186  0.55814336]\n",
      " [-0.10145228  0.59607992  0.62880735  0.54511689  0.37513249]\n",
      " [ 0.16355048  0.53314915  0.88002621  0.64323189  0.98143013]\n",
      " [ 0.03717994 -0.70257969  0.76595041 -0.96604096  0.31457879]\n",
      " [ 0.50485088 -0.5593839  -0.62020545 -0.5856025  -0.74651862]]\n",
      "[[ True  True  True  True  True]\n",
      " [False  True  True  True  True]\n",
      " [ True  True  True  True  True]\n",
      " [ True False  True False  True]\n",
      " [ True False False False False]]\n",
      "[0.98343966 0.16355048 0.03717994 0.50485088]\n",
      "[0.55814336 0.37513249 0.98143013 0.31457879]\n"
     ]
    }
   ],
   "source": [
    "index2 = b >0\n",
    "print(b)\n",
    "print(index2)\n",
    "\n",
    "print(b[:,0][index2[:,0]])\n",
    "\n",
    "print(b[:,4][index2[:,4]])"
   ]
  },
  {
   "cell_type": "markdown",
   "metadata": {},
   "source": [
    "- Indexing with an array of indices. In this case you specify a separate array in which you store the indices as integers and you will return exactly the elements of the array with these indices. "
   ]
  },
  {
   "cell_type": "code",
   "execution_count": 23,
   "metadata": {},
   "outputs": [
    {
     "name": "stdout",
     "output_type": "stream",
     "text": [
      "[0.         0.11111111 0.22222222 0.33333333 0.44444444 0.55555556\n",
      " 0.66666667 0.77777778 0.88888889 1.        ]\n",
      "[0.22222222 0.33333333 0.55555556 0.77777778]\n"
     ]
    }
   ],
   "source": [
    "b = numpy.linspace(0,1,10)\n",
    "print(b)\n",
    "# Return numbers at prime indices\n",
    "index = numpy.array([ 2, 3, 5, 7])\n",
    "\n",
    "print(b[index])"
   ]
  },
  {
   "cell_type": "markdown",
   "metadata": {},
   "source": [
    "### Linear and matrix indexing\n",
    "\n",
    "Indexing in a 1-dimensional matrix is similar as indexing in a Python list. \n",
    "\n",
    "Indexing in a n-dimensional matrix has one index for every dimension. To access one element of the array, the index of every dimension should be given. When accessing more than one element, the slice syntax `m:n` can be used, and this works similar as it works with lists, but you can use the `m:n` for every dimension. \n",
    "\n",
    "If the index is `[m:n]` then indices that are used are `m` up to but not including `n`.\n",
    "\n",
    "If you have the linear index and you want to convert it to a matrix index, you can use the function `numpy.unravel_index()`.\n",
    "\n",
    "The first argument is the linear index and the second argument is the shape of the array for which you want to transform the index. For example: `numpy.unravel_index(linear_index, (2,3))`. "
   ]
  },
  {
   "cell_type": "code",
   "execution_count": 50,
   "metadata": {},
   "outputs": [
    {
     "name": "stdout",
     "output_type": "stream",
     "text": [
      "[[[ 0  1  2  3]\n",
      "  [ 4  5  6  7]\n",
      "  [ 8  9 10 11]]\n",
      "\n",
      " [[12 13 14 15]\n",
      "  [16 17 18 19]\n",
      "  [20 21 22 23]]]\n"
     ]
    }
   ],
   "source": [
    "# indexing in a 3-dimensional array\n",
    "z = numpy.arange(24).reshape((2, 3, 4))\n",
    "print(z)"
   ]
  },
  {
   "cell_type": "code",
   "execution_count": 54,
   "metadata": {},
   "outputs": [
    {
     "name": "stdout",
     "output_type": "stream",
     "text": [
      "[[ 7 11]\n",
      " [19 23]]\n",
      "\n",
      "[[ 8  9 10 11]\n",
      " [20 21 22 23]]\n"
     ]
    }
   ],
   "source": [
    "# slices\n",
    "print(z[0:2, 1:3, 3]) # 1st and 2nd block, 1-3 rows, 3rd column\n",
    "print()\n",
    "print(z[:, 2, :]) # all blocks, 2nd row, all columns"
   ]
  },
  {
   "cell_type": "code",
   "execution_count": 33,
   "metadata": {},
   "outputs": [
    {
     "name": "stdout",
     "output_type": "stream",
     "text": [
      "\n",
      " For a array with dimensions (2, 3, 4), the linear index:  10  is equal to multidimensional index:  (0, 2, 2)\n"
     ]
    }
   ],
   "source": [
    "# linear indexing\n",
    "linear_index = 10\n",
    "print(\"\\n For a array with dimensions (2, 3, 4), the linear index: \", linear_index, \" is equal to \\\n",
    "multidimensional index: \", numpy.unravel_index(linear_index, z.shape))"
   ]
  },
  {
   "cell_type": "markdown",
   "metadata": {},
   "source": [
    "#### Exercise 2b.2\n",
    "\n",
    "Create a $4\\times3$ matrix of random numbers between $0$ and $1$. \n",
    "Find the row and column position of the minimum and the maximum value."
   ]
  },
  {
   "cell_type": "code",
   "execution_count": 51,
   "metadata": {},
   "outputs": [
    {
     "name": "stdout",
     "output_type": "stream",
     "text": [
      "[[0.5972184  0.26834783 0.44216787]\n",
      " [0.55833044 0.58313137 0.43535966]\n",
      " [0.44781663 0.85979294 0.28031132]\n",
      " [0.12637611 0.49124254 0.43658165]]\n"
     ]
    }
   ],
   "source": [
    "cc = np.random.uniform(0,1,(4,3))\n",
    "print(cc)"
   ]
  },
  {
   "cell_type": "code",
   "execution_count": 62,
   "metadata": {},
   "outputs": [
    {
     "name": "stdout",
     "output_type": "stream",
     "text": [
      "min index:  9 \n",
      " max index:  7\n",
      "\n",
      "for an array with dimensions (4X3), the multidimensional index of argmin()=9, is (3, 0)\n",
      "\n",
      "for an array with dimensions (4X3), the multidimensional index of argmax()=7, is (2, 1)\n"
     ]
    }
   ],
   "source": [
    "print(\"min index: \",cc.argmin(),\"\\n\",\"max index: \", cc.argmax())\n",
    "print()\n",
    "\n",
    "print(\"for an array with dimensions (4X3), the multidimensional index of argmin()={}, is {}\".format(cc.argmin(),\n",
    "                                                                                                   np.unravel_index(cc.argmin(),(4,3))))\n",
    "\n",
    "print()\n",
    "print(\"for an array with dimensions (4X3), the multidimensional index of argmax()={}, is {}\".format(cc.argmax(),\n",
    "                                                                                                   np.unravel_index(cc.argmax(),(4,3))))\n",
    "\n"
   ]
  },
  {
   "cell_type": "markdown",
   "metadata": {},
   "source": [
    "#### Exercise 2b.3 \n",
    "\n",
    "Complete the following code to print years with the smallest number of hares, lynxes and carrots in the \n",
    "populations dataset."
   ]
  },
  {
   "cell_type": "code",
   "execution_count": 66,
   "metadata": {},
   "outputs": [
    {
     "name": "stdout",
     "output_type": "stream",
     "text": [
      "Least # of hare in year 1917\n",
      "Least # of lynx in year 1900\n",
      "Least # of carrot in year 1916\n"
     ]
    }
   ],
   "source": [
    "for species in ['hare','lynx','carrot']:\n",
    "    year = population['year'][np.argmin(population[species])]\n",
    "    print(\"Least # of {} in year {}\".format(species, year))"
   ]
  },
  {
   "cell_type": "code",
   "execution_count": 68,
   "metadata": {},
   "outputs": [
    {
     "name": "stdout",
     "output_type": "stream",
     "text": [
      "Most # of hare in year 1903\n",
      "Most # of lynx in year 1904\n",
      "Most # of carrot in year 1900\n"
     ]
    }
   ],
   "source": [
    "for i in ['hare','lynx', 'carrot']:\n",
    "    year = population['year'][np.argmax(population[i])]\n",
    "    print(\"Most # of {} in year {}\".format(i, year))"
   ]
  },
  {
   "cell_type": "markdown",
   "metadata": {},
   "source": [
    "### Boolean indexing\n",
    "\n",
    "A boolean index can be created directly, but most often it is built by specifying a certain condition.\n",
    "\n",
    "The condition will return a `True` or `False` for every position in the array and when the condition is True then the corresponding element will be retrieved."
   ]
  },
  {
   "cell_type": "code",
   "execution_count": 73,
   "metadata": {},
   "outputs": [
    {
     "name": "stdout",
     "output_type": "stream",
     "text": [
      "Only elements of x for which the value in y is True:  [1 3 5]\n",
      "Only elements of x for which the condition is True:  [4 5]\n"
     ]
    }
   ],
   "source": [
    "# Boolean indexing\n",
    "x = numpy.arange(1, 6)\n",
    "y = numpy.array([True, False, True, False, True ])\n",
    "print(\"Only elements of x for which the value in y is True: \", x[y])\n",
    "\n",
    "# boolean indexing by using a condition\n",
    "print(\"Only elements of x for which the condition is True: \", x[x>3])"
   ]
  },
  {
   "cell_type": "code",
   "execution_count": 74,
   "metadata": {},
   "outputs": [
    {
     "name": "stdout",
     "output_type": "stream",
     "text": [
      "[1 3 5]\n"
     ]
    }
   ],
   "source": [
    "type(np.arange(1,6))\n",
    "type(np.array([True, False, True, False, True]))\n",
    "\n",
    "print(x[y])"
   ]
  },
  {
   "cell_type": "markdown",
   "metadata": {},
   "source": [
    "#### Exercise 2b.4\n",
    "Use the population data to\n",
    "\n",
    "1. Select all the years in which there are more than 50000 lynxes;\n",
    "2. Select all the years in which there are more lynxes than hares."
   ]
  },
  {
   "cell_type": "code",
   "execution_count": 77,
   "metadata": {},
   "outputs": [
    {
     "name": "stdout",
     "output_type": "stream",
     "text": [
      "[1904 1915]\n",
      "\n",
      "[1904 1905 1906 1915 1916 1917]\n"
     ]
    }
   ],
   "source": [
    "pop_sub = population['year'][population['lynx']>50000]\n",
    "print(pop_sub)\n",
    "print()\n",
    "\n",
    "pop_sub2 = population['year'][population['lynx']>population['hare']]\n",
    "print(pop_sub2)"
   ]
  },
  {
   "cell_type": "code",
   "execution_count": 78,
   "metadata": {},
   "outputs": [
    {
     "name": "stdout",
     "output_type": "stream",
     "text": [
      "years with more than 50000 lynxes : [1904 1915]\n",
      "years with more lynxes than hares: [1904 1905 1906 1915 1916 1917]\n"
     ]
    }
   ],
   "source": [
    "#Select all the years in which there are more than 50000 lynxes\n",
    "print('years with more than 50000 lynxes :' , population['year'][population['lynx'] > 50000])\n",
    "\n",
    "#Select all the years in which there are more lynxes than hares.\n",
    "print('years with more lynxes than hares:', population['year'][population['lynx'] > population['hare']])"
   ]
  },
  {
   "cell_type": "code",
   "execution_count": 79,
   "metadata": {},
   "outputs": [
    {
     "name": "stdout",
     "output_type": "stream",
     "text": [
      "years with more than 50000 lynxes : [1904 1915]\n",
      "years with more lynxes than hares: [1904 1905 1906 1915 1916 1917]\n"
     ]
    },
    {
     "name": "stderr",
     "output_type": "stream",
     "text": [
      "/anaconda3/lib/python3.6/site-packages/ipykernel_launcher.py:2: FutureWarning: Using a non-tuple sequence for multidimensional indexing is deprecated; use `arr[tuple(seq)]` instead of `arr[seq]`. In the future this will be interpreted as an array index, `arr[np.array(seq)]`, which will result either in an error or a different result.\n",
      "  \n",
      "/anaconda3/lib/python3.6/site-packages/ipykernel_launcher.py:6: FutureWarning: Using a non-tuple sequence for multidimensional indexing is deprecated; use `arr[tuple(seq)]` instead of `arr[seq]`. In the future this will be interpreted as an array index, `arr[np.array(seq)]`, which will result either in an error or a different result.\n",
      "  \n"
     ]
    }
   ],
   "source": [
    "criteria = [population['lynx'] > 50000]\n",
    "print('years with more than 50000 lynxes :', population['year'][criteria])\n",
    "\n",
    "#Select all the years in which there are more lynxes than hares.\n",
    "criteria = [population['lynx'] > population['hare']]\n",
    "print('years with more lynxes than hares:', population['year'][criteria])"
   ]
  },
  {
   "cell_type": "markdown",
   "metadata": {},
   "source": [
    "### Indexing with an array of indices\n",
    "\n",
    "In this case you specify a separate array in which you store the indices as integers and you will return exactly the elements of the array with these indices.\n",
    "\n",
    "One advantage of this is that you can explicitly specify the order in which you want to have the values and you can return multiple times the value at a certain position. "
   ]
  },
  {
   "cell_type": "code",
   "execution_count": 80,
   "metadata": {},
   "outputs": [
    {
     "name": "stdout",
     "output_type": "stream",
     "text": [
      "Array x:  [100 101 102 103 104 105 106 107 108 109 110]\n",
      "Array with indices:  [8 3 8 4 9 3]\n",
      "Indexing with an array of indices will give: [108 103 108 104 109 103]\n"
     ]
    }
   ],
   "source": [
    "x = numpy.arange(100, 111)\n",
    "y = numpy.array([8, 3, 8, 4, 9, 3])\n",
    "print(\"Array x: \", x)\n",
    "print(\"Array with indices: \", y)\n",
    "print(\"Indexing with an array of indices will give:\", x[y])"
   ]
  },
  {
   "cell_type": "markdown",
   "metadata": {},
   "source": [
    "#### Exercise 2b.5\n",
    "\n",
    "Indexing with an array is often useful when we want to randomize the order of items in some data. Complete the following code which creates a scrambled version of the population data"
   ]
  },
  {
   "cell_type": "code",
   "execution_count": 84,
   "metadata": {},
   "outputs": [
    {
     "name": "stdout",
     "output_type": "stream",
     "text": [
      "[(1901, 47200.,  6100., 48200.) (1916, 11200., 29700., 36700.)\n",
      " (1906, 18100., 19000., 38600.) (1919, 16200., 10100., 41300.)\n",
      " (1913, 76600., 19500., 40900.) (1912, 57000., 12300., 43800.)\n",
      " (1915, 19500., 51100., 39000.) (1903, 77400., 35200., 38200.)\n",
      " (1909, 25400.,  9100., 42100.) (1918, 14600.,  9700., 43300.)\n",
      " (1911, 40300.,  8000., 46800.) (1917,  7600., 15800., 41800.)\n",
      " (1905, 20600., 41700., 39800.) (1908, 22000.,  8300., 44500.)\n",
      " (1900, 30000.,  4000., 48300.) (1902, 70200.,  9800., 41500.)\n",
      " (1904, 36300., 59400., 40600.) (1920, 24700.,  8600., 47300.)\n",
      " (1914, 52300., 45700., 39400.) (1907, 21400., 13000., 42300.)\n",
      " (1910, 27100.,  7400., 46000.)]\n",
      "\n",
      "[1901 1916 1906 1919 1913 1912 1915 1903 1909 1918 1911 1917 1905 1908\n",
      " 1900 1902 1904 1920 1914 1907 1910]\n"
     ]
    }
   ],
   "source": [
    "# Create an index for the rows of population (from 0 to population.shape[0])\n",
    "index = np.arange(0,population.shape[0])\n",
    "# Shuffle the index\n",
    "numpy.random.shuffle(index)\n",
    "# Create a scrambled version\n",
    "population_rand = population[index]\n",
    "print(population_rand)\n",
    "print()\n",
    "print(population_rand['year'])"
   ]
  },
  {
   "cell_type": "markdown",
   "metadata": {},
   "source": [
    "## Vector stacking\n",
    "\n",
    "Sometimes you want to combine two or more vectors to create an array. This is called vector stacking. Vector stacking can be done in two different ways horizontal and vertical. \n",
    "- horizontal stack: `numpy.hstack([x, y, z])`\n",
    "- vertical stack: `numpy.vstack([x, y, z])`"
   ]
  },
  {
   "cell_type": "code",
   "execution_count": 85,
   "metadata": {},
   "outputs": [
    {
     "name": "stdout",
     "output_type": "stream",
     "text": [
      "Horizontal stack:  [ 0  1  2  3  4  5  6  7  8  9 10 11 12 13 14]\n",
      "Vertical stack: \n",
      "[[ 0  1  2  3  4]\n",
      " [ 5  6  7  8  9]\n",
      " [10 11 12 13 14]]\n"
     ]
    }
   ],
   "source": [
    "x = numpy.arange(0, 5)                     \n",
    "y = numpy.arange(5, 10)   \n",
    "z = numpy.arange(10, 15)\n",
    "print(\"Horizontal stack: \",  numpy.hstack([x,y, z]) )\n",
    "print(\"Vertical stack: \")\n",
    "print( numpy.vstack([x,y, z]))"
   ]
  },
  {
   "cell_type": "markdown",
   "metadata": {},
   "source": [
    "### Save data set to file\n",
    "\n",
    "To save an array from numpy as a separate file you specify the filename and the array you want to save. Use the following functions:\n",
    "- `numpy.savetxt(filename, array)` : save an array to a text file. Some optional arguments are: delimiter=' ', newline = '\\n', header = ' '. http://docs.scipy.org/doc/numpy-1.10.0/reference/generated/numpy.savetxt.html#numpy.savetxt\n",
    "- `numpy.save(filename, array)` : save an array to a binary file in numpy `.npy` format. http://docs.scipy.org/doc/numpy-1.10.0/reference/generated/numpy.save.html#numpy.save\n"
   ]
  },
  {
   "cell_type": "code",
   "execution_count": 90,
   "metadata": {},
   "outputs": [],
   "source": [
    "mm= np.vstack([x,y,z])\n",
    "mm\n",
    "np.savetxt(\"mm.txt\", mm)\n",
    "np.save(\"mm.npy\", mm)"
   ]
  },
  {
   "cell_type": "markdown",
   "metadata": {},
   "source": [
    "#### Exercise 2b.6 \n",
    "\n",
    "Save the population data to a `.npy` file. Figure out how to load it back into a numpy array.\n",
    "\n",
    "#### Exercise 2b.7\n",
    "The files\n",
    "\n",
    "- [irisa.txt](irisa.txt)\n",
    "- [irisb.txt](irisb.txt)\n",
    "- [irisc.txt](irisc.txt)\n",
    "\n",
    "contain the data for the iris dataset. Each file has these columns:\n",
    "\n",
    "- `SepalLength` \n",
    "- `SepalWidth`\n",
    "- `PetalLength` \n",
    "- `PetalWidth` \n",
    "- `Species`\n",
    "\n",
    "Load this data, and create a single array with all the species."
   ]
  },
  {
   "cell_type": "code",
   "execution_count": 92,
   "metadata": {},
   "outputs": [
    {
     "data": {
      "text/plain": [
       "array([(1900, 30000.,  4000., 48300.), (1901, 47200.,  6100., 48200.),\n",
       "       (1902, 70200.,  9800., 41500.), (1903, 77400., 35200., 38200.),\n",
       "       (1904, 36300., 59400., 40600.), (1905, 20600., 41700., 39800.),\n",
       "       (1906, 18100., 19000., 38600.), (1907, 21400., 13000., 42300.),\n",
       "       (1908, 22000.,  8300., 44500.), (1909, 25400.,  9100., 42100.),\n",
       "       (1910, 27100.,  7400., 46000.), (1911, 40300.,  8000., 46800.),\n",
       "       (1912, 57000., 12300., 43800.), (1913, 76600., 19500., 40900.),\n",
       "       (1914, 52300., 45700., 39400.), (1915, 19500., 51100., 39000.),\n",
       "       (1916, 11200., 29700., 36700.), (1917,  7600., 15800., 41800.),\n",
       "       (1918, 14600.,  9700., 43300.), (1919, 16200., 10100., 41300.),\n",
       "       (1920, 24700.,  8600., 47300.)],\n",
       "      dtype=[('year', '<i8'), ('hare', '<f8'), ('lynx', '<f8'), ('carrot', '<f8')])"
      ]
     },
     "execution_count": 92,
     "metadata": {},
     "output_type": "execute_result"
    }
   ],
   "source": [
    "np.save(\"populations.npy\",population)\n",
    "np.load(\"populations.npy\")"
   ]
  },
  {
   "cell_type": "code",
   "execution_count": 101,
   "metadata": {},
   "outputs": [],
   "source": [
    "dtype = [(\"SepalLength\", \"float64\"), (\"SepalWidth\", \"float64\"), (\"PetalLength\", \"float64\"),(\"PetalWidth\", \"float64\"), (\"Species\", \"U10\")] \n"
   ]
  },
  {
   "cell_type": "code",
   "execution_count": 102,
   "metadata": {},
   "outputs": [],
   "source": [
    "irisa = np.loadtxt(\"irisa.txt\", dtype=dtype)\n",
    "irisb = np.loadtxt(\"irisb.txt\", dtype=dtype)\n",
    "irisc = np.loadtxt(\"irisc.txt\", dtype=dtype)"
   ]
  },
  {
   "cell_type": "code",
   "execution_count": 104,
   "metadata": {},
   "outputs": [
    {
     "name": "stdout",
     "output_type": "stream",
     "text": [
      "[(5.1, 3.5, 1.4, 0.2, 'setosa') (4.9, 3. , 1.4, 0.2, 'setosa')\n",
      " (4.7, 3.2, 1.3, 0.2, 'setosa') (4.6, 3.1, 1.5, 0.2, 'setosa')\n",
      " (5. , 3.6, 1.4, 0.2, 'setosa') (5.4, 3.9, 1.7, 0.4, 'setosa')\n",
      " (4.6, 3.4, 1.4, 0.3, 'setosa') (5. , 3.4, 1.5, 0.2, 'setosa')\n",
      " (4.4, 2.9, 1.4, 0.2, 'setosa') (4.9, 3.1, 1.5, 0.1, 'setosa')\n",
      " (5.4, 3.7, 1.5, 0.2, 'setosa') (4.8, 3.4, 1.6, 0.2, 'setosa')\n",
      " (4.8, 3. , 1.4, 0.1, 'setosa') (4.3, 3. , 1.1, 0.1, 'setosa')\n",
      " (5.8, 4. , 1.2, 0.2, 'setosa') (5.7, 4.4, 1.5, 0.4, 'setosa')\n",
      " (5.4, 3.9, 1.3, 0.4, 'setosa') (5.1, 3.5, 1.4, 0.3, 'setosa')\n",
      " (5.7, 3.8, 1.7, 0.3, 'setosa') (5.1, 3.8, 1.5, 0.3, 'setosa')\n",
      " (5.4, 3.4, 1.7, 0.2, 'setosa') (5.1, 3.7, 1.5, 0.4, 'setosa')\n",
      " (4.6, 3.6, 1. , 0.2, 'setosa') (5.1, 3.3, 1.7, 0.5, 'setosa')\n",
      " (4.8, 3.4, 1.9, 0.2, 'setosa') (5. , 3. , 1.6, 0.2, 'setosa')\n",
      " (5. , 3.4, 1.6, 0.4, 'setosa') (5.2, 3.5, 1.5, 0.2, 'setosa')\n",
      " (5.2, 3.4, 1.4, 0.2, 'setosa') (4.7, 3.2, 1.6, 0.2, 'setosa')\n",
      " (4.8, 3.1, 1.6, 0.2, 'setosa') (5.4, 3.4, 1.5, 0.4, 'setosa')\n",
      " (5.2, 4.1, 1.5, 0.1, 'setosa') (5.5, 4.2, 1.4, 0.2, 'setosa')\n",
      " (4.9, 3.1, 1.5, 0.2, 'setosa') (5. , 3.2, 1.2, 0.2, 'setosa')\n",
      " (5.5, 3.5, 1.3, 0.2, 'setosa') (4.9, 3.6, 1.4, 0.1, 'setosa')\n",
      " (4.4, 3. , 1.3, 0.2, 'setosa') (5.1, 3.4, 1.5, 0.2, 'setosa')\n",
      " (5. , 3.5, 1.3, 0.3, 'setosa') (4.5, 2.3, 1.3, 0.3, 'setosa')\n",
      " (4.4, 3.2, 1.3, 0.2, 'setosa') (5. , 3.5, 1.6, 0.6, 'setosa')\n",
      " (5.1, 3.8, 1.9, 0.4, 'setosa') (4.8, 3. , 1.4, 0.3, 'setosa')\n",
      " (5.1, 3.8, 1.6, 0.2, 'setosa') (4.6, 3.2, 1.4, 0.2, 'setosa')\n",
      " (5.3, 3.7, 1.5, 0.2, 'setosa') (5. , 3.3, 1.4, 0.2, 'setosa')\n",
      " (7. , 3.2, 4.7, 1.4, 'versicolor') (6.4, 3.2, 4.5, 1.5, 'versicolor')\n",
      " (6.9, 3.1, 4.9, 1.5, 'versicolor') (5.5, 2.3, 4. , 1.3, 'versicolor')\n",
      " (6.5, 2.8, 4.6, 1.5, 'versicolor') (5.7, 2.8, 4.5, 1.3, 'versicolor')\n",
      " (6.3, 3.3, 4.7, 1.6, 'versicolor') (4.9, 2.4, 3.3, 1. , 'versicolor')\n",
      " (6.6, 2.9, 4.6, 1.3, 'versicolor') (5.2, 2.7, 3.9, 1.4, 'versicolor')\n",
      " (5. , 2. , 3.5, 1. , 'versicolor') (5.9, 3. , 4.2, 1.5, 'versicolor')\n",
      " (6. , 2.2, 4. , 1. , 'versicolor') (6.1, 2.9, 4.7, 1.4, 'versicolor')\n",
      " (5.6, 2.9, 3.6, 1.3, 'versicolor') (6.7, 3.1, 4.4, 1.4, 'versicolor')\n",
      " (5.6, 3. , 4.5, 1.5, 'versicolor') (5.8, 2.7, 4.1, 1. , 'versicolor')\n",
      " (6.2, 2.2, 4.5, 1.5, 'versicolor') (5.6, 2.5, 3.9, 1.1, 'versicolor')\n",
      " (5.9, 3.2, 4.8, 1.8, 'versicolor') (6.1, 2.8, 4. , 1.3, 'versicolor')\n",
      " (6.3, 2.5, 4.9, 1.5, 'versicolor') (6.1, 2.8, 4.7, 1.2, 'versicolor')\n",
      " (6.4, 2.9, 4.3, 1.3, 'versicolor') (6.6, 3. , 4.4, 1.4, 'versicolor')\n",
      " (6.8, 2.8, 4.8, 1.4, 'versicolor') (6.7, 3. , 5. , 1.7, 'versicolor')\n",
      " (6. , 2.9, 4.5, 1.5, 'versicolor') (5.7, 2.6, 3.5, 1. , 'versicolor')\n",
      " (5.5, 2.4, 3.8, 1.1, 'versicolor') (5.5, 2.4, 3.7, 1. , 'versicolor')\n",
      " (5.8, 2.7, 3.9, 1.2, 'versicolor') (6. , 2.7, 5.1, 1.6, 'versicolor')\n",
      " (5.4, 3. , 4.5, 1.5, 'versicolor') (6. , 3.4, 4.5, 1.6, 'versicolor')\n",
      " (6.7, 3.1, 4.7, 1.5, 'versicolor') (6.3, 2.3, 4.4, 1.3, 'versicolor')\n",
      " (5.6, 3. , 4.1, 1.3, 'versicolor') (5.5, 2.5, 4. , 1.3, 'versicolor')\n",
      " (5.5, 2.6, 4.4, 1.2, 'versicolor') (6.1, 3. , 4.6, 1.4, 'versicolor')\n",
      " (5.8, 2.6, 4. , 1.2, 'versicolor') (5. , 2.3, 3.3, 1. , 'versicolor')\n",
      " (5.6, 2.7, 4.2, 1.3, 'versicolor') (5.7, 3. , 4.2, 1.2, 'versicolor')\n",
      " (5.7, 2.9, 4.2, 1.3, 'versicolor') (6.2, 2.9, 4.3, 1.3, 'versicolor')\n",
      " (5.1, 2.5, 3. , 1.1, 'versicolor') (5.7, 2.8, 4.1, 1.3, 'versicolor')\n",
      " (6.3, 3.3, 6. , 2.5, 'virginica') (5.8, 2.7, 5.1, 1.9, 'virginica')\n",
      " (7.1, 3. , 5.9, 2.1, 'virginica') (6.3, 2.9, 5.6, 1.8, 'virginica')\n",
      " (6.5, 3. , 5.8, 2.2, 'virginica') (7.6, 3. , 6.6, 2.1, 'virginica')\n",
      " (4.9, 2.5, 4.5, 1.7, 'virginica') (7.3, 2.9, 6.3, 1.8, 'virginica')\n",
      " (6.7, 2.5, 5.8, 1.8, 'virginica') (7.2, 3.6, 6.1, 2.5, 'virginica')\n",
      " (6.5, 3.2, 5.1, 2. , 'virginica') (6.4, 2.7, 5.3, 1.9, 'virginica')\n",
      " (6.8, 3. , 5.5, 2.1, 'virginica') (5.7, 2.5, 5. , 2. , 'virginica')\n",
      " (5.8, 2.8, 5.1, 2.4, 'virginica') (6.4, 3.2, 5.3, 2.3, 'virginica')\n",
      " (6.5, 3. , 5.5, 1.8, 'virginica') (7.7, 3.8, 6.7, 2.2, 'virginica')\n",
      " (7.7, 2.6, 6.9, 2.3, 'virginica') (6. , 2.2, 5. , 1.5, 'virginica')\n",
      " (6.9, 3.2, 5.7, 2.3, 'virginica') (5.6, 2.8, 4.9, 2. , 'virginica')\n",
      " (7.7, 2.8, 6.7, 2. , 'virginica') (6.3, 2.7, 4.9, 1.8, 'virginica')\n",
      " (6.7, 3.3, 5.7, 2.1, 'virginica') (7.2, 3.2, 6. , 1.8, 'virginica')\n",
      " (6.2, 2.8, 4.8, 1.8, 'virginica') (6.1, 3. , 4.9, 1.8, 'virginica')\n",
      " (6.4, 2.8, 5.6, 2.1, 'virginica') (7.2, 3. , 5.8, 1.6, 'virginica')\n",
      " (7.4, 2.8, 6.1, 1.9, 'virginica') (7.9, 3.8, 6.4, 2. , 'virginica')\n",
      " (6.4, 2.8, 5.6, 2.2, 'virginica') (6.3, 2.8, 5.1, 1.5, 'virginica')\n",
      " (6.1, 2.6, 5.6, 1.4, 'virginica') (7.7, 3. , 6.1, 2.3, 'virginica')\n",
      " (6.3, 3.4, 5.6, 2.4, 'virginica') (6.4, 3.1, 5.5, 1.8, 'virginica')\n",
      " (6. , 3. , 4.8, 1.8, 'virginica') (6.9, 3.1, 5.4, 2.1, 'virginica')\n",
      " (6.7, 3.1, 5.6, 2.4, 'virginica') (6.9, 3.1, 5.1, 2.3, 'virginica')\n",
      " (5.8, 2.7, 5.1, 1.9, 'virginica') (6.8, 3.2, 5.9, 2.3, 'virginica')\n",
      " (6.7, 3.3, 5.7, 2.5, 'virginica') (6.7, 3. , 5.2, 2.3, 'virginica')\n",
      " (6.3, 2.5, 5. , 1.9, 'virginica') (6.5, 3. , 5.2, 2. , 'virginica')\n",
      " (6.2, 3.4, 5.4, 2.3, 'virginica') (5.9, 3. , 5.1, 1.8, 'virginica')]\n"
     ]
    }
   ],
   "source": [
    "iris = np.hstack([irisa, irisb, irisc])\n",
    "print(iris)"
   ]
  },
  {
   "cell_type": "code",
   "execution_count": 106,
   "metadata": {},
   "outputs": [
    {
     "data": {
      "text/plain": [
       "1"
      ]
     },
     "execution_count": 106,
     "metadata": {},
     "output_type": "execute_result"
    }
   ],
   "source": [
    "iris.ndim"
   ]
  },
  {
   "cell_type": "code",
   "execution_count": 109,
   "metadata": {},
   "outputs": [
    {
     "name": "stdout",
     "output_type": "stream",
     "text": [
      "(7.9, 3.8, 6.4, 2., 'virginica')\n"
     ]
    }
   ],
   "source": [
    "#Select the flower with highest sepallenght:\n",
    "index = iris['SepalLength'].argmax()\n",
    "index\n",
    "print(iris[index])"
   ]
  },
  {
   "cell_type": "code",
   "execution_count": 110,
   "metadata": {},
   "outputs": [
    {
     "data": {
      "text/plain": [
       "'virginica'"
      ]
     },
     "execution_count": 110,
     "metadata": {},
     "output_type": "execute_result"
    }
   ],
   "source": [
    "#Select the species of the flower with highest sepallenght:\n",
    "iris['Species'][iris['SepalLength'].argmax()]"
   ]
  },
  {
   "cell_type": "code",
   "execution_count": 111,
   "metadata": {},
   "outputs": [
    {
     "data": {
      "text/plain": [
       "'setosa'"
      ]
     },
     "execution_count": 111,
     "metadata": {},
     "output_type": "execute_result"
    }
   ],
   "source": [
    "#Select the species of the flower with smallest sepallenght:\n",
    "iris['Species'][iris['SepalLength'].argmin()]"
   ]
  },
  {
   "cell_type": "code",
   "execution_count": null,
   "metadata": {},
   "outputs": [],
   "source": []
  }
 ],
 "metadata": {
  "kernelspec": {
   "display_name": "Python 3",
   "language": "python",
   "name": "python3"
  },
  "language_info": {
   "codemirror_mode": {
    "name": "ipython",
    "version": 3
   },
   "file_extension": ".py",
   "mimetype": "text/x-python",
   "name": "python",
   "nbconvert_exporter": "python",
   "pygments_lexer": "ipython3",
   "version": "3.6.4"
  }
 },
 "nbformat": 4,
 "nbformat_minor": 1
}
