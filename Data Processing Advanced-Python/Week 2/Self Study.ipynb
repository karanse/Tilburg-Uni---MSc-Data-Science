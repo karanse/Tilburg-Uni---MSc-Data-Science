{
 "cells": [
  {
   "cell_type": "code",
   "execution_count": 3,
   "metadata": {},
   "outputs": [],
   "source": [
    "import numpy as np"
   ]
  },
  {
   "cell_type": "code",
   "execution_count": 7,
   "metadata": {},
   "outputs": [
    {
     "data": {
      "text/plain": [
       "[('name', 'S6'), ('height', 'f8'), ('weight', 'f8'), ('age', 'i8')]"
      ]
     },
     "execution_count": 7,
     "metadata": {},
     "output_type": "execute_result"
    }
   ],
   "source": [
    "person_data_def = [('name', 'S6'), ('height', 'f8'), ('weight', 'f8'), ('age', 'i8')]\n",
    "person_data_def"
   ]
  },
  {
   "cell_type": "code",
   "execution_count": 10,
   "metadata": {},
   "outputs": [],
   "source": [
    "people_array = np.zeros((4), dtype=person_data_def)"
   ]
  },
  {
   "cell_type": "code",
   "execution_count": 11,
   "metadata": {},
   "outputs": [
    {
     "data": {
      "text/plain": [
       "array([(b'', 0., 0., 0), (b'', 0., 0., 0), (b'', 0., 0., 0),\n",
       "       (b'', 0., 0., 0)],\n",
       "      dtype=[('name', 'S6'), ('height', '<f8'), ('weight', '<f8'), ('age', '<i8')])"
      ]
     },
     "execution_count": 11,
     "metadata": {},
     "output_type": "execute_result"
    }
   ],
   "source": [
    "people_array"
   ]
  },
  {
   "cell_type": "code",
   "execution_count": 13,
   "metadata": {},
   "outputs": [],
   "source": [
    "people_array[0] = ('Sema', 59, 167,27)"
   ]
  },
  {
   "cell_type": "code",
   "execution_count": 14,
   "metadata": {},
   "outputs": [],
   "source": [
    "people_array[3] = ('Josef', 67, 175, 27)"
   ]
  },
  {
   "cell_type": "code",
   "execution_count": 15,
   "metadata": {},
   "outputs": [
    {
     "data": {
      "text/plain": [
       "array([(b'Sema', 59., 167., 27), (b'',  0.,   0.,  0),\n",
       "       (b'',  0.,   0.,  0), (b'Josef', 67., 175., 27)],\n",
       "      dtype=[('name', 'S6'), ('height', '<f8'), ('weight', '<f8'), ('age', '<i8')])"
      ]
     },
     "execution_count": 15,
     "metadata": {},
     "output_type": "execute_result"
    }
   ],
   "source": [
    "people_array"
   ]
  },
  {
   "cell_type": "code",
   "execution_count": 17,
   "metadata": {},
   "outputs": [],
   "source": [
    "ages = people_array['age']"
   ]
  },
  {
   "cell_type": "code",
   "execution_count": 22,
   "metadata": {},
   "outputs": [
    {
     "data": {
      "text/plain": [
       "(array([27,  0,  0, 27]), dtype('int64'))"
      ]
     },
     "execution_count": 22,
     "metadata": {},
     "output_type": "execute_result"
    }
   ],
   "source": [
    "ages, ages.dtype"
   ]
  },
  {
   "cell_type": "code",
   "execution_count": 24,
   "metadata": {},
   "outputs": [
    {
     "data": {
      "text/plain": [
       "array([b'Sema', b'', b'', b'Josef'], dtype='|S6')"
      ]
     },
     "execution_count": 24,
     "metadata": {},
     "output_type": "execute_result"
    }
   ],
   "source": [
    "people_array['name']"
   ]
  },
  {
   "cell_type": "code",
   "execution_count": 31,
   "metadata": {},
   "outputs": [
    {
     "name": "stdout",
     "output_type": "stream",
     "text": [
      "[(b'Sema', 27) (b'',  0) (b'',  0) (b'Josef', 27)]\n"
     ]
    }
   ],
   "source": [
    "print(people_array[['name','age']])"
   ]
  },
  {
   "cell_type": "code",
   "execution_count": 33,
   "metadata": {},
   "outputs": [
    {
     "name": "stdout",
     "output_type": "stream",
     "text": [
      "(4,) [('name', 'S6'), ('height', '<f8'), ('weight', '<f8'), ('age', '<i8')]\n"
     ]
    }
   ],
   "source": [
    "print(people_array.shape, people_array.dtype)"
   ]
  },
  {
   "cell_type": "code",
   "execution_count": 37,
   "metadata": {},
   "outputs": [
    {
     "data": {
      "text/plain": [
       "('name', 'height', 'weight', 'age')"
      ]
     },
     "execution_count": 37,
     "metadata": {},
     "output_type": "execute_result"
    }
   ],
   "source": [
    "##access and change the column names\n",
    "\n",
    "people_array.dtype.names"
   ]
  },
  {
   "cell_type": "code",
   "execution_count": 38,
   "metadata": {},
   "outputs": [],
   "source": [
    "people_array.dtype.names = ('Name', 'Height', 'Weight', 'Age')"
   ]
  },
  {
   "cell_type": "code",
   "execution_count": 39,
   "metadata": {},
   "outputs": [
    {
     "data": {
      "text/plain": [
       "('Name', 'Height', 'Weight', 'Age')"
      ]
     },
     "execution_count": 39,
     "metadata": {},
     "output_type": "execute_result"
    }
   ],
   "source": [
    "people_array.dtype.names"
   ]
  },
  {
   "cell_type": "markdown",
   "metadata": {},
   "source": [
    "### Load data into structured arrays"
   ]
  },
  {
   "cell_type": "code",
   "execution_count": 40,
   "metadata": {},
   "outputs": [],
   "source": [
    "dtype = [('year','i8'), ('hare', 'f8'), ('lynx', 'f8'), ('carrot', 'f8')]"
   ]
  },
  {
   "cell_type": "code",
   "execution_count": 42,
   "metadata": {},
   "outputs": [],
   "source": [
    "population = np.loadtxt('populations.txt', dtype= dtype)"
   ]
  },
  {
   "cell_type": "code",
   "execution_count": 43,
   "metadata": {},
   "outputs": [
    {
     "data": {
      "text/plain": [
       "array([(1900, 30000.,  4000., 48300.), (1901, 47200.,  6100., 48200.),\n",
       "       (1902, 70200.,  9800., 41500.), (1903, 77400., 35200., 38200.),\n",
       "       (1904, 36300., 59400., 40600.), (1905, 20600., 41700., 39800.),\n",
       "       (1906, 18100., 19000., 38600.), (1907, 21400., 13000., 42300.),\n",
       "       (1908, 22000.,  8300., 44500.), (1909, 25400.,  9100., 42100.),\n",
       "       (1910, 27100.,  7400., 46000.), (1911, 40300.,  8000., 46800.),\n",
       "       (1912, 57000., 12300., 43800.), (1913, 76600., 19500., 40900.),\n",
       "       (1914, 52300., 45700., 39400.), (1915, 19500., 51100., 39000.),\n",
       "       (1916, 11200., 29700., 36700.), (1917,  7600., 15800., 41800.),\n",
       "       (1918, 14600.,  9700., 43300.), (1919, 16200., 10100., 41300.),\n",
       "       (1920, 24700.,  8600., 47300.)],\n",
       "      dtype=[('year', '<i8'), ('hare', '<f8'), ('lynx', '<f8'), ('carrot', '<f8')])"
      ]
     },
     "execution_count": 43,
     "metadata": {},
     "output_type": "execute_result"
    }
   ],
   "source": [
    "population"
   ]
  },
  {
   "cell_type": "code",
   "execution_count": 44,
   "metadata": {},
   "outputs": [],
   "source": [
    "# alternative way to load data from txt\n",
    "\n",
    "population2 = np.genfromtxt('populations.txt',\n",
    "                            names = True,\n",
    "                            dtype=['int', 'float', 'float', 'float']\n",
    "                           )"
   ]
  },
  {
   "cell_type": "code",
   "execution_count": 45,
   "metadata": {},
   "outputs": [
    {
     "data": {
      "text/plain": [
       "array([(1900, 30000.,  4000., 48300.), (1901, 47200.,  6100., 48200.),\n",
       "       (1902, 70200.,  9800., 41500.), (1903, 77400., 35200., 38200.),\n",
       "       (1904, 36300., 59400., 40600.), (1905, 20600., 41700., 39800.),\n",
       "       (1906, 18100., 19000., 38600.), (1907, 21400., 13000., 42300.),\n",
       "       (1908, 22000.,  8300., 44500.), (1909, 25400.,  9100., 42100.),\n",
       "       (1910, 27100.,  7400., 46000.), (1911, 40300.,  8000., 46800.),\n",
       "       (1912, 57000., 12300., 43800.), (1913, 76600., 19500., 40900.),\n",
       "       (1914, 52300., 45700., 39400.), (1915, 19500., 51100., 39000.),\n",
       "       (1916, 11200., 29700., 36700.), (1917,  7600., 15800., 41800.),\n",
       "       (1918, 14600.,  9700., 43300.), (1919, 16200., 10100., 41300.),\n",
       "       (1920, 24700.,  8600., 47300.)],\n",
       "      dtype=[('year', '<i8'), ('hare', '<f8'), ('lynx', '<f8'), ('carrot', '<f8')])"
      ]
     },
     "execution_count": 45,
     "metadata": {},
     "output_type": "execute_result"
    }
   ],
   "source": [
    "population2"
   ]
  },
  {
   "cell_type": "code",
   "execution_count": 46,
   "metadata": {},
   "outputs": [
    {
     "data": {
      "text/plain": [
       "(dtype([('year', '<i8'), ('hare', '<f8'), ('lynx', '<f8'), ('carrot', '<f8')]),\n",
       " dtype([('year', '<i8'), ('hare', '<f8'), ('lynx', '<f8'), ('carrot', '<f8')]))"
      ]
     },
     "execution_count": 46,
     "metadata": {},
     "output_type": "execute_result"
    }
   ],
   "source": [
    "population.dtype, population2.dtype"
   ]
  },
  {
   "cell_type": "code",
   "execution_count": 56,
   "metadata": {},
   "outputs": [
    {
     "data": {
      "text/plain": [
       "array([(b'Sema', 59., 167., 27)],\n",
       "      dtype=[('Name', 'S6'), ('Height', '<f8'), ('Weight', '<f8'), ('Age', '<i8')])"
      ]
     },
     "execution_count": 56,
     "metadata": {},
     "output_type": "execute_result"
    }
   ],
   "source": [
    "people_array[0:1]"
   ]
  },
  {
   "cell_type": "code",
   "execution_count": 58,
   "metadata": {},
   "outputs": [],
   "source": [
    "people_recarray = np.rec.array(people_array)"
   ]
  },
  {
   "cell_type": "code",
   "execution_count": 60,
   "metadata": {},
   "outputs": [
    {
     "data": {
      "text/plain": [
       "array([27])"
      ]
     },
     "execution_count": 60,
     "metadata": {},
     "output_type": "execute_result"
    }
   ],
   "source": [
    "people_recarray[0:1].Age"
   ]
  },
  {
   "cell_type": "code",
   "execution_count": 67,
   "metadata": {},
   "outputs": [
    {
     "name": "stdout",
     "output_type": "stream",
     "text": [
      "[[-0.70503649  0.1617549   0.26237158 -0.57102257  0.01717127]\n",
      " [ 0.36817236 -0.65540163  0.35704151 -0.52964603  0.97837346]\n",
      " [ 0.15399821 -0.12542465 -0.26799988  0.00977157 -0.1660708 ]\n",
      " [-0.54964568  0.77794078 -0.66872623  0.83018729 -0.02840734]\n",
      " [-0.83011049  0.99097164  0.02646207  0.33534501  0.9219928 ]]\n"
     ]
    }
   ],
   "source": [
    "a = np.random.uniform(-1,1, (5,5))\n",
    "print(a)"
   ]
  },
  {
   "cell_type": "code",
   "execution_count": 70,
   "metadata": {},
   "outputs": [
    {
     "data": {
      "text/plain": [
       "(21, 0.9909716375884994)"
      ]
     },
     "execution_count": 70,
     "metadata": {},
     "output_type": "execute_result"
    }
   ],
   "source": [
    "#return the index of max value of the matrix\n",
    "\n",
    "np.argmax(a), np.max(a)"
   ]
  },
  {
   "cell_type": "code",
   "execution_count": 4,
   "metadata": {},
   "outputs": [
    {
     "name": "stdout",
     "output_type": "stream",
     "text": [
      "[[ 0.2113812  -0.49168776 -0.64186033  0.77185068 -0.10282265]\n",
      " [-0.63454647 -0.54804184  0.8295588  -0.42479529 -0.52715346]\n",
      " [-0.31537523  0.95242232 -0.02525931  0.50996867 -0.27957747]\n",
      " [ 0.10313789  0.61230319  0.50225943 -0.9718727   0.19538909]\n",
      " [-0.67566792 -0.34638844 -0.08135379  0.63576073  0.4035722 ]]\n"
     ]
    }
   ],
   "source": [
    "## indexing with boolean filter\n",
    "ab= np.random.uniform(-1,1,(5,5))\n",
    "print(ab)"
   ]
  },
  {
   "cell_type": "code",
   "execution_count": 6,
   "metadata": {},
   "outputs": [
    {
     "name": "stdout",
     "output_type": "stream",
     "text": [
      "[[ True False False  True False]\n",
      " [False False  True False False]\n",
      " [False  True False  True False]\n",
      " [ True  True  True False  True]\n",
      " [False False False  True  True]]\n"
     ]
    }
   ],
   "source": [
    "index = ab >0\n",
    "print(index)"
   ]
  },
  {
   "cell_type": "code",
   "execution_count": 11,
   "metadata": {},
   "outputs": [
    {
     "name": "stdout",
     "output_type": "stream",
     "text": [
      "[0.2113812  0.10313789]\n"
     ]
    }
   ],
   "source": [
    "print(ab[:,0][index[:,0]])"
   ]
  },
  {
   "cell_type": "code",
   "execution_count": null,
   "metadata": {},
   "outputs": [],
   "source": []
  }
 ],
 "metadata": {
  "kernelspec": {
   "display_name": "Python 3",
   "language": "python",
   "name": "python3"
  },
  "language_info": {
   "codemirror_mode": {
    "name": "ipython",
    "version": 3
   },
   "file_extension": ".py",
   "mimetype": "text/x-python",
   "name": "python",
   "nbconvert_exporter": "python",
   "pygments_lexer": "ipython3",
   "version": "3.6.4"
  }
 },
 "nbformat": 4,
 "nbformat_minor": 2
}
