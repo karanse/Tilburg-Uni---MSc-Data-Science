{
 "cells": [
  {
   "cell_type": "markdown",
   "metadata": {},
   "source": [
    "# 2. Arrays - Part 2"
   ]
  },
  {
   "cell_type": "code",
   "execution_count": 1,
   "metadata": {},
   "outputs": [],
   "source": [
    "import numpy"
   ]
  },
  {
   "cell_type": "markdown",
   "metadata": {},
   "source": [
    "## Structured arrays\n",
    "\n",
    "A structured array consists of a number of columns, where each column can be a different datatype. \n",
    "\n",
    "Full information about structured arrays: \n",
    "http://docs.scipy.org/doc/numpy-1.10.1/user/basics.rec.html#structured-arrays\n",
    "\n",
    "One of the possible ways to specify a structured array is to use a list of tuples as `dtype`:\n",
    "For every column in the array a tuple is specified with the name of the column and the type of data in it. For example: "
   ]
  },
  {
   "cell_type": "code",
   "execution_count": 2,
   "metadata": {},
   "outputs": [],
   "source": [
    "dtype = [('Name', 'U10'), ('Country', 'U10'), ('Area', 'float64')]"
   ]
  },
  {
   "cell_type": "markdown",
   "metadata": {},
   "source": [
    "The content of the array can then be given as a list of tuples, like so:"
   ]
  },
  {
   "cell_type": "code",
   "execution_count": 3,
   "metadata": {},
   "outputs": [
    {
     "name": "stdout",
     "output_type": "stream",
     "text": [
      "[('Amsterdam', 'Netherland', 219.3) ('Paris', 'France', 105.4)\n",
      " ('Barcelona', 'Spain', 101.9)]\n",
      "1\n"
     ]
    }
   ],
   "source": [
    "city = numpy.array([('Amsterdam', 'Netherlands', 219.3),\n",
    "                    ('Paris',     'France',      105.4 ),\n",
    "                    ('Barcelona', 'Spain',       101.9 )],\n",
    "                     dtype=dtype)\n",
    "print(city)\n",
    "print(city.ndim)"
   ]
  },
  {
   "cell_type": "markdown",
   "metadata": {},
   "source": [
    "### Indexing structured arrays\n",
    "The rows in a structured array can be accessed by regular indexing. The columns of the array by using the column names that are specified when the array was created."
   ]
  },
  {
   "cell_type": "code",
   "execution_count": 4,
   "metadata": {},
   "outputs": [
    {
     "name": "stdout",
     "output_type": "stream",
     "text": [
      "('Amsterdam', 'Netherland', 219.3)\n"
     ]
    }
   ],
   "source": [
    "# Access first row\n",
    "print(city[0])"
   ]
  },
  {
   "cell_type": "code",
   "execution_count": 5,
   "metadata": {},
   "outputs": [
    {
     "name": "stdout",
     "output_type": "stream",
     "text": [
      "[('Amsterdam', 'Netherland', 219.3) ('Paris', 'France', 105.4)]\n"
     ]
    }
   ],
   "source": [
    "# Access first two rows\n",
    "print(city[0:2])"
   ]
  },
  {
   "cell_type": "code",
   "execution_count": 6,
   "metadata": {},
   "outputs": [
    {
     "name": "stdout",
     "output_type": "stream",
     "text": [
      "[219.3 105.4 101.9]\n"
     ]
    }
   ],
   "source": [
    "# Access column by name\n",
    "print(city['Area'])"
   ]
  },
  {
   "cell_type": "code",
   "execution_count": 7,
   "metadata": {},
   "outputs": [
    {
     "name": "stdout",
     "output_type": "stream",
     "text": [
      "[('Amsterdam', 219.3) ('Paris', 105.4) ('Barcelona', 101.9)]\n"
     ]
    }
   ],
   "source": [
    "# Access two columns using list of names\n",
    "print(city[['Name', 'Area']])"
   ]
  },
  {
   "cell_type": "code",
   "execution_count": 8,
   "metadata": {},
   "outputs": [
    {
     "name": "stdout",
     "output_type": "stream",
     "text": [
      "[('Amsterdam', 'Netherland') ('Paris', 'France') ('Barcelona', 'Spain')]\n"
     ]
    }
   ],
   "source": [
    "print(city[['Name', 'Country']])"
   ]
  },
  {
   "cell_type": "code",
   "execution_count": 9,
   "metadata": {},
   "outputs": [
    {
     "name": "stdout",
     "output_type": "stream",
     "text": [
      "(3,) [('Name', '<U10'), ('Country', '<U10'), ('Area', '<f8')]\n"
     ]
    }
   ],
   "source": [
    "# Print information about the array\n",
    "print(city.shape, city.dtype)\n"
   ]
  },
  {
   "cell_type": "markdown",
   "metadata": {},
   "source": [
    "Note that structured arrays like this one, even though they have rows and columns, \n",
    "are treated as one-dimensional.\n",
    "\n",
    "### Accessing and modifying column names\n",
    "\n",
    "For example:\n"
   ]
  },
  {
   "cell_type": "code",
   "execution_count": 10,
   "metadata": {},
   "outputs": [
    {
     "data": {
      "text/plain": [
       "('Name', 'Country', 'Area')"
      ]
     },
     "execution_count": 10,
     "metadata": {},
     "output_type": "execute_result"
    }
   ],
   "source": [
    "city.dtype.names"
   ]
  },
  {
   "cell_type": "code",
   "execution_count": 10,
   "metadata": {},
   "outputs": [
    {
     "name": "stdout",
     "output_type": "stream",
     "text": [
      "[219.3 105.4 101.9]\n"
     ]
    }
   ],
   "source": [
    "city.dtype.names = ('name', 'country', 'area')\n",
    "print(city['area'])"
   ]
  },
  {
   "cell_type": "markdown",
   "metadata": {},
   "source": [
    "### Loading data into structured arrays\n",
    "\n",
    "Structured arrays are useful for loading and working with tabular data with heterogeneous column types. \n",
    "\n",
    "#### Exercise 2b.1\n",
    "\n",
    "Complete the following code loading the data from file [populations.txt](populations.txt). Load the year column as an `int`, and the other columns as `float`."
   ]
  },
  {
   "cell_type": "code",
   "execution_count": 11,
   "metadata": {},
   "outputs": [
    {
     "name": "stdout",
     "output_type": "stream",
     "text": [
      "[('year', '<i8'), ('hare', '<f8'), ('lynx', '<f8'), ('carrot', '<f8')]\n"
     ]
    }
   ],
   "source": [
    "dtype = [('year', 'int'),\n",
    "         ('hare', 'float'),\n",
    "         ('lynx', 'float'),\n",
    "         ('carrot', 'float')\n",
    "         ] \n",
    "population = numpy.loadtxt(\"populations.txt\", dtype=dtype)\n",
    "print(population.dtype)          "
   ]
  },
  {
   "cell_type": "markdown",
   "metadata": {},
   "source": [
    "An alternative way of loading tabular data using `genfromtxt`:"
   ]
  },
  {
   "cell_type": "code",
   "execution_count": 12,
   "metadata": {},
   "outputs": [
    {
     "name": "stdout",
     "output_type": "stream",
     "text": [
      "[('year', '<i8'), ('hare', '<f8'), ('lynx', '<f8'), ('carrot', '<f8')]\n"
     ]
    }
   ],
   "source": [
    "population = numpy.genfromtxt(\"populations.txt\", \n",
    "                 names=True,\n",
    "                 dtype=['int','float','float','float'])\n",
    "# Access lynx column\n",
    "\n",
    "print(population.dtype)"
   ]
  },
  {
   "cell_type": "markdown",
   "metadata": {},
   "source": [
    "### Record arrays\n",
    "There is a special interface to structured arrays called **record arrays**. For details, see https://docs.scipy.org/doc/numpy-1.10.1/user/basics.rec.html#record-arrays"
   ]
  },
  {
   "cell_type": "markdown",
   "metadata": {},
   "source": [
    "## Array Indexing\n",
    "\n",
    "For complete information  about indexing see\n",
    "http://docs.scipy.org/doc/numpy/user/basics.indexing.html\n",
    "\n",
    "You have already seen how to access content of the array by using an index for each dimension. This method is know as matrix indexing. In addition to matrix indexing, there are other ways to address content in an array\n",
    "\n",
    "- Linear indexing transforms an n-dimensional array to a 1-dimensional list. This linear index is returned when the `argmin` and `argmax` function are applied to an n-dimensional array. "
   ]
  },
  {
   "cell_type": "code",
   "execution_count": 13,
   "metadata": {},
   "outputs": [
    {
     "name": "stdout",
     "output_type": "stream",
     "text": [
      "[[-0.32252209 -0.2561822  -0.92897087 -0.38649477  0.0086288 ]\n",
      " [-0.10093524 -0.5189524  -0.80120803  0.69077116 -0.76688097]\n",
      " [ 0.77499554 -0.9203572   0.86860878 -0.60265111  0.90056517]\n",
      " [ 0.51277599 -0.84229534 -0.6578788  -0.90115018  0.52205574]\n",
      " [-0.51613958 -0.3482256   0.94260673 -0.79140062  0.87327406]]\n"
     ]
    },
    {
     "data": {
      "text/plain": [
       "22"
      ]
     },
     "execution_count": 13,
     "metadata": {},
     "output_type": "execute_result"
    }
   ],
   "source": [
    "a = numpy.random.uniform(-1, 1, (5,5))\n",
    "print(a)\n",
    "# Return the index of the maximum value\n",
    "numpy.argmax(a)"
   ]
  },
  {
   "cell_type": "markdown",
   "metadata": {},
   "source": [
    "- Boolean indexing, which returns all values in the array for which the index is True."
   ]
  },
  {
   "cell_type": "code",
   "execution_count": 14,
   "metadata": {},
   "outputs": [
    {
     "name": "stdout",
     "output_type": "stream",
     "text": [
      "[[ 0.33900728 -0.12634434 -0.58447084 -0.0475261  -0.6094573 ]\n",
      " [-0.77803329  0.23102387 -0.28856129  0.53669853  0.80462074]\n",
      " [-0.84198212  0.83235467 -0.18336376 -0.86666519  0.76082244]\n",
      " [-0.21207512  0.95316642  0.24709058 -0.09692279 -0.30447987]\n",
      " [-0.65369328  0.33479484 -0.68944216  0.89677661 -0.94930611]]\n",
      "[[ True False False False False]\n",
      " [False  True False  True  True]\n",
      " [False  True False False  True]\n",
      " [False  True  True False False]\n",
      " [False  True False  True False]]\n",
      "[0.33900728]\n"
     ]
    }
   ],
   "source": [
    "a = numpy.random.uniform(-1, 1, (5,5))\n",
    "# Create a boolean index for positive numbers in array a\n",
    "print(a)\n",
    "index = a > 0.0\n",
    "print(index)\n",
    "# Return all the positive numbers\n",
    "print(a[:,0][index[:,0]])"
   ]
  },
  {
   "cell_type": "markdown",
   "metadata": {},
   "source": [
    "- Indexing with an array of indices. In this case you specify a separate array in which you store the indices as integers and you will return exactly the elements of the array with these indices. "
   ]
  },
  {
   "cell_type": "code",
   "execution_count": 14,
   "metadata": {},
   "outputs": [
    {
     "name": "stdout",
     "output_type": "stream",
     "text": [
      "[0.         0.11111111 0.22222222 0.33333333 0.44444444 0.55555556\n",
      " 0.66666667 0.77777778 0.88888889 1.        ]\n",
      "[0.22222222 0.33333333 0.55555556 0.77777778]\n"
     ]
    }
   ],
   "source": [
    "b = numpy.linspace(0,1,10)\n",
    "print(b)\n",
    "# Return numbers at prime indices\n",
    "index = numpy.array([ 2, 3, 5, 7])\n",
    "print(b[index])"
   ]
  },
  {
   "cell_type": "markdown",
   "metadata": {},
   "source": [
    "### Linear and matrix indexing\n",
    "\n",
    "Indexing in a 1-dimensional matrix is similar as indexing in a Python list. \n",
    "\n",
    "Indexing in a n-dimensional matrix has one index for every dimension. To access one element of the array, the index of every dimension should be given. When accessing more than one element, the slice syntax `m:n` can be used, and this works similar as it works with lists, but you can use the `m:n` for every dimension. \n",
    "\n",
    "If the index is `[m:n]` then indices that are used are `m` up to but not including `n`.\n",
    "\n",
    "If you have the linear index and you want to convert it to a matrix index, you can use the function `numpy.unravel_index()`.\n",
    "\n",
    "The first argument is the linear index and the second argument is the shape of the array for which you want to transform the index. For example: `numpy.unravel_index(linear_index, (2,3))`. "
   ]
  },
  {
   "cell_type": "code",
   "execution_count": 15,
   "metadata": {},
   "outputs": [
    {
     "name": "stdout",
     "output_type": "stream",
     "text": [
      "[[[ 0  1  2  3]\n",
      "  [ 4  5  6  7]\n",
      "  [ 8  9 10 11]]\n",
      "\n",
      " [[12 13 14 15]\n",
      "  [16 17 18 19]\n",
      "  [20 21 22 23]]]\n"
     ]
    }
   ],
   "source": [
    "# indexing in a 3-dimensional array\n",
    "z = numpy.arange(24).reshape((2, 3, 4))\n",
    "print(z)"
   ]
  },
  {
   "cell_type": "code",
   "execution_count": 16,
   "metadata": {},
   "outputs": [
    {
     "name": "stdout",
     "output_type": "stream",
     "text": [
      "[[ 7 11]\n",
      " [19 23]]\n",
      "[[ 8  9 10 11]\n",
      " [20 21 22 23]]\n"
     ]
    }
   ],
   "source": [
    "# slices\n",
    "print(z[0:2, 1:3, 3])\n",
    "print(z[:, 2, :])"
   ]
  },
  {
   "cell_type": "code",
   "execution_count": 17,
   "metadata": {},
   "outputs": [
    {
     "name": "stdout",
     "output_type": "stream",
     "text": [
      "\n",
      " For a array with dimensions (2, 3, 4), the linear index:  10  is equal to multidimensional index:  (0, 2, 2)\n"
     ]
    }
   ],
   "source": [
    "# linear indexing\n",
    "linear_index = 10\n",
    "print(\"\\n For a array with dimensions (2, 3, 4), the linear index: \", linear_index, \" is equal to \\\n",
    "multidimensional index: \", numpy.unravel_index(linear_index, z.shape))"
   ]
  },
  {
   "cell_type": "markdown",
   "metadata": {},
   "source": [
    "#### Exercise 2b.2\n",
    "\n",
    "Create a $4\\times3$ matrix of random numbers between $0$ and $1$. \n",
    "Find the row and column position of the minimum and the maximum value."
   ]
  },
  {
   "cell_type": "code",
   "execution_count": 18,
   "metadata": {},
   "outputs": [
    {
     "name": "stdout",
     "output_type": "stream",
     "text": [
      "[[0.88801438 0.90712379 0.98572471]\n",
      " [0.75388962 0.84300826 0.713046  ]\n",
      " [0.97436482 0.57709849 0.79893181]\n",
      " [0.07045305 0.74527427 0.26598271]]\n"
     ]
    }
   ],
   "source": [
    "A = numpy.random.uniform(0, 1, (4, 3))\n",
    "print(A)"
   ]
  },
  {
   "cell_type": "code",
   "execution_count": 19,
   "metadata": {},
   "outputs": [
    {
     "name": "stdout",
     "output_type": "stream",
     "text": [
      "Largest value is at linear position 2\n",
      "Which is row 0 column 2\n"
     ]
    }
   ],
   "source": [
    "largest = numpy.argmax(A)\n",
    "smallest = numpy.argmin(A)\n",
    "print(\"Largest value is at linear position {}\".format(largest))\n",
    "row, col = numpy.unravel_index(largest, A.shape)\n",
    "print(\"Which is row {} column {}\".format(row, col))\n"
   ]
  },
  {
   "cell_type": "markdown",
   "metadata": {},
   "source": [
    "#### Exercise 2b.3 \n",
    "\n",
    "Complete the following code to print years with the smallest number of hares, lynxes and carrots in the \n",
    "populations dataset."
   ]
  },
  {
   "cell_type": "code",
   "execution_count": 20,
   "metadata": {},
   "outputs": [
    {
     "name": "stdout",
     "output_type": "stream",
     "text": [
      "Least # of carrot in year 1916\n",
      "Least # of hare in year 1917\n",
      "Least # of lynx in year 1900\n"
     ]
    }
   ],
   "source": [
    "for species in ['carrot', 'hare', 'lynx']:\n",
    "    year = population['year'][ population[species].argmin() ]\n",
    "    print(\"Least # of {} in year {}\".format(species, year))"
   ]
  },
  {
   "cell_type": "code",
   "execution_count": 20,
   "metadata": {},
   "outputs": [],
   "source": [
    "for species in ['year', 'hare', 'lynx']:\n",
    "    year = population['year'][population[species].argmin()]"
   ]
  },
  {
   "cell_type": "markdown",
   "metadata": {},
   "source": [
    "### Boolean indexing\n",
    "\n",
    "A boolean index can be created directly, but most often it is built by specifying a certain condition.\n",
    "\n",
    "The condition will return a `True` or `False` for every position in the array and when the condition is True then the corresponding element will be retrieved."
   ]
  },
  {
   "cell_type": "code",
   "execution_count": 21,
   "metadata": {},
   "outputs": [
    {
     "name": "stdout",
     "output_type": "stream",
     "text": [
      "Only elements of x for which the value in y is True:  [1 3 5]\n",
      "Only elements of x for which the condition is True:  [4 5]\n"
     ]
    }
   ],
   "source": [
    "# Boolean indexing\n",
    "x = numpy.arange(1, 6)\n",
    "y = numpy.array([True, False, True, False, True ])\n",
    "print(\"Only elements of x for which the value in y is True: \", x[y])\n",
    "\n",
    "# boolean indexing by using a condition\n",
    "print(\"Only elements of x for which the condition is True: \", x[x>3])"
   ]
  },
  {
   "cell_type": "markdown",
   "metadata": {},
   "source": [
    "#### Exercise 2b.4\n",
    "Use the population data to\n",
    "\n",
    "1. Select all the years in which there are more than 50000 lynxes;\n",
    "2. Select all the years in which there are more lynxes than hares."
   ]
  },
  {
   "cell_type": "code",
   "execution_count": 22,
   "metadata": {},
   "outputs": [
    {
     "name": "stdout",
     "output_type": "stream",
     "text": [
      "[1904 1915]\n",
      "\n",
      "[1904 1905 1906 1915 1916 1917]\n"
     ]
    }
   ],
   "source": [
    "# 1.\n",
    "index = population['lynx'] > 50000\n",
    "years = population['year'][index]\n",
    "print(years)\n",
    "print()\n",
    "\n",
    "#2.\n",
    "index = population['lynx'] > population['hare']\n",
    "years = population['year'][index]\n",
    "print(years)"
   ]
  },
  {
   "cell_type": "markdown",
   "metadata": {},
   "source": [
    "### Indexing with an array of indices\n",
    "\n",
    "In this case you specify a separate array in which you store the indices as integers and you will return exactly the elements of the array with these indices.\n",
    "\n",
    "One advantage of this is that you can explicitly specify the order in which you want to have the values and you can return multiple times the value at a certain position. "
   ]
  },
  {
   "cell_type": "code",
   "execution_count": 23,
   "metadata": {},
   "outputs": [
    {
     "name": "stdout",
     "output_type": "stream",
     "text": [
      "Array x:  [100 101 102 103 104 105 106 107 108 109 110]\n",
      "Array with indices:  [8 3 8 4 9 3]\n",
      "Indexing with an array of indices will give: [108 103 108 104 109 103]\n"
     ]
    }
   ],
   "source": [
    "x = numpy.arange(100, 111)\n",
    "y = numpy.array([8, 3, 8, 4, 9, 3])\n",
    "print(\"Array x: \", x)\n",
    "print(\"Array with indices: \", y)\n",
    "print(\"Indexing with an array of indices will give:\", x[y])"
   ]
  },
  {
   "cell_type": "markdown",
   "metadata": {},
   "source": [
    "#### Exercise 2b.5\n",
    "\n",
    "Indexing with an array is often useful when we want to randomize the order of items in some data. Complete the following code which creates a scrambled version of the population data"
   ]
  },
  {
   "cell_type": "code",
   "execution_count": 23,
   "metadata": {},
   "outputs": [
    {
     "name": "stdout",
     "output_type": "stream",
     "text": [
      "[1900 1901 1902 1903 1904 1905 1906 1907 1908 1909 1910 1911 1912 1913\n",
      " 1914 1915 1916 1917 1918 1919 1920]\n",
      "[1916 1901 1910 1906 1912 1917 1914 1907 1920 1904 1915 1913 1908 1909\n",
      " 1900 1919 1905 1903 1918 1911 1902]\n"
     ]
    }
   ],
   "source": [
    "# Create an index for the rows of population (from 0 to population.shape[0])\n",
    "index = numpy.arange(0, population.shape[0])\n",
    "#print(index)\n",
    "# Shuffle the index\n",
    "numpy.random.shuffle(index)\n",
    "#print(index)\n",
    "# Create a scrambled version\n",
    "population_rand = population[index]\n",
    "print(population['year'])\n",
    "print(population_rand['year'])"
   ]
  },
  {
   "cell_type": "markdown",
   "metadata": {},
   "source": [
    "## Vector stacking\n",
    "\n",
    "Sometimes you want to combine two or more vectors to create an array. This is called vector stacking. Vector stacking can be done in two different ways horizontal and vertical. \n",
    "- horizontal stack: `numpy.hstack([x, y, z])`\n",
    "- vertical stack: `numpy.vstack([x, y, z])`"
   ]
  },
  {
   "cell_type": "code",
   "execution_count": 24,
   "metadata": {},
   "outputs": [
    {
     "name": "stdout",
     "output_type": "stream",
     "text": [
      "Horizontal stack:  [ 0  1  2  3  4  5  6  7  8  9 10 11 12 13 14]\n",
      "Vertical stack: \n",
      "[[ 0  1  2  3  4]\n",
      " [ 5  6  7  8  9]\n",
      " [10 11 12 13 14]]\n"
     ]
    }
   ],
   "source": [
    "x = numpy.arange(0, 5)                     \n",
    "y = numpy.arange(5, 10)   \n",
    "z = numpy.arange(10, 15)\n",
    "print(\"Horizontal stack: \",  numpy.hstack([x,y, z]) )\n",
    "print(\"Vertical stack: \")\n",
    "print( numpy.vstack([x,y, z]))"
   ]
  },
  {
   "cell_type": "markdown",
   "metadata": {},
   "source": [
    "### Save data set to file\n",
    "\n",
    "To save an array from numpy as a separate file you specify the filename and the array you want to save. Use the following functions:\n",
    "- `numpy.savetxt(filename, array)` : save an array to a text file. Some optional arguments are: delimiter=' ', newline = '\\n', header = ' '. http://docs.scipy.org/doc/numpy-1.10.0/reference/generated/numpy.savetxt.html#numpy.savetxt\n",
    "- `numpy.save(filename, array)` : save an array to a binary file in numpy `.npy` format. http://docs.scipy.org/doc/numpy-1.10.0/reference/generated/numpy.save.html#numpy.save\n"
   ]
  },
  {
   "cell_type": "markdown",
   "metadata": {},
   "source": [
    "#### Exercise 2b.6 \n",
    "\n",
    "Save the population data to a `.npy` file. Figure out how to load it back into a numpy array."
   ]
  },
  {
   "cell_type": "code",
   "execution_count": 25,
   "metadata": {},
   "outputs": [
    {
     "name": "stdout",
     "output_type": "stream",
     "text": [
      "[ 4000.  6100.  9800. 35200. 59400. 41700. 19000. 13000.  8300.  9100.\n",
      "  7400.  8000. 12300. 19500. 45700. 51100. 29700. 15800.  9700. 10100.\n",
      "  8600.]\n"
     ]
    }
   ],
   "source": [
    "numpy.save(\"population.npy\", population)\n",
    "zzz = numpy.load(\"population.npy\")\n",
    "print(zzz['lynx'])"
   ]
  },
  {
   "cell_type": "markdown",
   "metadata": {},
   "source": [
    "#### Exercise 2b.7\n",
    "The files\n",
    "\n",
    "- [irisa.txt](irisa.txt)\n",
    "- [irisb.txt](irisb.txt)\n",
    "- [irisc.txt](irisc.txt)\n",
    "\n",
    "contain the data for the iris dataset. Each file has these columns:\n",
    "\n",
    "- `SepalLength` \n",
    "- `SepalWidth`\n",
    "- `PetalLength` \n",
    "- `PetalWidth` \n",
    "- `Species`\n",
    "\n",
    "Load this data, and create a single array with all the species."
   ]
  },
  {
   "cell_type": "code",
   "execution_count": 31,
   "metadata": {},
   "outputs": [],
   "source": [
    "import numpy as np\n",
    "dtype=[(\"SepalLength\", 'float64'),(\"SepalWidth\", 'float64'),(\"PetalLength\", 'float64'),(\"PetalWidth\", 'float64'),(\"Species\", 'U10')]\n",
    "iris = np.vstack([np.loadtxt(\"irisa.txt\", dtype=dtype), np.loadtxt(\"irisb.txt\",dtype=dtype), np.loadtxt(\"irisc.txt\", dtype=dtype)])"
   ]
  },
  {
   "cell_type": "code",
   "execution_count": 32,
   "metadata": {},
   "outputs": [
    {
     "data": {
      "text/plain": [
       "array([[(5.1, 3.5, 1.4, 0.2, 'setosa'), (4.9, 3. , 1.4, 0.2, 'setosa'),\n",
       "        (4.7, 3.2, 1.3, 0.2, 'setosa'), (4.6, 3.1, 1.5, 0.2, 'setosa'),\n",
       "        (5. , 3.6, 1.4, 0.2, 'setosa'), (5.4, 3.9, 1.7, 0.4, 'setosa'),\n",
       "        (4.6, 3.4, 1.4, 0.3, 'setosa'), (5. , 3.4, 1.5, 0.2, 'setosa'),\n",
       "        (4.4, 2.9, 1.4, 0.2, 'setosa'), (4.9, 3.1, 1.5, 0.1, 'setosa'),\n",
       "        (5.4, 3.7, 1.5, 0.2, 'setosa'), (4.8, 3.4, 1.6, 0.2, 'setosa'),\n",
       "        (4.8, 3. , 1.4, 0.1, 'setosa'), (4.3, 3. , 1.1, 0.1, 'setosa'),\n",
       "        (5.8, 4. , 1.2, 0.2, 'setosa'), (5.7, 4.4, 1.5, 0.4, 'setosa'),\n",
       "        (5.4, 3.9, 1.3, 0.4, 'setosa'), (5.1, 3.5, 1.4, 0.3, 'setosa'),\n",
       "        (5.7, 3.8, 1.7, 0.3, 'setosa'), (5.1, 3.8, 1.5, 0.3, 'setosa'),\n",
       "        (5.4, 3.4, 1.7, 0.2, 'setosa'), (5.1, 3.7, 1.5, 0.4, 'setosa'),\n",
       "        (4.6, 3.6, 1. , 0.2, 'setosa'), (5.1, 3.3, 1.7, 0.5, 'setosa'),\n",
       "        (4.8, 3.4, 1.9, 0.2, 'setosa'), (5. , 3. , 1.6, 0.2, 'setosa'),\n",
       "        (5. , 3.4, 1.6, 0.4, 'setosa'), (5.2, 3.5, 1.5, 0.2, 'setosa'),\n",
       "        (5.2, 3.4, 1.4, 0.2, 'setosa'), (4.7, 3.2, 1.6, 0.2, 'setosa'),\n",
       "        (4.8, 3.1, 1.6, 0.2, 'setosa'), (5.4, 3.4, 1.5, 0.4, 'setosa'),\n",
       "        (5.2, 4.1, 1.5, 0.1, 'setosa'), (5.5, 4.2, 1.4, 0.2, 'setosa'),\n",
       "        (4.9, 3.1, 1.5, 0.2, 'setosa'), (5. , 3.2, 1.2, 0.2, 'setosa'),\n",
       "        (5.5, 3.5, 1.3, 0.2, 'setosa'), (4.9, 3.6, 1.4, 0.1, 'setosa'),\n",
       "        (4.4, 3. , 1.3, 0.2, 'setosa'), (5.1, 3.4, 1.5, 0.2, 'setosa'),\n",
       "        (5. , 3.5, 1.3, 0.3, 'setosa'), (4.5, 2.3, 1.3, 0.3, 'setosa'),\n",
       "        (4.4, 3.2, 1.3, 0.2, 'setosa'), (5. , 3.5, 1.6, 0.6, 'setosa'),\n",
       "        (5.1, 3.8, 1.9, 0.4, 'setosa'), (4.8, 3. , 1.4, 0.3, 'setosa'),\n",
       "        (5.1, 3.8, 1.6, 0.2, 'setosa'), (4.6, 3.2, 1.4, 0.2, 'setosa'),\n",
       "        (5.3, 3.7, 1.5, 0.2, 'setosa'), (5. , 3.3, 1.4, 0.2, 'setosa')],\n",
       "       [(7. , 3.2, 4.7, 1.4, 'versicolor'),\n",
       "        (6.4, 3.2, 4.5, 1.5, 'versicolor'),\n",
       "        (6.9, 3.1, 4.9, 1.5, 'versicolor'),\n",
       "        (5.5, 2.3, 4. , 1.3, 'versicolor'),\n",
       "        (6.5, 2.8, 4.6, 1.5, 'versicolor'),\n",
       "        (5.7, 2.8, 4.5, 1.3, 'versicolor'),\n",
       "        (6.3, 3.3, 4.7, 1.6, 'versicolor'),\n",
       "        (4.9, 2.4, 3.3, 1. , 'versicolor'),\n",
       "        (6.6, 2.9, 4.6, 1.3, 'versicolor'),\n",
       "        (5.2, 2.7, 3.9, 1.4, 'versicolor'),\n",
       "        (5. , 2. , 3.5, 1. , 'versicolor'),\n",
       "        (5.9, 3. , 4.2, 1.5, 'versicolor'),\n",
       "        (6. , 2.2, 4. , 1. , 'versicolor'),\n",
       "        (6.1, 2.9, 4.7, 1.4, 'versicolor'),\n",
       "        (5.6, 2.9, 3.6, 1.3, 'versicolor'),\n",
       "        (6.7, 3.1, 4.4, 1.4, 'versicolor'),\n",
       "        (5.6, 3. , 4.5, 1.5, 'versicolor'),\n",
       "        (5.8, 2.7, 4.1, 1. , 'versicolor'),\n",
       "        (6.2, 2.2, 4.5, 1.5, 'versicolor'),\n",
       "        (5.6, 2.5, 3.9, 1.1, 'versicolor'),\n",
       "        (5.9, 3.2, 4.8, 1.8, 'versicolor'),\n",
       "        (6.1, 2.8, 4. , 1.3, 'versicolor'),\n",
       "        (6.3, 2.5, 4.9, 1.5, 'versicolor'),\n",
       "        (6.1, 2.8, 4.7, 1.2, 'versicolor'),\n",
       "        (6.4, 2.9, 4.3, 1.3, 'versicolor'),\n",
       "        (6.6, 3. , 4.4, 1.4, 'versicolor'),\n",
       "        (6.8, 2.8, 4.8, 1.4, 'versicolor'),\n",
       "        (6.7, 3. , 5. , 1.7, 'versicolor'),\n",
       "        (6. , 2.9, 4.5, 1.5, 'versicolor'),\n",
       "        (5.7, 2.6, 3.5, 1. , 'versicolor'),\n",
       "        (5.5, 2.4, 3.8, 1.1, 'versicolor'),\n",
       "        (5.5, 2.4, 3.7, 1. , 'versicolor'),\n",
       "        (5.8, 2.7, 3.9, 1.2, 'versicolor'),\n",
       "        (6. , 2.7, 5.1, 1.6, 'versicolor'),\n",
       "        (5.4, 3. , 4.5, 1.5, 'versicolor'),\n",
       "        (6. , 3.4, 4.5, 1.6, 'versicolor'),\n",
       "        (6.7, 3.1, 4.7, 1.5, 'versicolor'),\n",
       "        (6.3, 2.3, 4.4, 1.3, 'versicolor'),\n",
       "        (5.6, 3. , 4.1, 1.3, 'versicolor'),\n",
       "        (5.5, 2.5, 4. , 1.3, 'versicolor'),\n",
       "        (5.5, 2.6, 4.4, 1.2, 'versicolor'),\n",
       "        (6.1, 3. , 4.6, 1.4, 'versicolor'),\n",
       "        (5.8, 2.6, 4. , 1.2, 'versicolor'),\n",
       "        (5. , 2.3, 3.3, 1. , 'versicolor'),\n",
       "        (5.6, 2.7, 4.2, 1.3, 'versicolor'),\n",
       "        (5.7, 3. , 4.2, 1.2, 'versicolor'),\n",
       "        (5.7, 2.9, 4.2, 1.3, 'versicolor'),\n",
       "        (6.2, 2.9, 4.3, 1.3, 'versicolor'),\n",
       "        (5.1, 2.5, 3. , 1.1, 'versicolor'),\n",
       "        (5.7, 2.8, 4.1, 1.3, 'versicolor')],\n",
       "       [(6.3, 3.3, 6. , 2.5, 'virginica'),\n",
       "        (5.8, 2.7, 5.1, 1.9, 'virginica'),\n",
       "        (7.1, 3. , 5.9, 2.1, 'virginica'),\n",
       "        (6.3, 2.9, 5.6, 1.8, 'virginica'),\n",
       "        (6.5, 3. , 5.8, 2.2, 'virginica'),\n",
       "        (7.6, 3. , 6.6, 2.1, 'virginica'),\n",
       "        (4.9, 2.5, 4.5, 1.7, 'virginica'),\n",
       "        (7.3, 2.9, 6.3, 1.8, 'virginica'),\n",
       "        (6.7, 2.5, 5.8, 1.8, 'virginica'),\n",
       "        (7.2, 3.6, 6.1, 2.5, 'virginica'),\n",
       "        (6.5, 3.2, 5.1, 2. , 'virginica'),\n",
       "        (6.4, 2.7, 5.3, 1.9, 'virginica'),\n",
       "        (6.8, 3. , 5.5, 2.1, 'virginica'),\n",
       "        (5.7, 2.5, 5. , 2. , 'virginica'),\n",
       "        (5.8, 2.8, 5.1, 2.4, 'virginica'),\n",
       "        (6.4, 3.2, 5.3, 2.3, 'virginica'),\n",
       "        (6.5, 3. , 5.5, 1.8, 'virginica'),\n",
       "        (7.7, 3.8, 6.7, 2.2, 'virginica'),\n",
       "        (7.7, 2.6, 6.9, 2.3, 'virginica'),\n",
       "        (6. , 2.2, 5. , 1.5, 'virginica'),\n",
       "        (6.9, 3.2, 5.7, 2.3, 'virginica'),\n",
       "        (5.6, 2.8, 4.9, 2. , 'virginica'),\n",
       "        (7.7, 2.8, 6.7, 2. , 'virginica'),\n",
       "        (6.3, 2.7, 4.9, 1.8, 'virginica'),\n",
       "        (6.7, 3.3, 5.7, 2.1, 'virginica'),\n",
       "        (7.2, 3.2, 6. , 1.8, 'virginica'),\n",
       "        (6.2, 2.8, 4.8, 1.8, 'virginica'),\n",
       "        (6.1, 3. , 4.9, 1.8, 'virginica'),\n",
       "        (6.4, 2.8, 5.6, 2.1, 'virginica'),\n",
       "        (7.2, 3. , 5.8, 1.6, 'virginica'),\n",
       "        (7.4, 2.8, 6.1, 1.9, 'virginica'),\n",
       "        (7.9, 3.8, 6.4, 2. , 'virginica'),\n",
       "        (6.4, 2.8, 5.6, 2.2, 'virginica'),\n",
       "        (6.3, 2.8, 5.1, 1.5, 'virginica'),\n",
       "        (6.1, 2.6, 5.6, 1.4, 'virginica'),\n",
       "        (7.7, 3. , 6.1, 2.3, 'virginica'),\n",
       "        (6.3, 3.4, 5.6, 2.4, 'virginica'),\n",
       "        (6.4, 3.1, 5.5, 1.8, 'virginica'),\n",
       "        (6. , 3. , 4.8, 1.8, 'virginica'),\n",
       "        (6.9, 3.1, 5.4, 2.1, 'virginica'),\n",
       "        (6.7, 3.1, 5.6, 2.4, 'virginica'),\n",
       "        (6.9, 3.1, 5.1, 2.3, 'virginica'),\n",
       "        (5.8, 2.7, 5.1, 1.9, 'virginica'),\n",
       "        (6.8, 3.2, 5.9, 2.3, 'virginica'),\n",
       "        (6.7, 3.3, 5.7, 2.5, 'virginica'),\n",
       "        (6.7, 3. , 5.2, 2.3, 'virginica'),\n",
       "        (6.3, 2.5, 5. , 1.9, 'virginica'),\n",
       "        (6.5, 3. , 5.2, 2. , 'virginica'),\n",
       "        (6.2, 3.4, 5.4, 2.3, 'virginica'),\n",
       "        (5.9, 3. , 5.1, 1.8, 'virginica')]],\n",
       "      dtype=[('SepalLength', '<f8'), ('SepalWidth', '<f8'), ('PetalLength', '<f8'), ('PetalWidth', '<f8'), ('Species', '<U10')])"
      ]
     },
     "execution_count": 32,
     "metadata": {},
     "output_type": "execute_result"
    }
   ],
   "source": [
    "iris"
   ]
  },
  {
   "cell_type": "code",
   "execution_count": 33,
   "metadata": {},
   "outputs": [
    {
     "data": {
      "text/plain": [
       "2"
      ]
     },
     "execution_count": 33,
     "metadata": {},
     "output_type": "execute_result"
    }
   ],
   "source": [
    "iris.ndim"
   ]
  },
  {
   "cell_type": "code",
   "execution_count": 34,
   "metadata": {},
   "outputs": [
    {
     "data": {
      "text/plain": [
       "(3, 50)"
      ]
     },
     "execution_count": 34,
     "metadata": {},
     "output_type": "execute_result"
    }
   ],
   "source": [
    "iris.shape"
   ]
  },
  {
   "cell_type": "code",
   "execution_count": 37,
   "metadata": {},
   "outputs": [
    {
     "data": {
      "text/plain": [
       "150"
      ]
     },
     "execution_count": 37,
     "metadata": {},
     "output_type": "execute_result"
    }
   ],
   "source": [
    "iris.size"
   ]
  },
  {
   "cell_type": "code",
   "execution_count": 41,
   "metadata": {},
   "outputs": [
    {
     "data": {
      "text/plain": [
       "array([[(5.1, 3.5, 1.4, 0.2, 'setosa'), (4.9, 3. , 1.4, 0.2, 'setosa'),\n",
       "        (4.7, 3.2, 1.3, 0.2, 'setosa'), (4.6, 3.1, 1.5, 0.2, 'setosa'),\n",
       "        (5. , 3.6, 1.4, 0.2, 'setosa'), (5.4, 3.9, 1.7, 0.4, 'setosa'),\n",
       "        (4.6, 3.4, 1.4, 0.3, 'setosa'), (5. , 3.4, 1.5, 0.2, 'setosa'),\n",
       "        (4.4, 2.9, 1.4, 0.2, 'setosa'), (4.9, 3.1, 1.5, 0.1, 'setosa'),\n",
       "        (5.4, 3.7, 1.5, 0.2, 'setosa'), (4.8, 3.4, 1.6, 0.2, 'setosa'),\n",
       "        (4.8, 3. , 1.4, 0.1, 'setosa'), (4.3, 3. , 1.1, 0.1, 'setosa'),\n",
       "        (5.8, 4. , 1.2, 0.2, 'setosa'), (5.7, 4.4, 1.5, 0.4, 'setosa'),\n",
       "        (5.4, 3.9, 1.3, 0.4, 'setosa'), (5.1, 3.5, 1.4, 0.3, 'setosa'),\n",
       "        (5.7, 3.8, 1.7, 0.3, 'setosa'), (5.1, 3.8, 1.5, 0.3, 'setosa'),\n",
       "        (5.4, 3.4, 1.7, 0.2, 'setosa'), (5.1, 3.7, 1.5, 0.4, 'setosa'),\n",
       "        (4.6, 3.6, 1. , 0.2, 'setosa'), (5.1, 3.3, 1.7, 0.5, 'setosa'),\n",
       "        (4.8, 3.4, 1.9, 0.2, 'setosa'), (5. , 3. , 1.6, 0.2, 'setosa'),\n",
       "        (5. , 3.4, 1.6, 0.4, 'setosa'), (5.2, 3.5, 1.5, 0.2, 'setosa'),\n",
       "        (5.2, 3.4, 1.4, 0.2, 'setosa'), (4.7, 3.2, 1.6, 0.2, 'setosa'),\n",
       "        (4.8, 3.1, 1.6, 0.2, 'setosa'), (5.4, 3.4, 1.5, 0.4, 'setosa'),\n",
       "        (5.2, 4.1, 1.5, 0.1, 'setosa'), (5.5, 4.2, 1.4, 0.2, 'setosa'),\n",
       "        (4.9, 3.1, 1.5, 0.2, 'setosa'), (5. , 3.2, 1.2, 0.2, 'setosa'),\n",
       "        (5.5, 3.5, 1.3, 0.2, 'setosa'), (4.9, 3.6, 1.4, 0.1, 'setosa'),\n",
       "        (4.4, 3. , 1.3, 0.2, 'setosa'), (5.1, 3.4, 1.5, 0.2, 'setosa'),\n",
       "        (5. , 3.5, 1.3, 0.3, 'setosa'), (4.5, 2.3, 1.3, 0.3, 'setosa'),\n",
       "        (4.4, 3.2, 1.3, 0.2, 'setosa'), (5. , 3.5, 1.6, 0.6, 'setosa'),\n",
       "        (5.1, 3.8, 1.9, 0.4, 'setosa'), (4.8, 3. , 1.4, 0.3, 'setosa'),\n",
       "        (5.1, 3.8, 1.6, 0.2, 'setosa'), (4.6, 3.2, 1.4, 0.2, 'setosa'),\n",
       "        (5.3, 3.7, 1.5, 0.2, 'setosa'), (5. , 3.3, 1.4, 0.2, 'setosa')],\n",
       "       [(7. , 3.2, 4.7, 1.4, 'versicolor'),\n",
       "        (6.4, 3.2, 4.5, 1.5, 'versicolor'),\n",
       "        (6.9, 3.1, 4.9, 1.5, 'versicolor'),\n",
       "        (5.5, 2.3, 4. , 1.3, 'versicolor'),\n",
       "        (6.5, 2.8, 4.6, 1.5, 'versicolor'),\n",
       "        (5.7, 2.8, 4.5, 1.3, 'versicolor'),\n",
       "        (6.3, 3.3, 4.7, 1.6, 'versicolor'),\n",
       "        (4.9, 2.4, 3.3, 1. , 'versicolor'),\n",
       "        (6.6, 2.9, 4.6, 1.3, 'versicolor'),\n",
       "        (5.2, 2.7, 3.9, 1.4, 'versicolor'),\n",
       "        (5. , 2. , 3.5, 1. , 'versicolor'),\n",
       "        (5.9, 3. , 4.2, 1.5, 'versicolor'),\n",
       "        (6. , 2.2, 4. , 1. , 'versicolor'),\n",
       "        (6.1, 2.9, 4.7, 1.4, 'versicolor'),\n",
       "        (5.6, 2.9, 3.6, 1.3, 'versicolor'),\n",
       "        (6.7, 3.1, 4.4, 1.4, 'versicolor'),\n",
       "        (5.6, 3. , 4.5, 1.5, 'versicolor'),\n",
       "        (5.8, 2.7, 4.1, 1. , 'versicolor'),\n",
       "        (6.2, 2.2, 4.5, 1.5, 'versicolor'),\n",
       "        (5.6, 2.5, 3.9, 1.1, 'versicolor'),\n",
       "        (5.9, 3.2, 4.8, 1.8, 'versicolor'),\n",
       "        (6.1, 2.8, 4. , 1.3, 'versicolor'),\n",
       "        (6.3, 2.5, 4.9, 1.5, 'versicolor'),\n",
       "        (6.1, 2.8, 4.7, 1.2, 'versicolor'),\n",
       "        (6.4, 2.9, 4.3, 1.3, 'versicolor'),\n",
       "        (6.6, 3. , 4.4, 1.4, 'versicolor'),\n",
       "        (6.8, 2.8, 4.8, 1.4, 'versicolor'),\n",
       "        (6.7, 3. , 5. , 1.7, 'versicolor'),\n",
       "        (6. , 2.9, 4.5, 1.5, 'versicolor'),\n",
       "        (5.7, 2.6, 3.5, 1. , 'versicolor'),\n",
       "        (5.5, 2.4, 3.8, 1.1, 'versicolor'),\n",
       "        (5.5, 2.4, 3.7, 1. , 'versicolor'),\n",
       "        (5.8, 2.7, 3.9, 1.2, 'versicolor'),\n",
       "        (6. , 2.7, 5.1, 1.6, 'versicolor'),\n",
       "        (5.4, 3. , 4.5, 1.5, 'versicolor'),\n",
       "        (6. , 3.4, 4.5, 1.6, 'versicolor'),\n",
       "        (6.7, 3.1, 4.7, 1.5, 'versicolor'),\n",
       "        (6.3, 2.3, 4.4, 1.3, 'versicolor'),\n",
       "        (5.6, 3. , 4.1, 1.3, 'versicolor'),\n",
       "        (5.5, 2.5, 4. , 1.3, 'versicolor'),\n",
       "        (5.5, 2.6, 4.4, 1.2, 'versicolor'),\n",
       "        (6.1, 3. , 4.6, 1.4, 'versicolor'),\n",
       "        (5.8, 2.6, 4. , 1.2, 'versicolor'),\n",
       "        (5. , 2.3, 3.3, 1. , 'versicolor'),\n",
       "        (5.6, 2.7, 4.2, 1.3, 'versicolor'),\n",
       "        (5.7, 3. , 4.2, 1.2, 'versicolor'),\n",
       "        (5.7, 2.9, 4.2, 1.3, 'versicolor'),\n",
       "        (6.2, 2.9, 4.3, 1.3, 'versicolor'),\n",
       "        (5.1, 2.5, 3. , 1.1, 'versicolor'),\n",
       "        (5.7, 2.8, 4.1, 1.3, 'versicolor')],\n",
       "       [(6.3, 3.3, 6. , 2.5, 'virginica'),\n",
       "        (5.8, 2.7, 5.1, 1.9, 'virginica'),\n",
       "        (7.1, 3. , 5.9, 2.1, 'virginica'),\n",
       "        (6.3, 2.9, 5.6, 1.8, 'virginica'),\n",
       "        (6.5, 3. , 5.8, 2.2, 'virginica'),\n",
       "        (7.6, 3. , 6.6, 2.1, 'virginica'),\n",
       "        (4.9, 2.5, 4.5, 1.7, 'virginica'),\n",
       "        (7.3, 2.9, 6.3, 1.8, 'virginica'),\n",
       "        (6.7, 2.5, 5.8, 1.8, 'virginica'),\n",
       "        (7.2, 3.6, 6.1, 2.5, 'virginica'),\n",
       "        (6.5, 3.2, 5.1, 2. , 'virginica'),\n",
       "        (6.4, 2.7, 5.3, 1.9, 'virginica'),\n",
       "        (6.8, 3. , 5.5, 2.1, 'virginica'),\n",
       "        (5.7, 2.5, 5. , 2. , 'virginica'),\n",
       "        (5.8, 2.8, 5.1, 2.4, 'virginica'),\n",
       "        (6.4, 3.2, 5.3, 2.3, 'virginica'),\n",
       "        (6.5, 3. , 5.5, 1.8, 'virginica'),\n",
       "        (7.7, 3.8, 6.7, 2.2, 'virginica'),\n",
       "        (7.7, 2.6, 6.9, 2.3, 'virginica'),\n",
       "        (6. , 2.2, 5. , 1.5, 'virginica'),\n",
       "        (6.9, 3.2, 5.7, 2.3, 'virginica'),\n",
       "        (5.6, 2.8, 4.9, 2. , 'virginica'),\n",
       "        (7.7, 2.8, 6.7, 2. , 'virginica'),\n",
       "        (6.3, 2.7, 4.9, 1.8, 'virginica'),\n",
       "        (6.7, 3.3, 5.7, 2.1, 'virginica'),\n",
       "        (7.2, 3.2, 6. , 1.8, 'virginica'),\n",
       "        (6.2, 2.8, 4.8, 1.8, 'virginica'),\n",
       "        (6.1, 3. , 4.9, 1.8, 'virginica'),\n",
       "        (6.4, 2.8, 5.6, 2.1, 'virginica'),\n",
       "        (7.2, 3. , 5.8, 1.6, 'virginica'),\n",
       "        (7.4, 2.8, 6.1, 1.9, 'virginica'),\n",
       "        (7.9, 3.8, 6.4, 2. , 'virginica'),\n",
       "        (6.4, 2.8, 5.6, 2.2, 'virginica'),\n",
       "        (6.3, 2.8, 5.1, 1.5, 'virginica'),\n",
       "        (6.1, 2.6, 5.6, 1.4, 'virginica'),\n",
       "        (7.7, 3. , 6.1, 2.3, 'virginica'),\n",
       "        (6.3, 3.4, 5.6, 2.4, 'virginica'),\n",
       "        (6.4, 3.1, 5.5, 1.8, 'virginica'),\n",
       "        (6. , 3. , 4.8, 1.8, 'virginica'),\n",
       "        (6.9, 3.1, 5.4, 2.1, 'virginica'),\n",
       "        (6.7, 3.1, 5.6, 2.4, 'virginica'),\n",
       "        (6.9, 3.1, 5.1, 2.3, 'virginica'),\n",
       "        (5.8, 2.7, 5.1, 1.9, 'virginica'),\n",
       "        (6.8, 3.2, 5.9, 2.3, 'virginica'),\n",
       "        (6.7, 3.3, 5.7, 2.5, 'virginica'),\n",
       "        (6.7, 3. , 5.2, 2.3, 'virginica'),\n",
       "        (6.3, 2.5, 5. , 1.9, 'virginica'),\n",
       "        (6.5, 3. , 5.2, 2. , 'virginica'),\n",
       "        (6.2, 3.4, 5.4, 2.3, 'virginica'),\n",
       "        (5.9, 3. , 5.1, 1.8, 'virginica')]],\n",
       "      dtype=[('SepalLength', '<f8'), ('SepalWidth', '<f8'), ('PetalLength', '<f8'), ('PetalWidth', '<f8'), ('Species', '<U10')])"
      ]
     },
     "execution_count": 41,
     "metadata": {},
     "output_type": "execute_result"
    }
   ],
   "source": [
    "iris[:5,]"
   ]
  },
  {
   "cell_type": "code",
   "execution_count": null,
   "metadata": {},
   "outputs": [],
   "source": []
  }
 ],
 "metadata": {
  "kernelspec": {
   "display_name": "Python 3",
   "language": "python",
   "name": "python3"
  },
  "language_info": {
   "codemirror_mode": {
    "name": "ipython",
    "version": 3
   },
   "file_extension": ".py",
   "mimetype": "text/x-python",
   "name": "python",
   "nbconvert_exporter": "python",
   "pygments_lexer": "ipython3",
   "version": "3.6.4"
  },
  "toc": {
   "base_numbering": 1,
   "nav_menu": {},
   "number_sections": true,
   "sideBar": true,
   "skip_h1_title": false,
   "title_cell": "Table of Contents",
   "title_sidebar": "Contents",
   "toc_cell": false,
   "toc_position": {},
   "toc_section_display": true,
   "toc_window_display": false
  }
 },
 "nbformat": 4,
 "nbformat_minor": 1
}
