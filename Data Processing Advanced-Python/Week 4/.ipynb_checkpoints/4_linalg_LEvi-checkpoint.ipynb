{
 "cells": [
  {
   "cell_type": "markdown",
   "metadata": {},
   "source": [
    "# 4. Linear algebra operations"
   ]
  },
  {
   "cell_type": "code",
   "execution_count": 1,
   "metadata": {},
   "outputs": [],
   "source": [
    "import numpy"
   ]
  },
  {
   "cell_type": "markdown",
   "metadata": {},
   "source": [
    "## Basic operations\n",
    "\n",
    "Linear algebra is a branch of mathematics dealing with vector spaces. Linear algebra operations such as transposes, dot products, matrix multiplications and others are often very useful when manipulating numeric datasets. Using these operations often allows us to avoid writing explicit loops, and thus make our code more readable, more concise and faster to execute.\n",
    "\n",
    "In the following steps we'll implement linear regression using `numpy` linear algebra operations. We will start with the functional form of the regression: how the predicted target values depend on the regression coefficients the of features (aka predictors or regressors). \n",
    "\n",
    "Once we have the coefficients $\\mathrm{\\beta}$ and the matrix with the predictors $\\mathrm{X}$ we can calculate predicted targets $\\mathrm{\\hat{y}}$ according to:\n",
    "\n",
    "$$\n",
    "\\mathrm{\\hat{y}} = \\beta_0 + \\mathrm{X}\\mathrm{\\beta}\n",
    "$$\n",
    "\n",
    "If we add an extra column with all $1$s to the matrix $\\mathrm{X}$, we can write this without the intercept $\\beta_0$:\n",
    "\n",
    "$$\n",
    "\\mathrm{\\hat{y}} = \\mathrm{X}\\mathrm{\\beta}\n",
    "$$\n",
    "\n",
    "This operation is the matrix multiplication. In this case the first matrix is $N\\times M$ where N is the number datapoints (rows) and $M$ the number of predictors (including the extra row of ones). The second matrix is $M\\times 1$, so it is a column vector.\n",
    "\n",
    "In this particular case, for each row of M we multiply it with $\\beta$ and the sum these multiplications is our predicted $\\hat{y}$ for each row. This can be written explicitly as:\n",
    "\n",
    "$$\n",
    "\\mathrm{\\hat{y}_i} = \\sum_{m=1}^M X_{i,m} \\beta_m\n",
    "$$\n",
    "\n",
    "We can see that the matrix multiplication version is much more concise. The same is true in numpy code: it's more concise to implement this using the matrix multiplication function `numpy.dot` than write a bunch of loops.\n"
   ]
  },
  {
   "cell_type": "markdown",
   "metadata": {},
   "source": [
    "### Matrix multiplication / dot product\n",
    "\n",
    "In numpy the concept of dot product (aka scalar product) is treated as\n",
    "a special case of matrix multiplication. The numpy function `dot` for simple dot product between vectors, for multiplying a matrix by a vector, as well as for multyplying two matrices.\n",
    "\n",
    "The definition of dot product between two vectors $u$ and $v$ is:\n",
    "\n",
    "$$\\langle u, v\\rangle = \\sum_{i=1}^N u_i v_i$$\n",
    "\n",
    "Other notations that you will come across for this operation are:\n",
    "$u \\cdot v$, $u^T v$.\n",
    "\n",
    "In numpy we write\n",
    "```python\n",
    "numpy.dot(u, v)\n",
    "```\n",
    "or\n",
    "```python\n",
    "u.dot(v)\n",
    "```"
   ]
  },
  {
   "cell_type": "markdown",
   "metadata": {},
   "source": [
    "#### Exercise 4.1\n",
    "\n",
    "Create two vectors of random values between -10 and 10 of size 100. Compute:\n",
    "- elementwise product between them\n",
    "- dot (scalar) product between them.\n"
   ]
  },
  {
   "cell_type": "code",
   "execution_count": 7,
   "metadata": {},
   "outputs": [],
   "source": [
    "vector1 = numpy.random.uniform(-10, 10, 100)\n",
    "vector2 = numpy.random.uniform(-10, 10, 100)"
   ]
  },
  {
   "cell_type": "code",
   "execution_count": 9,
   "metadata": {},
   "outputs": [
    {
     "name": "stdout",
     "output_type": "stream",
     "text": [
      "[ 71.89905849 -29.97089273  46.85974421  -0.92662335  11.48213135\n",
      "  -1.82677259   2.4774272    0.88666023 -33.84688977  29.13192863\n",
      " -14.5315394  -68.48000924 -13.76156706 -22.38400592   7.4246125\n",
      "   0.23607065  -1.5575897   54.94812788  44.63145533 -41.48684576\n",
      "   3.80942059  19.94159908   1.58541186  50.50875734  12.15777918\n",
      "  -4.79830196 -22.14356974 -23.75486891  24.9111864  -19.42273337\n",
      "  27.19236953 -20.62450484  50.58068856   6.06303123 -22.95721795\n",
      "  78.15514549  -6.21175438   6.92033924  60.17432251  32.04992027\n",
      "  37.75887267  19.79863895  28.45387282   5.81796778   0.09236031\n",
      "  -4.73340016   8.36653219   1.12055304  12.70354075  48.49062435\n",
      "  -5.24966374  57.109445   -13.03395999  11.22561044 -17.42709249\n",
      "   1.02872049  -5.78227579  35.49944583  49.5680693    8.22848225\n",
      "  15.04297902  79.86328801   4.84077165  26.25358209 -10.24992539\n",
      "  -5.43039007 -23.77158702 -25.96816011  -3.93948138  23.64052795\n",
      " -15.35472174 -59.76996267  61.96443482 -47.0067051   16.18959042\n",
      "  10.2111277  -31.51945474   4.89411427   8.78408523  15.36589605\n",
      "   8.7084358   -1.39670758  26.78851961  25.09414796 -22.03696249\n",
      "  10.14827403   8.43131123  -0.50092287  -1.05474673   6.98753689\n",
      " -24.27885589  53.29641198   4.68907655   4.51195698   4.13934244\n",
      "  -8.79625581  -6.00270212   1.04677907   2.44697542  17.17191103]\n",
      "\n",
      "727.8113796005256\n",
      "\n",
      "727.8113796005255\n",
      "727.8113796005255\n"
     ]
    }
   ],
   "source": [
    "elementwise = vector1 * vector2\n",
    "print(elementwise)\n",
    "print()\n",
    "\n",
    "print(numpy.sum(elementwise))\n",
    "print()\n",
    "\n",
    "dotproduct = numpy.dot(vector1, vector2)\n",
    "print(dotproduct)\n",
    "print(vector1.dot(vector2))"
   ]
  },
  {
   "cell_type": "markdown",
   "metadata": {},
   "source": [
    "When multiplying two matrices, the number of columns in the first one needs to be equal to the number of rows in the second one. For matrices $A_{m\\times n}$ and $B_{n \\times p}$, the resulting matrix will be $C_{m \\times p}$. It is defined as:\n",
    "\n",
    "$$\n",
    "C_{i,j} = \\sum_{k=1}^n A_{i,k}B_{k,j}\n",
    "$$\n",
    "![](https://upload.wikimedia.org/wikipedia/commons/thumb/e/eb/Matrix_multiplication_diagram_2.svg/470px-Matrix_multiplication_diagram_2.svg.png)\n",
    "\n",
    "In `numpy` we simply use `dot`:\n",
    "\n",
    "```python\n",
    "numpy.dot(A, B)\n",
    "```\n",
    "or\n",
    "\n",
    "```python\n",
    "A.dot(B)\n",
    "```"
   ]
  },
  {
   "cell_type": "markdown",
   "metadata": {},
   "source": [
    "### Exercise 4.2\n",
    "\n",
    "- Create a random matrix $A_{3\\times 4}$ and another random matrix $B_{4 \\times 2}$. Multiply AB.  "
   ]
  },
  {
   "cell_type": "code",
   "execution_count": 18,
   "metadata": {},
   "outputs": [
    {
     "name": "stdout",
     "output_type": "stream",
     "text": [
      "[[0.65560961 0.42015041 0.10455039 0.11892487]\n",
      " [0.27546937 0.26843849 0.02512957 0.93561529]\n",
      " [0.07162822 0.23465553 0.34877245 0.16969463]]\n",
      "(3, 4)\n",
      "\n",
      "[[0.6371753  0.94749228]\n",
      " [0.06387346 0.72932339]\n",
      " [0.74600749 0.00136171]\n",
      " [0.6921111  0.42085953]]\n",
      "(4, 2)\n",
      "\n",
      "[[0.60487931 0.9778036 ]\n",
      " [0.85896494 0.8505804 ]\n",
      " [0.43826239 0.31089948]]\n",
      "(3, 2)\n"
     ]
    }
   ],
   "source": [
    "matrixA = numpy.random.random((3,4))\n",
    "matrixB = numpy.random.random((4,2))\n",
    "\n",
    "print(matrixA)\n",
    "print(matrixA.shape)\n",
    "print()\n",
    "print(matrixB)\n",
    "print(matrixB.shape)\n",
    "print()\n",
    "\n",
    "print(numpy.dot(matrixA, matrixB))\n",
    "print(numpy.dot(matrixA, matrixB).shape)"
   ]
  },
  {
   "cell_type": "markdown",
   "metadata": {},
   "source": [
    "- Create a random matrix $C_{3\\times 3}$ and $D_{3\\times3}$. Multiply CD. Multiply DC. Is matrix multiplication commutative?"
   ]
  },
  {
   "cell_type": "code",
   "execution_count": 12,
   "metadata": {},
   "outputs": [
    {
     "name": "stdout",
     "output_type": "stream",
     "text": [
      "[[0.11265491 0.99124785 0.8593189 ]\n",
      " [0.36266017 0.62802979 0.90182206]\n",
      " [0.57762511 0.62624552 0.49789601]]\n",
      "\n",
      "[[0.41416825 0.55967315 0.74647548]\n",
      " [0.44857138 0.18367017 0.76003362]\n",
      " [0.58020062 0.95007136 0.44800592]]\n",
      "\n",
      "[[0.98988085 1.06152686 1.22245577]\n",
      " [0.95515623 1.17511681 1.1520623 ]\n",
      " [0.80902937 0.91134063 1.13021099]]\n",
      "\n",
      "[[0.68081223 1.22951173 1.23229535]\n",
      " [0.55615813 1.03596341 0.92952138]\n",
      " [0.66869496 1.45235744 1.57843302]]\n"
     ]
    }
   ],
   "source": [
    "matrixC = numpy.random.random((3,3))\n",
    "matrixD = numpy.random.random((3,3))\n",
    "\n",
    "print(matrixC)\n",
    "print()\n",
    "print(matrixD)\n",
    "print()\n",
    "\n",
    "print(numpy.dot(matrixC, matrixD))\n",
    "print()\n",
    "print(numpy.dot(matrixD, matrixC))\n",
    "\n",
    "#matrix is not commutative\n"
   ]
  },
  {
   "cell_type": "markdown",
   "metadata": {},
   "source": [
    "- Create a identity matrix $I_{3\\times 3}$.  Multiply IC, CI, DI, ID. What do you notice?"
   ]
  },
  {
   "cell_type": "code",
   "execution_count": 23,
   "metadata": {},
   "outputs": [
    {
     "name": "stdout",
     "output_type": "stream",
     "text": [
      "[[1. 0. 0.]\n",
      " [0. 1. 0.]\n",
      " [0. 0. 1.]]\n",
      "\n",
      "[[0.11265491 0.99124785 0.8593189 ]\n",
      " [0.36266017 0.62802979 0.90182206]\n",
      " [0.57762511 0.62624552 0.49789601]]\n",
      "\n",
      "[[0.11265491 0.99124785 0.8593189 ]\n",
      " [0.36266017 0.62802979 0.90182206]\n",
      " [0.57762511 0.62624552 0.49789601]]\n",
      "\n",
      "[[ True  True  True]\n",
      " [ True  True  True]\n",
      " [ True  True  True]]\n",
      "\n",
      "[[0.41416825 0.55967315 0.74647548]\n",
      " [0.44857138 0.18367017 0.76003362]\n",
      " [0.58020062 0.95007136 0.44800592]]\n",
      "\n",
      "[[0.41416825 0.55967315 0.74647548]\n",
      " [0.44857138 0.18367017 0.76003362]\n",
      " [0.58020062 0.95007136 0.44800592]]\n"
     ]
    }
   ],
   "source": [
    "matrixI = numpy.eye(3)\n",
    "\n",
    "print(matrixI)\n",
    "print()\n",
    "\n",
    "print(numpy.dot(matrixI, matrixC))\n",
    "print()\n",
    "print(numpy.dot(matrixC, matrixI))\n",
    "print()\n",
    "print(matrixI.dot(matrixC) == matrixC.dot(matrixI))\n",
    "\n",
    "print()\n",
    "\n",
    "\n",
    "print(numpy.dot(matrixD, matrixI))\n",
    "print()\n",
    "print(numpy.dot(matrixI, matrixD))"
   ]
  },
  {
   "cell_type": "code",
   "execution_count": 25,
   "metadata": {},
   "outputs": [
    {
     "name": "stdout",
     "output_type": "stream",
     "text": [
      "[[ True  True  True]\n",
      " [ True  True  True]\n",
      " [ True  True  True]]\n",
      "\n",
      "True\n"
     ]
    }
   ],
   "source": [
    "##check if matrixes are approxamitly the same with allclose(u, v)\n",
    "\n",
    "print(matrixI.dot(matrixC)==matrixC)\n",
    "print()\n",
    "\n",
    "print(numpy.allclose(matrixI.dot(matrixC), matrixC))"
   ]
  },
  {
   "cell_type": "markdown",
   "metadata": {},
   "source": [
    "- What will be the result of multiplying a matrix $Z_{m\\times n}$ by a matrix $O_{n \\times p}$ whose all entries are zero? Check your answer using some examples in `numpy`."
   ]
  },
  {
   "cell_type": "code",
   "execution_count": 28,
   "metadata": {},
   "outputs": [
    {
     "data": {
      "text/plain": [
       "array([[0., 0.],\n",
       "       [0., 0.],\n",
       "       [0., 0.],\n",
       "       [0., 0.]])"
      ]
     },
     "execution_count": 28,
     "metadata": {},
     "output_type": "execute_result"
    }
   ],
   "source": [
    "Z = numpy.random.normal(0,1,(4,3))\n",
    "O = numpy.zeros((3,2))\n",
    "\n",
    "Z.dot(O)"
   ]
  },
  {
   "cell_type": "markdown",
   "metadata": {
    "collapsed": true
   },
   "source": [
    "### Exercise 4.3\n",
    "\n",
    "- Create a random matrix $A_{3\\times 4}$ and another random matrix $B_{2 \\times 4}$. Can you transform one of them so that they can be multiplied? Try this in `numpy`."
   ]
  },
  {
   "cell_type": "code",
   "execution_count": 26,
   "metadata": {},
   "outputs": [
    {
     "data": {
      "text/plain": [
       "array([[0.93767016, 1.17331324],\n",
       "       [1.0289241 , 1.03986877],\n",
       "       [0.81818565, 1.3285594 ]])"
      ]
     },
     "execution_count": 26,
     "metadata": {},
     "output_type": "execute_result"
    }
   ],
   "source": [
    "rand_mat_a = numpy.random.random((3,4))\n",
    "rand_mat_b = numpy.random.random((2,4))\n",
    "rand_mat_b.T\n",
    "\n",
    "numpy.dot(rand_mat_a, rand_mat_b.T)"
   ]
  },
  {
   "cell_type": "markdown",
   "metadata": {},
   "source": [
    "## Transpose\n",
    "\n",
    "We have already encountered matrix transpose. The mathematical notation for the transpose of matrix $A$ is $A^T$. Transposing a matrix simply means making the rows into columns and columns into rows. If $A$ is $m \\times n$ then $A^T$ is $n \\times m$. The values are:\n",
    "\n",
    "$$A^T_{i,j} = A_{j,i}$$\n",
    "\n",
    "In `numpy` the transpose is simply written `A.T`."
   ]
  },
  {
   "cell_type": "markdown",
   "metadata": {},
   "source": [
    "### Exercise 4.4\n",
    "\n",
    "- Create a random $4 \\times 5$ matrix and verify that the above equality holds for it.\n",
    "- What would be the outcome of $(A^T)^T$? Check this in `numpy`."
   ]
  },
  {
   "cell_type": "code",
   "execution_count": 36,
   "metadata": {
    "scrolled": true
   },
   "outputs": [
    {
     "name": "stdout",
     "output_type": "stream",
     "text": [
      "[[0.95809782 0.95767047 0.92541031 0.23153246 0.71233035]\n",
      " [0.47883628 0.64685903 0.85492462 0.10493499 0.48859102]\n",
      " [0.44536807 0.90865784 0.9212215  0.28198822 0.9832023 ]\n",
      " [0.7839081  0.02105208 0.99672151 0.25755787 0.95125631]]\n",
      "(4, 5)\n",
      "\n",
      "[[0.95809782 0.47883628 0.44536807 0.7839081 ]\n",
      " [0.95767047 0.64685903 0.90865784 0.02105208]\n",
      " [0.92541031 0.85492462 0.9212215  0.99672151]\n",
      " [0.23153246 0.10493499 0.28198822 0.25755787]\n",
      " [0.71233035 0.48859102 0.9832023  0.95125631]]\n",
      "(5, 4)\n",
      "\n",
      "0 0 True\n",
      "0 1 True\n",
      "0 2 True\n",
      "0 3 True\n",
      "0 4 True\n",
      "1 0 True\n",
      "1 1 True\n",
      "1 2 True\n",
      "1 3 True\n",
      "1 4 True\n",
      "2 0 True\n",
      "2 1 True\n",
      "2 2 True\n",
      "2 3 True\n",
      "2 4 True\n",
      "3 0 True\n",
      "3 1 True\n",
      "3 2 True\n",
      "3 3 True\n",
      "3 4 True\n"
     ]
    }
   ],
   "source": [
    "mat4_4 = numpy.random.random((4,5))\n",
    "print(mat4_4)\n",
    "print(mat4_4.shape)\n",
    "print()\n",
    "print(mat4_4.T)\n",
    "print(mat4_4.T.shape)\n",
    "\n",
    "print()\n",
    "for i in range(4):\n",
    "    for j in range(5):\n",
    "        print(i,j, mat4_4[i,j] == mat4_4.T[j,i])"
   ]
  },
  {
   "cell_type": "code",
   "execution_count": 33,
   "metadata": {},
   "outputs": [
    {
     "name": "stdout",
     "output_type": "stream",
     "text": [
      "[[8.41278646e-01 8.33606630e-01 8.69349008e-01 9.05895523e-01\n",
      "  4.54945531e-01]\n",
      " [5.29361258e-01 2.82692566e-01 9.52271245e-02 6.95917076e-01\n",
      "  3.73916163e-01]\n",
      " [4.54612356e-01 5.26531609e-01 3.34487212e-01 5.24233902e-01\n",
      "  1.34005407e-01]\n",
      " [1.59038396e-01 9.53777125e-01 4.45535997e-01 8.41448669e-04\n",
      "  3.03401956e-01]]\n",
      "\n",
      "True\n"
     ]
    }
   ],
   "source": [
    "print((mat4_4.T).T)\n",
    "\n",
    "print()\n",
    "print(numpy.allclose(mat4_4.T.T, mat4_4))"
   ]
  },
  {
   "cell_type": "markdown",
   "metadata": {},
   "source": [
    "## Inverse\n",
    "\n",
    "For scalar numbers the multiplicative inverse (aka reciprocal) of number $n$ is $\\frac{1}{n}$, also written as $n^{-1}$. This inverse has certain properties, like:\n",
    "- $n^{-1}n = 1$\n",
    "- $(n^{-1})^{-1} = n$\n",
    "\n",
    "There is an analogous concept for matrices. For a square matrix $A_{m \\times m}$, its inverse is written $A^{-1}$ and it satisfies:\n",
    "\n",
    "- $A^{-1}A = I$ where $I$ is the $m \\times m$ identity matrix\n",
    "- $(A^{-1})^{-1} = A$\n",
    "- $(A^T)^{-1} = (A^{-1})^T$\n",
    "\n",
    "Not all matrices are invertible: a matrix needs to be square, and its [determinant](https://en.wikipedia.org/wiki/Determinant) needs to be non-zero. There is a function to invert matrices in `scipy.linalg` called `inv`.\n"
   ]
  },
  {
   "cell_type": "code",
   "execution_count": 38,
   "metadata": {},
   "outputs": [
    {
     "name": "stdout",
     "output_type": "stream",
     "text": [
      "[[0.13189452 0.57748782 0.98073518]\n",
      " [0.46598057 0.2173346  0.42080987]\n",
      " [0.6876802  0.81984538 0.63122127]]\n",
      "\n",
      "[[-1.04987823  2.22051533  0.15087855]\n",
      " [-0.02401854 -2.98665154  2.0283985 ]\n",
      " [ 1.17497936  1.46000787 -1.21467599]]\n"
     ]
    }
   ],
   "source": [
    "from scipy.linalg import inv\n",
    "\n",
    "A = numpy.random.uniform(0,1,(3,3))\n",
    "\n",
    "print(A)\n",
    "print()\n",
    "print(inv(A))"
   ]
  },
  {
   "cell_type": "markdown",
   "metadata": {},
   "source": [
    "- $A^{-1}A = I$ where $I$ is the $m \\times m$ identity matrix\n",
    "- $(A^{-1})^{-1} = A$\n",
    "- $(A^T)^{-1} = (A^{-1})^T$"
   ]
  },
  {
   "cell_type": "markdown",
   "metadata": {},
   "source": [
    "### Exercise 4.5\n",
    "\n",
    "Verify the three properties of the matrix inverse operations listed above for a random $m \\times m$ numpy matrix. "
   ]
  },
  {
   "cell_type": "code",
   "execution_count": 44,
   "metadata": {},
   "outputs": [
    {
     "name": "stdout",
     "output_type": "stream",
     "text": [
      "[[ 1.00000000e+00  6.32949196e-17 -2.41419601e-16]\n",
      " [ 1.70400560e-16  1.00000000e+00 -1.40437144e-17]\n",
      " [-4.05736850e-17  5.09995450e-17  1.00000000e+00]]\n",
      "True\n",
      "\n",
      "[[0.13189452 0.57748782 0.98073518]\n",
      " [0.46598057 0.2173346  0.42080987]\n",
      " [0.6876802  0.81984538 0.63122127]]\n",
      "True\n",
      "\n",
      "[[-1.04987823 -0.02401854  1.17497936]\n",
      " [ 2.22051533 -2.98665154  1.46000787]\n",
      " [ 0.15087855  2.0283985  -1.21467599]]\n",
      "\n",
      "[[-1.04987823 -0.02401854  1.17497936]\n",
      " [ 2.22051533 -2.98665154  1.46000787]\n",
      " [ 0.15087855  2.0283985  -1.21467599]]\n",
      "True\n",
      "\n"
     ]
    }
   ],
   "source": [
    "print(numpy.dot(inv(A), A))\n",
    "print(numpy.allclose(inv(A).dot(A), numpy.eye(3)))\n",
    "print()\n",
    "\n",
    "print(inv(inv(A)))\n",
    "print(numpy.allclose(inv(inv(A)), A ))\n",
    "print()\n",
    "\n",
    "\n",
    "\n",
    "print(inv(A.T))\n",
    "print()\n",
    "print(inv(A).T)\n",
    "print(numpy.allclose(inv(A.T), inv(A).T))\n",
    "print()\n",
    "\n"
   ]
  },
  {
   "cell_type": "markdown",
   "metadata": {},
   "source": [
    "## Ordinary Least Squares formula for Linear Regression\n",
    "\n",
    "We are now ready to implement the formula which can be used to find the coefficients of linear regression:\n",
    "\n",
    "$$\\hat\\beta = (X^TX)^{-1}X^Ty$$\n",
    "\n",
    "Remember that $X$ has $N$ rows corresponding to the $N$ datapoints, and $M$ columns corresponding to the $M$ predictors. The formula defines the vector $\\hat\\beta$ with the $M$ regression coefficients.\n",
    "\n",
    "We will apply this formula to the winequality dataset.\n",
    "\n",
    "Previously we loaded this dataset into a structured array.\n"
   ]
  },
  {
   "cell_type": "code",
   "execution_count": 46,
   "metadata": {},
   "outputs": [
    {
     "name": "stdout",
     "output_type": "stream",
     "text": [
      "(1599,)\n"
     ]
    }
   ],
   "source": [
    "# Load winequality as a structured array\n",
    "data = numpy.genfromtxt(\"winequality-red.csv\", names=True, delimiter=';')\n",
    "# Convert the array into a matrix. We'll have the target in the last column\n",
    "print(data.shape)"
   ]
  },
  {
   "cell_type": "code",
   "execution_count": 51,
   "metadata": {},
   "outputs": [
    {
     "name": "stdout",
     "output_type": "stream",
     "text": [
      "(1599, 12)\n",
      "float64\n",
      "12\n"
     ]
    }
   ],
   "source": [
    "# Convert structured array into array of numeric values\n",
    "Xy = data.view((data.dtype[0], len(data.dtype)))  #View changes how we view the underlying data\n",
    "print(Xy.shape)\n",
    "\n",
    "print(data.dtype[0])\n",
    "print(len(data.dtype))"
   ]
  },
  {
   "cell_type": "code",
   "execution_count": 48,
   "metadata": {},
   "outputs": [
    {
     "name": "stdout",
     "output_type": "stream",
     "text": [
      "(1599, 11)\n",
      "(1599, 1)\n",
      "[[ 7.4    0.7    0.    ...  3.51   0.56   9.4  ]\n",
      " [ 7.8    0.88   0.    ...  3.2    0.68   9.8  ]\n",
      " [ 7.8    0.76   0.04  ...  3.26   0.65   9.8  ]\n",
      " ...\n",
      " [ 6.3    0.51   0.13  ...  3.42   0.75  11.   ]\n",
      " [ 5.9    0.645  0.12  ...  3.57   0.71  10.2  ]\n",
      " [ 6.     0.31   0.47  ...  3.39   0.66  11.   ]]\n"
     ]
    }
   ],
   "source": [
    "# Extract X and y from Xy\n",
    "X = Xy[:,:-1]\n",
    "y = Xy[:,-1:]\n",
    "print(X.shape)\n",
    "print(y.shape)\n",
    "print(X)"
   ]
  },
  {
   "cell_type": "code",
   "execution_count": 49,
   "metadata": {},
   "outputs": [
    {
     "name": "stdout",
     "output_type": "stream",
     "text": [
      "[[ 1.     7.4    0.7   ...  3.51   0.56   9.4  ]\n",
      " [ 1.     7.8    0.88  ...  3.2    0.68   9.8  ]\n",
      " [ 1.     7.8    0.76  ...  3.26   0.65   9.8  ]\n",
      " ...\n",
      " [ 1.     6.3    0.51  ...  3.42   0.75  11.   ]\n",
      " [ 1.     5.9    0.645 ...  3.57   0.71  10.2  ]\n",
      " [ 1.     6.     0.31  ...  3.39   0.66  11.   ]]\n"
     ]
    }
   ],
   "source": [
    "X_new = numpy.hstack([ numpy.ones((1599,1)), X ])\n",
    "print(X_new)"
   ]
  },
  {
   "cell_type": "markdown",
   "metadata": {},
   "source": [
    "### Exercise 4.6\n",
    "\n",
    "Implement function `fit` which takes a matrix of predictors and a vector of targets, and returns the vector of regression coefficients computed according to the OLS formula.\n",
    "Apply this function to the winequality data."
   ]
  },
  {
   "cell_type": "markdown",
   "metadata": {},
   "source": [
    "$$(X^T X)^{-1} X^T y$$"
   ]
  },
  {
   "cell_type": "code",
   "execution_count": 61,
   "metadata": {},
   "outputs": [
    {
     "name": "stdout",
     "output_type": "stream",
     "text": [
      "[[ 2.19652084e+01]\n",
      " [ 2.49905527e-02]\n",
      " [-1.08359026e+00]\n",
      " [-1.82563948e-01]\n",
      " [ 1.63312698e-02]\n",
      " [-1.87422516e+00]\n",
      " [ 4.36133331e-03]\n",
      " [-3.26457970e-03]\n",
      " [-1.78811638e+01]\n",
      " [-4.13653144e-01]\n",
      " [ 9.16334413e-01]\n",
      " [ 2.76197699e-01]]\n",
      "(12, 1)\n"
     ]
    }
   ],
   "source": [
    "def fit(X, y):\n",
    "    \n",
    "    beta = inv(X.T.dot(X)).dot(X.T).dot(y)\n",
    "    return beta\n",
    "    \n",
    "    \n",
    "\n",
    "print(fit(X_new, y))\n",
    "print(fit(X_new, y).shape)"
   ]
  },
  {
   "cell_type": "markdown",
   "metadata": {},
   "source": [
    "### Exercise 4.7\n",
    "\n",
    "Implement function `predict` which takes a vector of coefficients and a vector of predictors, and returns the predicted targets according to the regression formula (see beginning of notebook). Apply this function to the coefficients from the previous exercise, and the winequality data."
   ]
  },
  {
   "cell_type": "code",
   "execution_count": 74,
   "metadata": {},
   "outputs": [
    {
     "name": "stdout",
     "output_type": "stream",
     "text": [
      "[[5.03285045]\n",
      " [5.13787974]\n",
      " [5.20989474]\n",
      " ...\n",
      " [5.94304255]\n",
      " [5.47075621]\n",
      " [6.00819633]]\n",
      "1599\n"
     ]
    }
   ],
   "source": [
    "def predict(beta, X):\n",
    "    \n",
    "    return X.dot(beta)\n",
    "    \n",
    "y_pred = predict(fit(X_new, y), X_new)\n",
    "\n",
    "print(y_pred)\n",
    "print(len(y_pred))\n"
   ]
  },
  {
   "cell_type": "markdown",
   "metadata": {},
   "source": [
    "### Exercise 4.8\n",
    "\n",
    "Define the following two functions to quantify how well the regression is able to predict the targets:\n",
    "- `mse` - mean squared error, defined as the mean of the squared difference between each prediction and true target: $$MSE(y, \\hat{y}) = \\frac{1}{N}\\sum_{i=1}^N (y_i-\\hat{y}_i)^2$$\n",
    "- `mae` - mean absolute error, defined as the mean of the absolute difference between each prediction and true target: $$MAE(y, \\hat{y}) = \\frac{1}{N}\\sum_{i=1}^N abs(y_i-\\hat{y}_i)$$\n",
    "\n",
    "Check how well your regression functions predict the targets in winequality according to these error measures."
   ]
  },
  {
   "cell_type": "code",
   "execution_count": 75,
   "metadata": {},
   "outputs": [
    {
     "data": {
      "text/plain": [
       "0.41676716722140794"
      ]
     },
     "execution_count": 75,
     "metadata": {},
     "output_type": "execute_result"
    }
   ],
   "source": [
    "#mse\n",
    "\n",
    "def mse(ytrue, ypred):\n",
    "    \n",
    "    return  numpy.square(ytrue - ypred).mean() \n",
    "    \n",
    "mse(y, y_pred)"
   ]
  },
  {
   "cell_type": "code",
   "execution_count": 76,
   "metadata": {},
   "outputs": [
    {
     "data": {
      "text/plain": [
       "0.5004899634722085"
      ]
     },
     "execution_count": 76,
     "metadata": {},
     "output_type": "execute_result"
    }
   ],
   "source": [
    "#mae\n",
    "\n",
    "def mae(ytrue, ypred):\n",
    "    \n",
    "    return  numpy.abs(ytrue - ypred).mean() \n",
    "    \n",
    "mae(y, y_pred)"
   ]
  },
  {
   "cell_type": "markdown",
   "metadata": {},
   "source": [
    "### Exercise 4.9\n",
    "\n",
    "- Load the iris data and extract the first three column into a predictor matrix, and the fourth column into a target vector. Apply the functions `fit` and `predict` to this data, and check the MSE and MAE of your predictions."
   ]
  },
  {
   "cell_type": "code",
   "execution_count": 81,
   "metadata": {},
   "outputs": [
    {
     "name": "stdout",
     "output_type": "stream",
     "text": [
      "(150,)\n"
     ]
    }
   ],
   "source": [
    "dtype = [('sepallength', 'float64'), ('sepalwidth', 'float64'), ('petallength', 'float64'), ('petalwidth', 'float64'), ('species', 'U10')]\n",
    "irisa = numpy.loadtxt('irisa.txt', dtype=dtype)\n",
    "irisb = numpy.loadtxt('irisb.txt', dtype=dtype)\n",
    "irisc = numpy.loadtxt('irisc.txt', dtype=dtype)\n",
    "\n",
    "iris = numpy.hstack([irisa, irisb, irisc])\n",
    "print(iris.shape)"
   ]
  },
  {
   "cell_type": "code",
   "execution_count": 79,
   "metadata": {},
   "outputs": [
    {
     "ename": "ValueError",
     "evalue": "Changing the dtype to a subarray type is only supported if the total itemsize is unchanged",
     "output_type": "error",
     "traceback": [
      "\u001b[1;31m---------------------------------------------------------------------------\u001b[0m",
      "\u001b[1;31mValueError\u001b[0m                                Traceback (most recent call last)",
      "\u001b[1;32m<ipython-input-79-c3acc7db5706>\u001b[0m in \u001b[0;36m<module>\u001b[1;34m()\u001b[0m\n\u001b[0;32m      1\u001b[0m \u001b[1;31m# Convert structured array into array of numeric values\u001b[0m\u001b[1;33m\u001b[0m\u001b[1;33m\u001b[0m\u001b[0m\n\u001b[1;32m----> 2\u001b[1;33m \u001b[0mXy\u001b[0m \u001b[1;33m=\u001b[0m \u001b[0miris\u001b[0m\u001b[1;33m.\u001b[0m\u001b[0mview\u001b[0m\u001b[1;33m(\u001b[0m\u001b[1;33m(\u001b[0m\u001b[0miris\u001b[0m\u001b[1;33m.\u001b[0m\u001b[0mdtype\u001b[0m\u001b[1;33m[\u001b[0m\u001b[1;36m0\u001b[0m\u001b[1;33m]\u001b[0m\u001b[1;33m,\u001b[0m \u001b[0mlen\u001b[0m\u001b[1;33m(\u001b[0m\u001b[0miris\u001b[0m\u001b[1;33m.\u001b[0m\u001b[0mdtype\u001b[0m\u001b[1;33m)\u001b[0m\u001b[1;33m)\u001b[0m\u001b[1;33m)\u001b[0m  \u001b[1;31m#View changes how we view the underlying data\u001b[0m\u001b[1;33m\u001b[0m\u001b[0m\n\u001b[0m\u001b[0;32m      3\u001b[0m \u001b[0mprint\u001b[0m\u001b[1;33m(\u001b[0m\u001b[0mXy\u001b[0m\u001b[1;33m.\u001b[0m\u001b[0mshape\u001b[0m\u001b[1;33m)\u001b[0m\u001b[1;33m\u001b[0m\u001b[0m\n\u001b[0;32m      4\u001b[0m \u001b[1;33m\u001b[0m\u001b[0m\n\u001b[0;32m      5\u001b[0m \u001b[0mprint\u001b[0m\u001b[1;33m(\u001b[0m\u001b[0miris\u001b[0m\u001b[1;33m.\u001b[0m\u001b[0mdtype\u001b[0m\u001b[1;33m[\u001b[0m\u001b[1;36m0\u001b[0m\u001b[1;33m]\u001b[0m\u001b[1;33m)\u001b[0m\u001b[1;33m\u001b[0m\u001b[0m\n",
      "\u001b[1;31mValueError\u001b[0m: Changing the dtype to a subarray type is only supported if the total itemsize is unchanged"
     ]
    }
   ],
   "source": [
    "# Convert structured array into array of numeric values\n",
    "Xy = iris.view((iris.dtype[0], len(iris.dtype)))  #View changes how we view the underlying data\n",
    "print(Xy.shape)\n",
    "\n",
    "print(iris.dtype[0])\n",
    "print(len(iris.dtype))"
   ]
  }
 ],
 "metadata": {
  "kernelspec": {
   "display_name": "Python 3",
   "language": "python",
   "name": "python3"
  },
  "language_info": {
   "codemirror_mode": {
    "name": "ipython",
    "version": 3
   },
   "file_extension": ".py",
   "mimetype": "text/x-python",
   "name": "python",
   "nbconvert_exporter": "python",
   "pygments_lexer": "ipython3",
   "version": "3.6.4"
  }
 },
 "nbformat": 4,
 "nbformat_minor": 1
}
