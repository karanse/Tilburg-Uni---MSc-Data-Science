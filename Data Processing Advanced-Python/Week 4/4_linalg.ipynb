{
 "cells": [
  {
   "cell_type": "markdown",
   "metadata": {},
   "source": [
    "# 4. Linear algebra operations"
   ]
  },
  {
   "cell_type": "code",
   "execution_count": 3,
   "metadata": {},
   "outputs": [],
   "source": [
    "import numpy as np"
   ]
  },
  {
   "cell_type": "markdown",
   "metadata": {},
   "source": [
    "## Basic operations\n",
    "\n",
    "Linear algebra is a branch of mathematics dealing with vector spaces. Linear algebra operations such as transposes, dot products, matrix multiplications and others are often very useful when manipulating numeric datasets. Using these operations often allows us to avoid writing explicit loops, and thus make our code more readable, more concise and faster to execute.\n",
    "\n",
    "In the following steps we'll implement linear regression using `numpy` linear algebra operations. We will start with the functional form of the regression: how the predicted target values depend on the regression coefficients the of features (aka predictors or regressors). \n",
    "\n",
    "Once we have the coefficients $\\mathrm{\\beta}$ and the matrix with the predictors $\\mathrm{X}$ we can calculate predicted targets $\\mathrm{\\hat{y}}$ according to:\n",
    "\n",
    "$$\n",
    "\\mathrm{\\hat{y}} = \\beta_0 + \\mathrm{X}\\mathrm{\\beta}\n",
    "$$\n",
    "\n",
    "If we add an extra column with all $1$s to the matrix $\\mathrm{X}$, we can write this without the intercept $\\beta_0$:\n",
    "\n",
    "$$\n",
    "\\mathrm{\\hat{y}} = \\mathrm{X}\\mathrm{\\beta}\n",
    "$$\n",
    "\n",
    "This operation is the matrix multiplication. In this case the first matrix is $N\\times M$ where N is the number datapoints (rows) and $M$ the number of predictors (including the extra row of ones). The second matrix is $M\\times 1$, so it is a column vector.\n",
    "\n",
    "In this particular case, for each row of M we multiply it with $\\beta$ and the sum these multiplications is our predicted $\\hat{y}$ for each row. This can be written explicitly as:\n",
    "\n",
    "$$\n",
    "\\mathrm{\\hat{y}_i} = \\sum_{m=1}^M X_{i,m} \\beta_m\n",
    "$$\n",
    "\n",
    "We can see that the matrix multiplication version is much more concise. The same is true in numpy code: it's more concise to implement this using the matrix multiplication function `numpy.dot` than write a bunch of loops.\n"
   ]
  },
  {
   "cell_type": "markdown",
   "metadata": {},
   "source": [
    "### Matrix multiplication / dot product\n",
    "\n",
    "In numpy the concept of dot product (aka scalar product) is treated as\n",
    "a special case of matrix multiplication. The numpy function `dot` for simple dot product between vectors, for multiplying a matrix by a vector, as well as for multyplying two matrices.\n",
    "\n",
    "The definition of dot product between two vectors $u$ and $v$ is:\n",
    "\n",
    "$$\\langle u, v\\rangle = \\sum_{i=1}^N u_i v_i$$\n",
    "\n",
    "Other notations that you will come across for this operation are:\n",
    "$u \\cdot v$, $u^T v$.\n",
    "\n",
    "In numpy we write\n",
    "```python\n",
    "numpy.dot(u, v)\n",
    "```\n",
    "or\n",
    "```python\n",
    "u.dot(v)\n",
    "```"
   ]
  },
  {
   "cell_type": "markdown",
   "metadata": {},
   "source": [
    "#### Exercise 4.1\n",
    "\n",
    "Create two vectors of random values between -10 and 10 of size 100. Compute:\n",
    "- elementwise product between them\n",
    "- dot (scalar) product between them.\n"
   ]
  },
  {
   "cell_type": "code",
   "execution_count": 3,
   "metadata": {},
   "outputs": [],
   "source": [
    "vector1 = np.random.uniform(-10,10,100)\n",
    "vector2 = np.random.uniform(-10,10,100)"
   ]
  },
  {
   "cell_type": "code",
   "execution_count": 8,
   "metadata": {},
   "outputs": [
    {
     "name": "stdout",
     "output_type": "stream",
     "text": [
      "[ -9.1519224   -1.0053316   -2.59846452 -59.50032993  53.70194091\n",
      "   9.1320927   -3.50461906  22.41347543   2.0081791    0.63820933\n",
      "  29.8154173  -24.99777633  71.54047027  32.87826775  52.80415206\n",
      "  60.9829658   -3.98435316  47.98803173  -7.34237385  11.62901142\n",
      " -17.75802158 -33.30164832 -10.91476487 -28.55571019  -4.09794639\n",
      "  -8.07225045 -19.58593158  -0.64063714  36.32244436  78.71681642\n",
      " -35.87371562   2.77609884   9.03305752 -59.04779586 -47.28709785\n",
      "  13.21190899 -15.04964696  -9.04450808  -0.2665558   19.98764492\n",
      "  56.84475328  11.11571982  24.08827878   0.67322841 -17.74829617\n",
      " -18.20698357   6.06991221  34.75484002 -40.3901523  -63.4237871\n",
      " -27.69507506 -39.27803835  40.6466605  -16.4114952  -11.12267803\n",
      " -75.12506604 -17.09187144  -9.23601569  -2.22658469  -0.58179501\n",
      " -10.99508109  -1.95146383  75.29758188 -81.58028889 -16.30024968\n",
      "   2.91843341 -22.7073841   -5.44861014   9.0866588    8.65107412\n",
      "  -1.06435751   0.47916814   6.30419523  -5.89391337  -6.32578606\n",
      "  -4.16040335 -51.92508174  84.18756222  15.49339534  11.46995063\n",
      "  68.74654367  -6.18426691   1.87846557  17.52964509  -1.17570416\n",
      "   9.89940286 -15.03811636  10.18400582  70.7925868  -21.52584627\n",
      "  -8.35854711  -2.87643884 -62.19130568  -4.12449829  70.26645268\n",
      "  -0.28029849   8.429123   -57.24292724 -18.7033526   37.31489443]\n",
      "\n",
      "92.52955566317371\n",
      "\n",
      "92.52955566317374\n",
      "92.52955566317374\n"
     ]
    }
   ],
   "source": [
    "elementwise = vector1 * vector2\n",
    "print(elementwise)\n",
    "print()\n",
    "\n",
    "print(np.sum(elementwise))\n",
    "print()\n",
    "\n",
    "dotproduct = np.dot(vector1,vector2)\n",
    "print(dotproduct)\n",
    "print(vector1.dot(vector2))"
   ]
  },
  {
   "cell_type": "markdown",
   "metadata": {},
   "source": [
    "When multiplying two matrices, the number of columns in the first one needs to be equal to the number of rows in the second one. For matrices $A_{m\\times n}$ and $B_{n \\times p}$, the resulting matrix will be $C_{m \\times p}$. It is defined as:\n",
    "\n",
    "$$\n",
    "C_{i,j} = \\sum_{k=1}^n A_{i,k}B_{k,j}\n",
    "$$\n",
    "![](https://upload.wikimedia.org/wikipedia/commons/thumb/e/eb/Matrix_multiplication_diagram_2.svg/470px-Matrix_multiplication_diagram_2.svg.png)\n",
    "\n",
    "In `numpy` we simply use `dot`:\n",
    "\n",
    "```python\n",
    "numpy.dot(A, B)\n",
    "```\n",
    "or\n",
    "\n",
    "```python\n",
    "A.dot(B)\n",
    "```"
   ]
  },
  {
   "cell_type": "markdown",
   "metadata": {},
   "source": [
    "### Exercise 4.2\n",
    "\n",
    "- Create a random matrix $A_{3\\times 4}$ and another random matrix $B_{4 \\times 2}$. Multiply AB.  "
   ]
  },
  {
   "cell_type": "code",
   "execution_count": 16,
   "metadata": {},
   "outputs": [
    {
     "name": "stdout",
     "output_type": "stream",
     "text": [
      "[[0.85278708 0.05137728 0.98993688 0.71992974]\n",
      " [0.65478704 0.69152389 0.15556483 0.04631882]\n",
      " [0.49904279 0.0334937  0.75241941 0.1361966 ]]\n",
      "\n",
      "[[0.88117957 0.80910138]\n",
      " [0.36467283 0.01716188]\n",
      " [0.83480358 0.95829251]\n",
      " [0.20879067 0.53584299]]\n",
      "\n",
      "[[1.74691191 2.02529134]\n",
      " [0.96870196 0.71555319]\n",
      " [1.10851955 1.1983689 ]]\n",
      "\n",
      "[[1.74691191 2.02529134]\n",
      " [0.96870196 0.71555319]\n",
      " [1.10851955 1.1983689 ]]\n",
      "(3, 2)\n"
     ]
    }
   ],
   "source": [
    "A = np.random.random((3,4))\n",
    "B = np.random.random((4,2))\n",
    "\n",
    "print(A)\n",
    "print()\n",
    "\n",
    "print(B)\n",
    "print()\n",
    "\n",
    "print(A.dot(B))\n",
    "print()\n",
    "\n",
    "print(np.dot(A,B))\n",
    "print(np.dot(A,B).shape)"
   ]
  },
  {
   "cell_type": "markdown",
   "metadata": {},
   "source": [
    "- Create a random matrix $C_{3\\times 3}$ and $D_{3\\times3}$. Multiply CD. Multiply DC. Is matrix multiplication commutative?"
   ]
  },
  {
   "cell_type": "code",
   "execution_count": 20,
   "metadata": {},
   "outputs": [
    {
     "name": "stdout",
     "output_type": "stream",
     "text": [
      "[[0.54231464 0.18214159 0.45736488]\n",
      " [0.94275557 0.86711872 0.56671841]\n",
      " [0.72798723 0.84165176 0.99519061]]\n",
      "\n",
      "[[0.51379342 0.65191895 0.5897907 ]\n",
      " [0.5212403  0.67689658 0.86189163]\n",
      " [0.02049415 0.93009886 0.64339456]]\n",
      "[[False False False]\n",
      " [False False False]\n",
      " [False False False]]\n"
     ]
    }
   ],
   "source": [
    "C = np.random.random((3,3))\n",
    "D = np.random.random((3,3))\n",
    "\n",
    "dot1 = C.dot(D)\n",
    "dot2 = D.dot(C)\n",
    "\n",
    "print(C)\n",
    "print()\n",
    "print(D)\n",
    "\n",
    "\n",
    "print(dot1==dot2)"
   ]
  },
  {
   "cell_type": "markdown",
   "metadata": {},
   "source": [
    "- Create a identity matrix $I_{3\\times 3}$.  Multiply IC, CI, DI, ID. What do you notice?"
   ]
  },
  {
   "cell_type": "code",
   "execution_count": 25,
   "metadata": {},
   "outputs": [
    {
     "name": "stdout",
     "output_type": "stream",
     "text": [
      "[[1. 0. 0.]\n",
      " [0. 1. 0.]\n",
      " [0. 0. 1.]]\n",
      "[[0.54231464 0.18214159 0.45736488]\n",
      " [0.94275557 0.86711872 0.56671841]\n",
      " [0.72798723 0.84165176 0.99519061]]\n",
      "[[0.54231464 0.18214159 0.45736488]\n",
      " [0.94275557 0.86711872 0.56671841]\n",
      " [0.72798723 0.84165176 0.99519061]]\n",
      "[[0.51379342 0.65191895 0.5897907 ]\n",
      " [0.5212403  0.67689658 0.86189163]\n",
      " [0.02049415 0.93009886 0.64339456]]\n",
      "[[0.51379342 0.65191895 0.5897907 ]\n",
      " [0.5212403  0.67689658 0.86189163]\n",
      " [0.02049415 0.93009886 0.64339456]]\n",
      "[[ True  True  True]\n",
      " [ True  True  True]\n",
      " [ True  True  True]]\n"
     ]
    }
   ],
   "source": [
    "I = np.eye(3,3)\n",
    "print(I)\n",
    "\n",
    "print(I.dot(C))\n",
    "print(C.dot(I))\n",
    "print(I.dot(D))\n",
    "print(D.dot(I))\n",
    "\n",
    "print(I.dot(D)==D.dot(I))"
   ]
  },
  {
   "cell_type": "markdown",
   "metadata": {},
   "source": [
    "- What will be the result of multiplying a matrix $Z_{m\\times n}$ by a matrix $O_{n \\times p}$ whose all entries are zero? Check your answer using some examples in `numpy`."
   ]
  },
  {
   "cell_type": "code",
   "execution_count": 29,
   "metadata": {},
   "outputs": [
    {
     "name": "stdout",
     "output_type": "stream",
     "text": [
      "[[0. 0. 0. 0.]\n",
      " [0. 0. 0. 0.]]\n"
     ]
    }
   ],
   "source": [
    "Z = np.random.random((2,3))\n",
    "O = np.zeros((3,4))\n",
    "\n",
    "print(Z.dot(O))"
   ]
  },
  {
   "cell_type": "markdown",
   "metadata": {
    "collapsed": true
   },
   "source": [
    "### Exercise 4.3\n",
    "\n",
    "- Create a random matrix $A_{3\\times 4}$ and another random matrix $B_{2 \\times 4}$. Can you transform one of them so that they can be multiplied? Try this in `numpy`."
   ]
  },
  {
   "cell_type": "code",
   "execution_count": 36,
   "metadata": {},
   "outputs": [
    {
     "name": "stdout",
     "output_type": "stream",
     "text": [
      "[[0.22249169 0.50931856 0.17979659 0.00222835]\n",
      " [0.18725787 0.2566714  0.18952801 0.92077067]]\n",
      "\n",
      "[[0.22249169 0.18725787]\n",
      " [0.50931856 0.2566714 ]\n",
      " [0.17979659 0.18952801]\n",
      " [0.00222835 0.92077067]]\n",
      "\n",
      "[[0.69074871 0.63943871]\n",
      " [0.33050293 0.78647037]\n",
      " [0.43239637 1.04389128]]\n"
     ]
    }
   ],
   "source": [
    "A = np.random.random((3,4))\n",
    "B = np.random.random((2,4))\n",
    "print(B)\n",
    "print()\n",
    "print(B.T)\n",
    "print()\n",
    "print(np.dot(A,B.T))"
   ]
  },
  {
   "cell_type": "markdown",
   "metadata": {},
   "source": [
    "## Transpose\n",
    "\n",
    "We have already encountered matrix transpose. The mathematical notation for the transpose of matrix $A$ is $A^T$. Transposing a matrix simply means making the rows into columns and columns into rows. If $A$ is $m \\times n$ then $A^T$ is $n \\times m$. The values are:\n",
    "\n",
    "$$A^T_{i,j} = A_{j,i}$$\n",
    "\n",
    "In `numpy` the transpose is simply written `A.T`."
   ]
  },
  {
   "cell_type": "markdown",
   "metadata": {},
   "source": [
    "### Exercise 4.4\n",
    "\n",
    "- Create a random $4 \\times 5$ matrix and verify that the above equality holds for it.\n",
    "- What would be the outcome of $(A^T)^T$? Check this in `numpy`."
   ]
  },
  {
   "cell_type": "code",
   "execution_count": 40,
   "metadata": {},
   "outputs": [
    {
     "name": "stdout",
     "output_type": "stream",
     "text": [
      "[[0.33452002 0.39912842 0.53676639 0.5744313  0.27805879]\n",
      " [0.23102664 0.45407447 0.52639342 0.86952914 0.44386481]\n",
      " [0.53413917 0.84648864 0.11260318 0.03670364 0.40396201]\n",
      " [0.04843291 0.2844337  0.558005   0.5656667  0.73572007]]\n",
      "\n",
      "[[0.33452002 0.23102664 0.53413917 0.04843291]\n",
      " [0.39912842 0.45407447 0.84648864 0.2844337 ]\n",
      " [0.53676639 0.52639342 0.11260318 0.558005  ]\n",
      " [0.5744313  0.86952914 0.03670364 0.5656667 ]\n",
      " [0.27805879 0.44386481 0.40396201 0.73572007]]\n",
      "0 0 True\n",
      "0 1 True\n",
      "0 2 True\n",
      "0 3 True\n",
      "0 4 True\n",
      "1 0 True\n",
      "1 1 True\n",
      "1 2 True\n",
      "1 3 True\n",
      "1 4 True\n",
      "2 0 True\n",
      "2 1 True\n",
      "2 2 True\n",
      "2 3 True\n",
      "2 4 True\n",
      "3 0 True\n",
      "3 1 True\n",
      "3 2 True\n",
      "3 3 True\n",
      "3 4 True\n"
     ]
    }
   ],
   "source": [
    "M = np.random.random((4,5))\n",
    "print(M)\n",
    "print()\n",
    "print(M.T)\n",
    "\n",
    "\n",
    "for i in range(4):\n",
    "    for j in range(5):\n",
    "        print(i,j, M[i,j]==M.T[j,i])"
   ]
  },
  {
   "cell_type": "code",
   "execution_count": 42,
   "metadata": {},
   "outputs": [
    {
     "name": "stdout",
     "output_type": "stream",
     "text": [
      "[[0.33452002 0.39912842 0.53676639 0.5744313  0.27805879]\n",
      " [0.23102664 0.45407447 0.52639342 0.86952914 0.44386481]\n",
      " [0.53413917 0.84648864 0.11260318 0.03670364 0.40396201]\n",
      " [0.04843291 0.2844337  0.558005   0.5656667  0.73572007]]\n",
      "\n",
      "True\n"
     ]
    }
   ],
   "source": [
    "print((M.T).T)\n",
    "print()\n",
    "print(np.allclose(M.T.T, M))"
   ]
  },
  {
   "cell_type": "markdown",
   "metadata": {},
   "source": [
    "## Inverse\n",
    "\n",
    "For scalar numbers the multiplicative inverse (aka reciprocal) of number $n$ is $\\frac{1}{n}$, also written as $n^{-1}$. This inverse has certain properties, like:\n",
    "- $n^{-1}n = 1$\n",
    "- $(n^{-1})^{-1} = n$\n",
    "\n",
    "There is an analogous concept for matrices. For a square matrix $A_{m \\times m}$, its inverse is written $A^{-1}$ and it satisfies:\n",
    "\n",
    "- $A^{-1}A = I$ where $I$ is the $m \\times m$ identity matrix\n",
    "- $(A^{-1})^{-1} = A$\n",
    "- $(A^T)^{-1} = (A^{-1})^T$\n",
    "\n",
    "Not all matrices are invertible: a matrix needs to be square, and its [determinant](https://en.wikipedia.org/wiki/Determinant) needs to be non-zero. There is a function to invert matrices in `scipy.linalg` called `inv`.\n"
   ]
  },
  {
   "cell_type": "code",
   "execution_count": 44,
   "metadata": {},
   "outputs": [
    {
     "name": "stdout",
     "output_type": "stream",
     "text": [
      "[[0.1237798  0.95333383 0.60064511]\n",
      " [0.19751801 0.34093678 0.02349829]\n",
      " [0.62006946 0.08849622 0.92368405]]\n",
      "\n",
      "[[-1.31557117  3.47954685  0.76695919]\n",
      " [ 0.70595481  1.08541609 -0.48667478]\n",
      " [ 0.81550739 -2.43981254  0.61438855]]\n"
     ]
    }
   ],
   "source": [
    "from scipy.linalg import inv\n",
    "A = numpy.random.uniform(0,1,(3,3))\n",
    "print(A)\n",
    "print()\n",
    "print(inv(A))"
   ]
  },
  {
   "cell_type": "markdown",
   "metadata": {},
   "source": [
    "- $A^{-1}A = I$ where $I$ is the $m \\times m$ identity matrix\n",
    "- $(A^{-1})^{-1} = A$\n",
    "- $(A^T)^{-1} = (A^{-1})^T$"
   ]
  },
  {
   "cell_type": "markdown",
   "metadata": {},
   "source": [
    "### Exercise 4.5\n",
    "\n",
    "Verify the three properties of the matrix inverse operations listed above for a random $m \\times m$ numpy matrix. "
   ]
  },
  {
   "cell_type": "code",
   "execution_count": 51,
   "metadata": {},
   "outputs": [
    {
     "name": "stdout",
     "output_type": "stream",
     "text": [
      "[[ 1.00000000e+00 -8.43764060e-18  6.27937457e-17]\n",
      " [-1.76668314e-19  1.00000000e+00  3.20451483e-17]\n",
      " [-3.78530638e-17 -7.51310034e-17  1.00000000e+00]]\n",
      "True\n",
      "\n",
      "True\n",
      "\n",
      "True\n"
     ]
    }
   ],
   "source": [
    "print(inv(A).dot(A))\n",
    "\n",
    "print(np.allclose(inv(A).dot(A), np.eye(3)))\n",
    "\n",
    "print()\n",
    "print(np.allclose(inv(inv(A)), A))\n",
    "print()\n",
    "print(np.allclose(inv(A.T), inv(A).T))"
   ]
  },
  {
   "cell_type": "markdown",
   "metadata": {},
   "source": [
    "## Ordinary Least Squares formula for Linear Regression\n",
    "\n",
    "We are now ready to implement the formula which can be used to find the coefficients of linear regression:\n",
    "\n",
    "$$\\hat\\beta = (X^TX)^{-1}X^Ty$$\n",
    "\n",
    "Remember that $X$ has $N$ rows corresponding to the $N$ datapoints, and $M$ columns corresponding to the $M$ predictors. The formula defines the vector $\\hat\\beta$ with the $M$ regression coefficients.\n",
    "\n",
    "We will apply this formula to the winequality dataset.\n",
    "\n",
    "Previously we loaded this dataset into a structured array.\n"
   ]
  },
  {
   "cell_type": "code",
   "execution_count": 7,
   "metadata": {},
   "outputs": [
    {
     "name": "stdout",
     "output_type": "stream",
     "text": [
      "(1599,)\n",
      "<class 'numpy.ndarray'>\n"
     ]
    },
    {
     "data": {
      "text/plain": [
       "array([(7.4, 0.7  , 0.  , 1.9, 0.076, 11., 34., 0.9978 , 3.51, 0.56,  9.4, 5.),\n",
       "       (7.8, 0.88 , 0.  , 2.6, 0.098, 25., 67., 0.9968 , 3.2 , 0.68,  9.8, 5.),\n",
       "       (7.8, 0.76 , 0.04, 2.3, 0.092, 15., 54., 0.997  , 3.26, 0.65,  9.8, 5.),\n",
       "       ...,\n",
       "       (6.3, 0.51 , 0.13, 2.3, 0.076, 29., 40., 0.99574, 3.42, 0.75, 11. , 6.),\n",
       "       (5.9, 0.645, 0.12, 2. , 0.075, 32., 44., 0.99547, 3.57, 0.71, 10.2, 5.),\n",
       "       (6. , 0.31 , 0.47, 3.6, 0.067, 18., 42., 0.99549, 3.39, 0.66, 11. , 6.)],\n",
       "      dtype=[('fixed_acidity', '<f8'), ('volatile_acidity', '<f8'), ('citric_acid', '<f8'), ('residual_sugar', '<f8'), ('chlorides', '<f8'), ('free_sulfur_dioxide', '<f8'), ('total_sulfur_dioxide', '<f8'), ('density', '<f8'), ('pH', '<f8'), ('sulphates', '<f8'), ('alcohol', '<f8'), ('quality', '<f8')])"
      ]
     },
     "execution_count": 7,
     "metadata": {},
     "output_type": "execute_result"
    }
   ],
   "source": [
    "import numpy\n",
    "# Load winequality as a structured array\n",
    "data = numpy.genfromtxt(\"winequality-red.csv\", names=True, delimiter=';')\n",
    "\n",
    "# Convert the array into a matrix. We'll have the target in the last column\n",
    "print(data.shape)\n",
    "print(type(data))\n",
    "data[1:3]\n",
    "data"
   ]
  },
  {
   "cell_type": "code",
   "execution_count": 6,
   "metadata": {},
   "outputs": [
    {
     "name": "stdout",
     "output_type": "stream",
     "text": [
      "(1599, 12)\n"
     ]
    },
    {
     "data": {
      "text/plain": [
       "array([[ 7.4  ,  0.7  ,  0.   , ...,  0.56 ,  9.4  ,  5.   ],\n",
       "       [ 7.8  ,  0.88 ,  0.   , ...,  0.68 ,  9.8  ,  5.   ],\n",
       "       [ 7.8  ,  0.76 ,  0.04 , ...,  0.65 ,  9.8  ,  5.   ],\n",
       "       ...,\n",
       "       [ 6.3  ,  0.51 ,  0.13 , ...,  0.75 , 11.   ,  6.   ],\n",
       "       [ 5.9  ,  0.645,  0.12 , ...,  0.71 , 10.2  ,  5.   ],\n",
       "       [ 6.   ,  0.31 ,  0.47 , ...,  0.66 , 11.   ,  6.   ]])"
      ]
     },
     "execution_count": 6,
     "metadata": {},
     "output_type": "execute_result"
    }
   ],
   "source": [
    "# Convert structured array into array of numeric values\n",
    "Xy = data.view((data.dtype[0], len(data.dtype)))\n",
    "print(Xy.shape)\n",
    "Xy.dtype\n",
    "Xy"
   ]
  },
  {
   "cell_type": "code",
   "execution_count": 101,
   "metadata": {},
   "outputs": [
    {
     "name": "stdout",
     "output_type": "stream",
     "text": [
      "(1599, 11)\n",
      "(1599, 1)\n"
     ]
    }
   ],
   "source": [
    "# Extract X and y from Xy\n",
    "X = Xy[:,:-1]\n",
    "y = Xy[:,-1:]\n",
    "print(X.shape)\n",
    "print(y.shape)"
   ]
  },
  {
   "cell_type": "code",
   "execution_count": 130,
   "metadata": {},
   "outputs": [
    {
     "name": "stdout",
     "output_type": "stream",
     "text": [
      "<class 'numpy.ndarray'>\n"
     ]
    }
   ],
   "source": [
    "Xy\n",
    "print(type(Xy))"
   ]
  },
  {
   "cell_type": "code",
   "execution_count": 103,
   "metadata": {},
   "outputs": [
    {
     "name": "stdout",
     "output_type": "stream",
     "text": [
      "[[ 1.     7.4    0.7   ...  3.51   0.56   9.4  ]\n",
      " [ 1.     7.8    0.88  ...  3.2    0.68   9.8  ]\n",
      " [ 1.     7.8    0.76  ...  3.26   0.65   9.8  ]\n",
      " ...\n",
      " [ 1.     6.3    0.51  ...  3.42   0.75  11.   ]\n",
      " [ 1.     5.9    0.645 ...  3.57   0.71  10.2  ]\n",
      " [ 1.     6.     0.31  ...  3.39   0.66  11.   ]]\n",
      "\n",
      "[[ 7.4    0.7    0.    ...  3.51   0.56   9.4  ]\n",
      " [ 7.8    0.88   0.    ...  3.2    0.68   9.8  ]\n",
      " [ 7.8    0.76   0.04  ...  3.26   0.65   9.8  ]\n",
      " ...\n",
      " [ 6.3    0.51   0.13  ...  3.42   0.75  11.   ]\n",
      " [ 5.9    0.645  0.12  ...  3.57   0.71  10.2  ]\n",
      " [ 6.     0.31   0.47  ...  3.39   0.66  11.   ]]\n",
      "(1599, 12) (1599, 11)\n"
     ]
    }
   ],
   "source": [
    "X_new = numpy.hstack([ numpy.ones((1599,1)), X ])\n",
    "print(X_new)\n",
    "print()\n",
    "print(X)\n",
    "print(X_new.shape, X.shape)"
   ]
  },
  {
   "cell_type": "code",
   "execution_count": null,
   "metadata": {},
   "outputs": [],
   "source": [
    "np.ones"
   ]
  },
  {
   "cell_type": "markdown",
   "metadata": {},
   "source": [
    "### Exercise 4.6\n",
    "\n",
    "Implement function `fit` which takes a matrix of predictors and a vector of targets, and returns the vector of regression coefficients computed according to the OLS formula.\n",
    "Apply this function to the winequality data."
   ]
  },
  {
   "cell_type": "markdown",
   "metadata": {},
   "source": [
    "$$(X^T X)^{-1} X^T y$$"
   ]
  },
  {
   "cell_type": "code",
   "execution_count": 104,
   "metadata": {},
   "outputs": [
    {
     "name": "stdout",
     "output_type": "stream",
     "text": [
      "[[ 2.19652084e+01]\n",
      " [ 2.49905527e-02]\n",
      " [-1.08359026e+00]\n",
      " [-1.82563948e-01]\n",
      " [ 1.63312698e-02]\n",
      " [-1.87422516e+00]\n",
      " [ 4.36133331e-03]\n",
      " [-3.26457970e-03]\n",
      " [-1.78811638e+01]\n",
      " [-4.13653144e-01]\n",
      " [ 9.16334413e-01]\n",
      " [ 2.76197699e-01]]\n",
      "(12, 1)\n"
     ]
    }
   ],
   "source": [
    "def fit(X, y):\n",
    "    # ----------------------------------\n",
    "    beta = ((inv(X.T.dot(X))).dot(X.T)).dot(y)\n",
    "    return beta\n",
    "    \n",
    "print(fit(X_new,y))\n",
    "\n",
    "print(fit(X_new,y).shape)"
   ]
  },
  {
   "cell_type": "markdown",
   "metadata": {},
   "source": [
    "### Exercise 4.7\n",
    "\n",
    "Implement function `predict` which takes a vector of coefficients and a vector of predictors, and returns the predicted targets according to the regression formula (see beginning of notebook). Apply this function to the coefficients from the previous exercise, and the winequality data."
   ]
  },
  {
   "cell_type": "code",
   "execution_count": 105,
   "metadata": {},
   "outputs": [
    {
     "name": "stdout",
     "output_type": "stream",
     "text": [
      "[[5.03285045]\n",
      " [5.13787974]\n",
      " [5.20989474]\n",
      " ...\n",
      " [5.94304255]\n",
      " [5.47075621]\n",
      " [6.00819633]]\n",
      "(1599, 1)\n"
     ]
    },
    {
     "data": {
      "text/plain": [
       "1599"
      ]
     },
     "execution_count": 105,
     "metadata": {},
     "output_type": "execute_result"
    }
   ],
   "source": [
    "def predict(beta, X):\n",
    "    #--------------------------------\n",
    "    \n",
    "    return X.dot(beta)\n",
    "\n",
    "y_pred = predict(fit(X_new,y), X_new)\n",
    "\n",
    "print(y_pred)\n",
    "print(y_pred.shape)\n",
    "len(y_pred)"
   ]
  },
  {
   "cell_type": "markdown",
   "metadata": {},
   "source": [
    "### Exercise 4.8\n",
    "\n",
    "Define the following two functions to quantify how well the regression is able to predict the targets:\n",
    "- `mse` - mean squared error, defined as the mean of the squared difference between each prediction and true target: $$MSE(y, \\hat{y}) = \\frac{1}{N}\\sum_{i=1}^N (y_i-\\hat{y}_i)^2$$\n",
    "- `mae` - mean absolute error, defined as the mean of the absolute difference between each prediction and true target: $$MAE(y, \\hat{y}) = \\frac{1}{N}\\sum_{i=1}^N abs(y_i-\\hat{y}_i)$$\n",
    "\n",
    "Check how well your regression functions predict the targets in winequality according to these error measures."
   ]
  },
  {
   "cell_type": "code",
   "execution_count": 106,
   "metadata": {},
   "outputs": [
    {
     "data": {
      "text/plain": [
       "0.41676716722140794"
      ]
     },
     "execution_count": 106,
     "metadata": {},
     "output_type": "execute_result"
    }
   ],
   "source": [
    "def mse(y_true, y_pred):\n",
    "    \n",
    "    return np.square(y_true - y_pred).mean()\n",
    "\n",
    "mse(y, y_pred)"
   ]
  },
  {
   "cell_type": "code",
   "execution_count": 107,
   "metadata": {},
   "outputs": [
    {
     "data": {
      "text/plain": [
       "0.5004899634722085"
      ]
     },
     "execution_count": 107,
     "metadata": {},
     "output_type": "execute_result"
    }
   ],
   "source": [
    "def mae(y_true, y_pred):\n",
    "    return np.abs(y_true - y_pred).mean()\n",
    "\n",
    "mae(y, y_pred)"
   ]
  },
  {
   "cell_type": "markdown",
   "metadata": {},
   "source": [
    "### Exercise 4.9\n",
    "\n",
    "- Load the iris data and extract the first three column into a predictor matrix, and the fourth column into a target vector. Apply the functions `fit` and `predict` to this data, and check the MSE and MAE of your predictions."
   ]
  },
  {
   "cell_type": "code",
   "execution_count": 151,
   "metadata": {},
   "outputs": [],
   "source": [
    "dtype = [(\"SepalLength\", \"float64\"), (\"SepalWidth\", \"float64\"), (\"PetalLength\", \"float64\"),(\"PetalWidth\", \"float64\"), (\"Species\", \"U10\")] "
   ]
  },
  {
   "cell_type": "code",
   "execution_count": 152,
   "metadata": {},
   "outputs": [
    {
     "name": "stdout",
     "output_type": "stream",
     "text": [
      "(150,)\n",
      "<class 'numpy.ndarray'>\n"
     ]
    }
   ],
   "source": [
    "irisa = np.genfromtxt('irisa.txt', dtype=dtype)\n",
    "irisb = np.genfromtxt('irisb.txt', dtype=dtype)\n",
    "irisc = np.genfromtxt('irisc.txt', dtype=dtype)\n",
    "\n",
    "iris = np.hstack([irisa, irisb, irisc])\n",
    "print(iris.shape)\n",
    "print(type(iris))\n"
   ]
  },
  {
   "cell_type": "code",
   "execution_count": 150,
   "metadata": {},
   "outputs": [
    {
     "ename": "TypeError",
     "evalue": "object of type 'bool' has no len()",
     "output_type": "error",
     "traceback": [
      "\u001b[0;31m---------------------------------------------------------------------------\u001b[0m",
      "\u001b[0;31mTypeError\u001b[0m                                 Traceback (most recent call last)",
      "\u001b[0;32m<ipython-input-150-cc92c1080166>\u001b[0m in \u001b[0;36m<module>\u001b[0;34m()\u001b[0m\n\u001b[0;32m----> 1\u001b[0;31m \u001b[0mirisa\u001b[0m \u001b[0;34m=\u001b[0m \u001b[0mnp\u001b[0m\u001b[0;34m.\u001b[0m\u001b[0mgenfromtxt\u001b[0m\u001b[0;34m(\u001b[0m\u001b[0;34m'irisa.txt'\u001b[0m\u001b[0;34m,\u001b[0m \u001b[0mnames\u001b[0m\u001b[0;34m=\u001b[0m\u001b[0;32mFalse\u001b[0m\u001b[0;34m,\u001b[0m \u001b[0mdelimiter\u001b[0m\u001b[0;34m=\u001b[0m\u001b[0;32mNone\u001b[0m\u001b[0;34m)\u001b[0m\u001b[0;34m\u001b[0m\u001b[0m\n\u001b[0m\u001b[1;32m      2\u001b[0m \u001b[0mirisb\u001b[0m \u001b[0;34m=\u001b[0m \u001b[0mnp\u001b[0m\u001b[0;34m.\u001b[0m\u001b[0mgenfromtxt\u001b[0m\u001b[0;34m(\u001b[0m\u001b[0;34m'irisb.txt'\u001b[0m\u001b[0;34m,\u001b[0m \u001b[0mnames\u001b[0m\u001b[0;34m=\u001b[0m\u001b[0;32mFalse\u001b[0m\u001b[0;34m,\u001b[0m \u001b[0mdelimiter\u001b[0m\u001b[0;34m=\u001b[0m\u001b[0;34m''\u001b[0m\u001b[0;34m)\u001b[0m\u001b[0;34m\u001b[0m\u001b[0m\n\u001b[1;32m      3\u001b[0m \u001b[0mirisc\u001b[0m \u001b[0;34m=\u001b[0m \u001b[0mnp\u001b[0m\u001b[0;34m.\u001b[0m\u001b[0mgenfromtxt\u001b[0m\u001b[0;34m(\u001b[0m\u001b[0;34m'irisc.txt'\u001b[0m\u001b[0;34m,\u001b[0m \u001b[0mnames\u001b[0m\u001b[0;34m=\u001b[0m\u001b[0;32mFalse\u001b[0m\u001b[0;34m,\u001b[0m \u001b[0mdelimiter\u001b[0m\u001b[0;34m=\u001b[0m\u001b[0;34m''\u001b[0m\u001b[0;34m)\u001b[0m\u001b[0;34m\u001b[0m\u001b[0m\n\u001b[1;32m      4\u001b[0m \u001b[0;34m\u001b[0m\u001b[0m\n\u001b[1;32m      5\u001b[0m \u001b[0miris\u001b[0m \u001b[0;34m=\u001b[0m \u001b[0mnp\u001b[0m\u001b[0;34m.\u001b[0m\u001b[0mhstack\u001b[0m\u001b[0;34m(\u001b[0m\u001b[0;34m[\u001b[0m\u001b[0mirisa\u001b[0m\u001b[0;34m,\u001b[0m \u001b[0mirisb\u001b[0m\u001b[0;34m,\u001b[0m \u001b[0mirisc\u001b[0m\u001b[0;34m]\u001b[0m\u001b[0;34m)\u001b[0m\u001b[0;34m\u001b[0m\u001b[0m\n",
      "\u001b[0;32m/anaconda3/lib/python3.6/site-packages/numpy/lib/npyio.py\u001b[0m in \u001b[0;36mgenfromtxt\u001b[0;34m(fname, dtype, comments, delimiter, skip_header, skip_footer, converters, missing_values, filling_values, usecols, names, excludelist, deletechars, replace_space, autostrip, case_sensitive, defaultfmt, unpack, usemask, loose, invalid_raise, max_rows, encoding)\u001b[0m\n\u001b[1;32m   1766\u001b[0m                            \u001b[0mdeletechars\u001b[0m\u001b[0;34m=\u001b[0m\u001b[0mdeletechars\u001b[0m\u001b[0;34m,\u001b[0m\u001b[0;34m\u001b[0m\u001b[0m\n\u001b[1;32m   1767\u001b[0m                            \u001b[0mcase_sensitive\u001b[0m\u001b[0;34m=\u001b[0m\u001b[0mcase_sensitive\u001b[0m\u001b[0;34m,\u001b[0m\u001b[0;34m\u001b[0m\u001b[0m\n\u001b[0;32m-> 1768\u001b[0;31m                            replace_space=replace_space)\n\u001b[0m\u001b[1;32m   1769\u001b[0m     \u001b[0;31m# Make sure the names is a list (for 2.5)\u001b[0m\u001b[0;34m\u001b[0m\u001b[0;34m\u001b[0m\u001b[0m\n\u001b[1;32m   1770\u001b[0m     \u001b[0;32mif\u001b[0m \u001b[0mnames\u001b[0m \u001b[0;32mis\u001b[0m \u001b[0;32mnot\u001b[0m \u001b[0;32mNone\u001b[0m\u001b[0;34m:\u001b[0m\u001b[0;34m\u001b[0m\u001b[0m\n",
      "\u001b[0;32m/anaconda3/lib/python3.6/site-packages/numpy/lib/_iotools.py\u001b[0m in \u001b[0;36measy_dtype\u001b[0;34m(ndtype, names, defaultfmt, **validationargs)\u001b[0m\n\u001b[1;32m    934\u001b[0m             \u001b[0;31m# Simple dtype: repeat to match the nb of names\u001b[0m\u001b[0;34m\u001b[0m\u001b[0;34m\u001b[0m\u001b[0m\n\u001b[1;32m    935\u001b[0m             \u001b[0;32mif\u001b[0m \u001b[0mnbtypes\u001b[0m \u001b[0;34m==\u001b[0m \u001b[0;36m0\u001b[0m\u001b[0;34m:\u001b[0m\u001b[0;34m\u001b[0m\u001b[0m\n\u001b[0;32m--> 936\u001b[0;31m                 \u001b[0mformats\u001b[0m \u001b[0;34m=\u001b[0m \u001b[0mtuple\u001b[0m\u001b[0;34m(\u001b[0m\u001b[0;34m[\u001b[0m\u001b[0mndtype\u001b[0m\u001b[0;34m.\u001b[0m\u001b[0mtype\u001b[0m\u001b[0;34m]\u001b[0m \u001b[0;34m*\u001b[0m \u001b[0mlen\u001b[0m\u001b[0;34m(\u001b[0m\u001b[0mnames\u001b[0m\u001b[0;34m)\u001b[0m\u001b[0;34m)\u001b[0m\u001b[0;34m\u001b[0m\u001b[0m\n\u001b[0m\u001b[1;32m    937\u001b[0m                 \u001b[0mnames\u001b[0m \u001b[0;34m=\u001b[0m \u001b[0mvalidate\u001b[0m\u001b[0;34m(\u001b[0m\u001b[0mnames\u001b[0m\u001b[0;34m,\u001b[0m \u001b[0mdefaultfmt\u001b[0m\u001b[0;34m=\u001b[0m\u001b[0mdefaultfmt\u001b[0m\u001b[0;34m)\u001b[0m\u001b[0;34m\u001b[0m\u001b[0m\n\u001b[1;32m    938\u001b[0m                 \u001b[0mndtype\u001b[0m \u001b[0;34m=\u001b[0m \u001b[0mnp\u001b[0m\u001b[0;34m.\u001b[0m\u001b[0mdtype\u001b[0m\u001b[0;34m(\u001b[0m\u001b[0mlist\u001b[0m\u001b[0;34m(\u001b[0m\u001b[0mzip\u001b[0m\u001b[0;34m(\u001b[0m\u001b[0mnames\u001b[0m\u001b[0;34m,\u001b[0m \u001b[0mformats\u001b[0m\u001b[0;34m)\u001b[0m\u001b[0;34m)\u001b[0m\u001b[0;34m)\u001b[0m\u001b[0;34m\u001b[0m\u001b[0m\n",
      "\u001b[0;31mTypeError\u001b[0m: object of type 'bool' has no len()"
     ]
    }
   ],
   "source": [
    "irisa = np.genfromtxt('irisa.txt', names=False, delimiter=None)\n",
    "irisb = np.genfromtxt('irisb.txt', names=False, delimiter='')\n",
    "irisc = np.genfromtxt('irisc.txt', names=False, delimiter='')\n",
    "\n",
    "iris = np.hstack([irisa, irisb, irisc])\n",
    "print(iris.shape)\n",
    "print(type(iris))\n"
   ]
  },
  {
   "cell_type": "code",
   "execution_count": 153,
   "metadata": {},
   "outputs": [
    {
     "ename": "ValueError",
     "evalue": "Changing the dtype to a subarray type is only supported if the total itemsize is unchanged",
     "output_type": "error",
     "traceback": [
      "\u001b[0;31m---------------------------------------------------------------------------\u001b[0m",
      "\u001b[0;31mValueError\u001b[0m                                Traceback (most recent call last)",
      "\u001b[0;32m<ipython-input-153-f43be5963a93>\u001b[0m in \u001b[0;36m<module>\u001b[0;34m()\u001b[0m\n\u001b[0;32m----> 1\u001b[0;31m \u001b[0mXy\u001b[0m \u001b[0;34m=\u001b[0m \u001b[0miris\u001b[0m\u001b[0;34m.\u001b[0m\u001b[0mview\u001b[0m\u001b[0;34m(\u001b[0m\u001b[0;34m(\u001b[0m\u001b[0miris\u001b[0m\u001b[0;34m.\u001b[0m\u001b[0mdtype\u001b[0m\u001b[0;34m[\u001b[0m\u001b[0;36m0\u001b[0m\u001b[0;34m]\u001b[0m\u001b[0;34m,\u001b[0m \u001b[0mlen\u001b[0m\u001b[0;34m(\u001b[0m\u001b[0miris\u001b[0m\u001b[0;34m.\u001b[0m\u001b[0mdtype\u001b[0m\u001b[0;34m)\u001b[0m\u001b[0;34m)\u001b[0m\u001b[0;34m)\u001b[0m\u001b[0;34m\u001b[0m\u001b[0m\n\u001b[0m",
      "\u001b[0;31mValueError\u001b[0m: Changing the dtype to a subarray type is only supported if the total itemsize is unchanged"
     ]
    }
   ],
   "source": [
    "Xy = iris.view((iris.dtype[0], len(iris.dtype)))"
   ]
  },
  {
   "cell_type": "code",
   "execution_count": null,
   "metadata": {},
   "outputs": [],
   "source": []
  }
 ],
 "metadata": {
  "kernelspec": {
   "display_name": "Python 3",
   "language": "python",
   "name": "python3"
  },
  "language_info": {
   "codemirror_mode": {
    "name": "ipython",
    "version": 3
   },
   "file_extension": ".py",
   "mimetype": "text/x-python",
   "name": "python",
   "nbconvert_exporter": "python",
   "pygments_lexer": "ipython3",
   "version": "3.6.4"
  }
 },
 "nbformat": 4,
 "nbformat_minor": 1
}
