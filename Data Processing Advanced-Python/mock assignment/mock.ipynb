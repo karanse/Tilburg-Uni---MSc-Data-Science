{
 "cells": [
  {
   "cell_type": "markdown",
   "metadata": {},
   "source": [
    "### Task 1\n",
    "\n",
    "Define function ``average`` which takes an array of numbers and returns\n",
    "the arithmetic mean of them. The function should work like this:"
   ]
  },
  {
   "cell_type": "code",
   "execution_count": 1,
   "metadata": {},
   "outputs": [
    {
     "name": "stdout",
     "output_type": "stream",
     "text": [
      "2.0\n",
      "1.0\n"
     ]
    }
   ],
   "source": [
    "import numpy\n",
    "from assignment import average\n",
    "a = numpy.array([1.0, 2.0, 3.0])\n",
    "b = numpy.ones((2,3))\n",
    "print(average(a))\n",
    "print(average(b))"
   ]
  },
  {
   "cell_type": "markdown",
   "metadata": {},
   "source": [
    "### Task 2\n",
    "\n",
    "Define function ``predict`` which applies the set of coefficients of linear regression to the matrix of predictors.\n",
    "The function has two arguments:\n",
    "- `beta`: array of coefficients of shape (F,) where F is the number of predictors\n",
    "- `X`: matrix of predicts with shape (N, F) where N is the number of examples and F the number of predictors\n",
    "\n",
    "The function should multiply the matrix `X` by the vector `beta` according to the following formula:\n",
    "\n",
    "$$\n",
    "    \\hat{Y} = \\mathbf{X} \\beta\n",
    "$$\n",
    "Example:"
   ]
  },
  {
   "cell_type": "code",
   "execution_count": 2,
   "metadata": {},
   "outputs": [
    {
     "name": "stdout",
     "output_type": "stream",
     "text": [
      "[-58.68 -43.68 -67.24]\n"
     ]
    }
   ],
   "source": [
    "import numpy\n",
    "from assignment import predict\n",
    "beta = numpy.array([-11.2,  11.2, -10.0])\n",
    "X = numpy.array([[1, -2.9,  1.5], \n",
    "                 [1, -0.4,  2.8], \n",
    "                 [1, -4.2,  0.9]])\n",
    "print(predict(beta, X))"
   ]
  },
  {
   "cell_type": "code",
   "execution_count": null,
   "metadata": {},
   "outputs": [],
   "source": []
  }
 ],
 "metadata": {
  "kernelspec": {
   "display_name": "Python 3",
   "language": "python",
   "name": "python3"
  },
  "language_info": {
   "codemirror_mode": {
    "name": "ipython",
    "version": 3
   },
   "file_extension": ".py",
   "mimetype": "text/x-python",
   "name": "python",
   "nbconvert_exporter": "python",
   "pygments_lexer": "ipython3",
   "version": "3.5.3"
  }
 },
 "nbformat": 4,
 "nbformat_minor": 2
}
