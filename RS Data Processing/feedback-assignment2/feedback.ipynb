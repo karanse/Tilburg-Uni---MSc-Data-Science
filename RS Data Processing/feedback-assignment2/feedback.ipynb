{
 "cells": [
  {
   "cell_type": "code",
   "execution_count": 2,
   "metadata": {},
   "outputs": [
    {
     "name": "stdout",
     "output_type": "stream",
     "text": [
      "2\n",
      "2\n",
      "\n",
      "**********************************************************************\n",
      "\n",
      "There is something wrong with your implementation of multi3_odd.\n",
      "With this input:\n",
      "(2, 13)\n",
      "Your code outputs output of the type NoneType.\n",
      "The desired output type is int.\n",
      "0\n",
      "\n",
      "**********************************************************************\n",
      "\n",
      "There is something wrong with your implementation of multi3_odd.\n",
      "With this input:\n",
      "(0, 0)\n",
      "Your code outputs output of the type NoneType.\n",
      "The desired output type is int.\n",
      "17\n",
      "\n",
      "**********************************************************************\n",
      "\n",
      "There is something wrong with your implementation of multi3_odd.\n",
      "With this input:\n",
      "(2, 100)\n",
      "Your code outputs output of the type NoneType.\n",
      "The desired output type is int.\n",
      "0\n",
      "\n",
      "**********************************************************************\n",
      "\n",
      "There is something wrong with your implementation of multi3_odd.\n",
      "With this input:\n",
      "(2, 3)\n",
      "Your code outputs output of the type NoneType.\n",
      "The desired output type is int.\n",
      "\n",
      "**********************************************************************\n",
      "\n",
      "Your code passed 0 of 4 test cases.\n",
      "Assignment not passed.\n",
      "Take a look at the feedback and try to improve your code.\n",
      "\n",
      "**********************************************************************\n",
      "\n"
     ]
    }
   ],
   "source": [
    "import grader\n",
    "\n",
    "# Test code in your solution, giving feedback on individual testcases\n",
    "passed_tests = grader.grade('testcases.p')\n",
    "\n",
    "# print report on overall score & passing the assignment\n",
    "grader.report(passed_tests)"
   ]
  },
  {
   "cell_type": "code",
   "execution_count": null,
   "metadata": {},
   "outputs": [],
   "source": []
  },
  {
   "cell_type": "code",
   "execution_count": null,
   "metadata": {},
   "outputs": [],
   "source": []
  }
 ],
 "metadata": {
  "kernelspec": {
   "display_name": "Python 3",
   "language": "python",
   "name": "python3"
  },
  "language_info": {
   "codemirror_mode": {
    "name": "ipython",
    "version": 3
   },
   "file_extension": ".py",
   "mimetype": "text/x-python",
   "name": "python",
   "nbconvert_exporter": "python",
   "pygments_lexer": "ipython3",
   "version": "3.6.4"
  }
 },
 "nbformat": 4,
 "nbformat_minor": 2
}
