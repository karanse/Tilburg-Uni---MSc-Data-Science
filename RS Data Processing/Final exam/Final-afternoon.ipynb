{
 "cells": [
  {
   "cell_type": "markdown",
   "metadata": {},
   "source": [
    "## Final Exam"
   ]
  },
  {
   "cell_type": "markdown",
   "metadata": {},
   "source": [
    "**Question 1.** The following functions contain multiple errors. Please read the specification of each function and look at the examples, then correct each function to get the desired output. Please note that we don't want you to rewrite the function in your own way, but to keep the structure of the function and only fix its errors."
   ]
  },
  {
   "cell_type": "markdown",
   "metadata": {},
   "source": [
    "**Question 1a.** The function text_overlap is supposed to take two strings, and return all the characters they have in common (each character returned only once).\n",
    "\n"
   ]
  },
  {
   "cell_type": "code",
   "execution_count": null,
   "metadata": {},
   "outputs": [],
   "source": [
    "def text_overlap(text1, text2):\n",
    "    overlap = \"\"\n",
    "    for i in text1\n",
    "        if i in text2 and not in overlap:\n",
    "            overlap.append(i)\n",
    "    return overlap\n"
   ]
  },
  {
   "cell_type": "markdown",
   "metadata": {},
   "source": [
    "For example,\n",
    "- text_overlap(\"apple\",\"orange\") should return \"ae\"\n",
    "- text_overlap(\"here\",\"there\") should return \"her\"\n",
    "- text_overlap(\"a\",\"b\") should return \"\"\n"
   ]
  },
  {
   "cell_type": "markdown",
   "metadata": {},
   "source": [
    "**Solution:**"
   ]
  },
  {
   "cell_type": "code",
   "execution_count": null,
   "metadata": {},
   "outputs": [],
   "source": [
    "def text_overlap(text1, text2):\n",
    "    overlap = \"\"\n",
    "    for i in text1:\n",
    "        if i in text2 and i not in overlap:\n",
    "            overlap += i\n",
    "    return overlap"
   ]
  },
  {
   "cell_type": "code",
   "execution_count": null,
   "metadata": {},
   "outputs": [],
   "source": [
    "print(text_overlap(\"apple\",\"banana\"))\n",
    "print(text_overlap(\"aabbccee\",\"abce\"))\n",
    "print(text_overlap(\"a\",\"d\"))\n",
    "print(text_overlap(\"\",\"banana\"))\n",
    "print(text_overlap(\"\",\"\"))"
   ]
  },
  {
   "cell_type": "markdown",
   "metadata": {},
   "source": [
    "**Question 1b.** The function 'minimum_pair' should receive a non-empty list of lists, where each sub-list is a pair of numbers. It should return the sub-list [num1,num2] with the lowest difference (num1-num2).  If there are multiple sub-lists with the same difference, it should return the first one:"
   ]
  },
  {
   "cell_type": "code",
   "execution_count": null,
   "metadata": {},
   "outputs": [],
   "source": [
    "def minimum_pair(numbers):\n",
    "    min_pair = numbers[0]\n",
    "    min_diff = min_pair[0] - min_pair[1]\n",
    "    for item in numbers[1:]:\n",
    "        new_diff = item[0] - item[1]\n",
    "        if new_diff > min_diff:\n",
    "            min_pair = item\n",
    "            min_diff = new_diff\n",
    "        return min_pair\n"
   ]
  },
  {
   "cell_type": "markdown",
   "metadata": {},
   "source": [
    "For example,\n",
    "- minimum_pair([[10,2],[45,2],[11,12]]) should return [11,12]\n",
    "- minimum_pair([[1,2],[45,2],[11,12]]) should return [1,2]"
   ]
  },
  {
   "cell_type": "markdown",
   "metadata": {},
   "source": [
    "**Solution:**"
   ]
  },
  {
   "cell_type": "code",
   "execution_count": null,
   "metadata": {},
   "outputs": [],
   "source": [
    "def minimum_pair(numbers):\n",
    "    min_pair = numbers[0]\n",
    "    min_diff = min_pair[0] - min_pair[1]\n",
    "    for item in numbers[1:]:\n",
    "        new_diff = item[0] - item[1]\n",
    "        if new_diff < min_diff:\n",
    "            min_pair = item\n",
    "            min_diff = new_diff\n",
    "    return min_pair"
   ]
  },
  {
   "cell_type": "code",
   "execution_count": null,
   "metadata": {},
   "outputs": [],
   "source": [
    "print(minimum_pair([[100,20],[1,2]]))\n",
    "print(minimum_pair([[1,2],[110,111]]))\n",
    "print(minimum_pair([[0,0]]))\n",
    "print(minimum_pair([[0,0],[1,1]]))\n",
    "print(minimum_pair([[0,0],[0,1]]))\n"
   ]
  },
  {
   "cell_type": "markdown",
   "metadata": {},
   "source": [
    "**Question 3.** We would like to build a system for storing and processing recipes. For each recipe we want to store a list of ingredients, where each ingredient itself is a list of an item, its unit and its quantity in that unit. For example, the ingredient list for a sponge cake recipe can be stored as follows:\n",
    "\n",
    "    [['butter','gr', 125.0], \n",
    "     ['sugar', 'gr', 100.0], \n",
    "     ['egg', 'whole', 2.0], \n",
    "     ['flour', 'gr', 200.0], \n",
    "     ['tin', 'cm', 18.5]]\n",
    "     \n",
    "In the following questions we can assume that:\n",
    "- ingredient names are in lower case and non-empty;\n",
    "- units are either 'gr' (for gram), 'cm' (for centimetre), 'oz' (for ounce), 'in' (for inch) or 'whole' (for whole items such as an egg);\n",
    "- quantities are positive, non-zero float values;\n",
    "- each ingredient appears only once in each recipe."
   ]
  },
  {
   "cell_type": "markdown",
   "metadata": {},
   "source": [
    "**Quesion 3a.** We need a function 'convert_recipe' which receives an ingredient list for a recipe (a nested list as described above) with American units, and returns a version of this list converted to the metric system. Here are the conversion rules:\n",
    "- 1 ounce ('oz') is 28.35 grams ('gr') \n",
    "- 1 inch ('in') is 2.54 centimetres ('cm')\n",
    "- 'whole' stays the same.\n"
   ]
  },
  {
   "cell_type": "code",
   "execution_count": null,
   "metadata": {},
   "outputs": [],
   "source": [
    "def convert_recipe(ingredients):\n",
    "    return #ingredients in metric units"
   ]
  },
  {
   "cell_type": "markdown",
   "metadata": {},
   "source": [
    "For example, \n",
    "\n",
    "convert_recipe([['butter','oz', 4.5], \n",
    " ['sugar', 'oz', 4.0], \n",
    " ['egg', 'whole', 2.0], \n",
    " ['flour', 'oz', 7.2], \n",
    " ['tin', 'in', 7]])\n",
    " \n",
    "should return \n",
    "\n",
    "[['butter', 'gr', 127.575],\n",
    " ['sugar', 'gr', 113.4],\n",
    " ['egg', 'whole', 2.0],\n",
    " ['flour', 'gr', 204.12],\n",
    " ['tin', 'cm', 17.78]]"
   ]
  },
  {
   "cell_type": "markdown",
   "metadata": {},
   "source": [
    "**Solution:**"
   ]
  },
  {
   "cell_type": "code",
   "execution_count": null,
   "metadata": {},
   "outputs": [],
   "source": [
    "def convert_recipe(ingredients):\n",
    "    converted = []\n",
    "    for item in ingredients:\n",
    "        if item[1] == 'oz':\n",
    "            item[1] = 'gr'\n",
    "            item[2] *= 28.35\n",
    "        elif item[1] == 'in':\n",
    "            item[1] = 'cm'\n",
    "            item[2] *= 2.54\n",
    "        converted.append(item)\n",
    "    return converted"
   ]
  },
  {
   "cell_type": "code",
   "execution_count": null,
   "metadata": {
    "scrolled": true
   },
   "outputs": [],
   "source": [
    "print(convert_recipe([['butter','oz', 4.5],['sugar', 'oz', 4.0],['egg', 'whole', 2.0],['flour', 'oz', 7.2],['tin', 'in', 7]]))\n",
    "print(convert_recipe([['butter','oz', 1],['sugar', 'oz', 4.0]]))\n",
    "print(convert_recipe([['tin', 'in', 7]]))\n",
    "print(convert_recipe([['egg', 'whole', 2.0]]))\n",
    "print(convert_recipe([]))"
   ]
  },
  {
   "cell_type": "markdown",
   "metadata": {},
   "source": [
    "**Question 3b.** We need a function 'veganize' which creates a vegan-friendly version of each recipe. This function recieves two input parameters:\n",
    "- 'ingredient_list': a list of ingredients as described before;\n",
    "- 'replacements': a list of possible replacements such as ['egg','banana'], where the first item in each sub-list is a non-vegan ingredient and the second item is a vegan replacement for it. Both items are non-empty strings in lower case, and every non-vegan item appears only once in the 'replacements' list.\n",
    "\n",
    "The function returns a new ingredient list with all the non-vegan items replaced with the vegan ones according to 'replacements'. You can assume that the units and quantities for replaced items stay the same."
   ]
  },
  {
   "cell_type": "code",
   "execution_count": null,
   "metadata": {},
   "outputs": [],
   "source": [
    "def veganize(ingredient_list, replacements):\n",
    "    return #vegan version of the ingredient list"
   ]
  },
  {
   "cell_type": "markdown",
   "metadata": {},
   "source": [
    "For example, \n",
    "\n",
    "recipe = [['butter', 'oz', 4.375],\n",
    " ['sugar', 'oz', 3.5000000000000004],\n",
    " ['egg', 'one', 2],\n",
    " ['flour', 'oz', 7.000000000000001],\n",
    " ['tin', 'in', 7.0200000000000005]]\n",
    "replacements = [['egg','banana'],['butter','coconut oil'],['milk','soy milk']]\n",
    "veganize(recipe,replacements) \n",
    "\n",
    "should return:\n",
    "\n",
    "[['coconut oil', 'oz', 4.375],\n",
    " ['sugar', 'oz', 3.5],\n",
    " ['banana', 'one', 2],\n",
    " ['flour', 'oz', 7.0],\n",
    " ['tin', 'in', 7.02]]"
   ]
  },
  {
   "cell_type": "markdown",
   "metadata": {},
   "source": [
    "**Solution:**"
   ]
  },
  {
   "cell_type": "code",
   "execution_count": null,
   "metadata": {},
   "outputs": [],
   "source": [
    "def veganize(ingredient_list, replacements):\n",
    "    converted = []\n",
    "    for item in ingredient_list:\n",
    "        for i in replacements:\n",
    "            if item[0] == i[0]:\n",
    "                item[0] = i[1]\n",
    "        converted.append(item)\n",
    "    return converted"
   ]
  },
  {
   "cell_type": "code",
   "execution_count": null,
   "metadata": {},
   "outputs": [],
   "source": [
    "print(veganize([['butter', 'gr', 75],['sugar', 'gr', 150],['egg', 'whole', 2],['flour', 'gr', 200],['tin', 'cm', 18]], [['egg','banana'],['butter','coconut oil'],['milk','soy milk']]))\n",
    "print(veganize([['butter', 'gr', 75]], [['egg','banana'],['butter','coconut oil'],['milk','soy milk']]))\n",
    "print(veganize([['egg', 'whole', 2]], [['egg','banana'],['butter','coconut oil'],['milk','soy milk']]))\n",
    "print(veganize([['butter', 'gr', 75],['sugar', 'gr', 150],['egg', 'whole', 2],['flour', 'gr', 200],['tin', 'cm', 18]],[]))\n",
    "print(veganize([], [['egg','banana'],['butter','coconut oil'],['milk','soy milk']]))\n"
   ]
  },
  {
   "cell_type": "markdown",
   "metadata": {},
   "source": [
    "**Question 2.** Henry is a greengrocer that sells different kinds of greens, and needs an automatic system for keeping and updating his inventory. "
   ]
  },
  {
   "cell_type": "markdown",
   "metadata": {},
   "source": [
    "**Question 2a.**\n",
    "The first step is to write a function 'read_inventory' that reads the inventory infromation from an input file. Each line in this file has the following format:\n",
    "\n",
    "    product,boxes,capacity\n",
    "\n",
    "where 'product' is the name of a fruit or vegetable, 'boxes' is a non-negative integer referring to the number of boxes containing 'product', and 'capacity' is the number of items in each box. \n",
    "\n",
    "The function returns a dictionary, where the key is a string containing the name of the product in lower case, and the value associated with each key is a non-negative number referring to the total number of items of type 'product' (that is, the number of boxes multiplied by the capacity of each box).\n",
    "\n",
    "You can assume that\n",
    "- each line in the file has the correct format (that is, a string value for 'product' and integer numbers for 'boxes' and 'capacity'),\n",
    "- each product appears only once in the file."
   ]
  },
  {
   "cell_type": "code",
   "execution_count": null,
   "metadata": {},
   "outputs": [],
   "source": [
    "def read_inventory(file_name):\n",
    "    return #a dictionary containing the inventory"
   ]
  },
  {
   "cell_type": "markdown",
   "metadata": {},
   "source": [
    "For example, \n",
    "\n",
    "    read_inventory('inventory.txt') \n",
    "\n",
    "should return \n",
    "\n",
    "    {'apple': 800, 'kale': 100, 'lettuce': 585, 'orange': 240}\n",
    "\n"
   ]
  },
  {
   "cell_type": "markdown",
   "metadata": {},
   "source": [
    "**Solution:**"
   ]
  },
  {
   "cell_type": "code",
   "execution_count": null,
   "metadata": {},
   "outputs": [],
   "source": [
    "def read_inventory(file_name):\n",
    "    inv_file = open(file_name, 'r')\n",
    "    inventory = {}\n",
    "    for line in inv_file:\n",
    "        items = line.strip().split(',')\n",
    "        inventory[items[0].lower()] = int(items[1]) * int(items[2])\n",
    "    inv_file.close()\n",
    "    return inventory"
   ]
  },
  {
   "cell_type": "code",
   "execution_count": null,
   "metadata": {},
   "outputs": [],
   "source": [
    "print(read_inventory('inventory0.csv'))\n",
    "print(read_inventory('inventory1.csv'))\n",
    "print(read_inventory('inventory2.csv'))\n",
    "print(read_inventory('inventory3.csv'))\n",
    "print(read_inventory('inventory4.csv'))"
   ]
  },
  {
   "cell_type": "markdown",
   "metadata": {},
   "source": [
    "**Question 2b.** We now need a function 'stock_after_shipment' that updates the inventory after receiving a new shipment. This function takes two input parameters: \n",
    "- a dictionary with the inventory before the arrival of the new shipment, e.g.,{'kale': 36, 'lettuce': 11, 'apple': 752}\n",
    "- a dictionary with the content of the new shipment, e.g., {'Lettuce': 10, 'Orange': 200}\n",
    "\n",
    "The function returns a new dictionary reflecting the inventory after the shipment; that is, with the items in the shipment added to the current inventory. Note that the product names in the new shipment should be converted to lower case."
   ]
  },
  {
   "cell_type": "code",
   "execution_count": null,
   "metadata": {},
   "outputs": [],
   "source": [
    "def stock_after_shipment(inventory,shipment):\n",
    "    return #the new inventory after a shipment"
   ]
  },
  {
   "cell_type": "markdown",
   "metadata": {},
   "source": [
    "*For example,*\n",
    "\n",
    "    inventory = {'kale': 36, 'lettuce': 11, 'apple': 752}\n",
    "    shipment = {'Lettuce': 10, 'Orange': 200}\n",
    "    stock_after_shipment(inventory, shipment)\n",
    "\n",
    "*returns*\n",
    "\n",
    "    {'apple': 752, 'kale': 36, 'lettuce': 21, 'orange': 200}"
   ]
  },
  {
   "cell_type": "markdown",
   "metadata": {},
   "source": [
    "**Solution:**"
   ]
  },
  {
   "cell_type": "code",
   "execution_count": null,
   "metadata": {},
   "outputs": [],
   "source": [
    "def stock_after_shipment(inventory,shipment):\n",
    "    for item in shipment:  \n",
    "        new_item = item.lower()\n",
    "        if new_item not in inventory:\n",
    "            inventory[new_item] = 0\n",
    "        inventory[new_item] += shipment[item]\n",
    "    return inventory"
   ]
  },
  {
   "cell_type": "code",
   "execution_count": null,
   "metadata": {},
   "outputs": [],
   "source": [
    "print(stock_after_shipment({'kale': 36, 'lettuce': 11, 'apple': 752}, {'Lettuce': 10, 'Orange': 200}))\n",
    "print(stock_after_shipment({}, {'Lettuce': 10, 'Orange': 200}))\n",
    "print(stock_after_shipment({'kale': 36, 'lettuce': 11, 'apple': 752}, {}))\n",
    "print(stock_after_shipment({'kale': 36, 'lettuce': 11, 'apple': 752}, {'Lettuce': 10}))\n",
    "print(stock_after_shipment({'kale': 36, 'lettuce': 11, 'apple': 752}, {'Orange': 200}))\n",
    "    "
   ]
  },
  {
   "cell_type": "markdown",
   "metadata": {},
   "source": [
    "**Question 2c**. We need a function 'check_inventory' which takes two arguments: \n",
    "- 'shopping_list' as a list of product names (string). This list can contain multiple instances of the same product. \n",
    "- 'inventory', a dictionary with product names as a string key and the stock for each product as a non-negative integer value.\n",
    "\n",
    "The function returns True if all the products are available in the inventory, and False otherwise. Note that you should convert the items in the shopping list to lower case.\n"
   ]
  },
  {
   "cell_type": "code",
   "execution_count": null,
   "metadata": {},
   "outputs": [],
   "source": [
    "def check_inventory(shopping_list, inventory):\n",
    "    return #True if shopping_list is available in inventory,\n",
    "           #False otherwise"
   ]
  },
  {
   "cell_type": "markdown",
   "metadata": {},
   "source": [
    "For example,\n",
    "\n",
    "    shopping_list = [\"Apple\",\"Apple\",\"Apple\",\"Kale\"]\n",
    "    inventory = {'kale': 36, 'lettuce': 11, 'apple': 2}\n",
    "    check_inventory(shopping_list,inventory) \n",
    "\n",
    "should return False.\n"
   ]
  },
  {
   "cell_type": "code",
   "execution_count": null,
   "metadata": {},
   "outputs": [],
   "source": [
    "def check_inventory(shopping_list, inventory):\n",
    "    shopping = {}\n",
    "    for item in shopping_list:\n",
    "        item = item.lower()\n",
    "        if item not in shopping:\n",
    "            shopping[item] = 0\n",
    "        shopping[item] += 1\n",
    "    for item in shopping:\n",
    "        if item not in inventory:\n",
    "            return False\n",
    "        if shopping[item] > inventory[item]:\n",
    "            return False\n",
    "    return True\n",
    " "
   ]
  },
  {
   "cell_type": "code",
   "execution_count": null,
   "metadata": {},
   "outputs": [],
   "source": [
    "print(check_inventory([\"Apple\",\"Apple\",\"Apple\",\"Kale\",\"Orange\"],{'kale': 36, 'lettuce': 11, 'apple': 2}))\n",
    "print(check_inventory([],{'kale': 36, 'lettuce': 11, 'apple': 2}))\n",
    "print(check_inventory([\"Apple\",\"Apple\",\"Kale\",\"Orange\"],{}))\n",
    "print(check_inventory([\"apple\",\"apple\",\"kale\"],{'kale': 36, 'lettuce': 11, 'apple': 2}))\n",
    "print(check_inventory([\"apple\",\"apple\",\"kale\",\"orange\"],{'kale': 36, 'lettuce': 11, 'apple': 2}))\n"
   ]
  },
  {
   "cell_type": "code",
   "execution_count": null,
   "metadata": {},
   "outputs": [],
   "source": []
  }
 ],
 "metadata": {
  "kernelspec": {
   "display_name": "Python 3",
   "language": "python",
   "name": "python3"
  },
  "language_info": {
   "codemirror_mode": {
    "name": "ipython",
    "version": 3
   },
   "file_extension": ".py",
   "mimetype": "text/x-python",
   "name": "python",
   "nbconvert_exporter": "python",
   "pygments_lexer": "ipython3",
   "version": "3.5.3"
  }
 },
 "nbformat": 4,
 "nbformat_minor": 2
}
