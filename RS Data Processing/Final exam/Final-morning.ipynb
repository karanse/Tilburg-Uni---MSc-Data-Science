{
 "cells": [
  {
   "cell_type": "markdown",
   "metadata": {},
   "source": [
    "## Final Exam"
   ]
  },
  {
   "cell_type": "markdown",
   "metadata": {},
   "source": [
    "**Question 1.** The following functions contain multiple errors. Please read the specification of each function and look at the examples, then correct each function to get the desired output. Please note that we don't want you to rewrite the function in your own way, but to keep the structure of the function and only fix its errors."
   ]
  },
  {
   "cell_type": "markdown",
   "metadata": {},
   "source": [
    "**Question 1.a.** The function highest_sum is supposed to take a list of lists containing non-negative integers, and return the (sub-)list whose sum is the highest. If two sublists have the same sum, the first one is returned."
   ]
  },
  {
   "cell_type": "code",
   "execution_count": null,
   "metadata": {},
   "outputs": [],
   "source": [
    "def highest_sum(num_list):\n",
    "    maxsum = 1\n",
    "    high_list = []\n",
    "    for l in num_list:\n",
    "        if sum(l) > maxsum:\n",
    "            maxsum = sum(l)\n",
    "            high_list = l\n",
    "    return l"
   ]
  },
  {
   "cell_type": "markdown",
   "metadata": {},
   "source": [
    "*For example,*\n",
    "- highest_sum([[1,2],[3],[4,5]]) *should return* [4,5]\n",
    "- highest_sum([[10,2],[12],[4,5]]) *should return* [10,2]\n",
    "- highest_sum([[0]]) *should return* [0]"
   ]
  },
  {
   "cell_type": "markdown",
   "metadata": {},
   "source": [
    "**Solution:**"
   ]
  },
  {
   "cell_type": "code",
   "execution_count": null,
   "metadata": {},
   "outputs": [],
   "source": [
    "def highest_sum(num_list):\n",
    "    maxsum = -1\n",
    "    high_list = []\n",
    "    for l in num_list:\n",
    "        if sum(l) > maxsum:\n",
    "            maxsum = sum(l)\n",
    "            high_list = l\n",
    "    return high_list"
   ]
  },
  {
   "cell_type": "code",
   "execution_count": null,
   "metadata": {},
   "outputs": [],
   "source": [
    "print(highest_sum([[1,2],[3],[4,5]]))\n",
    "print(highest_sum([[10,2],[11],[4,5]]))\n",
    "print(highest_sum([[10,2],[12],[4,5]]))\n",
    "print(highest_sum([[0]]))\n",
    "print(highest_sum([]))"
   ]
  },
  {
   "cell_type": "markdown",
   "metadata": {},
   "source": [
    "**Question 1.b.** The function text_overlap is supposed to take two strings, and return all the characters they have in common (each character returned only once)."
   ]
  },
  {
   "cell_type": "code",
   "execution_count": null,
   "metadata": {},
   "outputs": [],
   "source": [
    "def text_overlap(text1, text2):\n",
    "    overlap = \"\"\n",
    "    for i in range(0,len(text1)):\n",
    "        if (i in text2) and (i in overlap):\n",
    "            overlap += i\n",
    "        return overlap\n"
   ]
  },
  {
   "cell_type": "markdown",
   "metadata": {},
   "source": [
    "*For example,*\n",
    "- text_overlap(\"apple\",\"orange\")) *should return* \"ae\"\n",
    "- text_overlap(\"here\",\"there\")) *should return* \"her\"\n",
    "- text_overlap(\"a\",\"b\")) *should return* \"\""
   ]
  },
  {
   "cell_type": "markdown",
   "metadata": {},
   "source": [
    "**Solution:**"
   ]
  },
  {
   "cell_type": "code",
   "execution_count": null,
   "metadata": {},
   "outputs": [],
   "source": [
    "def text_overlap(text1, text2):\n",
    "    overlap = \"\"\n",
    "    for i in text1:\n",
    "        if (i in text2) and (i not in overlap):\n",
    "            overlap += i\n",
    "    return overlap\n"
   ]
  },
  {
   "cell_type": "code",
   "execution_count": null,
   "metadata": {},
   "outputs": [],
   "source": [
    "print(text_overlap(\"apple\",\"banana\"))\n",
    "print(text_overlap(\"aabbccee\",\"abce\"))\n",
    "print(text_overlap(\"a\",\"d\"))\n",
    "print(text_overlap(\"\",\"banana\"))\n",
    "print(text_overlap(\"\",\"\"))"
   ]
  },
  {
   "cell_type": "markdown",
   "metadata": {},
   "source": [
    "**Question 2.** Anne will start her Master DataScience in the Spring and needs a new place to live. While searching, Anne finds a file with information about a number of accommodations. Each line of this file has the following format:\n",
    "\n",
    "    rent,service,rooms,bathroom,address  \n",
    "\n",
    "where 'rooms' indicates the total number of people who can live in the house, and 'bathroom' can be either \"own\" or \"shared\". You can find an example in the attached file \"housing.csv\"."
   ]
  },
  {
   "cell_type": "markdown",
   "metadata": {},
   "source": [
    "**Question 2.1.** Write a function 'read_housing' that takes the name of the file as a string parameter, and returns a list of housing items. Each housing item is itself a list of the form \n",
    "\n",
    "    [rent, service, rooms, bathroom, address] \n",
    "\n",
    "where 'rent' and 'service' are non-negative float numbers, 'rooms' is a positive (non-zero) integer, 'bathroom' is a string with only two possible values \"own\" and \"shared\", and 'address' is a string. \n",
    "\n",
    "Note:\n",
    "- You can assume that all the information in the file is in a correct format, rent, service and rooms have positive values, and that addresses don't include a comma.\n",
    "- 'bathroom' and 'address' should be converted to lower case, and white space should be removed from the beginning and the end of 'address'.\n",
    "- Housing items must appear in the list in the same order as they appear in the input file."
   ]
  },
  {
   "cell_type": "code",
   "execution_count": null,
   "metadata": {},
   "outputs": [],
   "source": [
    "def read_housing(housing_file):\n",
    "    return #a list of lists, each containing information about \n",
    "           #a housing item."
   ]
  },
  {
   "cell_type": "markdown",
   "metadata": {},
   "source": [
    "*For example,* \n",
    "\n",
    "    read_housing(\"housing.csv\") \n",
    "\n",
    "*should return:*\n",
    "\n",
    "    [[300.0, 80.0, 2, 'shared', '1 molenstraat'],\n",
    "     [450.0, 150.0, 3, 'own', 'motzart ave.'],\n",
    "     [800.0, 200.0, 4, 'shared', '8 college street'],\n",
    "     [250.0, 100.0, 2, 'shared', '23 wide avenue'],\n",
    "     [700.0, 100.0, 3, 'own', '90 queen st.'],\n",
    "     [3000.0, 100.0, 10, 'own', '34 telegraph st.'],\n",
    "     [1900.0, 100.0, 8, 'shared', '111 king st.']]"
   ]
  },
  {
   "cell_type": "markdown",
   "metadata": {},
   "source": [
    "**Solution:**"
   ]
  },
  {
   "cell_type": "code",
   "execution_count": null,
   "metadata": {},
   "outputs": [],
   "source": [
    "def read_housing(housing_file):\n",
    "    infile = open(housing_file, 'r')\n",
    "    housing = []\n",
    "    for line in infile:\n",
    "        words = line.strip().split(',')\n",
    "        if len(words) > 1:\n",
    "            housing.append([float(words[0]),float(words[1]),int(words[2]),words[3].lower().strip(),words[4].lower().strip()])\n",
    "    return housing\n",
    "\n"
   ]
  },
  {
   "cell_type": "code",
   "execution_count": null,
   "metadata": {},
   "outputs": [],
   "source": [
    "print(read_housing(\"housing0.csv\"))\n",
    "print(read_housing(\"housing1.csv\"))\n",
    "print(read_housing(\"housing2.csv\"))\n",
    "print(read_housing(\"housing3.csv\"))\n",
    "print(read_housing(\"housing4.csv\"))\n"
   ]
  },
  {
   "cell_type": "markdown",
   "metadata": {},
   "source": [
    "**Question 2.2.** Anne wants to either have her own bathroom, or share a bathroom with maximum 4 other people (that is, she doesn't want to live in a house with more than 5 rooms if the bathroom is shared). \n",
    "\n",
    "The function below receives a list of housing items, and returns another list containing only the housing items that follow the above condition:"
   ]
  },
  {
   "cell_type": "code",
   "execution_count": null,
   "metadata": {},
   "outputs": [],
   "source": [
    "def suitable_housing(housing_info):\n",
    "    suitable_list = []\n",
    "    for item in housing_info:\n",
    "        if is_suitable(item):\n",
    "            suitable_list.append(item)\n",
    "    return suitable_list"
   ]
  },
  {
   "cell_type": "markdown",
   "metadata": {},
   "source": [
    "This function calls another function, 'suitable', which you should complete. It takes one parameter which is a list of the form \n",
    "    [rent,service,rooms,bathroom,address]\n",
    "where 'rent' and 'service' are non-negative float numbers, 'rooms' is a non-zero positive integer, 'bathroom' is either \"own\" or \"shared\", and address is a string.\n",
    "\n",
    "The function returns the boolean value True if the housing item has either a non-shared bathroom or a maximum number of 5 rooms, and False otherwise."
   ]
  },
  {
   "cell_type": "code",
   "execution_count": null,
   "metadata": {},
   "outputs": [],
   "source": [
    "def is_suitable(housing_item):\n",
    "    return #True if housing_item is suitable, False otherwise"
   ]
  },
  {
   "cell_type": "markdown",
   "metadata": {},
   "source": [
    "*For example,* \n",
    "\n",
    "    suitable_housing(read_housing('download.csv'))\n",
    "\n",
    "*should return* \n",
    "\n",
    "    [[300.0, 80.0, 2, 'shared', '1 molenstraat'],\n",
    " [450.0, 150.0, 3, 'own', 'motzart ave.'],\n",
    " [800.0, 200.0, 4, 'shared', '8 college street'],\n",
    " [250.0, 100.0, 2, 'shared', '23 wide avenue'],\n",
    " [700.0, 100.0, 3, 'own', '90 queen st.'],\n",
    " [3000.0, 100.0, 10, 'own', '34 telegraph st.']]"
   ]
  },
  {
   "cell_type": "markdown",
   "metadata": {},
   "source": [
    "**Solution:**"
   ]
  },
  {
   "cell_type": "code",
   "execution_count": null,
   "metadata": {},
   "outputs": [],
   "source": [
    "def is_suitable(housing_item):\n",
    "    rooms = housing_item[2]\n",
    "    bathroom = housing_item[3]\n",
    "    return (bathroom == \"own\") or (rooms <= 5)\n"
   ]
  },
  {
   "cell_type": "code",
   "execution_count": null,
   "metadata": {},
   "outputs": [],
   "source": [
    "print(is_suitable([300.0, 80.0, 2, 'shared', '1 molenstraat']))\n",
    "print(is_suitable([0, 0, 10, 'shared', '']))\n",
    "print(is_suitable([300.0, 80.0, 6, 'shared', '1 molenstraat']))\n",
    "print(is_suitable([300.0, 80.0, 2, 'own', '1 molenstraat']))\n",
    "print(is_suitable([300.0, 80.0, 6, 'own', '1 molenstraat']))\n"
   ]
  },
  {
   "cell_type": "markdown",
   "metadata": {},
   "source": [
    "**Question 2.3.** Anne wants to find the cheapest housing possible. Write a function 'cheapest_housing' which takes one parameter, 'housing_info', a non-empty list of housing items of the form [rent, service, rooms, bathroom, address] as specified in **Question 2.1**.\n",
    "\n",
    "The function returns the cheapest housing item in the list. Note that:\n",
    "- the cheapest housing item is the one with the lowest share per flatmate; that is, the one with the lowest value for rent and service costs divided by the rooms.\n",
    "- the information of the cheapest housing item should be returned as a list [rent, service, rooms, bathroom, address], where 'rent' and 'service' are float numbers, 'rooms' is an integer, and 'bathroom' and 'address' are strings.\n"
   ]
  },
  {
   "cell_type": "code",
   "execution_count": null,
   "metadata": {},
   "outputs": [],
   "source": [
    "def cheapest_housing(housing_info):\n",
    "    return #the cheapest housing item in housing_info"
   ]
  },
  {
   "cell_type": "markdown",
   "metadata": {},
   "source": [
    "*For example,* \n",
    "\n",
    "    cheapest_housing(read_housing('housing.csv')) \n",
    "\n",
    "*should return*\n",
    "\n",
    "    [250.0, 100.0, 2, 'shared', '23 wide avenue']"
   ]
  },
  {
   "cell_type": "markdown",
   "metadata": {},
   "source": [
    "**Solution:**"
   ]
  },
  {
   "cell_type": "code",
   "execution_count": null,
   "metadata": {},
   "outputs": [],
   "source": [
    "def cheapest_housing(housing_info):\n",
    "    cheapest = housing_info[0]\n",
    "    cost = (cheapest[0] + cheapest[1])/cheapest[2]\n",
    "    for item in housing_info[1:]:\n",
    "        share = (item[0] + item[1])/item[2]\n",
    "        if (share < cost):\n",
    "            cost = share\n",
    "            cheapest = item\n",
    "    return cheapest"
   ]
  },
  {
   "cell_type": "code",
   "execution_count": null,
   "metadata": {},
   "outputs": [],
   "source": [
    "print(cheapest_housing([[300.0, 80.0, 2, 'shared', '1 molenstraat'], [450.0, 150.0, 3, 'own', '123 mozart ave.'], [800.0, 200.0, 4, 'shared', '8 college street'], [250.0, 100.0, 2, 'shared', '23 wide avenue'], [700.0, 100.0, 3, 'own', '90 queen st.'], [3000.0, 100.0, 10, 'own', '34 telegraph st.'], [1900.0, 100.0, 8, 'shared', '111 king st.']]))\n",
    "print(cheapest_housing([[300.0, 80.0, 2, 'shared', '1 molenstraat'], [450.0, 150.0, 3, 'own', '123 mozart ave.']]))\n",
    "print(cheapest_housing([[300.0, 80.0, 2, 'shared', '1 molenstraat']]))\n",
    "print(cheapest_housing([[300.0, 80.0, 2, 'shared', '1 molenstraat'], [450.0, 150.0, 5, 'own', '123 mozart ave.']]))\n",
    "print(cheapest_housing([[30.0, 80.0, 1, 'shared', '1 molenstraat'], [450.0, 150.0, 3, 'own', '123 mozart ave.']]))\n"
   ]
  },
  {
   "cell_type": "markdown",
   "metadata": {},
   "source": [
    "**Question 3.** Henry is a greengrocer that sells different kinds of greens, and needs an automatic system for keeping and updating his inventory. "
   ]
  },
  {
   "cell_type": "markdown",
   "metadata": {},
   "source": [
    "**Question 3a.**\n",
    "The first step is to write a function 'shipment_inventory' that creates an inventory for an incoming order shipment:"
   ]
  },
  {
   "cell_type": "code",
   "execution_count": null,
   "metadata": {},
   "outputs": [],
   "source": [
    "def shipment_inventory(order):\n",
    "    return #a dictionary containing the order of the vegetables and fruit\n"
   ]
  },
  {
   "cell_type": "markdown",
   "metadata": {},
   "source": [
    "The function takes an input parameter 'order', which is a string containing different types of vegetables or fruit, with the number of boxes and the number of items per box for each vegetable or fruit, e.g:\n",
    "    \n",
    "    \"kale,3,12;lettuce,1,8;raspberries,47,16\" \n",
    "\n",
    "Note that \n",
    "- the information for each item is of the form \"Item,boxes,number-in-the-box\", and the information for different items is separated by \";\".\n",
    "- the function returns a dictionary containing the name of the vegetable or fruit as a string key, and the total amount of the vegetables or fruit as an integer value. \n",
    "- You can assume that the vegetables, fruit and boxes are complete and do not contain a fractional part, and the name of the item is in lower case."
   ]
  },
  {
   "cell_type": "markdown",
   "metadata": {},
   "source": [
    "   \n",
    "*For example,*\n",
    "\n",
    "    shipment_inventory(\"kale,3,12;lettuce,1,8;raspberries,47,16\")\n",
    "\n",
    "*returns*\n",
    "\n",
    "    {'kale': 36, 'lettuce': 8, 'raspberries': 752}\n",
    "\n",
    "**Note:** the order of the dictionary keys on your screen might be different, which does not matter as long as all keys and their values are present."
   ]
  },
  {
   "cell_type": "markdown",
   "metadata": {},
   "source": [
    "**Solution:**"
   ]
  },
  {
   "cell_type": "code",
   "execution_count": null,
   "metadata": {},
   "outputs": [],
   "source": [
    "def shipment_inventory(order):\n",
    "    greens = order.strip().split(';')\n",
    "    orderDict = {}\n",
    "    for green in greens:\n",
    "        if len(green.strip()) > 0:\n",
    "            g = green.strip().split(',')\n",
    "            orderDict[g[0]] = int(g[1]) * int(g[2])\n",
    "    return orderDict"
   ]
  },
  {
   "cell_type": "code",
   "execution_count": null,
   "metadata": {},
   "outputs": [],
   "source": [
    "print(shipment_inventory(\"kale,3,12;lettuce,1,8;raspberries,47,16\"))\n",
    "print(shipment_inventory(\"kale,3,12\"))\n",
    "print(shipment_inventory(\"kale,1,1;lettuce,2,2\"))\n",
    "print(shipment_inventory(\"raspberries,47,0;kale,1,1;lettuce,2,2;strawberries,3,5;potatoes,6,10;apples,5,10;banana,1,1\"))\n",
    "print(shipment_inventory(\"kale,0,12;lettuce,0,8;raspberries,47,0\"))\n"
   ]
  },
  {
   "cell_type": "markdown",
   "metadata": {},
   "source": [
    "**Question 3b.** We now need a function 'stock_after_sale' that updates the inventory after a sale. This function takes two input parameters:\n",
    "- 'shopping_list', a list of strings containing the sold items, e.g., [\"lettuce\",\"lettuce\",\"apple\"] indicating that two heads of lettuce and one apple were requested to be sold;\n",
    "- 'inventory', a dictionary with the inventory before the sale, e.g., {'kale': 36, 'lettuce': 11, 'apple': 752}\n",
    "\n",
    "The function returns a new dictionary reflecting the inventory after the sale; that is, with the quantity of the sold items updated in the dictionary. Only the items on the shopping list which are present in the inventory will be sold. \n"
   ]
  },
  {
   "cell_type": "code",
   "execution_count": null,
   "metadata": {},
   "outputs": [],
   "source": [
    "def stock_after_sale(shopping_list, inventory):\n",
    "    return #the new inventory after a sale"
   ]
  },
  {
   "cell_type": "markdown",
   "metadata": {},
   "source": [
    "*For example,*\n",
    "\n",
    "    stock = {'kale': 36, 'lettuce': 1, 'raspberries': 752} \n",
    "    stock_after_sale([\"lettuce\",\"lettuce\",\"raspberries\", \"apple\"],stock) \n",
    "\n",
    "*returns*\n",
    "\n",
    "    {'kale': 36, 'lettuce': 0, 'raspberries': 751}"
   ]
  },
  {
   "cell_type": "markdown",
   "metadata": {},
   "source": [
    "**Solution:**"
   ]
  },
  {
   "cell_type": "code",
   "execution_count": null,
   "metadata": {},
   "outputs": [],
   "source": [
    "def stock_after_sale(shopping_list, stock):\n",
    "    for i in shopping_list:\n",
    "        if i in stock.keys() and stock[i] > 0:\n",
    "            stock[i] += -1\n",
    "    return stock"
   ]
  },
  {
   "cell_type": "code",
   "execution_count": null,
   "metadata": {},
   "outputs": [],
   "source": [
    "print(stock_after_sale([\"lettuce\",\"lettuce\",\"raspberries\", \"apple\"],{'kale': 36, 'lettuce': 1, 'raspberries': 752}))    \n",
    "print(stock_after_sale([\"lettuce\",\"lettuce\",\"raspberries\"],{'kale': 36, 'lettuce': 1, 'raspberries': 752}))    \n",
    "print(stock_after_sale([\"lettuce\",\"raspberries\", \"apple\"],{}))    \n",
    "print(stock_after_sale([\"lettuce\",\"raspberries\"],{'kale': 36, 'lettuce': 1, 'raspberries': 752}))    \n",
    "print(stock_after_sale([],{'kale': 36, 'lettuce': 1, 'raspberries': 752}))    \n",
    "\n"
   ]
  },
  {
   "cell_type": "code",
   "execution_count": null,
   "metadata": {},
   "outputs": [],
   "source": []
  }
 ],
 "metadata": {
  "kernelspec": {
   "display_name": "Python 3",
   "language": "python",
   "name": "python3"
  },
  "language_info": {
   "codemirror_mode": {
    "name": "ipython",
    "version": 3
   },
   "file_extension": ".py",
   "mimetype": "text/x-python",
   "name": "python",
   "nbconvert_exporter": "python",
   "pygments_lexer": "ipython3",
   "version": "3.5.3"
  }
 },
 "nbformat": 4,
 "nbformat_minor": 2
}
