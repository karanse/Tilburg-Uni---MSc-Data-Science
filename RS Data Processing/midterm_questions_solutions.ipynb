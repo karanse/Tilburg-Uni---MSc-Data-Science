{
 "cells": [
  {
   "cell_type": "markdown",
   "metadata": {},
   "source": [
    "## Midterm Exam 13:00-14:00"
   ]
  },
  {
   "cell_type": "markdown",
   "metadata": {},
   "source": [
    "**Question 1.** Peter studies and lives in Tilburg. He will start an internship in Utrecht in the next year and unfortunately, he has to pay to travel for the train. The supervisor of his internship gave Peter a choice: Peter can decide for himself how many days he wants to follow the internship. Because Peter does not want to have any loan in the end of his studies, he wants to calculate how many days he can follow the internship without ending up with any debts. \n",
    "\n",
    "The following function calculates the amount of days Peter can travel back and forth given his income and the travel costs, rent and other expenses he has to pay every month (hint: remember that Peter needs to come back every day):"
   ]
  },
  {
   "cell_type": "code",
   "execution_count": null,
   "metadata": {},
   "outputs": [],
   "source": [
    "def internship_days(income, travel_costs, rent, other_expenses):\n",
    "    # return the number of days a month he can follow the internship"
   ]
  },
  {
   "cell_type": "markdown",
   "metadata": {},
   "source": [
    "Please complete the definition of the function. Here is what you can assume about this function:\n",
    "* The input parameters 'income', 'travel_costs', 'rent' and 'other_expenses' are non-negative float values. \n",
    "* The function 'internship_days' must return a non-negative integer as its return value, reflecting the number of days Peter can afford traveling back and forth.\n",
    "* The returned value cannot be greater than 30 (maximum days in a month that Pieter can do the internship, for this assignment: each month contains 30 days).\n",
    "\n",
    "*Example:* internship_days(1000, 12, 300, 100) returns **25**.\n"
   ]
  },
  {
   "cell_type": "markdown",
   "metadata": {},
   "source": [
    "### Solution:"
   ]
  },
  {
   "cell_type": "code",
   "execution_count": null,
   "metadata": {},
   "outputs": [],
   "source": [
    "def internship_days(income, travel_costs, rent, other_expenses):\n",
    "    if travel_costs <=0: return 30\n",
    "\n",
    "    days = (income - rent - other_expenses) // (travel_costs * 2)\n",
    "    if (days < 0): return 0\n",
    "    elif (days > 30): return 30\n",
    "    return days"
   ]
  },
  {
   "cell_type": "code",
   "execution_count": null,
   "metadata": {},
   "outputs": [],
   "source": [
    "internship_days(100,50,200,300)"
   ]
  },
  {
   "cell_type": "code",
   "execution_count": null,
   "metadata": {},
   "outputs": [],
   "source": [
    "internship_days(450,50,100,100)"
   ]
  },
  {
   "cell_type": "code",
   "execution_count": null,
   "metadata": {},
   "outputs": [],
   "source": [
    "internship_days(1000,50,100,100)"
   ]
  },
  {
   "cell_type": "code",
   "execution_count": null,
   "metadata": {},
   "outputs": [],
   "source": [
    "internship_days(500,5,100,100)"
   ]
  },
  {
   "cell_type": "code",
   "execution_count": null,
   "metadata": {},
   "outputs": [],
   "source": [
    "internship_days(0,2,300,0)"
   ]
  },
  {
   "cell_type": "markdown",
   "metadata": {},
   "source": [
    "**Question 2.** Peter wants to earn a bit more money and takes a job as a bartender at a student cafe that only serves beer (cost 2.00), wine (cost 2.50) and sodas (cost 1.50). After taking each order, Peter should calculate the amount people have to pay.\n",
    "\n",
    "The following function gets a string with the ordered drinks as single letters, where each letter indicates one ordered drink ('B' stands for beer, 'W' stands for wine and 'S' stands for sodas). The function returns the amount that should be payed for the given order:"
   ]
  },
  {
   "cell_type": "code",
   "execution_count": null,
   "metadata": {},
   "outputs": [],
   "source": [
    "def calculate_payment(order):\n",
    "    #return the amount people have to pay for their order"
   ]
  },
  {
   "cell_type": "markdown",
   "metadata": {},
   "source": [
    "Please complete the definition of the function. Here is what you can assume about this function:\n",
    "* The input parameter 'order' is a string, where each letter is either 'B', 'S' or 'W'. \n",
    "* The input string can be empty or it can contain multiple occurrences of the same letter. \n",
    "* You can assume that all letters in 'order' are capitalized, and no letters other than 'B', 'S' and 'W' can be found in 'order'.\n",
    "* The function 'calculate_payment' returns a float value, reflecting the total cost of drinks specified by 'order'.\n",
    "\n",
    "*Example:* calculate_payment('BBSS') returns **7.0**."
   ]
  },
  {
   "cell_type": "markdown",
   "metadata": {},
   "source": [
    "### Solution:"
   ]
  },
  {
   "cell_type": "code",
   "execution_count": null,
   "metadata": {},
   "outputs": [],
   "source": [
    "def calculate_payment(order):\n",
    "    cost = 0\n",
    "    for l in order:\n",
    "        if l == 'B': cost += 2.0\n",
    "        elif l == 'W': cost += 2.5\n",
    "        elif l == 'S': cost += 1.5\n",
    "    return cost"
   ]
  },
  {
   "cell_type": "code",
   "execution_count": null,
   "metadata": {},
   "outputs": [],
   "source": [
    "calculate_payment('')"
   ]
  },
  {
   "cell_type": "code",
   "execution_count": null,
   "metadata": {},
   "outputs": [],
   "source": [
    "calculate_payment('BWS')"
   ]
  },
  {
   "cell_type": "code",
   "execution_count": null,
   "metadata": {},
   "outputs": [],
   "source": [
    "calculate_payment('BBBBBB')"
   ]
  },
  {
   "cell_type": "code",
   "execution_count": null,
   "metadata": {},
   "outputs": [],
   "source": [
    "calculate_payment('BBSSS')"
   ]
  },
  {
   "cell_type": "code",
   "execution_count": null,
   "metadata": {},
   "outputs": [],
   "source": [
    "calculate_payment('WSBSBW')"
   ]
  },
  {
   "cell_type": "markdown",
   "metadata": {},
   "source": [
    "## Midterm Exam 19:00-20:00"
   ]
  },
  {
   "cell_type": "markdown",
   "metadata": {},
   "source": [
    "**Question 1.** Luna has a fixed budget for housing and is looking for an apartment she can afford. Since she is not rich, she is considering sharing a flat with a number of roommates.\n",
    "\n",
    "The function 'affordable' receives the rent of an apartment, its service costs, the number of flatmates who can live there together with Luna and Luna's budget as input parameters. It returns True if Luna can afford the house, and False if she cannot:"
   ]
  },
  {
   "cell_type": "code",
   "execution_count": null,
   "metadata": {},
   "outputs": [],
   "source": [
    "def affordable(rent, service, flatmates, budget):\n",
    "    #return true if Luna can afford the house, false otherwise"
   ]
  },
  {
   "cell_type": "markdown",
   "metadata": {},
   "source": [
    "Please complete the definition of the function. Here is what you can assume about this function:\n",
    "* 'rent', 'service' and 'budget' take non-negative float values.\n",
    "* 'flatmates' takes a non-negative integer value.\n",
    "* rent and service costs are divided equally among the flatmates.\n",
    "* The function 'affordable' returns a boolean value (True or False).\n",
    "\n",
    "**Example:** affordable(1000, 200, 3, 200) should return **False**."
   ]
  },
  {
   "cell_type": "markdown",
   "metadata": {},
   "source": [
    "# Solution"
   ]
  },
  {
   "cell_type": "code",
   "execution_count": null,
   "metadata": {},
   "outputs": [],
   "source": [
    "def affordable(rent, service, flatmates, budget):\n",
    "    share = (rent + service) / (flatmates+1)\n",
    "    if share <= budget:\n",
    "        return True\n",
    "    return False"
   ]
  },
  {
   "cell_type": "code",
   "execution_count": null,
   "metadata": {},
   "outputs": [],
   "source": [
    "affordable(100,200,3,1000)"
   ]
  },
  {
   "cell_type": "code",
   "execution_count": null,
   "metadata": {},
   "outputs": [],
   "source": [
    "affordable(1000,200,3,200)"
   ]
  },
  {
   "cell_type": "code",
   "execution_count": null,
   "metadata": {},
   "outputs": [],
   "source": [
    "affordable(0,0,1,100)"
   ]
  },
  {
   "cell_type": "code",
   "execution_count": null,
   "metadata": {},
   "outputs": [],
   "source": [
    "affordable(200,100,1,0)"
   ]
  },
  {
   "cell_type": "code",
   "execution_count": null,
   "metadata": {},
   "outputs": [],
   "source": [
    "affordable(0,0,0,0)"
   ]
  },
  {
   "cell_type": "markdown",
   "metadata": {},
   "source": [
    "**Question 2.** Sam has studied in the US and now wants to apply for a university program in the Netherlands. For this purpose, he has to convert his American-style grades and calculate their average. \n",
    "\n",
    "Write a function 'grade_average' which receives a string containing Sam's grades, and returns their average in Dutch system. The input parameter 'grades' contains a sequence of characters, each representing a grade. Here are the conversion rules:\n",
    "* American 'A' is the equivalent of Dutch 8.0 \n",
    "* American 'B' is the equivalent of Dutch 7.0 \n",
    "* American 'C' is the equivalent of Dutch 6.0 \n",
    "* American 'D' is the equivalent of Dutch 5.0 \n",
    "* American 'F' is the equivalent of Dutch 1.0 \n"
   ]
  },
  {
   "cell_type": "code",
   "execution_count": null,
   "metadata": {},
   "outputs": [],
   "source": [
    "def grade_average(grades):\n",
    "    #return the average of grades in Dutch system."
   ]
  },
  {
   "cell_type": "markdown",
   "metadata": {},
   "source": [
    "Please complete the definition of the function. Here is what you can assume about this function:\n",
    "* The input parameter 'grades' is a non-empty string, and each of its characters is either 'A', 'B', 'C', 'D' or 'F'.\n",
    "* All characters in 'grades' are capitalized.\n",
    "* 'grade_average' returns a float value.\n",
    "\n",
    "*Example:* grade_average('ACDAF') returns **5.6**."
   ]
  },
  {
   "cell_type": "code",
   "execution_count": null,
   "metadata": {},
   "outputs": [],
   "source": [
    "def grade_average(grades):\n",
    "    total = 0\n",
    "    num = 0\n",
    "    for g in grades:\n",
    "        if g == 'A':\n",
    "            total += 8\n",
    "        elif g == 'B':\n",
    "            total += 7\n",
    "        elif g == 'C':\n",
    "            total += 6\n",
    "        elif g == 'D':\n",
    "            total += 5\n",
    "        else: total += 1.0\n",
    "        num += 1\n",
    "    return total/num"
   ]
  },
  {
   "cell_type": "code",
   "execution_count": null,
   "metadata": {},
   "outputs": [],
   "source": [
    "grade_average('A')"
   ]
  },
  {
   "cell_type": "code",
   "execution_count": null,
   "metadata": {},
   "outputs": [],
   "source": [
    "grade_average('AB')"
   ]
  },
  {
   "cell_type": "code",
   "execution_count": null,
   "metadata": {},
   "outputs": [],
   "source": [
    "grade_average('ABC')"
   ]
  },
  {
   "cell_type": "code",
   "execution_count": null,
   "metadata": {},
   "outputs": [],
   "source": [
    "grade_average('BCDDD')"
   ]
  },
  {
   "cell_type": "code",
   "execution_count": null,
   "metadata": {},
   "outputs": [],
   "source": [
    "grade_average('ABCAF')"
   ]
  },
  {
   "cell_type": "code",
   "execution_count": null,
   "metadata": {},
   "outputs": [],
   "source": []
  }
 ],
 "metadata": {
  "kernelspec": {
   "display_name": "Python 3",
   "language": "python",
   "name": "python3"
  },
  "language_info": {
   "codemirror_mode": {
    "name": "ipython",
    "version": 3
   },
   "file_extension": ".py",
   "mimetype": "text/x-python",
   "name": "python",
   "nbconvert_exporter": "python",
   "pygments_lexer": "ipython3",
   "version": "3.5.3"
  }
 },
 "nbformat": 4,
 "nbformat_minor": 2
}
