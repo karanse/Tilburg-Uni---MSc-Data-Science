{
 "cells": [
  {
   "cell_type": "markdown",
   "metadata": {},
   "source": [
    "# Chapter 99 - Answers"
   ]
  },
  {
   "cell_type": "markdown",
   "metadata": {},
   "source": [
    "-------------------------------"
   ]
  },
  {
   "cell_type": "markdown",
   "metadata": {},
   "source": [
    "This chapter provides answers to most of the exercises. Note that it is useless to look up answers to exercises if you have not spent a significant amount of time trying to solve the exercises. You can only learn programming by doing. Only use the answers to compare them with your own, completed solutions, or as a final resort should you have no idea how to solve a problem. However, if you cannot solve a problem, it is usually better to re-do part of the notebooks that you evidently did not understand or forgot about. \n",
    "\n",
    "Note that very often, the answers given here are only one of many possible ways to solve a problem. If you have found a different way to solve a problem, that might be just fine, though make sure you test your answer extensively to ensure that it is correct.\n",
    "\n",
    "Moreover, while the answers given here are usually efficient, efficiency is not the first goal when writing code. You should first make sure that your code solves the problem at hand, before you look into making the code more efficient. Readability and maintainability are <i>far</i> more important than efficiency."
   ]
  },
  {
   "cell_type": "markdown",
   "metadata": {},
   "source": [
    "---"
   ]
  },
  {
   "cell_type": "markdown",
   "metadata": {},
   "source": [
    "## Links to answer sections"
   ]
  },
  {
   "cell_type": "markdown",
   "metadata": {},
   "source": [
    "&nbsp;&nbsp;[1 - Introduction](#answers01)<br>\n",
    "&nbsp;&nbsp;[2 - Using Notebooks](#answers02)<br>\n",
    "&nbsp;&nbsp;[3 - Using Python](#answers03)<br>\n",
    "&nbsp;&nbsp;[4 - Expressions](#answers04)<br>\n",
    "&nbsp;&nbsp;[5 - Variables](#answers05)<br>\n",
    "&nbsp;&nbsp;[6 - Simple Functions](#answers06)<br>\n",
    "&nbsp;&nbsp;[7 - Conditions](#answers07)<br>\n",
    "&nbsp;&nbsp;[8 - Iterations](#answers08)<br>\n",
    "&nbsp;&nbsp;[9 - Functions](#answers09)<br>\n",
    "[10 - Recursion](#answers10)<br>\n",
    "[11 - Strings](#answers11)<br>\n",
    "[12 - Tuples](#answers12)<br>\n",
    "[13 - Lists](#answers13)<br>\n",
    "[14 - Dictionaries](#answers14)<br>\n",
    "[15 - Sets](#answers15)<br>\n",
    "[16 - Operating System](#answers16)<br>\n",
    "[17 - Text Files](#answers17)<br>\n",
    "[18 - Exceptions](#answers18)<br>\n",
    "[19 - Binary Files](#answers19)<br>\n",
    "[20 - Object Orientation](#answers20)<br>\n",
    "[21 - Operator Overloading](#answers21)<br>\n",
    "[22 - Inheritance](#answers22)<br>\n",
    "[23 - Iterators and Generators](#answers23)<br>\n",
    "[24 - Command Line Processing](#answers24)<br>\n",
    "[25 - Regular Expressions](#answers25)<br>\n",
    "[26 - File Formats](#answers26)<br>\n",
    "[27 - Various Useful Modules](#answers27)<br>\n",
    "[28 - Turtle Graphics](#answers28)<br>\n",
    "[29 - Bitwise operators](#answers29)<br>"
   ]
  },
  {
   "cell_type": "markdown",
   "metadata": {},
   "source": [
    "---"
   ]
  },
  {
   "cell_type": "markdown",
   "metadata": {},
   "source": [
    "## 1 - Introduction<a id=\"answers01\"></a>"
   ]
  },
  {
   "cell_type": "markdown",
   "metadata": {},
   "source": [
    "### Exercise 1.1"
   ]
  },
  {
   "cell_type": "markdown",
   "metadata": {},
   "source": [
    "A straightforward sorting procedure that first identifies the highest card, then the next highest card, then the lowest-but-one, and then the lowest card, needs six comparisons. You could perform it, for instance, as follows:\n",
    "\n",
    "Number the cards from 1 to 4, left to right. The number is tied to the spot where the card is, i.e., when you switch two cards, they exchange numbers. Compare cards 1 and 2, and switch them if 1 is higher than 2. Compare cards 2 and 3, and switch them if 2 is higher than 3. Compare cards 3 and 4, and switch them if 3 is higher than 4. Now the highest card will be the number 4. Then, compare cards 1 and 2 again, and switch them if 1 is higher than 2. Compare cards 2 and 3 again, and switch them if 2 is higher than 3. Now the next-highest card is number 3. Finally, compare cards 1 and 2 and switch them if 1 is higher than 2. You have now sorted the four cards, with six comparisons. \n",
    "\n",
    "To do it with less comparisons, you need a procedure that is a bit more complex. Start again by numbering the cards from 1 to 4. Compare cards 1 and 2, and switch them if 1 is higher than 2. Compare cards 3 and 4, and switch them if 3 is higher than 4. Compare cards 1 and 3. If 1 is higher than 3, you switch card 1 and 3, and also card 2 and 4. The lowest card is now in spot 1, and you also know that card 3 is lower than card 4. Now compare cards 2 and 3. If 2 is lower than 3, you are done, needing only four comparisons. If 2 is higher than 3, you switch 2 and 3. You now still have to compare cards 3 and 4, and switch them if 3 is higher than 4, but then you are done, needing only five comparisons. So you can do the sorting with a guaranteed maximum of five comparisons.\n",
    "\n",
    "You might think that you can be smart and, after comparing 1 and 2 and maybe switching them, and comparing 3 and 4 and maybe switching them, to compare 2 and 3, because if at that point 2 is smaller than 3, you are done with the sorting needing only three comparisons. However, should at that point 2 be higher than 3, if you are unlucky you will need six comparisons in total.\n",
    "\n",
    "For those new to programming, the more efficient procedure which only needs five comparisons is quite hard to design, so do not get discouraged if you cannot come up with it. It is more important that you solve a task, than that you solve it in the most efficient manner."
   ]
  },
  {
   "cell_type": "markdown",
   "metadata": {},
   "source": [
    "### Exercise 1.2"
   ]
  },
  {
   "cell_type": "markdown",
   "metadata": {},
   "source": [
    "You should draw four boxes on a piece of paper, number them, and put each of the cards in one of the boxes. Tell the person who is following the instructions that \"compare the card in box <i>x</i> with the card in box <i>y</i>\" means that they should ask the processor to take up those cards, look at them, put them back in the same spots where they were taken from, and then indicate which of the two is the higher card. Then you can give them instructions for the simple, six-comparisons procedure outlined above:\n",
    "\n",
    "Compare the card in box 1 with the card in box 2. If the card in box 1 is higher than the card in box 2, switch these two cards.\n",
    "<br>Compare the card in box 2 with the card in box 3. If the card in box 2 is higher than the card in box 3, switch these two cards.\n",
    "<br>Compare the card in box 3 with the card in box 4. If the card in box 3 is higher than the card in box 4, switch these two cards.\n",
    "<br>Compare the card in box 1 with the card in box 2. If the card in box 1 is higher than the card in box 2, switch these two cards.\n",
    "<br>Compare the card in box 2 with the card in box 3. If the card in box 2 is higher than the card in box 3, switch these two cards.\n",
    "<br>Compare the card in box 1 with the card in box 2. If the card in box 1 is higher than the card in box 2, switch these two cards.\n",
    "\n",
    "Using the idea of drawing boxes that you have numbered to refer to the cards put in those boxes is similar to using variables in a computer program. Variables will be explained in one of the early chapters. \n",
    "\n",
    "Trying to write instructions for the more efficient procedure outlined above is harder, because you need nested conditions and an early escape."
   ]
  },
  {
   "cell_type": "markdown",
   "metadata": {},
   "source": [
    "---"
   ]
  },
  {
   "cell_type": "markdown",
   "metadata": {},
   "source": [
    "## 2 - Using Notebooks<a id=\"answers02\"></a>"
   ]
  },
  {
   "cell_type": "markdown",
   "metadata": {},
   "source": [
    "There are no exercises for Chapter 2."
   ]
  },
  {
   "cell_type": "markdown",
   "metadata": {},
   "source": [
    "---"
   ]
  },
  {
   "cell_type": "markdown",
   "metadata": {},
   "source": [
    "## 3 - Using Python<a id=\"answers03\"></a>"
   ]
  },
  {
   "cell_type": "markdown",
   "metadata": {},
   "source": [
    "### Exercise 3.1"
   ]
  },
  {
   "cell_type": "markdown",
   "metadata": {},
   "source": [
    "You now have Python running on your computer. Congratulations!"
   ]
  },
  {
   "cell_type": "markdown",
   "metadata": {},
   "source": [
    "### Exercise 3.2"
   ]
  },
  {
   "cell_type": "markdown",
   "metadata": {},
   "source": [
    "You will see nothing in the shell (apart from a display of the word RESTART that you always see when running a program). `7/4` is a legal Python statement, so the program will not give an error. The program just calculates 7/4, but does not display the result using a `print` statement, so the program does not show 1.75. The shell, however, displays the result of running the program. But since a program has no result by itself, there is nothing for the shell to display either. So you see nothing."
   ]
  },
  {
   "cell_type": "markdown",
   "metadata": {},
   "source": [
    "---"
   ]
  },
  {
   "cell_type": "markdown",
   "metadata": {},
   "source": [
    "## 4 - Expressions<a id=\"answers04\"></a>"
   ]
  },
  {
   "cell_type": "markdown",
   "metadata": {},
   "source": [
    "### Exercise 4.1"
   ]
  },
  {
   "cell_type": "code",
   "execution_count": null,
   "metadata": {
    "collapsed": false
   },
   "outputs": [],
   "source": [
    "print( 60 * (0.6 * 24.95 + 0.75) + (3 - 0.75) )"
   ]
  },
  {
   "cell_type": "markdown",
   "metadata": {},
   "source": [
    "Or, if you want your output to look a bit nicer:"
   ]
  },
  {
   "cell_type": "code",
   "execution_count": null,
   "metadata": {
    "collapsed": false
   },
   "outputs": [],
   "source": [
    "print( int( 100*(60 * (0.6 * 24.95 + 0.75) + (3 - 0.75)) )/100 )"
   ]
  },
  {
   "cell_type": "markdown",
   "metadata": {},
   "source": [
    "Easier ways of formatting displays will be introduced in a later chapter."
   ]
  },
  {
   "cell_type": "markdown",
   "metadata": {},
   "source": [
    "### Exercise 4.2"
   ]
  },
  {
   "cell_type": "markdown",
   "metadata": {},
   "source": [
    "Each of the lines should be either `print( \"A message\" )` or `print( 'A message' )`. The error in the first line is that it ends in a period. That period should be removed. The error in the second line is that it contains something that is supposed to be a string, but starts with a double quote while it ends with a single quote. Either the double quote should become a single quote, or the single quote should become a double quote. The third line is actually syntactically correct, but probably it was meant to be `print( 'A message' )`, so the `f\"` should be removed."
   ]
  },
  {
   "cell_type": "markdown",
   "metadata": {},
   "source": [
    "### Exercise 4.3"
   ]
  },
  {
   "cell_type": "code",
   "execution_count": null,
   "metadata": {
    "collapsed": false
   },
   "outputs": [],
   "source": [
    "print( 1/0 )"
   ]
  },
  {
   "cell_type": "markdown",
   "metadata": {},
   "source": [
    "### Exercise 4.4"
   ]
  },
  {
   "cell_type": "markdown",
   "metadata": {},
   "source": [
    "The problem is that there is one closing parenthesis missing in the first line of code. I actually deleted the closing parenthesis that should be right of the `6`, but you cannot know that; you can only count the parentheses in the first statement and see that there is one less closing parenthesis than there are opening parentheses.\n",
    "\n",
    "The confusing part of this error message is that it says that the error is in the second line of code. The second line of the code, however, is fine. The reason is that since Python has not seen the last required closing parenthesis on the first line, it starts looking for it on the second line. And while doing that, it notices that something is going wrong, and it reports the error. Basically, while trying to process the second line, Python finds that it cannot do that, so it indicates that there is an error with the second line. \n",
    "\n",
    "You will occasionally encounter this in your own code: an error is reported for a certain line of code, but the error is actually made in one of the previous lines. Such errors often encompass the absence of a required parenthesis or single or double quote. Keep this in mind."
   ]
  },
  {
   "cell_type": "markdown",
   "metadata": {},
   "source": [
    "### Exercise 4.5"
   ]
  },
  {
   "cell_type": "code",
   "execution_count": null,
   "metadata": {
    "collapsed": false
   },
   "outputs": [],
   "source": [
    "print( str( (14 + 535) % 24 ) + \".00\" )"
   ]
  },
  {
   "cell_type": "markdown",
   "metadata": {},
   "source": [
    "---"
   ]
  },
  {
   "cell_type": "markdown",
   "metadata": {},
   "source": [
    "## 5 - Variables<a id=\"answers05\"></a>"
   ]
  },
  {
   "cell_type": "markdown",
   "metadata": {},
   "source": [
    "### Exercise 5.1"
   ]
  },
  {
   "cell_type": "code",
   "execution_count": null,
   "metadata": {
    "collapsed": false
   },
   "outputs": [],
   "source": [
    "# This program calculates the average of three variables, var1, var2, and var 3\n",
    "var1 = 12.83\n",
    "var2 = 99.99\n",
    "var3 = 0.12\n",
    "average = (var1 + var2 + var3) / 3 # Calculate the average by adding up the values and dividing by 3\n",
    "print( average ) # May look a bit ugly, we might make this look a bit better when we have learned about formatting"
   ]
  },
  {
   "cell_type": "markdown",
   "metadata": {},
   "source": [
    "### Exercise 5.2"
   ]
  },
  {
   "cell_type": "code",
   "execution_count": null,
   "metadata": {
    "collapsed": false
   },
   "outputs": [],
   "source": [
    "pi = 3.14159\n",
    "radius = 12\n",
    "print( \"The surface area of a circle with radius\", radius, \"is\", pi * radius * radius )"
   ]
  },
  {
   "cell_type": "markdown",
   "metadata": {},
   "source": [
    "### Exercise 5.3"
   ]
  },
  {
   "cell_type": "code",
   "execution_count": null,
   "metadata": {
    "collapsed": false
   },
   "outputs": [],
   "source": [
    "CENTS_IN_DOLLAR = 100\n",
    "CENTS_IN_QUARTER = 25\n",
    "CENTS_IN_DIME = 10\n",
    "CENTS_IN_NICKEL = 5\n",
    "\n",
    "amount = 1156\n",
    "cents = amount\n",
    "\n",
    "dollars = int( cents / CENTS_IN_DOLLAR )\n",
    "cents -= dollars * CENTS_IN_DOLLAR\n",
    "quarters = int( cents / CENTS_IN_QUARTER )\n",
    "cents -= quarters * CENTS_IN_QUARTER\n",
    "dimes = int( cents / CENTS_IN_DIME )\n",
    "cents -= dimes * CENTS_IN_DIME\n",
    "nickels = int( cents / CENTS_IN_NICKEL )\n",
    "cents -= nickels * CENTS_IN_NICKEL\n",
    "cents = int( cents )\n",
    "\n",
    "print( \"$\"+str( amount / CENTS_IN_DOLLAR ), \"consists of:\" )\n",
    "print( \"Dollars:\", dollars )\n",
    "print( \"Quarters:\", quarters )\n",
    "print( \"Dimes:\", dimes )\n",
    "print( \"Nickels:\", nickels )\n",
    "print( \"Pennies:\", cents )"
   ]
  },
  {
   "cell_type": "markdown",
   "metadata": {},
   "source": [
    "### Exercise 5.4"
   ]
  },
  {
   "cell_type": "code",
   "execution_count": null,
   "metadata": {
    "collapsed": false
   },
   "outputs": [],
   "source": [
    "a = 17\n",
    "b = 23\n",
    "print( \"a =\", a, \"and b =\", b )\n",
    "a += b\n",
    "b = a - b\n",
    "a -= b\n",
    "print( \"a =\", a, \"and b =\", b )"
   ]
  },
  {
   "cell_type": "markdown",
   "metadata": {},
   "source": [
    "---"
   ]
  },
  {
   "cell_type": "markdown",
   "metadata": {},
   "source": [
    "## 6 - Simple Functions<a id=\"answers06\"></a>"
   ]
  },
  {
   "cell_type": "markdown",
   "metadata": {},
   "source": [
    "### Exercise 6.1"
   ]
  },
  {
   "cell_type": "code",
   "execution_count": null,
   "metadata": {
    "collapsed": false
   },
   "outputs": [],
   "source": [
    "s = input( \"Enter a string: \" )\n",
    "print( \"You entered\", len( s ), \"characters\" )"
   ]
  },
  {
   "cell_type": "markdown",
   "metadata": {},
   "source": [
    "### Exercise 6.2"
   ]
  },
  {
   "cell_type": "code",
   "execution_count": null,
   "metadata": {
    "collapsed": false
   },
   "outputs": [],
   "source": [
    "from pcinput import getFloat\n",
    "from math import sqrt\n",
    "\n",
    "side1 = getFloat( \"Please enter the length of the first side: \" )\n",
    "side2 = getFloat( \"Please enter the length of the second side: \" )\n",
    "side3 = sqrt( side1 * side1 + side2 * side2 )\n",
    "print( \"The length of the diagonal side is {:.3f}.\".format( side3 ) )"
   ]
  },
  {
   "cell_type": "markdown",
   "metadata": {},
   "source": [
    "### Exercise 6.3"
   ]
  },
  {
   "cell_type": "code",
   "execution_count": null,
   "metadata": {
    "collapsed": false
   },
   "outputs": [],
   "source": [
    "from pcinput import getFloat\n",
    "\n",
    "num1 = getFloat( \"Please enter number 1: \" )\n",
    "num2 = getFloat( \"Please enter number 2: \" )\n",
    "num3 = getFloat( \"Please enter number 3: \" )\n",
    "\n",
    "print( \"The largest is\", max( num1, num2, num3 ) )\n",
    "print( \"The smallest is\", min( num1, num2, num3 ) )\n",
    "print( \"The average is\", round( (num1 + num2 + num3)/3, 2 ) )"
   ]
  },
  {
   "cell_type": "markdown",
   "metadata": {},
   "source": [
    "### Exercise 6.4"
   ]
  },
  {
   "cell_type": "code",
   "execution_count": null,
   "metadata": {
    "collapsed": false
   },
   "outputs": [],
   "source": [
    "from math import exp\n",
    "\n",
    "s = \"e to the power of {:2d} is {:>9.5f}\"\n",
    "print( s.format( -1, exp( -1 ) ) )\n",
    "print( s.format( 0, exp( 0 ) ) )\n",
    "print( s.format( 1, exp( 1 ) ) )\n",
    "print( s.format( 2, exp( 2 ) ) )\n",
    "print( s.format( 3, exp( 3 ) ) )"
   ]
  },
  {
   "cell_type": "markdown",
   "metadata": {},
   "source": [
    "### Exercise 6.5"
   ]
  },
  {
   "cell_type": "code",
   "execution_count": null,
   "metadata": {
    "collapsed": false
   },
   "outputs": [],
   "source": [
    "from random import random\n",
    "\n",
    "print( \"A random integer between 1 and 10 is\", 1 + int( random() * 10 ) )"
   ]
  },
  {
   "cell_type": "markdown",
   "metadata": {},
   "source": [
    "---"
   ]
  },
  {
   "cell_type": "markdown",
   "metadata": {},
   "source": [
    "## 7 - Conditions<a id=\"answers07\"></a>"
   ]
  },
  {
   "cell_type": "markdown",
   "metadata": {},
   "source": [
    "### Exercise 7.1"
   ]
  },
  {
   "cell_type": "code",
   "execution_count": null,
   "metadata": {
    "collapsed": false
   },
   "outputs": [],
   "source": [
    "from pcinput import getFloat\n",
    "\n",
    "grade = getFloat( \"Please enter a grade: \" )\n",
    "check = int( grade * 10 )\n",
    "if grade < 0 or grade > 10:\n",
    "    print( \"Grades have to be in the range 0 to 10.\" )\n",
    "elif check%5 != 0 or check != grade*10:\n",
    "    print( \"Grades should always be rounded to the nearest half point.\" )\n",
    "elif grade >= 8.5:\n",
    "    print( \"Grade A\" )\n",
    "elif grade >= 7.5:\n",
    "    print( \"Grade B\" )\n",
    "elif grade >= 6.5:\n",
    "    print( \"Grade C\" )\n",
    "elif grade >= 5.5:\n",
    "    print( \"Grade D\" )\n",
    "else:\n",
    "    print( \"Grade F\" )"
   ]
  },
  {
   "cell_type": "markdown",
   "metadata": {},
   "source": [
    "### Exercise 7.2"
   ]
  },
  {
   "cell_type": "markdown",
   "metadata": {},
   "source": [
    "The grade will always be \"D\" or \"F\", as the tests are placed in the incorrect order. E.g., if score is 85, then it is not only greater than 80.0, but also greater than 60.0, so that the grade becomes \"D\"."
   ]
  },
  {
   "cell_type": "markdown",
   "metadata": {},
   "source": [
    "### Exercise 7.3"
   ]
  },
  {
   "cell_type": "code",
   "execution_count": null,
   "metadata": {
    "collapsed": false
   },
   "outputs": [],
   "source": [
    "from pcinput import getString\n",
    "\n",
    "s = getString( \"Please enter a string: \" )\n",
    "count = 0\n",
    "if (\"a\" in s) or (\"A\" in s):\n",
    "    count += 1\n",
    "if (\"e\" in s) or (\"E\" in s):\n",
    "    count += 1\n",
    "if (\"i\" in s) or (\"I\" in s):\n",
    "    count += 1\n",
    "if (\"o\" in s) or (\"O\" in s):\n",
    "    count += 1\n",
    "if (\"u\" in s) or (\"U\" in s):\n",
    "    count += 1\n",
    "    \n",
    "if count == 0:\n",
    "    print( \"There are no vowels in the string.\" )\n",
    "elif count == 1:\n",
    "    print( \"There is only one different vowel in the string.\" )\n",
    "else:\n",
    "    print( \"There are\", count, \"different vowels in the string.\" )"
   ]
  },
  {
   "cell_type": "markdown",
   "metadata": {},
   "source": [
    "Note: In the code above the parentheses in the boolean expressions that do the vowel testing are not necessary, but make the code more readable."
   ]
  },
  {
   "cell_type": "markdown",
   "metadata": {},
   "source": [
    "### Exercise 7.4"
   ]
  },
  {
   "cell_type": "code",
   "execution_count": null,
   "metadata": {
    "collapsed": false
   },
   "outputs": [],
   "source": [
    "from pcinput import getFloat\n",
    "from math import sqrt\n",
    "\n",
    "a = getFloat( \"A: \" )\n",
    "b = getFloat( \"B: \" )\n",
    "c = getFloat( \"C: \" )\n",
    "\n",
    "if a == 0:\n",
    "    if b == 0:\n",
    "        print( \"There is not even an unknown in this equation!\" )\n",
    "    else:\n",
    "        print( \"There is one solution to the equation, namely\", -c/b )\n",
    "else:\n",
    "    discriminant = b*b - 4*a*c\n",
    "    if discriminant < 0:\n",
    "        print( \"There are no solutions to the equation\" )\n",
    "    elif discriminant == 0:\n",
    "        print( \"There is one solution to the equation, namely\", -b/(2*a) )\n",
    "    else:\n",
    "        print( \"There are two solutions to the equation, namely\",  \n",
    "              (-b+sqrt(discriminant))/(2*a), \"and\", (-b-sqrt(discriminant))/(2*a) )"
   ]
  },
  {
   "cell_type": "markdown",
   "metadata": {},
   "source": [
    "Note: For readability, I have split the last line of the code over two lines. That is not necessary, you can put everything on one line. It is not always allowed to split one statement over multiple lines, as Python assumes that each statement will be a single line. However, since the `print()` function starts with an opening parenthesis and Python has not seen the closing parenthesis yet at the end of the line, it will continue looking for parameters for the `print()` function on the next line."
   ]
  },
  {
   "cell_type": "markdown",
   "metadata": {},
   "source": [
    "---"
   ]
  },
  {
   "cell_type": "markdown",
   "metadata": {},
   "source": [
    "## 8 - Iterations<a id=\"answers08\"></a>"
   ]
  },
  {
   "cell_type": "markdown",
   "metadata": {},
   "source": [
    "### Exercise 8.1"
   ]
  },
  {
   "cell_type": "code",
   "execution_count": null,
   "metadata": {
    "collapsed": false
   },
   "outputs": [],
   "source": [
    "from pcinput import getInteger\n",
    "\n",
    "num = getInteger( \"Give a number: \" )\n",
    "i = 1\n",
    "while i <= 10:\n",
    "    print( i, \"*\", num, \"=\", i*num )\n",
    "    i += 1"
   ]
  },
  {
   "cell_type": "markdown",
   "metadata": {},
   "source": [
    "### Exercise 8.2"
   ]
  },
  {
   "cell_type": "code",
   "execution_count": null,
   "metadata": {
    "collapsed": false
   },
   "outputs": [],
   "source": [
    "from pcinput import getInteger\n",
    "\n",
    "num = getInteger( \"Give a number: \" )\n",
    "for i in range( 1, 11 ):\n",
    "    print( i, \"*\", num, \"=\", i*num )"
   ]
  },
  {
   "cell_type": "markdown",
   "metadata": {},
   "source": [
    "### Exercise 8.3"
   ]
  },
  {
   "cell_type": "code",
   "execution_count": null,
   "metadata": {
    "collapsed": false
   },
   "outputs": [],
   "source": [
    "from pcinput import getInteger\n",
    "\n",
    "TOTAL = 10\n",
    "largest = 0\n",
    "smallest = 0\n",
    "div3 = 0\n",
    "\n",
    "for i in range( TOTAL ):\n",
    "    num = getInteger( \"Please enter number \"+str( i+1 )+\": \" )\n",
    "    if num%3 == 0:\n",
    "        div3 += 1\n",
    "    if i == 0:\n",
    "        smallest = num\n",
    "        largest = num\n",
    "        continue\n",
    "    if num < smallest:\n",
    "        smallest = num\n",
    "    if num > largest:\n",
    "        largest = num\n",
    "        \n",
    "print( \"Smallest is\", smallest )\n",
    "print( \"Largest is\", largest )\n",
    "print( \"Dividable by 3 is\", div3 )"
   ]
  },
  {
   "cell_type": "markdown",
   "metadata": {},
   "source": [
    "### Exercise 8.4"
   ]
  },
  {
   "cell_type": "code",
   "execution_count": null,
   "metadata": {
    "collapsed": false
   },
   "outputs": [],
   "source": [
    "bottles = 10\n",
    "s = \"s\"\n",
    "while bottles != \"no\":\n",
    "    print( \"{0} bottle{1} of beer on the wall, {0} bottle{1} of beer.\".format( bottles, s ) )\n",
    "    bottles -= 1\n",
    "    if bottles == 1:\n",
    "        s = \"\"\n",
    "    elif bottles == 0:\n",
    "        s = \"s\"\n",
    "        bottles = \"no\"\n",
    "    print( \"Take one down, pass it around, {} bottle{} of beer on the wall.\".format( bottles, s ) )"
   ]
  },
  {
   "cell_type": "markdown",
   "metadata": {},
   "source": [
    "If instead of \"no bottles\" in the last sentence, you simply write \"0 bottles\", that is fine. The test for the `while` loop then becomes `while bottles > 0:`. Note that doing this program with a `for` loop is a little harder, as there are two different values for bottles in each cycle through the loop."
   ]
  },
  {
   "cell_type": "markdown",
   "metadata": {},
   "source": [
    "### Exercise 8.5"
   ]
  },
  {
   "cell_type": "code",
   "execution_count": null,
   "metadata": {
    "collapsed": false
   },
   "outputs": [],
   "source": [
    "num1 = 0\n",
    "num2 = 1\n",
    "print( 1, end=\" \" )\n",
    "while True:\n",
    "    num3 = num1 + num2\n",
    "    if num3 > 1000:\n",
    "        break\n",
    "    print( num3, end=\" \" )\n",
    "    num1 = num2\n",
    "    num2 = num3    "
   ]
  },
  {
   "cell_type": "markdown",
   "metadata": {},
   "source": [
    "### Exercise 8.6"
   ]
  },
  {
   "cell_type": "code",
   "execution_count": null,
   "metadata": {
    "collapsed": false
   },
   "outputs": [],
   "source": [
    "from pcinput import getString\n",
    "\n",
    "word1 = getString( \"Give word 1: \" )\n",
    "word2 = getString( \"Give word 2: \" )\n",
    "common = \"\"\n",
    "for letter in word1:\n",
    "    if (letter in word2) and (letter not in common):\n",
    "        common += letter\n",
    "if common == \"\":\n",
    "    print( \"The words share no characters.\" )\n",
    "else:\n",
    "    print( \"The words have the following in common:\", common )"
   ]
  },
  {
   "cell_type": "markdown",
   "metadata": {},
   "source": [
    "### Exercise 8.7"
   ]
  },
  {
   "cell_type": "code",
   "execution_count": null,
   "metadata": {
    "collapsed": false
   },
   "outputs": [],
   "source": [
    "from random import randint\n",
    "from pcinput import getInteger\n",
    "\n",
    "answer = randint( 1, 1000 )\n",
    "count = 0\n",
    "while True:\n",
    "    guess = getInteger( \"What is your guess? \" )\n",
    "    if guess < 1 or guess > 1000:\n",
    "        print( \"Your guess should be between 1 and 1000\" )\n",
    "        continue\n",
    "    count += 1\n",
    "    if guess < answer:\n",
    "        print( \"Higher\" )\n",
    "    elif guess > answer:\n",
    "        print( \"Lower\" )\n",
    "    else:\n",
    "        print( \"You guessed it!\" )\n",
    "        break\n",
    "        \n",
    "if count == 1:\n",
    "    print( \"You needed only one guess. Lucky bastard.\" )\n",
    "else:\n",
    "    print( \"You needed\", count, \"guesses.\" )"
   ]
  },
  {
   "cell_type": "markdown",
   "metadata": {},
   "source": [
    "### Exercise 8.8"
   ]
  },
  {
   "cell_type": "code",
   "execution_count": null,
   "metadata": {
    "collapsed": false
   },
   "outputs": [],
   "source": [
    "from pcinput import getLetter\n",
    "from sys import exit\n",
    "\n",
    "count = 0\n",
    "lowest = 0\n",
    "highest = 1001\n",
    "print( \"Take a number in mind between 1 and 1000.\" )\n",
    "while True:\n",
    "    guess = int( (lowest + highest) / 2 )\n",
    "    count += 1\n",
    "    prompt = \"I guess \"+str( guess )+\". Your response? \"\n",
    "    response = getLetter( prompt )\n",
    "    if response == \"C\":\n",
    "        break\n",
    "    elif response == \"L\":\n",
    "        highest = guess\n",
    "    elif response ==\"H\":\n",
    "        lowest = guess\n",
    "    else:\n",
    "        print( \"Please enter H, L, or C.\" )\n",
    "        continue\n",
    "    if lowest >= highest-1:\n",
    "        print( \"You must have made a mistake, because you have said that the answer is higher than\",\n",
    "             lowest, \"but also lower than\", highest )\n",
    "        print( \"I quit this game\" )\n",
    "        exit()\n",
    "\n",
    "if count == 1:\n",
    "    print( \"I needed only one guess! I must be a mind reader.\" )\n",
    "else:\n",
    "    print( \"I needed\", count, \"guesses.\" )"
   ]
  },
  {
   "cell_type": "markdown",
   "metadata": {},
   "source": [
    "### Exercise 8.9"
   ]
  },
  {
   "cell_type": "code",
   "execution_count": null,
   "metadata": {
    "collapsed": false
   },
   "outputs": [],
   "source": [
    "from pcinput import getInteger\n",
    "\n",
    "num = getInteger( \"Please enter a number: \" )\n",
    "if num < 2:\n",
    "    print( num, \"is not prime\" )\n",
    "else:\n",
    "    i = 2\n",
    "    while i*i <= num:\n",
    "        if num%i == 0:\n",
    "            print( num, \"is not prime\" )\n",
    "            break\n",
    "        i += 1\n",
    "    else:\n",
    "        print( num, \"is prime\" )"
   ]
  },
  {
   "cell_type": "markdown",
   "metadata": {},
   "source": [
    "There is a small trick in this code to speed up the calculation enormously. The code only tests dividers up to the square root of `num` (i.e., it tests up to the point that `i*i > num`). The reason that it does this, is that if there is a number bigger than the square root of `num` that divides it, there must necessarily also be one smaller than that square root. For instance, if the number is 21, the square root is between 4 and 5. So the algorithm only tests numbers up to 4. There is a divider for 21 higher than 4, namely 7. But that means there must also be one lower than (or equal to) 4, and indeed, there is one, namely 3. This is a gigantic speedup compared to testing all numbers up to `num`; for instance, if `num` is somewhere in the neighborhood of 1 million, and is prime, you would need to test about 1 million numbers if you test all of them up to `num`, while this particular algorithm would only test about one thousand.\n",
    "\n",
    "If you found this trick, great! If not, don't worry: as long as your code works, you are doing just fine. The hard part is getting the code to work in the first place. As long as you accomplish that, you are well under way to becoming a great programmer.\n",
    "\n",
    "One final note on this code: you should test it extensively! It is very easy to go wrong on particular numbers. In this case, make sure you test a negative number, zero, 1 (which all three should be reported as not prime), 2 (which is the lowest prime number and the only even one), 3 (which is the lowest odd prime), several not-prime numbers, several prime numbers, and numbers which are the square of a prime. Even better, if you can write a `for` loop around your code that tests all numbers between, for instance, -10 and 100, then you are really doing an extensive test of your code."
   ]
  },
  {
   "cell_type": "markdown",
   "metadata": {},
   "source": [
    "### Exercise 8.10"
   ]
  },
  {
   "cell_type": "code",
   "execution_count": null,
   "metadata": {
    "collapsed": false
   },
   "outputs": [],
   "source": [
    "num = 9\n",
    "print( \". |\", end=\"\" )\n",
    "for i in range( 1, num+1 ):\n",
    "    print( \"{:>3}\".format( i ), end=\"\" )\n",
    "print()\n",
    "for i in range( 3*(num+1) ):\n",
    "    print( \"-\", end=\"\" )\n",
    "print()\n",
    "for i in range( 1, num+1 ):\n",
    "    print( i, \"|\", end=\"\" )\n",
    "    for j in range( 1, num+1 ):\n",
    "        print( \"{:>3}\".format( i*j ), end=\"\" )\n",
    "    print()"
   ]
  },
  {
   "cell_type": "markdown",
   "metadata": {},
   "source": [
    "### Exercise 8.11"
   ]
  },
  {
   "cell_type": "code",
   "execution_count": null,
   "metadata": {
    "collapsed": false
   },
   "outputs": [],
   "source": [
    "for i in range( 1, 101 ):\n",
    "    for j in range( 1, i ):\n",
    "        for k in range( j, i ):\n",
    "            if j*j + k*k == i:\n",
    "                print( \"{} = {}**2 + {}**2\".format( i, j, k ) )"
   ]
  },
  {
   "cell_type": "markdown",
   "metadata": {},
   "source": [
    "A more efficient version of this algorithm is:"
   ]
  },
  {
   "cell_type": "code",
   "execution_count": null,
   "metadata": {
    "collapsed": false
   },
   "outputs": [],
   "source": [
    "from math import sqrt\n",
    "\n",
    "for i in range( 1, 101 ):\n",
    "    for j in range( 1, int( sqrt( i ) )+1 ):\n",
    "        for k in range( j, int( sqrt( i ) )+1 ):\n",
    "            if j*j + k*k == i:\n",
    "                print( \"{} = {}**2 + {}**2\".format( i, j, k ) )"
   ]
  },
  {
   "cell_type": "markdown",
   "metadata": {},
   "source": [
    "The reason that this second version is more efficient, and the reason why it works, is explained for the prime numbers exercise above."
   ]
  },
  {
   "cell_type": "markdown",
   "metadata": {},
   "source": [
    "### Exercise 8.12"
   ]
  },
  {
   "cell_type": "code",
   "execution_count": null,
   "metadata": {
    "collapsed": false
   },
   "outputs": [],
   "source": [
    "from random import randint\n",
    "\n",
    "TRIALS = 10000\n",
    "DICE = 5\n",
    "\n",
    "success = 0\n",
    "\n",
    "for i in range( TRIALS ):\n",
    "    lastdie = 0\n",
    "    for j in range( DICE ):\n",
    "        roll = randint( 1, 6 )\n",
    "        if roll < lastdie:\n",
    "            break\n",
    "        lastdie = roll\n",
    "    else:\n",
    "        success += 1\n",
    "        \n",
    "print( \"The probability of an increasing sequence of five die rolls is {:.3f}\".format( success/TRIALS ) )"
   ]
  },
  {
   "cell_type": "markdown",
   "metadata": {},
   "source": [
    "### Exercise 8.13"
   ]
  },
  {
   "cell_type": "code",
   "execution_count": null,
   "metadata": {
    "collapsed": true
   },
   "outputs": [],
   "source": [
    "for A in range( 1, 10 ):\n",
    "    for B in range( 10 ):\n",
    "        if B == A:\n",
    "            continue\n",
    "        for C in range( 10 ):\n",
    "            if C == A or C == B:\n",
    "                continue\n",
    "            for D in range( 1, 10 ):\n",
    "                if D == A or D == B or D == C:\n",
    "                    continue\n",
    "                num1 = 1000*A + 100*B + 10*C + D\n",
    "                num2 = 1000*D + 100*C + 10*B + A\n",
    "                if num1 * 4 == num2:\n",
    "                    print( \"A={}, B={}, C={}, D={}\".format( A, B, C, D ) )"
   ]
  },
  {
   "cell_type": "markdown",
   "metadata": {},
   "source": [
    "The program will generate all combinations of A, B, C, and D that solve the puzzle. In this case there is only one, but the program continues seeking for more solutions until it has tested all possibilities. Fortunately, that process is very fast. If you want to stop the program once it has found a solution, the best approach is to put most of it in a function and `return` from that function as soon as a solution is found."
   ]
  },
  {
   "cell_type": "markdown",
   "metadata": {},
   "source": [
    "### Exercise 8.14"
   ]
  },
  {
   "cell_type": "code",
   "execution_count": null,
   "metadata": {
    "collapsed": true
   },
   "outputs": [],
   "source": [
    "PIRATES = 5\n",
    "coconuts = 0\n",
    "while True:\n",
    "    coconuts += 1\n",
    "    pile = coconuts\n",
    "    for i in range( PIRATES ):\n",
    "        if pile % PIRATES != 1:\n",
    "            break\n",
    "        pile = (PIRATES-1) * int( (pile - 1) / PIRATES )\n",
    "    if pile % PIRATES == 1:\n",
    "        break\n",
    "print( coconuts )"
   ]
  },
  {
   "cell_type": "markdown",
   "metadata": {},
   "source": [
    "---"
   ]
  },
  {
   "cell_type": "markdown",
   "metadata": {},
   "source": [
    "## 9 - Functions<a id=\"answers09\"></a>"
   ]
  },
  {
   "cell_type": "markdown",
   "metadata": {},
   "source": [
    "### Exercise 9.1"
   ]
  },
  {
   "cell_type": "code",
   "execution_count": null,
   "metadata": {
    "collapsed": false
   },
   "outputs": [],
   "source": [
    "from pcinput import getInteger\n",
    "\n",
    "# multiplicationtable gets an integer as parameters.\n",
    "# It prints the multiplication table for that integer.\n",
    "def multiplicationtable( n ):\n",
    "    i = 1\n",
    "    while i <= 10:\n",
    "        print( i, \"*\", n, \"=\", i*n )\n",
    "        i += 1\n",
    "\n",
    "num = getInteger( \"Give a number: \" )\n",
    "multiplicationtable( num )"
   ]
  },
  {
   "cell_type": "markdown",
   "metadata": {},
   "source": [
    "This is almost a copy of the code for exercise 8.1."
   ]
  },
  {
   "cell_type": "markdown",
   "metadata": {},
   "source": [
    "### Exercise 9.2"
   ]
  },
  {
   "cell_type": "code",
   "execution_count": null,
   "metadata": {
    "collapsed": false
   },
   "outputs": [],
   "source": [
    "from pcinput import getString\n",
    "\n",
    "# commoncharacters gets two strings as parameters.\n",
    "# It returns the number of characters that they have in common.\n",
    "def commoncharacters( w1, w2 ):\n",
    "    common = \"\"\n",
    "    for letter in w1:\n",
    "        if (letter in w2) and (letter not in common):\n",
    "            common += letter\n",
    "    return len( common )\n",
    "\n",
    "word1 = getString( \"Give word 1: \" )\n",
    "word2 = getString( \"Give word 2: \" )\n",
    "\n",
    "num = commoncharacters( word1, word2 )\n",
    "if num <= 0:\n",
    "    print( \"The words share no characters.\" )\n",
    "elif num == 1:\n",
    "    print( \"The words have one character in common\" )\n",
    "else:\n",
    "    print( \"The words have\", num, \"characters in common\")"
   ]
  },
  {
   "cell_type": "markdown",
   "metadata": {},
   "source": [
    "This is almost a copy of the code for exercise 8.6."
   ]
  },
  {
   "cell_type": "markdown",
   "metadata": {},
   "source": [
    "### Exercise 9.3"
   ]
  },
  {
   "cell_type": "code",
   "execution_count": null,
   "metadata": {
    "collapsed": false
   },
   "outputs": [],
   "source": [
    "# The function gregoryLeibnitz approximates pi using the Gregory-Leibnitz series.\n",
    "# It gets one parameter, which is an integer that indicates how many terms are calculated.\n",
    "# It returns the approximation as a float.\n",
    "def gregoryLeibnitz( num ):\n",
    "    appr = 0\n",
    "    for i in range( num ):\n",
    "        if i%2 == 0:\n",
    "            appr += 1/(1 + i*2)\n",
    "        else:\n",
    "            appr -= 1/(1 + i*2)\n",
    "    return 4*appr\n",
    "\n",
    "print( gregoryLeibnitz( 50 ) )"
   ]
  },
  {
   "cell_type": "markdown",
   "metadata": {},
   "source": [
    "### Exercise 9.4"
   ]
  },
  {
   "cell_type": "code",
   "execution_count": null,
   "metadata": {
    "collapsed": false
   },
   "outputs": [],
   "source": [
    "from pcinput import getFloat\n",
    "from math import sqrt\n",
    "\n",
    "# This function solves a quadratic equation.\n",
    "# Its parameters are the numeric values for A, B, and C in the equation Ax**2 + Bx + C = 0\n",
    "# It returns three values: an integer 0, 1, or 2, indicating the number of solutions,\n",
    "# followed by two numbers which are the solutions. With no solutions, both solutions are set\n",
    "# to zero. With one solution, it is returned as the first of the two, while the other is set\n",
    "# to zero.\n",
    "def quadraticFormula( a, b, c ):\n",
    "    if a == 0:\n",
    "        if b == 0:\n",
    "            return 0, 0, 0\n",
    "        return 1, -c/b, 0\n",
    "    discriminant = b*b - 4*a*c\n",
    "    if discriminant < 0:\n",
    "        return 0, 0, 0\n",
    "    elif discriminant == 0:\n",
    "        return 1, -b/(2*a), 0\n",
    "    else:\n",
    "        return 2, (-b+sqrt(discriminant))/(2*a), (-b-sqrt(discriminant))/(2*a)\n",
    "    \n",
    "num, sol1, sol2 = quadraticFormula( getFloat( \"A: \" ), getFloat( \"B: \" ), getFloat( \"C: \" ) )\n",
    "if num == 0:\n",
    "    print( \"There are no solutions\" )\n",
    "elif num == 1:\n",
    "    print( \"There is one solution, namely:\", sol1 )\n",
    "else:\n",
    "    print( \"There are two solutions, namely:\", sol1, \"and\", sol2 )"
   ]
  },
  {
   "cell_type": "markdown",
   "metadata": {},
   "source": [
    "### Exercise 9.5"
   ]
  },
  {
   "cell_type": "code",
   "execution_count": null,
   "metadata": {
    "collapsed": false
   },
   "outputs": [],
   "source": [
    "from pcinput import getInteger\n",
    "\n",
    "def getNumber( prompt ):\n",
    "    while True:\n",
    "        num = getInteger( prompt )\n",
    "        if num < 0 or num > 1000:\n",
    "            print( \"Please enter a number between 0 and 1000\" )\n",
    "            continue\n",
    "        return num\n",
    "\n",
    "def main():\n",
    "    while True:\n",
    "        x = getNumber( \"Enter number 1: \" )\n",
    "        if x == 0:\n",
    "            break\n",
    "        y = getNumber( \"Enter number 2: \" )\n",
    "        if y == 0:\n",
    "            break\n",
    "        if x%y == 0 or y%x == 0:\n",
    "            print( \"Error: the numbers cannot be dividers of each other\" )\n",
    "            return\n",
    "        print( \"Multiplication of\", x, \"and\", y, \"gives\", x * y )\n",
    "    print( \"Goodbye!\" )\n",
    "\n",
    "if __name__ == '__main__':\n",
    "    main()"
   ]
  },
  {
   "cell_type": "markdown",
   "metadata": {},
   "source": [
    "### Exercise 9.6"
   ]
  },
  {
   "cell_type": "markdown",
   "metadata": {},
   "source": [
    "I did not mention the fact that you already wrote code for the factorial in Chapter 8. I hope you did write that code and remembered. You are supposed to put that code in a function and use it in the calculation. That makes this program all the more readable."
   ]
  },
  {
   "cell_type": "code",
   "execution_count": null,
   "metadata": {
    "collapsed": false
   },
   "outputs": [],
   "source": [
    "# Calculates the factorial of parameter n, which must be an integer.\n",
    "# Returns the value of the factorial as an integer.\n",
    "def factorial( n ):\n",
    "    value = 1\n",
    "    for i in range( 2, n+1 ):\n",
    "        value *= i\n",
    "    return value\n",
    "\n",
    "# Calculates n over k; parameters n and k are integers.\n",
    "# Returns the value n over k as an integer (because it always must be an integer).\n",
    "def binomialCoefficient( n, k ):\n",
    "    if k > n:\n",
    "        return 0\n",
    "    return int( factorial( n )/(factorial( k )*factorial( n - k )) )\n",
    "\n",
    "def main():\n",
    "    print( factorial( 5 ) )\n",
    "    print( binomialCoefficient( 8, 3 ) )\n",
    "    \n",
    "if __name__ == '__main__':\n",
    "    main()"
   ]
  },
  {
   "cell_type": "markdown",
   "metadata": {},
   "source": [
    "### Exercise 9.7"
   ]
  },
  {
   "cell_type": "markdown",
   "metadata": {},
   "source": [
    "The code tries to print the return value of the function `area_of_triangle()`, but since this function has no return value, it prints the word `None`. When you create a function of which you want to display the output, you can either print the output in the function and then call it without using the return value, or you let the function produce the output, return it, and print the return value of the function in your main program. Not both. By the way, in general it is preferable if functions do not do the printing themselves, because it makes them more generally usable (for instance, the function `area_of_triangle()`, if it just returns the area instead of printing it, you can not only use the function to print the area, but also use the area in calculations). If you do not understand the explanation given here, revisit Chapter 6."
   ]
  },
  {
   "cell_type": "markdown",
   "metadata": {},
   "source": [
    "---"
   ]
  },
  {
   "cell_type": "markdown",
   "metadata": {},
   "source": [
    "## 10 - Recursion<a id=\"answers10\"></a>"
   ]
  },
  {
   "cell_type": "markdown",
   "metadata": {},
   "source": [
    "### Exercise 10.1"
   ]
  },
  {
   "cell_type": "code",
   "execution_count": null,
   "metadata": {
    "collapsed": true
   },
   "outputs": [],
   "source": [
    "def fib( n ):\n",
    "    if n <= 2:\n",
    "        return 1\n",
    "    return fib( n-1 ) + fib( n-2 )\n",
    "\n",
    "print( fib( 20 ) )"
   ]
  },
  {
   "cell_type": "markdown",
   "metadata": {},
   "source": [
    "### Exercise 10.2"
   ]
  },
  {
   "cell_type": "code",
   "execution_count": null,
   "metadata": {
    "collapsed": false
   },
   "outputs": [],
   "source": [
    "def fib( n, depth ):\n",
    "    indent = 6 * depth * \" \"\n",
    "    print( \"{}fib({})\".format( indent, n ) )\n",
    "    if n <= 2:\n",
    "        print( \"{}return {}\".format( indent, 1 ) )\n",
    "        return 1\n",
    "    value = fib( n-1, depth+1 ) + fib( n-2, depth+1 )\n",
    "    print( \"{}return {}\".format( indent, value ) )\n",
    "    return value\n",
    "\n",
    "print( fib( 5, 0 ) )"
   ]
  },
  {
   "cell_type": "markdown",
   "metadata": {},
   "source": [
    "### Exercise 10.3"
   ]
  },
  {
   "cell_type": "markdown",
   "metadata": {},
   "source": [
    "Since the Fibonacci sequence can just as easily be implemented as an iterative function (you did this in exercise 8.4), doing it as a recursive function is not a good idea. The reasons are the same as for the factorial, explained in the chapter. There is the additional reason that the recursive definition basically calculates all terms of the sequence twice, as you can see when you look at your output for exercise 10.2, while calculating them just once suffices."
   ]
  },
  {
   "cell_type": "markdown",
   "metadata": {},
   "source": [
    "### Exercise 10.4"
   ]
  },
  {
   "cell_type": "markdown",
   "metadata": {},
   "source": [
    "The problem in this code is that when I enter a string with two illegal characters, then it will recursively call itself twice, namely once for each of the letters. So, for instance, if the user enters \"route67\", it will first call itself recursively for the \"6\". If the user then enters a correct string, the function should end. Instead, it continues checking the original input \"route67\", finds the \"7\", and calls itself recursively again to ask for yet another string.\n",
    "\n",
    "I could explain how you can solve this problem by fixing the code, but the real fix here is that you should not write recursive functions that interact with the user."
   ]
  },
  {
   "cell_type": "markdown",
   "metadata": {},
   "source": [
    "---"
   ]
  },
  {
   "cell_type": "markdown",
   "metadata": {},
   "source": [
    "## 11 - Strings<a id=\"answers11\"></a>"
   ]
  },
  {
   "cell_type": "markdown",
   "metadata": {},
   "source": [
    "### Exercise 11.1"
   ]
  },
  {
   "cell_type": "code",
   "execution_count": null,
   "metadata": {
    "collapsed": false
   },
   "outputs": [],
   "source": [
    "# Counting vowels.\n",
    "text = \"\"\"And Saint Attila raised the hand grenade up on high,\n",
    "saying, \"O Lord, bless this thy hand grenade, that with it\n",
    "thou mayst blow thine enemies to tiny bits, in thy mercy.\" \n",
    "And the Lord did grin. And the people did feast upon the lambs, \n",
    "and sloths, and carp, and anchovies, and orangutans, and \n",
    "breakfast cereals, and fruit bats, and large chu...\"\"\"\n",
    "\n",
    "counta, counte, counti, counto, countu = 0, 0, 0, 0, 0\n",
    "for c in text:\n",
    "    if c.upper() == \"A\":\n",
    "        counta += 1\n",
    "    elif c.upper() == \"E\":\n",
    "        counte += 1\n",
    "    elif c.upper() == \"I\":\n",
    "        counti += 1\n",
    "    elif c.upper() == \"O\":\n",
    "        counto += 1\n",
    "    elif c.upper() == \"U\":\n",
    "        countu += 1\n",
    "        \n",
    "print( \"Counts: a={}, e={}, i={}, o={}, u={}\".format( counta, counte, counto, counti, countu ) )"
   ]
  },
  {
   "cell_type": "markdown",
   "metadata": {},
   "source": [
    "You might be wondering whether that repetition of `if` statements can be replaced by some sort of iteration. The answer is that it can, but you need a list data structure, which will come up in a future chapter. "
   ]
  },
  {
   "cell_type": "markdown",
   "metadata": {},
   "source": [
    "### Exercise 11.2"
   ]
  },
  {
   "cell_type": "code",
   "execution_count": null,
   "metadata": {
    "collapsed": false
   },
   "outputs": [],
   "source": [
    "# Distilling text.\n",
    "text = \"\"\"The quick, brown fox jumps over a lazy dog. DJs flock by when MTV ax quiz prog. \n",
    "Junk MTV quiz graced by fox whelps. [Never gonna ] Bawds jog, flick quartz, vex nymphs. \n",
    "[give you up\\n] Waltz, bad nymph, for quick jigs vex! Fox nymphs grab quick-jived waltz. \n",
    "Brick quiz whangs jumpy veldt fox. [Never ] Bright vixens jump; [gonna let ] dozy fowl \n",
    "quack. Quick wafting zephyrs vex bold Jim. Quick zephyrs blow, vexing daft Jim. Charged \n",
    "[you down\\n] fop blew my junk TV quiz. How quickly daft jumping zebras vex. Two driven \n",
    "jocks help fax my big quiz. Quick, Baz, get my woven flax jodhpurs! \"Now fax quiz Jack!\" \n",
    "my brave ghost pled. [Never ] Five quacking zephyrs jolt my wax bed. [gonna ] Flummoxed \n",
    "by job, kvetching W. zaps Iraq. Cozy sphinx waves quart jug of bad milk. [run around ] \n",
    "A very bad quack might jinx zippy fowls. Few quips galvanized the mock jury box. Quick \n",
    "brown dogs jump over the lazy fox. The jay, pig, fox, zebra, and my wolves quack! \n",
    "[and desert you] Blowzy red vixens fight for a quick jump. Joaquin Phoenix was gazed \n",
    "by MTV for luck. A wizard’s job is to vex chumps quickly in fog. Watch \"Jeopardy!\", \n",
    "Alex Trebek's fun TV quiz game.\"\"\"\n",
    "\n",
    "start = -1\n",
    "while True:\n",
    "    start = text.find( \"[\", start+1 )\n",
    "    if start < 0:\n",
    "        break\n",
    "    finish = text.find( \"]\", start )\n",
    "    if finish < 0:\n",
    "        break\n",
    "    print( text[start+1:finish], end=\"\" )\n",
    "    start = finish "
   ]
  },
  {
   "cell_type": "markdown",
   "metadata": {},
   "source": [
    "### Exercise 11.3"
   ]
  },
  {
   "cell_type": "code",
   "execution_count": null,
   "metadata": {
    "collapsed": false
   },
   "outputs": [],
   "source": [
    "ch = \"A\"\n",
    "while ch <= \"Z\":\n",
    "    print( ch, end=\" \" )\n",
    "    ch = chr( ord( ch )+1 )\n",
    "print()\n",
    "\n",
    "for i in range( 26 ):\n",
    "    rotr13 = (i + 13)%26\n",
    "    ch = chr( ord( \"A\" ) + rotr13 )\n",
    "    print( ch, end=\" \" )"
   ]
  },
  {
   "cell_type": "markdown",
   "metadata": {},
   "source": [
    "### Exercise 11.4"
   ]
  },
  {
   "cell_type": "code",
   "execution_count": null,
   "metadata": {
    "collapsed": false
   },
   "outputs": [],
   "source": [
    "# Counting wood.\n",
    "text = \"\"\"How much wood would a woodchuck chuck\n",
    "If a woodchuck could chuck wood?\n",
    "He would chuck, he would, as much as he could,\n",
    "And chuck as much as a woodchuck would\n",
    "If a woodchuck could chuck wood.\"\"\"\n",
    "\n",
    "def clean( s ):\n",
    "    news = \"\"\n",
    "    s = s.lower()\n",
    "    for c in s:\n",
    "        if c >= \"a\" and c <= \"z\":\n",
    "            news += c\n",
    "        else:\n",
    "            news += \" \"\n",
    "    return news\n",
    "\n",
    "count = 0\n",
    "for word in clean( text ).split():\n",
    "    if word == \"wood\":\n",
    "        count += 1\n",
    "\n",
    "print( \"Number of times \\\"wood\\\" occurs in the text:\", count )"
   ]
  },
  {
   "cell_type": "markdown",
   "metadata": {},
   "source": [
    "Note that in the example text, the word \"wood\" never occurs with a capital. For a solid test, you should insert \"wood\" written with one or more capitals in the text somewhere."
   ]
  },
  {
   "cell_type": "markdown",
   "metadata": {},
   "source": [
    "### Exercise 11.5"
   ]
  },
  {
   "cell_type": "code",
   "execution_count": null,
   "metadata": {
    "collapsed": false
   },
   "outputs": [],
   "source": [
    "text = \"Hello, world!\"\n",
    "newtext = \"\"\n",
    "while len( text ) > 0:\n",
    "    i = 0\n",
    "    ch = text[i]\n",
    "    j = 1\n",
    "    while j < len( text ):\n",
    "        if text[j] < ch:\n",
    "            ch = text[j]\n",
    "            i = j\n",
    "        j += 1\n",
    "    text = text[:i] + text[i+1:]\n",
    "    newtext += ch\n",
    "print( newtext )"
   ]
  },
  {
   "cell_type": "markdown",
   "metadata": {},
   "source": [
    "### Exercise 11.6"
   ]
  },
  {
   "cell_type": "code",
   "execution_count": null,
   "metadata": {
    "collapsed": false
   },
   "outputs": [],
   "source": [
    "from sys import exit\n",
    "\n",
    "sentence = \"as it turned out our chance meeting with REverend aRTHUR BElling was \\\n",
    "was to change our whole way of life, and every sunday we'd hurry along to St lOONY up the Cream BUn and Jam.\"\n",
    "\n",
    "# Just check if there really is a sentence.\n",
    "if len( sentence  ) <= 0:\n",
    "    exit()\n",
    "\n",
    "# Capitalize first letter \n",
    "newsentence = sentence[0].upper() + sentence[1:]\n",
    "\n",
    "wordlist = newsentence.split()\n",
    "lastword = \"\"\n",
    "newsentence = \"\"\n",
    "\n",
    "for word in wordlist:\n",
    "\n",
    "    # Correct double capitals\n",
    "    if len( word ) > 2 and word[0] >= \"A\" and word[0] <= \"Z\" and \\\n",
    "        word[1] >= \"A\" and word[1] <= \"Z\" and word[2] >= \"a\" and word[2] <= \"z\":\n",
    "        word = word[0] + word[1].lower() + word[2:]\n",
    "    \n",
    "    # Capitalize days\n",
    "    day = word.lower()\n",
    "    if day == \"sunday\" or day == \"monday\" or day == \"tuesday\" or day == \"wednesday\" or \\\n",
    "        day == \"thursday\" or day == \"friday\" or day == \"saturday\":\n",
    "        word = day[0].upper() + day[1:]\n",
    "    \n",
    "    # Correct CAPS LOCK\n",
    "    if word[0] >= \"a\" and word[0] <= \"z\":\n",
    "        allcaps = True\n",
    "        for c in word[1:]:\n",
    "            if not (c >= \"A\" and c <= \"Z\"):\n",
    "                allcaps = False\n",
    "                break\n",
    "        if allcaps:\n",
    "            word = word[0].upper() + word[1:].lower()\n",
    "    \n",
    "    # Remove duplicates\n",
    "    if word == lastword: \n",
    "        continue\n",
    "        \n",
    "    newsentence += word + \" \"\n",
    "    lastword = word\n",
    "    \n",
    "newsentence = newsentence.strip()\n",
    "print( newsentence )"
   ]
  },
  {
   "cell_type": "markdown",
   "metadata": {},
   "source": [
    "---"
   ]
  },
  {
   "cell_type": "markdown",
   "metadata": {},
   "source": [
    "## 12 - Tuples<a id=\"answers12\"></a>"
   ]
  },
  {
   "cell_type": "markdown",
   "metadata": {},
   "source": [
    "### Exercise 12.1"
   ]
  },
  {
   "cell_type": "markdown",
   "metadata": {},
   "source": [
    "To make the display of complex numbers a bit nice, I have created a function `display_complex()` which takes up most of this code. Creating such a function is not absolutely necessary."
   ]
  },
  {
   "cell_type": "code",
   "execution_count": null,
   "metadata": {
    "collapsed": false
   },
   "outputs": [],
   "source": [
    "def add_complex( c1, c2 ):\n",
    "    return (c1[0] + c2[0], c1[1] + c2[1])\n",
    "\n",
    "def display_complex( c ):\n",
    "    s = \"(\"\n",
    "    if c[1] == 0:\n",
    "        return str( c[0] )\n",
    "    elif c[0] != 0:\n",
    "        s += str( c[0] )\n",
    "        if c[1] > 0:\n",
    "            s += \"+\"\n",
    "    if c[1] != 1:\n",
    "        if c[1] == -1:\n",
    "            s += \"-\"\n",
    "        else:\n",
    "            s += str( c[1] )\n",
    "    s += \"i)\"\n",
    "    return s\n",
    "\n",
    "num1 = (2,1)\n",
    "num2 = (0,2)\n",
    "print( display_complex( num1 ), \"+\", display_complex( num2 ), \"=\",\n",
    "     display_complex( add_complex( num1, num2 ) ) )"
   ]
  },
  {
   "cell_type": "markdown",
   "metadata": {},
   "source": [
    "### Exercise 12.2"
   ]
  },
  {
   "cell_type": "markdown",
   "metadata": {},
   "source": [
    "The function `display_complex()`, even though it is optional, has been copied in this code too."
   ]
  },
  {
   "cell_type": "code",
   "execution_count": null,
   "metadata": {
    "collapsed": false
   },
   "outputs": [],
   "source": [
    "def multiply_complex( c1, c2 ):\n",
    "    return (c1[0]*c2[0] - c2[1]*c1[1], c1[0]*c2[1] + c1[1]*c2[0])\n",
    "\n",
    "def display_complex( c ):\n",
    "    s = \"(\"\n",
    "    if c[1] == 0:\n",
    "        return str( c[0] )\n",
    "    elif c[0] != 0:\n",
    "        s += str( c[0] )\n",
    "        if c[1] > 0:\n",
    "            s += \"+\"\n",
    "    if c[1] != 1:\n",
    "        if c[1] == -1:\n",
    "            s += \"-\"\n",
    "        else:\n",
    "            s += str( c[1] )\n",
    "    s += \"i)\"\n",
    "    return s\n",
    "\n",
    "num1 = (2,1)\n",
    "num2 = (0,2)\n",
    "print( display_complex( num1 ), \"*\", display_complex( num2 ), \"=\",\n",
    "     display_complex( multiply_complex( num1, num2 ) ) )"
   ]
  },
  {
   "cell_type": "markdown",
   "metadata": {},
   "source": [
    "### Exercise 12.3"
   ]
  },
  {
   "cell_type": "markdown",
   "metadata": {},
   "source": [
    "This code is a nice example of how you can use recursive functions to traverse tree-like structures."
   ]
  },
  {
   "cell_type": "code",
   "execution_count": null,
   "metadata": {
    "collapsed": false
   },
   "outputs": [],
   "source": [
    "# Processing inttuples\n",
    "inttuple = ( 1, 2, ( 3, 4 ), 5, ( ( 6, 7, 8, ( 9, 10 ), 11 ), 12, 13 ), ( ( 14, 15, 16 ), ( 17, 18, 19, 20 ) ) )\n",
    "\n",
    "def display_inttuple( it ):\n",
    "    for element in it:\n",
    "        if isinstance( element, int ):\n",
    "            print( element, end=\" \")\n",
    "        else:\n",
    "            display_inttuple( element )\n",
    "\n",
    "display_inttuple( inttuple )"
   ]
  },
  {
   "cell_type": "markdown",
   "metadata": {},
   "source": [
    "---"
   ]
  },
  {
   "cell_type": "markdown",
   "metadata": {},
   "source": [
    "## 13 - Lists<a id=\"answers13\"></a>"
   ]
  },
  {
   "cell_type": "markdown",
   "metadata": {},
   "source": [
    "### Exercise 13.1"
   ]
  },
  {
   "cell_type": "code",
   "execution_count": null,
   "metadata": {
    "collapsed": false
   },
   "outputs": [],
   "source": [
    "from random import choice\n",
    "\n",
    "answers = [ \"It is certain\", \"It is decidedly so\", \"Without a doubt\",\n",
    "    \"Yes, definitely\", \"You may rely on it\", \"As I see it, yes\",\n",
    "    \"Most likely\", \"Outlook good\", \"Yes\", \"Signs point to yes\",\n",
    "    \"Reply hazy try again\", \"Ask again later\", \"Better not tell you now\",\n",
    "    \"Cannot predict now\", \"Concentrate and ask again\", \"Don't count on it\",\n",
    "    \"My reply is no\", \"My sources say no\", \"Outlook not so good\",\n",
    "    \"Very doubtful\" ]\n",
    "\n",
    "input( \"Ask the magic 8-ball your question: \" )\n",
    "print( \"The magic 8-ball says:\", choice( answers ) )"
   ]
  },
  {
   "cell_type": "markdown",
   "metadata": {},
   "source": [
    "The `choice()` function from `random` selects a random item from a list. You could also have used `randint()`, selecting an index from the range `0` to `len( answers )-1`."
   ]
  },
  {
   "cell_type": "markdown",
   "metadata": {},
   "source": [
    "### Exercise 13.2"
   ]
  },
  {
   "cell_type": "code",
   "execution_count": null,
   "metadata": {
    "collapsed": false
   },
   "outputs": [],
   "source": [
    "from random import randint\n",
    "\n",
    "deck = []\n",
    "for value in (\"Ace\", \"2\", \"3\", \"4\", \"5\", \"6\", \"7\", \"8\", \"10\", \"Jack\", \"Queen\", \"King\"):\n",
    "    for suit in (\"Hearts\", \"Spaces\", \"Clubs\", \"Diamonds\"):\n",
    "        deck.append( value + \" of \" + suit )\n",
    "        \n",
    "for i in range( len( deck ) ):\n",
    "    j = randint( i, len( deck )-1 )\n",
    "    deck[i], deck[j] = deck[j], deck[i]\n",
    "    \n",
    "for card in deck:\n",
    "    print( card )"
   ]
  },
  {
   "cell_type": "markdown",
   "metadata": {},
   "source": [
    "### Exercise 13.3"
   ]
  },
  {
   "cell_type": "code",
   "execution_count": null,
   "metadata": {
    "collapsed": false
   },
   "outputs": [],
   "source": [
    "fifo = []\n",
    "while True:\n",
    "    k = input( \"> \" )\n",
    "    if k == \"\":\n",
    "        break\n",
    "    if k != \"?\":\n",
    "        fifo.append( k )\n",
    "    elif len( fifo ) > 0:\n",
    "        print( fifo.pop(0) )\n",
    "    else:\n",
    "        print( \"List is empty\" )"
   ]
  },
  {
   "cell_type": "markdown",
   "metadata": {},
   "source": [
    "### Exercise 13.4"
   ]
  },
  {
   "cell_type": "code",
   "execution_count": null,
   "metadata": {
    "collapsed": false
   },
   "outputs": [],
   "source": [
    "text = \"\"\"Now, it's quite simple to defend yourself against a man armed\n",
    "with a banana. First of all you force him to drop the banana; then, \n",
    "second, you eat the banana, thus disarming him. You have now rendered \n",
    "him helpless.\"\"\"\n",
    "\n",
    "def count_letter( x ):\n",
    "    return x[0], -ord(x[1]) \n",
    "\n",
    "countlist = []\n",
    "for i in range( 26 ):\n",
    "    countlist.append( [0, chr(ord(\"a\")+i)] )\n",
    "    \n",
    "for letter in text.lower():\n",
    "    if letter >= \"a\" and letter <= \"z\":\n",
    "        countlist[ord(letter)-ord(\"a\")][0] += 1\n",
    "        \n",
    "countlist.sort( reverse=True, key=count_letter )\n",
    "    \n",
    "for count in countlist:\n",
    "    print( \"{:3}: {}\".format( count[0],count[1] ) )"
   ]
  },
  {
   "cell_type": "markdown",
   "metadata": {},
   "source": [
    "### Exercise 13.5"
   ]
  },
  {
   "cell_type": "code",
   "execution_count": null,
   "metadata": {
    "collapsed": false
   },
   "outputs": [],
   "source": [
    "numbers = 101 * [True]\n",
    "numbers[1] = False\n",
    "for i in range( 1, len( numbers ) ):\n",
    "    if not numbers[i]:\n",
    "        continue\n",
    "    print( i, end=\" \" )\n",
    "    j = 2\n",
    "    while j*i < len( numbers ):\n",
    "        numbers[j*i] = False\n",
    "        j += 1"
   ]
  },
  {
   "cell_type": "markdown",
   "metadata": {},
   "source": [
    "There are basically two general approaches to this program: either you make a list of numbers, or you make a list of booleans and use the index as numbers. In this case, I decided to use the booleans method because it is a lot faster than the other approach. I start the list at zero, as that saves many subtractions while only adding one useless boolean. If you use the approach with numbers, you can use a list casting of the `range()` function to create the list."
   ]
  },
  {
   "cell_type": "markdown",
   "metadata": {},
   "source": [
    "### Exercise 13.6"
   ]
  },
  {
   "cell_type": "code",
   "execution_count": null,
   "metadata": {
    "collapsed": false
   },
   "outputs": [],
   "source": [
    "from pcinput import getInteger\n",
    "\n",
    "EMPTY = \"-\"\n",
    "PLAYERX = \"X\"\n",
    "PLAYERO = \"O\"\n",
    "MAXMOVE = 9\n",
    "\n",
    "def display_board( b ):\n",
    "    print( \"  1 2 3\" )\n",
    "    for row in range( 3 ):\n",
    "        print( row+1, end=\" \")\n",
    "        for col in range( 3 ):\n",
    "            print( b[row][col], end=\" \" )\n",
    "        print()\n",
    "\n",
    "def opponent( p ):\n",
    "    if p == \"X\":\n",
    "        return \"O\"\n",
    "    return \"X\"\n",
    "        \n",
    "def getRowCol( player, what ):\n",
    "    while True:\n",
    "        num = getInteger( \"Player \"+player+\", which \"+what+\" do you play? \" )\n",
    "        if num < 1 or num > 3:\n",
    "            print( \"Please enter 1, 2, or 3\" )\n",
    "            continue\n",
    "        return num\n",
    "    \n",
    "def winner( b ):\n",
    "    for row in range( 3 ):\n",
    "        if b[row][0] != EMPTY and b[row][0] == b[row][1] and b[row][0] == b[row][2]:\n",
    "            return True\n",
    "    for col in range( 3 ):\n",
    "        if b[0][col] != EMPTY and b[0][col] == b[1][col] and b[0][col] == b[2][col]:\n",
    "            return True\n",
    "    if b[1][1] != EMPTY:\n",
    "        if b[1][1] == b[0][0] and b[1][1] == b[2][2]:\n",
    "            return True\n",
    "        if b[1][1] == b[0][2] and b[1][1] == b[2][0]:\n",
    "            return True\n",
    "    return False\n",
    "\n",
    "board = [[EMPTY,EMPTY,EMPTY],[EMPTY,EMPTY,EMPTY],[EMPTY,EMPTY,EMPTY]]\n",
    "player = PLAYERX\n",
    "\n",
    "display_board( board )\n",
    "move = 0\n",
    "while True:\n",
    "    row = getRowCol( player, \"row\" )\n",
    "    col = getRowCol( player, \"column\" )\n",
    "    if board[row-1][col-1] != EMPTY:\n",
    "        print( \"There is already a piece at row\", row, \"and column\", col )\n",
    "        continue\n",
    "    board[row-1][col-1] = player\n",
    "    display_board( board )\n",
    "    if winner( board ):\n",
    "        print( \"Player\", player, \"won!\" )\n",
    "        break\n",
    "    move += 1\n",
    "    if move == MAXMOVE:\n",
    "        print( \"It's a draw.\" )\n",
    "        break\n",
    "    player = opponent( player )"
   ]
  },
  {
   "cell_type": "markdown",
   "metadata": {},
   "source": [
    "### Exercise 13.7"
   ]
  },
  {
   "cell_type": "code",
   "execution_count": null,
   "metadata": {
    "collapsed": false
   },
   "outputs": [],
   "source": [
    "from pcinput import getString\n",
    "from random import randint\n",
    "\n",
    "EMPTY = \".\"\n",
    "BATTLESHIP = \"X\"\n",
    "SHIPS = 3\n",
    "WIDTH = 4\n",
    "HEIGHT = 3\n",
    "\n",
    "def displayBoard( b ):\n",
    "    print( \"  \", end=\"\" )\n",
    "    for col in range( WIDTH ):\n",
    "        print( chr( ord(\"A\")+col ), end=\" \" )\n",
    "    print()\n",
    "    for row in range( HEIGHT ):\n",
    "        print( row+1, end=\" \")\n",
    "        for col in range( WIDTH ):\n",
    "            print( b[row][col], end=\" \" )\n",
    "        print()\n",
    "\n",
    "def placeBattleships( b ):\n",
    "    for i in range( SHIPS ):\n",
    "        while True:\n",
    "            x = randint( 0, WIDTH-1 )\n",
    "            y = randint( 0, HEIGHT-1 )\n",
    "            if b[y][x] == BATTLESHIP:\n",
    "                continue\n",
    "            if x > 0 and b[y][x-1] == BATTLESHIP:\n",
    "                continue\n",
    "            if x < WIDTH-1 and b[y][x+1] == BATTLESHIP:\n",
    "                continue\n",
    "            if y > 0 and b[y-1][x] == BATTLESHIP:\n",
    "                continue\n",
    "            if y < HEIGHT-1 and b[y+1][x] == BATTLESHIP:\n",
    "                continue\n",
    "            break\n",
    "        b[y][x] = BATTLESHIP\n",
    "    \n",
    "def getTarget():\n",
    "    while True:\n",
    "        cell = getString( \"Which cell do you target? \" ).upper()\n",
    "        if len( cell ) != 2:\n",
    "            print( \"Please enter a cell as XY, where X is a letter and Y a digit\" )\n",
    "            continue\n",
    "        if cell[0] not in \"ABCD\":\n",
    "            print( \"The first character of the cell should be a letter in the range A-\"+chr( ord(\"A\")+WIDTH-1 ) )\n",
    "            continue\n",
    "        if cell[1] not in \"123\":\n",
    "            print( \"The second character of the cell should be a digit in the range 1-\"+str( HEIGHT ) )\n",
    "            continue\n",
    "        return ord(cell[0])-ord(\"A\"), ord(cell[1])-ord(\"1\")      \n",
    "    \n",
    "board = []\n",
    "for i in range( HEIGHT ):\n",
    "    row = WIDTH * [EMPTY]\n",
    "    board.append( row )\n",
    "placeBattleships( board )\n",
    "displayBoard( board )\n",
    "\n",
    "hits = 0\n",
    "moves = 0\n",
    "while hits < SHIPS:\n",
    "    x, y = getTarget()\n",
    "    if board[y][x] == BATTLESHIP:\n",
    "        print( \"You sunk my battleship!\" )\n",
    "        board[y][x] = EMPTY\n",
    "        hits += 1\n",
    "    else:\n",
    "        print( \"Miss!\" )\n",
    "    moves += 1\n",
    "\n",
    "print( \"You needed\", moves, \"moves to sink all battleships.\" )"
   ]
  },
  {
   "cell_type": "markdown",
   "metadata": {},
   "source": [
    "### Exercise 13.8"
   ]
  },
  {
   "cell_type": "code",
   "execution_count": null,
   "metadata": {
    "collapsed": false
   },
   "outputs": [],
   "source": [
    "# Recursive function that determines if intlist, which is a list of integers,\n",
    "# contains a subset that adds up to total. It returns the subset, or\n",
    "# an empty list if there is no such subset.\n",
    "def subset_that_adds_up_to( intlist, total ):\n",
    "    for num in intlist:\n",
    "        if num == total:\n",
    "            return [num]\n",
    "        newlist = intlist[:]\n",
    "        newlist.remove( num )\n",
    "        retlist = subset_that_adds_up_to( newlist, total-num )\n",
    "        if len( retlist ) > 0:\n",
    "            retlist.insert( 0, num )\n",
    "            return( retlist )\n",
    "    return []\n",
    "\n",
    "numlist = [ 3, 8, -1, 4, -5, 6 ]\n",
    "\n",
    "solution = subset_that_adds_up_to( numlist, 0 )\n",
    "\n",
    "if len( solution ) <= 0:\n",
    "    print( \"There is no subset which adds up to zero\" )\n",
    "else:\n",
    "    for i in range( len( solution ) ):\n",
    "        if solution[i] < 0 or i == 0:\n",
    "            print( solution[i], end=\"\" )\n",
    "        else:\n",
    "            print( \"+{}\".format( solution[i] ), end=\"\" )\n",
    "    print( \"=0\" )"
   ]
  },
  {
   "cell_type": "markdown",
   "metadata": {},
   "source": [
    "The recursive function works as follows: It loops through all numbers on `intlist`. If the current number is equal to `total`, it has found a solution and returns a list which contains only that number. Otherwise, it recursively calls itself with a copy of `intlist` from which the current number is removed, for a `total` which is reduced by the current number (e.g., if the current number is 3 and the total is 5, it removes 3 from the list and checks whether a total of 2 can be achieved with the remaining list, because then 5 could be achieved by adding 3 to the solution for the remaining list). If the recursive call returns a list that is not empty, a solution is found, so the current number is appended to the returned list, and the result is returned. Once all numbers have been processed and no solution was found, an empty list is returned.\n",
    "\n",
    "Note: The solution to this problem tests all possible subsets until one is found that solves the problem, or all of them have been tested. You might wonder whether there are smarter solutions, considering the fact that the number of subset rises exponentially with the size of of the list. The answer is that there might be solutions which improve upon this one (for instance, I could take into account that if a number occurs multiple times on the list that some subsets occur multiple times and need only be tested once), but that for general lists of numbers, no algorithm is known that avoids having to process each and every subset if there is no solution. For those who know some complexity theory: the subset sum problem is \"NP-hard\"."
   ]
  },
  {
   "cell_type": "markdown",
   "metadata": {},
   "source": [
    "---"
   ]
  },
  {
   "cell_type": "markdown",
   "metadata": {},
   "source": [
    "## 14 - Dictionaries<a id=\"answers14\"></a>"
   ]
  },
  {
   "cell_type": "markdown",
   "metadata": {},
   "source": [
    "### Exercise 14.1"
   ]
  },
  {
   "cell_type": "markdown",
   "metadata": {},
   "source": [
    "Hopefully you remembered that you did something really similar in Chapter 11. The code below is mostly a copy of the code you had to write there."
   ]
  },
  {
   "cell_type": "code",
   "execution_count": null,
   "metadata": {
    "collapsed": false
   },
   "outputs": [],
   "source": [
    "text = \"\"\"How much wood would a woodchuck chuck\n",
    "If a woodchuck could chuck wood?\n",
    "He would chuck, he would, as much as he could,\n",
    "And chuck as much as a woodchuck would\n",
    "If a woodchuck could chuck wood.\"\"\"\n",
    "\n",
    "def clean( s ):\n",
    "    news = \"\"\n",
    "    s = s.lower()\n",
    "    for c in s:\n",
    "        if c >= \"a\" and c <= \"z\":\n",
    "            news += c\n",
    "        else:\n",
    "            news += \" \"\n",
    "    return news\n",
    "\n",
    "dict = {}\n",
    "for word in clean( text ).split():\n",
    "    dict[word] = dict.get( word, 0 ) + 1\n",
    "    \n",
    "keylist = list( dict.keys() )\n",
    "keylist.sort()\n",
    "for key in keylist:\n",
    "    print( \"{}: {}\".format( key, dict[key] ) )"
   ]
  },
  {
   "cell_type": "markdown",
   "metadata": {},
   "source": [
    "### Exercise 14.2"
   ]
  },
  {
   "cell_type": "code",
   "execution_count": null,
   "metadata": {
    "collapsed": false
   },
   "outputs": [],
   "source": [
    "movies = {\"Monty Python and the Holy Grail\": [ 9, 10, 9.5, 8.5, 3, 7.5,8 ],\n",
    "          \"Monty Python's Life of Brian\": [ 10, 10, 0, 9, 1, 8, 7.5, 8, 6, 9 ],\n",
    "          \"Monty Python's Meaning of Life\": [ 7, 6, 5 ],\n",
    "          \"And Now For Something Completely Different\": [ 6, 5, 6, 6 ] }\n",
    "\n",
    "keylist = list( movies.keys() )\n",
    "keylist.sort()\n",
    "for key in keylist:\n",
    "    print( \"{}: {}\".format( key, round( sum( movies[key] )/len( movies[key] ), 1 ) ) )"
   ]
  },
  {
   "cell_type": "markdown",
   "metadata": {},
   "source": [
    "### Exercise 14.3"
   ]
  },
  {
   "cell_type": "markdown",
   "metadata": {},
   "source": [
    "Many answers are possible. Probably the simplest one is to use a dictionary where the keys are tuples of writers' last and first names, and the values are lists of all the books of a writer. A book is a tuple consisting of title and location. To find all the books of a writer, use the writer's last and first name to find a list of his books. To find the location of a specific book of a writer, get the list of his books and find the book on that list, then get the corresponding location. You could choose to store the booklist also as a dictionary with a book's title as key, but writers usually do not write so many books that you need to do that. Of course, using names as keys is not a great idea as it is easy to make spelling mistakes, and book titles as keys would be even less useful, but these were the only identifying elements I described. I can't complain if you want to introduce easier and less ambiguous keys in such a data structure (but in general, you should divert to a database system to deal with libraries)."
   ]
  },
  {
   "cell_type": "markdown",
   "metadata": {},
   "source": [
    "---"
   ]
  },
  {
   "cell_type": "markdown",
   "metadata": {},
   "source": [
    "## 15 - Sets<a id=\"answers15\"></a>"
   ]
  },
  {
   "cell_type": "markdown",
   "metadata": {},
   "source": [
    "### Exercise 15.1"
   ]
  },
  {
   "cell_type": "code",
   "execution_count": null,
   "metadata": {
    "collapsed": false
   },
   "outputs": [],
   "source": [
    "allthings = { \"Socrates\", \"Plato\", \"Eratosthenes\", \"Zeus\", \"Hera\", \"Athens\", \"Acropolis\", \"Cat\", \"Dog\" }\n",
    "men = { \"Socrates\", \"Plato\", \"Eratosthenes\" }\n",
    "mortalthings = { \"Socrates\", \"Plato\", \"Eratosthenes\", \"Cat\", \"Dog\" }\n",
    "\n",
    "print( men.issubset( mortalthings ) ) # (a)\n",
    "print( \"Socrates\" in men ) # (b)\n",
    "print( \"Socrates\" in mortalthings ) # (c)\n",
    "print( len( mortalthings.difference( men ) ) > 0 ) # (d)\n",
    "print( len( allthings.difference( mortalthings ) ) > 0 ) # (e)"
   ]
  },
  {
   "cell_type": "markdown",
   "metadata": {},
   "source": [
    "### Exercise 15.2"
   ]
  },
  {
   "cell_type": "code",
   "execution_count": null,
   "metadata": {
    "collapsed": false
   },
   "outputs": [],
   "source": [
    "set3 = set( [3*x for x in range( 1, int( 1001/3 ) )] )\n",
    "set7 = set( [7*x for x in range( 1, int( 1001/7 ) )] )\n",
    "set11 = set( [11*x for x in range( 1, int( 1001/11 ) )] )\n",
    "\n",
    "seta = set3 & set7 & set11\n",
    "setb = (set3 & set7) - set11\n",
    "setc = set( range( 1, 1001 ) ) - set3 - set7 - set11"
   ]
  },
  {
   "cell_type": "markdown",
   "metadata": {},
   "source": [
    "You can print the sets to check that the answers are correct."
   ]
  },
  {
   "cell_type": "markdown",
   "metadata": {},
   "source": [
    "---"
   ]
  },
  {
   "cell_type": "markdown",
   "metadata": {},
   "source": [
    "## 16 - Operating System<a id=\"answers16\"></a>"
   ]
  },
  {
   "cell_type": "markdown",
   "metadata": {},
   "source": [
    "### Exercise 16.1"
   ]
  },
  {
   "cell_type": "code",
   "execution_count": null,
   "metadata": {
    "collapsed": false
   },
   "outputs": [],
   "source": [
    "from os import listdir, getcwd\n",
    "\n",
    "flist = listdir( \".\" )\n",
    "for name in flist:\n",
    "    print( getcwd() + \"/\" + name )"
   ]
  },
  {
   "cell_type": "markdown",
   "metadata": {},
   "source": [
    "---"
   ]
  },
  {
   "cell_type": "markdown",
   "metadata": {},
   "source": [
    "## 17 - Text Files<a id=\"answers17\"></a>"
   ]
  },
  {
   "cell_type": "markdown",
   "metadata": {},
   "source": [
    "### Exercise 17.1"
   ]
  },
  {
   "cell_type": "markdown",
   "metadata": {},
   "source": [
    "Hopefully you remembered that you did something really similar in Chapter 11 and Chapter 14. The code below is mostly a copy of the code you had to write before. The only thing that is different from the code you wrote in Chapter 14 is that the text is not provided as a string, but read from a file."
   ]
  },
  {
   "cell_type": "code",
   "execution_count": null,
   "metadata": {
    "collapsed": false
   },
   "outputs": [],
   "source": [
    "def clean( s ):\n",
    "    news = \"\"\n",
    "    s = s.lower()\n",
    "    for c in s:\n",
    "        if c >= \"a\" and c <= \"z\":\n",
    "            news += c\n",
    "        else:\n",
    "            news += \" \"\n",
    "    return news\n",
    "\n",
    "fp = open( \"pc_woodchuck.txt\" )\n",
    "text = fp.read()\n",
    "fp.close()\n",
    "\n",
    "dict = {}\n",
    "for word in clean( text ).split():\n",
    "    dict[word] = dict.get( word, 0 ) + 1\n",
    "    \n",
    "keylist = list( dict.keys() )\n",
    "keylist.sort()\n",
    "for key in keylist:\n",
    "    print( \"{}: {}\".format( key, dict[key] ) )"
   ]
  },
  {
   "cell_type": "markdown",
   "metadata": {},
   "source": [
    "### Exercise 17.2"
   ]
  },
  {
   "cell_type": "code",
   "execution_count": null,
   "metadata": {
    "collapsed": false
   },
   "outputs": [],
   "source": [
    "def clean( s ):\n",
    "    news = \"\"\n",
    "    s = s.lower()\n",
    "    for c in s:\n",
    "        if c >= \"a\" and c <= \"z\":\n",
    "            news += c\n",
    "        else:\n",
    "            news += \" \"\n",
    "    return news\n",
    "\n",
    "dict = {}\n",
    "fp = open( \"pc_woodchuck.txt\" )\n",
    "while True:\n",
    "    line = fp.readline()\n",
    "    if line == \"\":\n",
    "        break\n",
    "    for word in clean( line ).split():\n",
    "        dict[word] = dict.get( word, 0 ) + 1\n",
    "fp.close()\n",
    "    \n",
    "keylist = list( dict.keys() )\n",
    "keylist.sort()\n",
    "for key in keylist:\n",
    "    print( \"{}: {}\".format( key, dict[key] ) )"
   ]
  },
  {
   "cell_type": "markdown",
   "metadata": {},
   "source": [
    "### Exercise 17.3"
   ]
  },
  {
   "cell_type": "code",
   "execution_count": null,
   "metadata": {
    "collapsed": false
   },
   "outputs": [],
   "source": [
    "from os.path import join\n",
    "from os import getcwd\n",
    "\n",
    "def removevowels( line ):\n",
    "    newline = \"\"\n",
    "    for c in line:\n",
    "        if c not in \"aeiouAEIOU\":\n",
    "            newline += c\n",
    "    return newline\n",
    "\n",
    "inputname = join( getcwd(), \"pcdata\", \"pc_bohemia.txt\" )\n",
    "outputname = join( getcwd(), \"pc_bohemia.tmp\" )\n",
    "\n",
    "fpi = open( inputname )\n",
    "fpo = open( outputname, \"w\" )\n",
    "\n",
    "countread = 0\n",
    "countwritten = 0\n",
    "\n",
    "while True:\n",
    "    line = fpi.readline()\n",
    "    if line == \"\":\n",
    "        break\n",
    "    countread += len( line )\n",
    "    line = removevowels( line )\n",
    "    fpo.write( line )\n",
    "    countwritten += len( line )\n",
    "\n",
    "fpo.close()\n",
    "fpi.close()\n",
    "\n",
    "print( \"Characters read:\", countread )\n",
    "print( \"Characters written:\", countwritten )"
   ]
  },
  {
   "cell_type": "markdown",
   "metadata": {},
   "source": [
    "### Exercise 17.4"
   ]
  },
  {
   "cell_type": "markdown",
   "metadata": {},
   "source": [
    "The solution below makes use of sets: a set is created for each file, which contains all the words from that file that have 10 letters or more. To make the program flexible, it is not limited to just three sets, but uses as many sets as there are names in the `filelist`. At the end, the program creates an intersection of all the sets to determine the words that meet the requirements."
   ]
  },
  {
   "cell_type": "code",
   "execution_count": null,
   "metadata": {
    "collapsed": false
   },
   "outputs": [],
   "source": [
    "from os.path import join\n",
    "from os import getcwd\n",
    "\n",
    "def clean( s ):\n",
    "    news = \"\"\n",
    "    s = s.lower()\n",
    "    for c in s:\n",
    "        if c >= \"a\" and c <= \"z\":\n",
    "            news += c\n",
    "        else:\n",
    "            news += \" \"\n",
    "    return news\n",
    "\n",
    "filelist = [ \"pc_bohemia.txt\", \"pc_amontillado.txt\", \"pc_jeeves.txt\" ]\n",
    "setlist = []\n",
    "\n",
    "for name in filelist:\n",
    "    filename = join( getcwd(), \"pcdata\", name )\n",
    "    wordset = set()\n",
    "    setlist.append( wordset )\n",
    "    fp = open( filename )\n",
    "    while True:\n",
    "        line = fp.readline()\n",
    "        if line == \"\":\n",
    "            break\n",
    "        wordlist = clean( line ).split()\n",
    "        for word in wordlist:\n",
    "            if len( word ) >= 10:\n",
    "                wordset.add( word )\n",
    "    fp.close()\n",
    "\n",
    "combination = setlist[0].copy()\n",
    "i = 1\n",
    "while i < len( setlist ):\n",
    "    combination = combination & setlist[i]\n",
    "    i += 1\n",
    "\n",
    "for word in combination:\n",
    "    print( word )"
   ]
  },
  {
   "cell_type": "markdown",
   "metadata": {},
   "source": [
    "### Exercise 17.5"
   ]
  },
  {
   "cell_type": "markdown",
   "metadata": {},
   "source": [
    "Again, in the solution below I chose to be flexible as far as the number of files is concerned. The program is easier to write if you assume there are three files, and no more. If you chose such a solution, that is acceptable as long as the program does what it should do, as allowing it to work with a variable number of files is more an exercise for the chapter on iterations. However, by now you should be quite familiar with iterations, so try to apply them whenever they provide a superior solution."
   ]
  },
  {
   "cell_type": "code",
   "execution_count": null,
   "metadata": {
    "collapsed": false
   },
   "outputs": [],
   "source": [
    "from os.path import join\n",
    "from os import getcwd\n",
    "\n",
    "filelist = [ \"pc_bohemia.txt\", \"pc_amontillado.txt\", \"pc_jeeves.txt\" ]\n",
    "letterlist = [ len( filelist )*[0] for i in range( 26 ) ]\n",
    "totallist = len( filelist ) * [0]\n",
    "\n",
    "# Process all the input files, read their contents line by line,\n",
    "# make them lower case, and keep track of the letter counts in \n",
    "# letterlist, while also keeping track of the total counts in \n",
    "# totallist.\n",
    "filecount = 0\n",
    "for name in filelist:\n",
    "    filename = join( getcwd(), \"pcdata\", name )\n",
    "    fp = open( filename )\n",
    "    while True:\n",
    "        line = fp.readline()\n",
    "        if line == \"\":\n",
    "            break\n",
    "        line = line.lower()\n",
    "        for c in line:\n",
    "            if c >= 'a' and c <= 'z':\n",
    "                totallist[filecount] += 1\n",
    "                letterlist[ord(c)-ord(\"a\")][filecount] += 1\n",
    "    fp.close()\n",
    "    filecount += 1\n",
    "\n",
    "# Write the counts in CSV format.\n",
    "outfilename = join( getcwd(), \"pc_writetest.csv\" )\n",
    "fp = open( outfilename, \"w\" )\n",
    "for i in range( len( letterlist ) ):\n",
    "    s = \"\\\"{}\\\"\".format( chr( ord(\"a\")+i ) )\n",
    "    for j in range( len( filelist ) ):\n",
    "        s += \",{:.5f}\".format( letterlist[i][j]/totallist[j] )\n",
    "    fp.write( s+\"\\n\" )\n",
    "fp.close()\n",
    "\n",
    "# Print the contents of the created output file as a check.\n",
    "fp = open( outfilename )\n",
    "print( fp.read() )\n",
    "fp.close()"
   ]
  },
  {
   "cell_type": "markdown",
   "metadata": {},
   "source": [
    "---"
   ]
  },
  {
   "cell_type": "markdown",
   "metadata": {},
   "source": [
    "## 18 - Exceptions<a id=\"answers18\"></a>"
   ]
  },
  {
   "cell_type": "markdown",
   "metadata": {},
   "source": [
    "### Exercise 18.1"
   ]
  },
  {
   "cell_type": "markdown",
   "metadata": {},
   "source": [
    "The code can generate a `ValueError` when you enter something that is not an integer, an `IndexError` when you give an index outside the range `{ -5, 4 }`, a `ZeroDivisionError` when you enter index 2, and a `TypeError` when you enter index 3. The code below does the most straightforward handling, but you can also build a loop around the code so that the user gets asked for new inputs until it works."
   ]
  },
  {
   "cell_type": "code",
   "execution_count": null,
   "metadata": {
    "collapsed": false
   },
   "outputs": [],
   "source": [
    "numlist = [ 100, 101, 0, \"103\", 104 ]\n",
    "\n",
    "try:\n",
    "    i1 = int( input( \"Give an index: \" ) )\n",
    "    print( \"100 /\", numlist[i1], \"=\", 100 / numlist[i1] )\n",
    "except ValueError:\n",
    "    print( \"You did not enter an integer\" )\n",
    "except IndexError:\n",
    "    print( \"You should specify an index between -5 and 4\" )\n",
    "except ZeroDivisionError:\n",
    "    print( \"It looks like the list contains a zero\" )\n",
    "except TypeError:\n",
    "    print( \"it looks like the list contains a non-numeric item\" )\n",
    "except:\n",
    "    print( \"Something unexpected happened\" )\n",
    "    raise"
   ]
  },
  {
   "cell_type": "markdown",
   "metadata": {},
   "source": [
    "---"
   ]
  },
  {
   "cell_type": "markdown",
   "metadata": {},
   "source": [
    "## 19 - Binary Files<a id=\"answers19\"></a>"
   ]
  },
  {
   "cell_type": "markdown",
   "metadata": {},
   "source": [
    "### Exercise 19.1"
   ]
  },
  {
   "cell_type": "markdown",
   "metadata": {},
   "source": [
    "For this program I created a copy of `pc_rose.txt` and called it `pc_rose_copy.txt`. To demonstrate what happens, I display the contents of the file before and after the encryption process."
   ]
  },
  {
   "cell_type": "code",
   "execution_count": null,
   "metadata": {
    "collapsed": false
   },
   "outputs": [],
   "source": [
    "FILENAME = \"pc_rose_copy.txt\"\n",
    "\n",
    "def display_contents( filename ):\n",
    "    fp = open( filename, \"rb\" )\n",
    "    print( fp.read() )\n",
    "    fp.close()\n",
    "    \n",
    "def encrypt( filename ):\n",
    "    fp = open( filename, \"r+b\" )\n",
    "    buffer = fp.read()\n",
    "    fp.seek(0)\n",
    "    for c in buffer:\n",
    "        if c >= 128:\n",
    "            fp.write( bytes( [c-128] ) )\n",
    "        else:\n",
    "            fp.write( bytes( [c+128] ) )\n",
    "    fp.close()\n",
    "    \n",
    "display_contents( FILENAME )\n",
    "encrypt( FILENAME )\n",
    "display_contents( FILENAME )"
   ]
  },
  {
   "cell_type": "markdown",
   "metadata": {},
   "source": [
    "### Exercise 19.2"
   ]
  },
  {
   "cell_type": "code",
   "execution_count": null,
   "metadata": {
    "collapsed": false
   },
   "outputs": [],
   "source": [
    "letters = \"etaoinshrdlcum \"\n",
    "unencoded = \"Hello, world!\"\n",
    "\n",
    "# Print the unencoded string, as a check.\n",
    "print( unencoded, len( unencoded ) )\n",
    "\n",
    "# Create a half-byte-list as a basis for the encoding.\n",
    "halfbytelist = []\n",
    "for c in unencoded:\n",
    "    if c in letters:\n",
    "        halfbytelist.append( letters.index( c )+1 )\n",
    "    else:\n",
    "        byte = ord( c )\n",
    "        halfbytelist.extend( [0, int( byte/16 ), byte%16 ] )\n",
    "if len( halfbytelist )%2 != 0:\n",
    "    halfbytelist.append( 0 )\n",
    "\n",
    "# Turn the half-byte-list into a byte-list.\n",
    "bytelist = []\n",
    "for i in range( 0, len( halfbytelist ), 2 ):\n",
    "    bytelist.append( 16*halfbytelist[i] + halfbytelist[i+1] )\n",
    "\n",
    "# Turn the byte-list into a byte string and print it, as a check. \n",
    "encoded = bytes( bytelist )\n",
    "print( encoded, len( encoded ) )"
   ]
  },
  {
   "cell_type": "markdown",
   "metadata": {},
   "source": [
    "### Exercise 19.3"
   ]
  },
  {
   "cell_type": "code",
   "execution_count": null,
   "metadata": {
    "collapsed": false
   },
   "outputs": [],
   "source": [
    "letters = \"etaoinshrdlcum \"\n",
    "encoded = b'\\x04\\x81\\xbb@,\\xf0wI\\xba\\x02\\x10'\n",
    "\n",
    "# Print the encoded byte string, as a check.\n",
    "print( encoded, len( encoded ) )\n",
    "\n",
    "# Create a half-byte-list on the basis of the byte string.\n",
    "halfbytelist = []\n",
    "for c in encoded:\n",
    "    halfbytelist.extend( [ int( c/16 ), c%16 ] )\n",
    "if halfbytelist[-1] == 0:\n",
    "    del halfbytelist[-1]\n",
    "    \n",
    "# Turn the half-byte-list into a string.\n",
    "decoded = \"\"\n",
    "while len( halfbytelist ) > 0:\n",
    "    num = halfbytelist.pop(0)\n",
    "    if num > 0:\n",
    "        decoded += letters[num-1]\n",
    "        continue\n",
    "    num = 16*halfbytelist.pop(0) + halfbytelist.pop(0)\n",
    "    decoded += chr( num )\n",
    "\n",
    "# Print the string, as a check.\n",
    "print( decoded, len( decoded ) )"
   ]
  },
  {
   "cell_type": "markdown",
   "metadata": {},
   "source": [
    "### Exercise 19.4"
   ]
  },
  {
   "cell_type": "markdown",
   "metadata": {},
   "source": [
    "This program looks like it is quite long, but it is really straightforward. The two functions `compress()` and `decompress()` were developed in the previous two exercises (I only changed them a bit so that both input and output are byte strings). The rest of the program is mainly the handling of potential errors in dealing with the files. This is something that you often see in programs: the core functionality can be expressed in a few lines, and the handling of potential problems takes three-quarters of the code. "
   ]
  },
  {
   "cell_type": "code",
   "execution_count": null,
   "metadata": {
    "collapsed": false
   },
   "outputs": [],
   "source": [
    "from pcinput import getString, getLetter\n",
    "from os.path import exists, getsize\n",
    "\n",
    "LETTERS = b\"etaoinshrdlcum \"\n",
    "\n",
    "# Compress the byte string unencoded and return the compressed version.\n",
    "def compress( unencoded ):\n",
    "    halfbytelist = []\n",
    "    for c in unencoded:\n",
    "        if c in LETTERS:\n",
    "            halfbytelist.append( LETTERS.index( c )+1 )\n",
    "        else:\n",
    "            halfbytelist.extend( [0, int( c/16 ), c%16 ] )\n",
    "    if len( halfbytelist )%2 != 0:\n",
    "        halfbytelist.append( 0 )\n",
    "    bytelist = []\n",
    "    for i in range( 0, len( halfbytelist ), 2 ):\n",
    "        bytelist.append( 16*halfbytelist[i] + halfbytelist[i+1] )\n",
    "    return bytes( bytelist )\n",
    "\n",
    "# Decompress the byte string encoded and return the decompressed version.\n",
    "def decompress( encoded ):\n",
    "    halfbytelist = []\n",
    "    for c in encoded:\n",
    "        halfbytelist.extend( [ int( c/16 ), c%16 ] )\n",
    "    if halfbytelist[-1] == 0:\n",
    "        del halfbytelist[-1]\n",
    "    bytelist = []\n",
    "    while len( halfbytelist ) > 0:\n",
    "        num = halfbytelist.pop(0)\n",
    "        if num > 0:\n",
    "            bytelist.append( LETTERS[num-1] )\n",
    "            continue\n",
    "        num = 16*halfbytelist.pop(0) + halfbytelist.pop(0)\n",
    "        bytelist.append( num )\n",
    "    return bytes( bytelist )\n",
    "\n",
    "# Ask for the input file and read its contents.\n",
    "while True:\n",
    "    filein = getString( \"Which is the input file? \" )\n",
    "    if not exists( filein ):\n",
    "        print( filein, \"does not exist\" )\n",
    "        continue\n",
    "    try:\n",
    "        fp = open( filein, \"rb\" )\n",
    "        buffer = fp.read()\n",
    "        fp.close()\n",
    "    except IOError as ex:\n",
    "        print( filein, \"cannot be processed, please choose another file\" )\n",
    "        print( \"Error [{}]: {}\".format( ex.args[0], ex.args[1] ) )\n",
    "        continue\n",
    "    break\n",
    "    \n",
    "# Ask for the output file and create it.\n",
    "while True:\n",
    "    fileout = getString( \"Which is the output file? \" )\n",
    "    if exists( fileout ):\n",
    "        print( fileout, \"already exists\" )\n",
    "        continue\n",
    "    try:\n",
    "        fp = open( fileout, \"wb\" )\n",
    "    except IOError as ex:\n",
    "        print( fileout, \"cannot be created, please choose another file name\" )\n",
    "        print( \"Error [{}]: {}\".format( ex.args[0], ex.args[1] ) )\n",
    "        continue\n",
    "    break\n",
    "\n",
    "# Ask whether the user wants to compress or decompress.\n",
    "while True:\n",
    "    dc = getLetter( \"Do you want to (C)ompress or (D)ecompress? \" )\n",
    "    if dc != 'C' and dc != 'D':\n",
    "        print( \"Please choose C or D\" )\n",
    "        continue\n",
    "    break\n",
    "    \n",
    "# Compress or decompress the buffer.\n",
    "if dc == 'C':\n",
    "    buffer = compress( buffer )\n",
    "else:\n",
    "    buffer = decompress( buffer )\n",
    "    \n",
    "# Store the (de)compressed buffer in the output file.\n",
    "try:\n",
    "    fp.write( buffer )\n",
    "    fp.close()\n",
    "except IOError as ex:\n",
    "    print( \"The writing process failed\" )\n",
    "    print( \"Error [{}]: {}\".format( ex.args[0], ex.args[1] ) )\n",
    "\n",
    "# Report the sizes of input and output.\n",
    "print( getsize( filein ), \"bytes read\" )\n",
    "print( getsize( fileout ), \"bytes written\" )"
   ]
  },
  {
   "cell_type": "markdown",
   "metadata": {},
   "source": [
    "---"
   ]
  },
  {
   "cell_type": "markdown",
   "metadata": {},
   "source": [
    "## 20 - Object Orientation<a id=\"answers20\"></a>"
   ]
  },
  {
   "cell_type": "markdown",
   "metadata": {},
   "source": [
    "### Exercise 20.1"
   ]
  },
  {
   "cell_type": "code",
   "execution_count": null,
   "metadata": {
    "collapsed": false
   },
   "outputs": [],
   "source": [
    "from copy import copy\n",
    "\n",
    "class Point:\n",
    "    def __init__( self, x=0.0, y=0.0 ):\n",
    "        self.x = x\n",
    "        self.y = y\n",
    "    def __repr__( self ):\n",
    "        return \"({}, {})\".format( self.x, self.y )\n",
    "        \n",
    "class Rectangle:\n",
    "    def __init__( self, point, width, height ):\n",
    "        self.point = copy( point )\n",
    "        self.width = abs( width )\n",
    "        self.height = abs( height )\n",
    "        if self.width == 0:\n",
    "            self.width = 1\n",
    "        if self.height == 0:\n",
    "            self.height = 1\n",
    "    def __repr__( self ):\n",
    "        return \"[{},w={},h={}]\".format( self.point, self.width, self.height )\n",
    "    def surface_area( self ):\n",
    "        return self.width * self.height\n",
    "    def circumference( self ):\n",
    "        return 2*(self.width + self.height)\n",
    "    def bottom_right( self ):\n",
    "        return Point( self.point.x + self.width, self.point.y + self.height )\n",
    "    def overlap( self,r ):\n",
    "        r1, r2 = self, r\n",
    "        if self.point.x > r.point.x or (self.point.x == r.point.x and self.point.y > r.point.y):\n",
    "            r1, r2 = r, self\n",
    "        if r1.bottom_right().x <= r2.point.x or r1.bottom_right().y <= r2.point.y:\n",
    "            return None\n",
    "        return Rectangle( r2.point, \n",
    "            min( r1.bottom_right().x - r2.point.x, r2.width ), \n",
    "            min( r1.bottom_right().y - r2.point.y, r2.height ) )\n",
    "    \n",
    "r1 = Rectangle( Point( 1, 1 ), 8, 5 )\n",
    "r2 = Rectangle( Point( 2, 3 ), 9, 2 )\n",
    "\n",
    "print( r1.surface_area() )\n",
    "print( r1.circumference() )\n",
    "print( r1.bottom_right() )\n",
    "r = r1.overlap( r2 )\n",
    "if r:\n",
    "    print( r )\n",
    "else:\n",
    "    print( \"There is no overlap for the rectangles\" )"
   ]
  },
  {
   "cell_type": "markdown",
   "metadata": {},
   "source": [
    "### Exercise 20.2"
   ]
  },
  {
   "cell_type": "markdown",
   "metadata": {},
   "source": [
    "Considering the list that needs to be displayed, placing the `enroll()` method in the student is the easiest choice here. For the birthdate I use the `datetime` module; as you have to calculate the student's age, you also need today's date, which is found in the `datetime` module anyway."
   ]
  },
  {
   "cell_type": "code",
   "execution_count": null,
   "metadata": {
    "collapsed": false
   },
   "outputs": [],
   "source": [
    "from datetime import date\n",
    "from random import random\n",
    "\n",
    "class Course:\n",
    "    def __init__( self, name, number ):\n",
    "        self.name = name\n",
    "        self.number = number\n",
    "    def __repr__( self ):\n",
    "        return \"{}: {}\".format( self.number, self.name )\n",
    "\n",
    "class Student:\n",
    "    def __init__( self, lastname, firstname, birthdate, anr ):\n",
    "        self.lastname = lastname\n",
    "        self.firstname = firstname\n",
    "        self.birthdate = birthdate\n",
    "        self.anr = anr\n",
    "        self.courses = []\n",
    "    def __str__( self ):\n",
    "        return self.firstname+\" \"+self.lastname\n",
    "    def age( self ):\n",
    "        today = date.today()\n",
    "        years = today.year - self.birthdate.year\n",
    "        if today.month < self.birthdate.month or \\\n",
    "            (today.month == self.birthdate.month and today.day < self.birthdate.day):\n",
    "            years -= 1\n",
    "        return years\n",
    "    def enroll( self, course ):\n",
    "        if course not in self.courses:\n",
    "            self.courses.append( course )\n",
    "    \n",
    "students = [ \n",
    "    Student( \"Arkansas\", \"Adrian\", date( 1989, 10, 3 ), 453211 ),\n",
    "    Student( \"Bonzo\", \"Beatrice\", date( 1991, 12, 29 ), 476239 ),\n",
    "    Student( \"Continuum\", \"Carola\", date( 1992, 3, 7 ), 784322 ),\n",
    "    Student( \"Doofus\", \"Dunce\", date( 1993, 7, 11 ), 995544 ) ]\n",
    "courses =[\n",
    "    Course( \"Vinology\", 787656 ),\n",
    "    Course( \"Advanced spoon-bending\", 651121 ),\n",
    "    Course( \"Research Skills: Babbling\", 433231 )]\n",
    "\n",
    "for student in students:\n",
    "    for course in courses:\n",
    "        if random() > 0.3:\n",
    "            student.enroll( course )\n",
    "\n",
    "for student in students:\n",
    "    print( \"{}: {} {} ({})\".format( student.anr, student.firstname, student.lastname, student.age() ) )\n",
    "    if len( student.courses ) == 0:\n",
    "        print( \"\\tNo courses\" )\n",
    "    for course in student.courses:\n",
    "        print( \"\\t{}\".format( course ) )"
   ]
  },
  {
   "cell_type": "markdown",
   "metadata": {},
   "source": [
    "---"
   ]
  },
  {
   "cell_type": "markdown",
   "metadata": {},
   "source": [
    "## 21 - Operator Overloading<a id=\"answers21\"></a>"
   ]
  },
  {
   "cell_type": "markdown",
   "metadata": {},
   "source": [
    "### Exercise 21.1"
   ]
  },
  {
   "cell_type": "code",
   "execution_count": null,
   "metadata": {
    "collapsed": false
   },
   "outputs": [],
   "source": [
    "SUITS = [\"Hearts\",\"Spades\",\"Clubs\",\"Diamonds\"]\n",
    "RANKS = [\"2\",\"3\",\"4\",\"5\",\"6\",\"7\",\"8\",\"9\",\"10\",\"Jack\",\"Queen\",\"King\",\"Ace\"]\n",
    "\n",
    "class Card:\n",
    "    def __init__( self, suit, rank ):\n",
    "        self.suit = suit # integer that is used as index in the SUITS list\n",
    "        self.rank = rank # integer that is used as inde x in the RANKS list\n",
    "    def __repr__( self ):\n",
    "        return \"({},{})\".format( self.suit, self.rank )\n",
    "    def __str__( self ):\n",
    "        return \"{} of {}\".format( RANKS[self.rank], SUITS[self.suit] )\n",
    "    def __eq__( self, c ):\n",
    "        if isinstance( c, Card ):\n",
    "            return self.rank == c.rank\n",
    "        return NotImplemented\n",
    "    def __gt__( self, c ):\n",
    "        if isinstance( c, Card ):\n",
    "            return self.rank > c.rank\n",
    "        return NotImplemented\n",
    "    def __ge__( self, c ):\n",
    "        if isinstance( c, Card ):\n",
    "            return self.rank >= c.rank\n",
    "        return NotImplemented\n",
    "    \n",
    "c5 = Card( 2, 3 )\n",
    "d5 = Card( 3, 3 )\n",
    "sk = Card( 1, 11 )\n",
    "print( \"{}, {}, {}\".format( c5, d5, sk ) )\n",
    "print( c5 == d5 )\n",
    "print( c5 == sk )\n",
    "print( c5 > sk )\n",
    "print( c5 >= sk )\n",
    "print( c5 < sk )\n",
    "print( c5 <= sk )"
   ]
  },
  {
   "cell_type": "markdown",
   "metadata": {},
   "source": [
    "Note: There is no need to implement `__ne__()`, `__lt__()`, or `__le__()`, as they are automatically changed into calls to the methods that have been implemented."
   ]
  },
  {
   "cell_type": "markdown",
   "metadata": {},
   "source": [
    "### Exercise 21.2"
   ]
  },
  {
   "cell_type": "code",
   "execution_count": null,
   "metadata": {
    "collapsed": false
   },
   "outputs": [],
   "source": [
    "SUITS = [\"Hearts\",\"Spades\",\"Clubs\",\"Diamonds\"]\n",
    "RANKS = [\"2\",\"3\",\"4\",\"5\",\"6\",\"7\",\"8\",\"9\",\"10\",\"Jack\",\"Queen\",\"King\",\"Ace\"]\n",
    "\n",
    "class Card:\n",
    "    def __init__( self, suit, rank ):\n",
    "        self.suit = suit # integer that is used as index in the SUITS list\n",
    "        self.rank = rank # integer that is used as inde x in the RANKS list\n",
    "    def __repr__( self ):\n",
    "        return \"({},{})\".format( self.suit, self.rank )\n",
    "    def __str__( self ):\n",
    "        return \"{} of {}\".format( RANKS[self.rank], SUITS[self.suit] )\n",
    "    def __eq__( self, c ):\n",
    "        if isinstance( c, Card ):\n",
    "            return self.rank == c.rank\n",
    "        return NotImplemented\n",
    "    def __gt__( self, c ):\n",
    "        if isinstance( c, Card ):\n",
    "            return self.rank > c.rank\n",
    "        return NotImplemented\n",
    "    def __ge__( self, c ):\n",
    "        if isinstance( c, Card ):\n",
    "            return self.rank >= c.rank\n",
    "        return NotImplemented\n",
    "\n",
    "class Drawpile:\n",
    "    def __init__( self, pile=[] ):\n",
    "        self.pile = pile\n",
    "    def __len__( self ):\n",
    "        return len( self.pile )\n",
    "    def __getitem__( self, n ):\n",
    "        return self.pile[n]\n",
    "    def add( self, c ):\n",
    "        self.pile.append( c )\n",
    "    def draw( self ):\n",
    "        if len( self ) <= 0:\n",
    "            return None\n",
    "        return self.pile.pop(0)\n",
    "    def __repr__( self ):\n",
    "        sep = \"\"\n",
    "        s = \"\"\n",
    "        for c in self.pile:\n",
    "            s += sep + str( c )\n",
    "            sep = \", \"\n",
    "        return s\n",
    "    \n",
    "dp1 = Drawpile( [Card(0,1), Card(0,5), Card(2,4), Card(1,12)] )\n",
    "print( dp1 )\n",
    "print( dp1[1] )\n",
    "dp1.add( Card(3,12) )\n",
    "print( dp1 )\n",
    "print( dp1.draw() )\n",
    "print( dp1 )"
   ]
  },
  {
   "cell_type": "markdown",
   "metadata": {},
   "source": [
    "### Exercise 21.3"
   ]
  },
  {
   "cell_type": "code",
   "execution_count": null,
   "metadata": {
    "collapsed": false
   },
   "outputs": [],
   "source": [
    "SUITS = [\"Hearts\",\"Spades\",\"Clubs\",\"Diamonds\"]\n",
    "RANKS = [\"2\",\"3\",\"4\",\"5\",\"6\",\"7\",\"8\",\"9\",\"10\",\"Jack\",\"Queen\",\"King\",\"Ace\"]\n",
    "\n",
    "class Card:\n",
    "    def __init__( self, suit, rank ):\n",
    "        self.suit = suit # integer that is used as index in the SUITS list\n",
    "        self.rank = rank # integer that is used as inde x in the RANKS list\n",
    "    def __repr__( self ):\n",
    "        return \"({},{})\".format( self.suit, self.rank )\n",
    "    def __str__( self ):\n",
    "        return \"{} of {}\".format( RANKS[self.rank], SUITS[self.suit] )\n",
    "    def __eq__( self, c ):\n",
    "        if isinstance( c, Card ):\n",
    "            return self.rank == c.rank\n",
    "        return NotImplemented\n",
    "    def __gt__( self, c ):\n",
    "        if isinstance( c, Card ):\n",
    "            return self.rank > c.rank\n",
    "        return NotImplemented\n",
    "    def __ge__( self, c ):\n",
    "        if isinstance( c, Card ):\n",
    "            return self.rank >= c.rank\n",
    "        return NotImplemented\n",
    "\n",
    "class Drawpile:\n",
    "    def __init__( self, pile=[] ):\n",
    "        self.pile = pile\n",
    "    def __len__( self ):\n",
    "        return len( self.pile )\n",
    "    def __getitem__( self, n ):\n",
    "        return self.pile[n]\n",
    "    def add( self, c ):\n",
    "        self.pile.append( c )\n",
    "    def draw( self ):\n",
    "        if len( self ) <= 0:\n",
    "            return None\n",
    "        return self.pile.pop(0)\n",
    "    def __repr__( self ):\n",
    "        sep = \"\"\n",
    "        s = \"\"\n",
    "        for c in self.pile:\n",
    "            s += sep + str( c )\n",
    "            sep = \", \"\n",
    "        return s\n",
    "    \n",
    "dp1 = Drawpile( [Card(3,0), Card(0,11), Card(2,5)] )\n",
    "dp2 = Drawpile( [Card(3,2), Card(3,1), Card(1,6)] )\n",
    "\n",
    "i = 1\n",
    "while len( dp1 ) > 0 and len( dp2 ) > 0:\n",
    "    print( \"Round\", i )\n",
    "    print( \"Deck1:\", dp1 )\n",
    "    print( \"Deck2:\", dp2 )\n",
    "    c1 = dp1.draw()\n",
    "    c2 = dp2.draw()\n",
    "    if c1 > c2:\n",
    "        dp1.add( c1 )\n",
    "        dp1.add( c2 )\n",
    "    else:\n",
    "        dp2.add( c2 )\n",
    "        dp2.add( c1 )\n",
    "    i += 1\n",
    "        \n",
    "print( \"The game has ended\" )\n",
    "if len( dp1 ) > 0:\n",
    "    print( \"Deck1:\", dp1 )\n",
    "    print( \"The first deck wins!\" )\n",
    "else:\n",
    "    print( \"Deck2:\", dp2 )\n",
    "    print( \"The second deck wins!\" )"
   ]
  },
  {
   "cell_type": "markdown",
   "metadata": {},
   "source": [
    "### Exercise 21.4"
   ]
  },
  {
   "cell_type": "markdown",
   "metadata": {},
   "source": [
    "Do not forget that in the `__add__()` and `__sub__()` methods you have to create a (deep) copy of the fruit basket, which you change and return. It is up to the programmer of the main program to decide whether he wants to actually change the fruit basket, or just wants to see what a changed version looks like. However, in `__iadd__()` and `__isub__()` you are actually supposed to change the fruit basket, and still return `self`. The rest of the class is pretty straightforward, as long as you take into account that you have to delete fruits when their number has dropped to zero or less. "
   ]
  },
  {
   "cell_type": "code",
   "execution_count": null,
   "metadata": {
    "collapsed": false
   },
   "outputs": [],
   "source": [
    "from copy import deepcopy\n",
    "\n",
    "class FruitBasket:\n",
    "    \n",
    "    def __init__( self, fruits={} ):\n",
    "        self.fruits = fruits\n",
    "        \n",
    "    def __repr__( self ):\n",
    "        s = \"\"\n",
    "        sep = \"[\"\n",
    "        for fruit in self.fruits:\n",
    "            s += sep + fruit + \":\" + str( self.fruits[fruit] )\n",
    "            sep = \", \"\n",
    "        s += \"]\"\n",
    "        return s\n",
    "    \n",
    "    def __contains__( self, fruit ):\n",
    "        return fruit in self.fruits\n",
    "    \n",
    "    def __add__( self, fruit ):\n",
    "        fbcopy = deepcopy( fb )\n",
    "        fbcopy.fruits[fruit] = fbcopy.fruits.get( fruit, 0 ) + 1\n",
    "        return fbcopy\n",
    "    \n",
    "    def __iadd__( self, fruit ):\n",
    "        self.fruits[fruit] = self.fruits.get( fruit, 0 ) + 1\n",
    "        return self\n",
    "    \n",
    "    def __sub__( self, fruit ):\n",
    "        if fruit not in self.fruits:\n",
    "            return self\n",
    "        fbcopy = deepcopy( fb )\n",
    "        fbcopy.fruits[fruit] = fbcopy.fruits.get( fruit, 0 ) - 1\n",
    "        if fbcopy.fruits[fruit] <= 0:\n",
    "            del fbcopy.fruits[fruit]\n",
    "        return fbcopy\n",
    "    \n",
    "    def __isub__( self, fruit ):\n",
    "        self.fruits[fruit] = self.fruits.get( fruit, 0 ) - 1\n",
    "        if self.fruits[fruit] <= 0:\n",
    "            del self.fruits[fruit]\n",
    "        return self\n",
    "    \n",
    "    def __len__( self ):\n",
    "        return len( self.fruits )\n",
    "    \n",
    "    def __getitem__( self, fruit ):\n",
    "        return self.fruits.get( fruit, 0 )\n",
    "    \n",
    "    def __setitem__( self, fruit, n ):\n",
    "        if n <= 0:\n",
    "            if fruit in self.fruits:\n",
    "                del self.fruits[fruit]\n",
    "        else:\n",
    "            self.fruits[fruit] = n\n",
    "    \n",
    "fb = FruitBasket()\n",
    "fb += \"apple\"\n",
    "fb += \"apple\"\n",
    "fb += \"banana\"\n",
    "fb = fb + \"cherry\"\n",
    "fb[\"orange\"] = 20\n",
    "print( len( fb ) )\n",
    "print( fb )\n",
    "print( \"banana\" in fb )\n",
    "print( \"durian\" in fb )\n",
    "fb -= \"apple\"\n",
    "fb -= \"banana\"\n",
    "fb = fb - \"cherry\"\n",
    "fb -= \"durian\"\n",
    "print( fb )\n",
    "print( \"banana\" in fb )\n",
    "fb[\"orange\"] = 0\n",
    "print( fb )"
   ]
  },
  {
   "cell_type": "markdown",
   "metadata": {},
   "source": [
    "---"
   ]
  },
  {
   "cell_type": "markdown",
   "metadata": {},
   "source": [
    "## 22 - Inheritance<a id=\"answers22\"></a>"
   ]
  },
  {
   "cell_type": "markdown",
   "metadata": {},
   "source": [
    "### Exercise 22.1"
   ]
  },
  {
   "cell_type": "code",
   "execution_count": null,
   "metadata": {
    "collapsed": false
   },
   "outputs": [],
   "source": [
    "class Rectangle:\n",
    "    def __init__( self, x, y, w, h ):\n",
    "        self.x = x\n",
    "        self.y = y\n",
    "        self.w = w\n",
    "        self.h = h\n",
    "    def __repr__( self ):\n",
    "        return \"[({},{}),w={},h={}]\".format( self.x, self.y, self.w, self.h )\n",
    "    def area( self ):\n",
    "        return self.w * self.h\n",
    "    def circumference( self ):\n",
    "        return 2*(self.w + self.h)\n",
    "\n",
    "class Square( Rectangle ):\n",
    "    def __init__( self, x, y, w ):\n",
    "        super().__init__( x, y, w, w )\n",
    "        \n",
    "s = Square( 1, 1, 4 )\n",
    "print( s, s.area(), s.circumference() )"
   ]
  },
  {
   "cell_type": "markdown",
   "metadata": {},
   "source": [
    "### Exercise 22.2"
   ]
  },
  {
   "cell_type": "code",
   "execution_count": null,
   "metadata": {
    "collapsed": false
   },
   "outputs": [],
   "source": [
    "from math import pi\n",
    "\n",
    "class Shape:\n",
    "    def area( self ):\n",
    "        return NotImplemented\n",
    "    def circumference( self ):\n",
    "        return NotImplemented\n",
    "\n",
    "class Circle:\n",
    "    def __init__( self, x, y, r ):\n",
    "        self.x = x\n",
    "        self.y = y\n",
    "        self.r = r\n",
    "    def __repr__( self ):\n",
    "        return \"[({},{}),r={}]\".format( self.x, self.y, self.r )\n",
    "    def area( self ):\n",
    "        return pi * self.r * self.r\n",
    "    def circumference( self ):\n",
    "        return 2 * pi * self.r\n",
    "    \n",
    "class Rectangle( Shape ):\n",
    "    def __init__( self, x, y, w, h ):\n",
    "        self.x = x\n",
    "        self.y = y\n",
    "        self.w = w\n",
    "        self.h = h\n",
    "    def __repr__( self ):\n",
    "        return \"[({},{}),w={},h={}]\".format( self.x, self.y, self.w, self.h )\n",
    "    def area( self ):\n",
    "        return self.w * self.h\n",
    "    def circumference( self ):\n",
    "        return 2*(self.w + self.h)\n",
    "\n",
    "class Square( Rectangle ):\n",
    "    def __init__( self, x, y, w ):\n",
    "        super().__init__( x, y, w, w )\n",
    "        \n",
    "s = Square( 1, 1, 4 )\n",
    "print( s, s.area(), s.circumference() )\n",
    "c = Circle( 1, 1, 4 )\n",
    "print( c, c.area(), c.circumference() )"
   ]
  },
  {
   "cell_type": "markdown",
   "metadata": {},
   "source": [
    "### Exercise 22.3"
   ]
  },
  {
   "cell_type": "markdown",
   "metadata": {},
   "source": [
    "I implemented a `MemoryStrategy` class to derive `TitForTat`, `TitForTwoTats`, and `Majority` from. `MemoryStrategy` keeps track of all the moves in the game. That is overdoing it a bit, as `TitForTat` only needs to keep track of the last move, `TitForTwoTats` only needs to keep track of the last two moves, and `Majority` could make do with just a count of all the COOPERATEs and DEFECTs of the opponent. Still, if more elaborate strategies need to be implemented, `MemoryStrategy` is a good starting point.\n",
    "\n",
    "One interesting thing to notice is that in any pairing `AlwaysDefect` has a higher score than its opponent. However, if you let each strategy play every other strategy and add up the scores, the only strategy that does worse than `AlwaysDefect` is `Random`. If you want to know why that is, do a course on Game Theory."
   ]
  },
  {
   "cell_type": "code",
   "execution_count": null,
   "metadata": {
    "collapsed": false
   },
   "outputs": [],
   "source": [
    "from random import random\n",
    "\n",
    "COOPERATE = 'C'\n",
    "DEFECT = 'D'\n",
    "ROUNDS = 100\n",
    "\n",
    "class Strategy:\n",
    "    def __init__( self, name=\"\" ):\n",
    "        self.name = name\n",
    "        self.score = 0\n",
    "    def choice( self ):\n",
    "        # Should return COOPERATE or DEFECT\n",
    "        return NotImplemented\n",
    "    def lastmove( self, mymove, opponentmove ):\n",
    "        # Gets passed the last move made, after a call of choice()\n",
    "        pass\n",
    "    def incscore( self, n ):\n",
    "        self.score += n\n",
    "        \n",
    "class AlwaysDefect( Strategy ):\n",
    "    def choice( self ):\n",
    "        return DEFECT\n",
    "        \n",
    "class Random( Strategy ):\n",
    "    def choice( self ):\n",
    "        if random() >= 0.5:\n",
    "            return COOPERATE\n",
    "        return DEFECT\n",
    "\n",
    "class MemoryStrategy( Strategy ):\n",
    "    def __init__( self, name=\"\" ):\n",
    "        super().__init__( name )\n",
    "        self.history = []\n",
    "    def lastmove( self, mymove, opponentmove ):\n",
    "        self.history.append( (mymove, opponentmove) )\n",
    "        \n",
    "class TitForTat( MemoryStrategy ):\n",
    "    def choice( self ):\n",
    "        if len( self.history ) < 1:\n",
    "            return COOPERATE\n",
    "        return self.history[-1][1]\n",
    "\n",
    "class TitForTwoTats( MemoryStrategy ):\n",
    "    def choice( self ):\n",
    "        if len( self.history ) < 2:\n",
    "            return COOPERATE\n",
    "        if self.history[-1][1] == DEFECT and self.history[-2][1] == DEFECT:\n",
    "            return DEFECT\n",
    "        return COOPERATE\n",
    "\n",
    "class Majority( MemoryStrategy ):\n",
    "    def choice( self ):\n",
    "        countD = 0\n",
    "        for i in range( len( self.history ) ):\n",
    "            if self.history[i][1] == DEFECT:\n",
    "                countD += 1\n",
    "        if countD > len( self.history ) / 2:\n",
    "            return DEFECT\n",
    "        return COOPERATE\n",
    "            \n",
    "strategy1 = AlwaysDefect( \"Always Defect\" )\n",
    "strategy2 = Majority( \"Majority\" )\n",
    "\n",
    "for i in range( ROUNDS ):\n",
    "    c1 = strategy1.choice()\n",
    "    c2 = strategy2.choice()\n",
    "    if c1 == c2:\n",
    "        strategy1.incscore( 3 if c1 == COOPERATE else 1 )\n",
    "        strategy2.incscore( 3 if c2 == COOPERATE else 1 )\n",
    "    else:\n",
    "        strategy1.incscore( 0 if c1 == COOPERATE else 6 )\n",
    "        strategy2.incscore( 0 if c2 == COOPERATE else 6 )\n",
    "    strategy1.lastmove( c1, c2 )\n",
    "    strategy2.lastmove( c2, c1 )\n",
    "        \n",
    "print( \"End score of\", strategy1.name, \"is\", strategy1.score )\n",
    "print( \"End score of\", strategy2.name, \"is\", strategy2.score )"
   ]
  },
  {
   "cell_type": "markdown",
   "metadata": {},
   "source": [
    "Note: `3 if c1 == COOPERATE else 1` is, like list comprehension, a short way to implement a choice between two values in just one line (in this case a choice between 3 and 1). I seldom use this as I find it a bit less readable, but to keep this part of the code brief I decided to use it. It is completely optional, of course, you could just write the 12 or so lines of code."
   ]
  },
  {
   "cell_type": "markdown",
   "metadata": {},
   "source": [
    "---"
   ]
  },
  {
   "cell_type": "markdown",
   "metadata": {},
   "source": [
    "## 23 - Iterators and Generators<a id=\"answers23\"></a>"
   ]
  },
  {
   "cell_type": "markdown",
   "metadata": {},
   "source": [
    "### Exercise 23.1"
   ]
  },
  {
   "cell_type": "code",
   "execution_count": null,
   "metadata": {
    "collapsed": false
   },
   "outputs": [],
   "source": [
    "from pcinput import getInteger\n",
    "\n",
    "class NotDividableBy:\n",
    "    def __init__( self ):\n",
    "        self.seq = list( range( 1, 101 ) )\n",
    "    def __iter__( self ):\n",
    "        return self\n",
    "    def __next__( self ):\n",
    "        if len( self.seq ) > 0:\n",
    "            return self.seq.pop(0)\n",
    "        raise StopIteration()\n",
    "    def process( self, num ):\n",
    "        i = len( self.seq )-1\n",
    "        while i >= 0:\n",
    "            if self.seq[i]%num == 0:\n",
    "                del self.seq[i]\n",
    "            i -= 1\n",
    "    def __len__( self ):\n",
    "        return len( self.seq )\n",
    "\n",
    "ndb = NotDividableBy()\n",
    "while True:\n",
    "    num = getInteger( \"Give an integer: \" )\n",
    "    if num < 0:\n",
    "        print( \"Negative integers are ignored\" )\n",
    "        continue\n",
    "    if num == 0:\n",
    "        break\n",
    "    ndb.process( num )\n",
    "\n",
    "if len( ndb ) <= 0:\n",
    "    print( \"No numbers are left\" )\n",
    "else:\n",
    "    for num in ndb:\n",
    "        print( num, end=\" \" )"
   ]
  },
  {
   "cell_type": "markdown",
   "metadata": {},
   "source": [
    "### Exercise 23.2"
   ]
  },
  {
   "cell_type": "code",
   "execution_count": null,
   "metadata": {
    "collapsed": false
   },
   "outputs": [],
   "source": [
    "def factorial():\n",
    "    total = 1\n",
    "    for i in range( 1, 11 ):\n",
    "        total *= i\n",
    "        yield total\n",
    "        \n",
    "fseq = factorial()\n",
    "for n in fseq:\n",
    "    print( n, end=\" \" )"
   ]
  },
  {
   "cell_type": "markdown",
   "metadata": {},
   "source": [
    "### Exercise 23.3"
   ]
  },
  {
   "cell_type": "code",
   "execution_count": null,
   "metadata": {
    "collapsed": false
   },
   "outputs": [],
   "source": [
    "from itertools import permutations\n",
    "\n",
    "word = input( \"Please enter a word: \" )\n",
    "seq = permutations( word )\n",
    "for item in seq:\n",
    "    print( \"\".join( item ) )"
   ]
  },
  {
   "cell_type": "markdown",
   "metadata": {},
   "source": [
    "### Exercise 23.4"
   ]
  },
  {
   "cell_type": "markdown",
   "metadata": {},
   "source": [
    "The only change I made with respect to the previous answer is that I cast the iterable to a set."
   ]
  },
  {
   "cell_type": "code",
   "execution_count": null,
   "metadata": {
    "collapsed": false
   },
   "outputs": [],
   "source": [
    "from itertools import permutations\n",
    "\n",
    "word = input( \"Please enter a word: \" )\n",
    "seq = permutations( word )\n",
    "for item in set( seq ):\n",
    "    print( \"\".join( item ) )"
   ]
  },
  {
   "cell_type": "markdown",
   "metadata": {},
   "source": [
    "### Exercise 23.5"
   ]
  },
  {
   "cell_type": "code",
   "execution_count": null,
   "metadata": {
    "collapsed": false
   },
   "outputs": [],
   "source": [
    "from itertools import combinations\n",
    "\n",
    "numlist = [ 3, 8, -1, 4, -5, 6 ]\n",
    "solution = []\n",
    "\n",
    "for i in range( 1, len( numlist )+1 ):\n",
    "    seq = combinations( numlist, i )\n",
    "    for item in seq:\n",
    "        if sum( item ) == 0:\n",
    "            solution = item\n",
    "            break\n",
    "    if len( solution ) > 0:\n",
    "        break\n",
    "        \n",
    "if len( solution ) <= 0:\n",
    "    print( \"There is no subset which adds up to zero\" )\n",
    "else:\n",
    "    for i in range( len( solution ) ):\n",
    "        if solution[i] < 0 or i == 0:\n",
    "            print( solution[i], end=\"\" )\n",
    "        else:\n",
    "            print( \"+{}\".format( solution[i] ), end=\"\" )\n",
    "    print( \"=0\" )"
   ]
  },
  {
   "cell_type": "markdown",
   "metadata": {},
   "source": [
    "Note: While this code seems to create all possible subsets, which is a number that rises exponentially with the size of `numlist`, since iterators are used no more than one subset is in memory at any time. So this solution works fine even for large lists of integers (though it may get slow, which cannot be helped as this is an NP-hard problem). "
   ]
  },
  {
   "cell_type": "markdown",
   "metadata": {},
   "source": [
    "---"
   ]
  },
  {
   "cell_type": "markdown",
   "metadata": {},
   "source": [
    "## 24 - Command Line Processing<a id=\"answers24\"></a>"
   ]
  },
  {
   "cell_type": "markdown",
   "metadata": {},
   "source": [
    "There are no exercises for Chapter 24."
   ]
  },
  {
   "cell_type": "markdown",
   "metadata": {},
   "source": [
    "---"
   ]
  },
  {
   "cell_type": "markdown",
   "metadata": {},
   "source": [
    "## 25 - Regular Expressions<a id=\"answers25\"></a>"
   ]
  },
  {
   "cell_type": "markdown",
   "metadata": {},
   "source": [
    "### Exercise 25.1"
   ]
  },
  {
   "cell_type": "code",
   "execution_count": null,
   "metadata": {
    "collapsed": false
   },
   "outputs": [],
   "source": [
    "import re\n",
    "\n",
    "sentence = \"The price of a 2-room apartment in Manhattan starts at 1 \\\n",
    "million dollars, and may actually be the 10-fold of that on 42nd Street.\"\n",
    "\n",
    "pword = re.compile( r\"[A-Za-z]+\" )\n",
    "wordlist = pword.findall( sentence )\n",
    "for word in wordlist:\n",
    "    print( word )"
   ]
  },
  {
   "cell_type": "markdown",
   "metadata": {},
   "source": [
    "### Exercise 25.2"
   ]
  },
  {
   "cell_type": "code",
   "execution_count": null,
   "metadata": {
    "collapsed": false
   },
   "outputs": [],
   "source": [
    "import re\n",
    "\n",
    "sentence = \"The word ether can be found in my thesaurus using the \\\n",
    "archaic spelling 'aether'.\"\n",
    "\n",
    "pthe = re.compile( r\"\\bthe\\b\", re.I )\n",
    "thelist = pthe.findall( sentence )\n",
    "print( len( thelist ) )"
   ]
  },
  {
   "cell_type": "markdown",
   "metadata": {},
   "source": [
    "### Exercise 25.3"
   ]
  },
  {
   "cell_type": "code",
   "execution_count": null,
   "metadata": {
    "collapsed": false
   },
   "outputs": [],
   "source": [
    "import re\n",
    "\n",
    "sentence = \"Michael Jordan, Bill Gates, and the Dalai Lama decided to \\\n",
    "take a plane trip together, when they spotted a hippy next to the runway.\"\n",
    "\n",
    "pname = re.compile( r\"\\b([A-Z][a-z]*\\s+[A-Z][a-z]*)\" )\n",
    "namelist = pname.findall( sentence )\n",
    "for name in namelist:\n",
    "    print( name )"
   ]
  },
  {
   "cell_type": "markdown",
   "metadata": {},
   "source": [
    "### Exercise 25.4"
   ]
  },
  {
   "cell_type": "code",
   "execution_count": null,
   "metadata": {
    "collapsed": false
   },
   "outputs": [],
   "source": [
    "import re\n",
    "\n",
    "sentence = \"William Randolph Hearst attempted to destroy all copies of \\\n",
    "Orson Welles' masterpiece 'Citizen Kane', because he did not appreciate \\\n",
    "the fact that the protagonist Charles Foster Kane was a thinly \\\n",
    "disguised caricature of himself. I wonder whether William Henry Gates \\\n",
    "The Third would attempt to do the same.\"\n",
    "\n",
    "pname = re.compile( r\"\\b([A-Z][a-z]*(\\s+[A-Z][a-z]*)+)\" )\n",
    "namelist = pname.finditer( sentence )\n",
    "for name in namelist:\n",
    "    print( name.group(1) )"
   ]
  },
  {
   "cell_type": "markdown",
   "metadata": {},
   "source": [
    "### Exercise 25.5"
   ]
  },
  {
   "cell_type": "code",
   "execution_count": null,
   "metadata": {
    "collapsed": false
   },
   "outputs": [],
   "source": [
    "import re\n",
    "\n",
    "sentence = \"Client: \\\"I wish to register a complaint! Hello miss!\\\"\\n\\\n",
    "Shopkeeper: \\\"What do you mean, miss?\\\"\\n\\\n",
    "Client: \\\"I am sorry, I have a cold.\\\"\\n\"\n",
    "\n",
    "pspoken = re.compile( r\"\\\"[^\\\"]*\\\"\" )\n",
    "spokenlist = pspoken.findall( sentence )\n",
    "for text in spokenlist:\n",
    "    print( text )"
   ]
  },
  {
   "cell_type": "markdown",
   "metadata": {},
   "source": [
    "### Exercise 25.6"
   ]
  },
  {
   "cell_type": "code",
   "execution_count": null,
   "metadata": {
    "collapsed": false
   },
   "outputs": [],
   "source": [
    "# Scraping.\n",
    "import re\n",
    "\n",
    "text = \"<html><head><title>List of persons with ids</title></head><body>\\\n",
    "<p><id>123123123</id><name>Groucho Marx</name>\\\n",
    "<p><id>123123124</id><name>Harpo Marx</name>\\\n",
    "<p><id>123123125</id><name>Chico Marx</name>\\\n",
    "<randomcrap>Etaoin<id>Shrdlu</id>qwerty</name></randomcrap>\\\n",
    "<nocrap><p><id>123123126</id><name>Zeppo Marx</name></nocrap>\\\n",
    "<address>Chicago</address>\\\n",
    "<morerandomcrap><id>999999999</id>nonametobeseen!</morerandomcrap>\\\n",
    "<p><id>123123127</id><name>Gummo Marx</name>\\\n",
    "<note>Look him up on <a href=\\\"http://www.google.com\\\">Google.</a></note>\\\n",
    "</body></html>\"\n",
    "\n",
    "pidname = re.compile( r\"<id>([^<]+)</id><name>([^<]+)</name>\" )\n",
    "mlist = pidname.finditer( text )\n",
    "for m in mlist:\n",
    "    print( m.group(1), m.group(2) )"
   ]
  },
  {
   "cell_type": "markdown",
   "metadata": {},
   "source": [
    "---"
   ]
  },
  {
   "cell_type": "markdown",
   "metadata": {},
   "source": [
    "## 26 - File Formats<a id=\"answers26\"></a>"
   ]
  },
  {
   "cell_type": "markdown",
   "metadata": {},
   "source": [
    "### Exercise 26.1"
   ]
  },
  {
   "cell_type": "code",
   "execution_count": null,
   "metadata": {
    "collapsed": false
   },
   "outputs": [],
   "source": [
    "from csv import reader, writer\n",
    "\n",
    "fp = open( \"pc_inventory.csv\", newline='' )\n",
    "fpo = open( \"pc_writetest.csv\", \"w\", newline='' )\n",
    "csvreader = reader( fp )\n",
    "csvwriter = writer( fpo, delimiter=' ', quotechar=\"'\" )\n",
    "for line in csvreader:\n",
    "    csvwriter.writerow( line )\n",
    "fp.close()\n",
    "fpo.close()\n",
    "\n",
    "fp = open( \"pc_writetest.csv\" )\n",
    "print( fp.read() )\n",
    "fp.close()"
   ]
  },
  {
   "cell_type": "markdown",
   "metadata": {},
   "source": [
    "If you did it correctly, you notice the quotes around '`Blue Stilton`', which are there because it contains a space, which is the delimiter."
   ]
  },
  {
   "cell_type": "markdown",
   "metadata": {},
   "source": [
    "### Exercise 26.2"
   ]
  },
  {
   "cell_type": "code",
   "execution_count": null,
   "metadata": {
    "collapsed": false
   },
   "outputs": [],
   "source": [
    "from csv import reader\n",
    "from json import dump\n",
    "\n",
    "data = []\n",
    "\n",
    "fp = open( \"pc_inventory.csv\", newline='' )\n",
    "csvreader = reader( fp )\n",
    "for line in csvreader:\n",
    "    data.append( line )\n",
    "fp.close()\n",
    "\n",
    "fp = open( \"pc_writetest.json\", \"w\" )\n",
    "dump( data, fp )\n",
    "fp.close()\n",
    "\n",
    "fp = open( \"pc_writetest.json\" )\n",
    "print( fp.read() )\n",
    "fp.close()"
   ]
  },
  {
   "cell_type": "markdown",
   "metadata": {},
   "source": [
    "---"
   ]
  },
  {
   "cell_type": "markdown",
   "metadata": {},
   "source": [
    "## 27 - Various Useful Modules<a id=\"answers27\"></a>"
   ]
  },
  {
   "cell_type": "markdown",
   "metadata": {},
   "source": [
    "### Exercise 27.1"
   ]
  },
  {
   "cell_type": "code",
   "execution_count": null,
   "metadata": {
    "collapsed": false
   },
   "outputs": [],
   "source": [
    "# Letter counts.\n",
    "from collections import Counter\n",
    "\n",
    "sentence = \"Your mother was a hamster and your father smelled of elderberries.\"\n",
    "sentence2 = \"\"\n",
    "for c in sentence.lower():\n",
    "    if c >= 'a' and c <= 'z':\n",
    "        sentence2 += c\n",
    "\n",
    "clist = Counter( sentence2 ).most_common( 5 )\n",
    "for c in clist:\n",
    "    print( \"{}: {}\".format( c[0], c[1] ) )"
   ]
  },
  {
   "cell_type": "markdown",
   "metadata": {},
   "source": [
    "### Exercise 27.2"
   ]
  },
  {
   "cell_type": "code",
   "execution_count": null,
   "metadata": {
    "collapsed": false
   },
   "outputs": [],
   "source": [
    "from collections import Counter\n",
    "from pcinput import getInteger\n",
    "from statistics import mean, median\n",
    "from sys import exit\n",
    "\n",
    "numlist = []\n",
    "while True:\n",
    "    num = getInteger( \"Enter a number:\" )\n",
    "    if num == 0:\n",
    "        break\n",
    "    numlist.append( num )\n",
    "\n",
    "if len( numlist ) <= 0:\n",
    "    print( \"No numbers were entered\" )\n",
    "    exit()\n",
    "    \n",
    "print( \"Mean:\", mean( numlist ) )\n",
    "print( \"Median:\", median( numlist ) )\n",
    "\n",
    "clist = Counter( numlist ).most_common()\n",
    "if clist[0][1] <= 1:\n",
    "    print( \"There is no mode\" )\n",
    "else:\n",
    "    mlist = [str( x[0] ) for x in clist if x[1] == clist[0][1] ]\n",
    "    s = \", \".join( mlist )\n",
    "    print( \"Mode:\", s )"
   ]
  },
  {
   "cell_type": "markdown",
   "metadata": {},
   "source": [
    "For the mode I did a reasonably smart list comprehension, but you can write this out as multiple lines of code, of course."
   ]
  },
  {
   "cell_type": "markdown",
   "metadata": {},
   "source": [
    "---"
   ]
  },
  {
   "cell_type": "markdown",
   "metadata": {},
   "source": [
    "## 28 - Turtle Graphics<a id=\"answers28\"></a>"
   ]
  },
  {
   "cell_type": "markdown",
   "metadata": {},
   "source": [
    "### Exercise 28.1"
   ]
  },
  {
   "cell_type": "code",
   "execution_count": null,
   "metadata": {
    "collapsed": false
   },
   "outputs": [],
   "source": [
    "from turtle import *\n",
    "\n",
    "color( \"red\", \"yellow\" )\n",
    "speed( 10 )\n",
    "begin_fill()\n",
    "for i in range( 5 ):\n",
    "    forward( 200 )\n",
    "    right( 144 )\n",
    "end_fill()\n",
    "\n",
    "setheading( 72 )\n",
    "circle( -106 )\n",
    "\n",
    "done()"
   ]
  },
  {
   "cell_type": "markdown",
   "metadata": {},
   "source": [
    "### Exercise 28.2"
   ]
  },
  {
   "cell_type": "code",
   "execution_count": null,
   "metadata": {
    "collapsed": true
   },
   "outputs": [],
   "source": [
    "from turtle import *\n",
    "\n",
    "def rectangle( x, y, w, h, c ):\n",
    "    color( c, c )\n",
    "    penup()\n",
    "    setposition( x, y )\n",
    "    setheading( 0 )\n",
    "    pendown()\n",
    "    begin_fill()\n",
    "    forward( w )\n",
    "    right( 90 )\n",
    "    forward( h )\n",
    "    right( 90 )\n",
    "    forward( w )\n",
    "    right( 90 )\n",
    "    forward( h )\n",
    "    end_fill()\n",
    "    \n",
    "hideturtle()\n",
    "bgcolor( \"orange\" )\n",
    "speed( 10 )\n",
    "rectangle( -50, 50, 150, 30, \"red\" )\n",
    "rectangle( -50, 20, 150, 30, \"white\" )\n",
    "rectangle( -50, -10, 150, 30, \"blue\" )\n",
    "\n",
    "done()"
   ]
  },
  {
   "cell_type": "markdown",
   "metadata": {},
   "source": [
    "### Exercise 28.3"
   ]
  },
  {
   "cell_type": "code",
   "execution_count": null,
   "metadata": {
    "collapsed": true
   },
   "outputs": [],
   "source": [
    "from turtle import *\n",
    "\n",
    "TOPX = -300\n",
    "TOPY = 200\n",
    "WIDTH = 600\n",
    "BARHEIGHT = 25\n",
    "STARROWS = 9\n",
    "STARCOLS = 11\n",
    "UNIONWIDTH = int( WIDTH*0.4 )\n",
    "UNIONHEIGHT = BARHEIGHT*7\n",
    "\n",
    "def rectangle( x, y, w, h, c ):\n",
    "    color( c, c )\n",
    "    penup()\n",
    "    setposition( x, y )\n",
    "    setheading( 0 )\n",
    "    pendown()\n",
    "    begin_fill()\n",
    "    forward( w )\n",
    "    right( 90 )\n",
    "    forward( h )\n",
    "    right( 90 )\n",
    "    forward( w )\n",
    "    right( 90 )\n",
    "    forward( h )\n",
    "    end_fill()\n",
    "    \n",
    "def star( x, y, w, c ):\n",
    "    color( c, c )\n",
    "    penup()\n",
    "    setposition( x, y )\n",
    "    setheading( 0 )\n",
    "    pendown()\n",
    "    begin_fill()\n",
    "    for i in range( 5 ):\n",
    "        forward( w )\n",
    "        right( 144 )\n",
    "    end_fill()\n",
    "\n",
    "hideturtle()\n",
    "bgcolor( \"orange\" )\n",
    "speed( 10 )\n",
    "\n",
    "rectangle( TOPX, TOPY, WIDTH, BARHEIGHT, \"red\" )\n",
    "for i in range( 6 ):\n",
    "    rectangle( TOPX, TOPY-(2*i+1)*BARHEIGHT, WIDTH, BARHEIGHT, \"white\" )\n",
    "    rectangle( TOPX, TOPY-(2*i+2)*BARHEIGHT, WIDTH, BARHEIGHT, \"red\" )\n",
    "rectangle( TOPX, TOPY, UNIONWIDTH, UNIONHEIGHT, \"darkblue\" )\n",
    "\n",
    "stepw = int( UNIONWIDTH/(STARCOLS+1) )\n",
    "steph = int( UNIONHEIGHT/(STARROWS+1) )\n",
    "size = int( stepw / 1.2 )\n",
    "for i in range( STARROWS ):\n",
    "    for j in range( STARCOLS):\n",
    "        if i%2 == j%2:\n",
    "            star( TOPX - int( size/2 ) + (j+1)*stepw, TOPY - (i+1)*steph, size, \"white\" ) \n",
    "            \n",
    "done()"
   ]
  },
  {
   "cell_type": "markdown",
   "metadata": {},
   "source": [
    "### Exercise 28.4"
   ]
  },
  {
   "cell_type": "code",
   "execution_count": null,
   "metadata": {
    "collapsed": true
   },
   "outputs": [],
   "source": [
    "from turtle import *\n",
    "\n",
    "def koch( size, depth ):\n",
    "    if depth <= 0:\n",
    "        forward( size )\n",
    "    else:\n",
    "        size /= 3\n",
    "        koch( size, depth-1 )\n",
    "        left( 60 )\n",
    "        koch( size, depth-1 )\n",
    "        right( 120 )\n",
    "        koch( size, depth-1 )\n",
    "        left( 60 )\n",
    "        koch( size, depth-1 )\n",
    "\n",
    "def koch_snowflake( size, depth ):\n",
    "    for i in range( 3 ):\n",
    "        koch( size, depth )\n",
    "        right( 120 )\n",
    "\n",
    "hideturtle()\n",
    "koch_snowflake( 270, 3 )\n",
    "\n",
    "done()"
   ]
  },
  {
   "cell_type": "markdown",
   "metadata": {},
   "source": [
    "---"
   ]
  },
  {
   "cell_type": "markdown",
   "metadata": {},
   "source": [
    "## 29 - Bitwise Operators<a id=\"answers29\"></a>"
   ]
  },
  {
   "cell_type": "markdown",
   "metadata": {},
   "source": [
    "### Exercise 29.1"
   ]
  },
  {
   "cell_type": "code",
   "execution_count": null,
   "metadata": {
    "collapsed": false
   },
   "outputs": [],
   "source": [
    "s = \"Hello, world!\"\n",
    "mask = (1<<5) | (1<<3) | (1<<1)    # 00101010\n",
    "\n",
    "code = \"\"\n",
    "for c in s:\n",
    "    code += chr(ord(c)^mask)\n",
    "print( code )\n",
    "\n",
    "decode = \"\"\n",
    "for c in code:\n",
    "    decode += chr(ord(c)^mask)\n",
    "print( decode )"
   ]
  },
  {
   "cell_type": "markdown",
   "metadata": {},
   "source": [
    "### Exercise 29.2"
   ]
  },
  {
   "cell_type": "code",
   "execution_count": null,
   "metadata": {
    "collapsed": false
   },
   "outputs": [],
   "source": [
    "def setBit( store, index, value ):\n",
    "    mask = 1<<index\n",
    "    if value:\n",
    "        store |= mask\n",
    "    else:\n",
    "        store &= ~mask\n",
    "    return store\n",
    "\n",
    "# getBit() returns 0 when the bit corresponding to index is set,\n",
    "# and something else otherwise. As only 0 is interpreted as True\n",
    "# this function can be used to test the value of the bit.\n",
    "def getBit( store, index ):\n",
    "    mask = 1<<index\n",
    "    return store & mask\n",
    "\n",
    "def displayBits( store ):\n",
    "    for i in range( 8 ):\n",
    "        index = 7 - i\n",
    "        if getBit( store, index ):\n",
    "            print( \"1\", end=\"\" )\n",
    "        else:\n",
    "            print( \"0\", end=\"\" )\n",
    "    print()\n",
    "    \n",
    "store = 0\n",
    "store = setBit( store, 0, True )\n",
    "store = setBit( store, 1, True )\n",
    "store = setBit( store, 2, False )\n",
    "store = setBit( store, 3, True )\n",
    "store = setBit( store, 4, False )\n",
    "store = setBit( store, 5, True )\n",
    "displayBits( store )\n",
    "\n",
    "store = setBit( store, 1, False )\n",
    "displayBits( store )"
   ]
  },
  {
   "cell_type": "markdown",
   "metadata": {},
   "source": [
    "---"
   ]
  },
  {
   "cell_type": "markdown",
   "metadata": {},
   "source": [
    "End of Chapter 99. Version 1.3."
   ]
  }
 ],
 "metadata": {
  "kernelspec": {
   "display_name": "Python 3",
   "language": "python",
   "name": "python3"
  },
  "language_info": {
   "codemirror_mode": {
    "name": "ipython",
    "version": 3
   },
   "file_extension": ".py",
   "mimetype": "text/x-python",
   "name": "python",
   "nbconvert_exporter": "python",
   "pygments_lexer": "ipython3",
   "version": "3.4.3"
  }
 },
 "nbformat": 4,
 "nbformat_minor": 0
}
