{
 "cells": [
  {
   "cell_type": "markdown",
   "metadata": {},
   "source": [
    "# Data Processing with Python"
   ]
  },
  {
   "cell_type": "markdown",
   "metadata": {},
   "source": [
    "### Course 2016-2017 Master Block 1 and Block 3"
   ]
  },
  {
   "cell_type": "markdown",
   "metadata": {},
   "source": [
    "---"
   ]
  },
  {
   "cell_type": "markdown",
   "metadata": {},
   "source": [
    "Course instructor: __Pieter Spronck__\n",
    "\n",
    "<a href=\"mailto:p.spronck@gmail.com\">p.spronck@gmail.com</a><br>\n",
    "Room D350"
   ]
  },
  {
   "cell_type": "markdown",
   "metadata": {},
   "source": [
    "---"
   ]
  },
  {
   "cell_type": "markdown",
   "metadata": {},
   "source": [
    "This course consists of a series of lectures that are all fully given in these notebooks. The lectures given in class will be more brief, and will skip material that is found in the notebooks. The oral lectures are meant to give an introduction to the topics covered in the notebooks, to discuss exercises, and to provide further explanations upon request.\n",
    "\n",
    "During the course take-home exercises might be given. These are optional; they will not be graded, though they will be corrected and will lead to feedback to the students. It is therefore recommended that you do them to the best of your ability and submit your answers -- there is no need to worry if you cannot solve an exercise as it will not impact your final grade. \n",
    "\n",
    "The final grade for the course is determined only by a computer exam, that will be given in the exam week after the course. More information on this will be provided on blackboard.\n",
    "\n",
    "Most of the time you spend on the course will be on working through the notebooks, and doing the exercises in the notebooks. Time is set aside to do this in class, but you will also need to work on it at home.  \n",
    "\n",
    "You are allowed to collaborate with others on any of the exercises (except, of course, during the computer exam). However, while you are allowed to do that, I myself think that that is not a good idea. You learn much more when you try to do exercises by yourself. You can only learn programming by doing. In contrast to many other courses, the material taught in this course is not something that you only need to repeat. Programming is a creative process wherein you combine elements that you learned in new and original ways to devise solutions to problems. This is something that does not come naturally to most students, and you have to practice with it. I provide a great many exercises to practice with, so do these exercises and do them by yourself. If you cannot solve an exercise, go back to the relevant notebook and reread the course material, because you probably did not understand something completely. If you remain stuck, ask the course instructor for a hint.\n",
    "\n",
    "Note that many students experience this course as \"heavy\". It may require a considerable time investment. It is a 3 ECTS course, which entails about 90 hours of work, which is the average needed for most students. However, some need much less, while others need a lot more. That cannot be helped; it depends on the student's background knowledge and natural aptitude for programming how much work is needed. But even if it takes you a lot of time, know that programming is an exceptionally valuable skill to have, both while doing research and in professional life."
   ]
  },
  {
   "cell_type": "markdown",
   "metadata": {},
   "source": [
    "---"
   ]
  },
  {
   "cell_type": "markdown",
   "metadata": {},
   "source": [
    "## Course program"
   ]
  },
  {
   "cell_type": "markdown",
   "metadata": {},
   "source": [
    "The course program as planned at the start of the course is as given below. Any changes to this program will be announced on blackboard.\n",
    "\n",
    "Date|Time|Room|Content|Notebooks\n",
    "---|---|---|---|---\n",
    "Mon, Aug 29 | 12.45-14.30 | CZ007 | Lecture | PC01-PC07: Expessions, Variables, Simple Functions, Conditions\n",
    "Mon, Aug 29 | 14.45-16.30 | WZ103 | Lecture | PC01-PC07: Expessions, Variables, Simple Functions, Conditions\n",
    "Tue, Aug 30 | Whole day   | DZ011 | Exercises |\n",
    "Mon, Sep 5  | 12.45-14.30 | CZ007 | Lecture | PC08: Iterations\n",
    "Mon, Sep 5  | 14.45-16.30 | CZ006 | Lecture | PC08: Iterations\n",
    "Tue, Sep 6  | Whole day   | DZ011 | Exercises |\n",
    "Mon, Sep 12 | 12.45-14.30 | CZ007 | Lecture | PC09-PC10: Functions (optional: Recursion)\n",
    "Mon, Sep 12 | 14.45-16.30 | CZ006 | Lecture | PC09-PC10: Functions (optional: Recursion)\n",
    "Tue, Sep 13 | Whole day   | DZ011 | Exercises |\n",
    "Mon, Sep 19 | 12.45-14.30 | CZ007 | Lecture | PC11-PC12: Strings, Tuples\n",
    "Mon, Sep 19 | 14.45-16.30 | CZ006 | Lecture | PC11-PC12: Strings, Tuples\n",
    "Tue, Sep 20 | Whole day   | DZ011 | Exercises |\n",
    "Mon, Sep 26 |             |       | Lecture is skipped due to instructor absence\n",
    "Tue, Sep 30 | Whole day   | DZ011 | Exercises |\n",
    "Mon, Oct 3  | 12.45-14.30 | CZ007 | Lecture | PC13-PC15: Lists, Dictionaries (optional: Sets)\n",
    "Mon, Oct 3  | 14.45-16.30 | CZ006 | Lecture | PC13-PC15: Lists, Dictionaries (optional: Sets)\n",
    "Tue, Oct 4  | Whole day   | DZ011 | Exercises |\n",
    "Mon, Oct 10 | 12.45-14.30 | CZ007 | Lecture | PC16-PC19: Operating System, Text Files, Exceptions (optional: Binary Files)\n",
    "Mon, Oct 10 | 14.45-16.30 | CZ006 | Lecture | PC16-PC19: Operating System, Text Files, Exceptions (optional: Binary Files)\n",
    "Tue, Oct 11 | Whole day   | DZ011 | Exercises |\n",
    "Mon, Oct 17 | 12.45-14.30 | CZ007 | Lecture | PC20-PC23: Object orientation (all optional)\n",
    "Mon, Oct 17 | 14.45-16.30 | CZ006 | Lecture | PC20-PC23: Object orientation (all optional)\n",
    "Tue, Oct 18 | Whole day   | DZ011 | Exercises |\n",
    "\n",
    "Chapters PC10, PC15, and all chapters from PC19 onward will not come up during the computer exam. However, if you need to do further programming during your studies, then I strongly recommend that you still study these chapters (in particular PC10, PC20 and PC22) as they can make creating code and understanding modules much easier. Chapters PC23 and further are optional for this course, but are recommended as self study for those who need to use Python for their research."
   ]
  },
  {
   "cell_type": "markdown",
   "metadata": {},
   "source": [
    "---"
   ]
  },
  {
   "cell_type": "markdown",
   "metadata": {},
   "source": [
    "End of Course Program. Version 1.0."
   ]
  }
 ],
 "metadata": {
  "kernelspec": {
   "display_name": "Python 3",
   "language": "python",
   "name": "python3"
  },
  "language_info": {
   "codemirror_mode": {
    "name": "ipython",
    "version": 3
   },
   "file_extension": ".py",
   "mimetype": "text/x-python",
   "name": "python",
   "nbconvert_exporter": "python",
   "pygments_lexer": "ipython3",
   "version": "3.4.3"
  }
 },
 "nbformat": 4,
 "nbformat_minor": 0
}
