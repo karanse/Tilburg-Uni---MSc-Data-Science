{
 "cells": [
  {
   "cell_type": "markdown",
   "metadata": {},
   "source": [
    "# 28- Turtle Graphics"
   ]
  },
  {
   "cell_type": "markdown",
   "metadata": {},
   "source": [
    "---"
   ]
  },
  {
   "cell_type": "markdown",
   "metadata": {},
   "source": [
    "Whenever people think of programming computers, they imagine cool graphics. Until now, this whole course was pretty much text-based. It is not that Python cannot be used to create graphics, it is just that for most graphics-heavy programs, different computer languages are used. However, it is definitely possible to create graphics with Python, from graphical user interfaces, via statistical displays, to graphical games. In this chapter I will give a first introduction to using graphics in Python, using turtles.\n",
    "\n",
    "Turtles were originally designed to introduce children to light computer programming, and as such they are a really basic introduction to using computer graphics. But Python supports them by default, so you do not need to install any third-party modules. Although turtle graphics are not very useful, they might be enjoyable to play around with a bit. \"Serious graphics\" will be discussed in later chapters."
   ]
  },
  {
   "cell_type": "markdown",
   "metadata": {},
   "source": [
    "---"
   ]
  },
  {
   "cell_type": "markdown",
   "metadata": {},
   "source": [
    "## Turtles"
   ]
  },
  {
   "cell_type": "markdown",
   "metadata": {},
   "source": [
    "Turtle graphics are line graphics. They are drawn on a dedicated \"turtle screen\". The cursor that is on this screen is called the \"turtle\", and you give the turtle instructions to move. While moving, the turtle leaves behind a line. By directing the turtle, intricate graphics can be created.\n",
    "\n",
    "Turtle graphics do not work on every Python installation. You need the `tkinter` module, used for graphical user interfaces, to be installed. This is not always the case -- it is installed by default for Python 3 on Windows and Linux, but might not be on other systems. To check whether it is installed on your system, run the code below."
   ]
  },
  {
   "cell_type": "code",
   "execution_count": null,
   "metadata": {
    "collapsed": false
   },
   "outputs": [],
   "source": [
    "from turtle import *\n",
    "\n",
    "# Draw a triangle\n",
    "forward( 100 )\n",
    "left( 120 )\n",
    "forward( 100 )\n",
    "left( 120 )\n",
    "forward( 100 )\n",
    "\n",
    "done()\n",
    "\n",
    "print( \"Finished\" )"
   ]
  },
  {
   "cell_type": "markdown",
   "metadata": {},
   "source": [
    "This code should open a turtle screen and draw a triangle on it. If you do not see the screen, check behind the application you are currently working in, because it might not have been opened in the foreground. When you close the screen, the text \"Finished\" will be displayed.\n",
    "\n",
    "If you cannot find the turtle screen, probably turtles do not work on your system, and you can skip the rest of this chapter (or find a different computer to work on). It also means that several of the follow-up chapters might not work on your computer too.\n",
    "\n",
    "In the code, the function `forward()` moves the turtle forward, while drawing a line. The function `left()` turns the turtle left with a given angle. More turtle moving functions and methods will be discussed below.\n",
    "\n",
    "**Exercise**: Use turtle graphics to draw a rectangle."
   ]
  },
  {
   "cell_type": "code",
   "execution_count": null,
   "metadata": {
    "collapsed": true
   },
   "outputs": [],
   "source": [
    "# Rectangle.\n",
    "from turtle import *\n"
   ]
  },
  {
   "cell_type": "markdown",
   "metadata": {},
   "source": [
    "### The turtle screen"
   ]
  },
  {
   "cell_type": "markdown",
   "metadata": {},
   "source": [
    "To use turtles, you first have to open a turtle screen. The turtle screen is a so-called \"singleton\" class, i.e., a class of which exactly one object exists, and no more can ever be created (i.e., you can have only one turtle screen visible). To get this singleton into your program, you need to import it, which is accomplished with the statement `from turtle import *`, which makes everything available that is needed for turtle graphics.\n",
    "\n",
    "The turtle screen opens automatically when you start drawing wth a turtle. So, in principle you do not need to access the screen directly, but you can if you want to set some of the screen's parameters. \n",
    "\n",
    "You get access to the screen by using the `Screen` class. When you call `Screen()`, it does not create a new instance of the `Screen` class (it cannot, because it is a singleton), but it does provide you with an object that allows interaction with the turtle screen. It also makes the screen visible. If you access the turtle screen in this way, you can simply `import turtle` instead of `from turtle import *`.\n",
    "\n",
    "Turtle programs must (almost always) end with either a call to `mainloop()` or `done()` (which are the same function), which allows interaction with the turtle screen, meaning that you can close it if you want to. The following code opens the turtle screen and allows you to close it again: "
   ]
  },
  {
   "cell_type": "code",
   "execution_count": 26,
   "metadata": {
    "collapsed": false
   },
   "outputs": [],
   "source": [
    "import turtle\n",
    "\n",
    "ts = Screen()\n",
    "\n",
    "done()"
   ]
  },
  {
   "cell_type": "markdown",
   "metadata": {},
   "source": [
    "You actually do not draw on the turtle screen, but on a so-called \"canvas\" that is layered on top of the turtle screen. The canvas can be bigger or smaller than the screen itself, which means that parts of a graphics display may be outside the visible area of the screen.\n",
    "\n",
    "Some methods that you might want to use with the turtle screen are:\n",
    "\n",
    "- `bgcolor()` sets the background color of the turtle screen. As argument it takes either a string, which is the name of a color (e.g., \"orange\"; naturally, not all names are supported) or a numerical representation of a color, or a 3-tuple of numbers in the range 0-`colormode`, where `colormode` is either `1.0` or `255` (`255` by default).\n",
    "- `clear()` completely clears the turtle screen.\n",
    "- `reset()` resets the turtles on the screen to their initial state.\n",
    "- `screensize()` can be called to get the size of the canvas as a 2-tuple return value, or to set the size of the canvas with the first argument being the width and the second the height, in pixels. A third argument can be added to set the background color, the same as with `bgcolor()`. This does not resize the window. \n",
    "- `title()` gives the turtle screen a title, namely the string that is given as argument.\n"
   ]
  },
  {
   "cell_type": "code",
   "execution_count": null,
   "metadata": {
    "collapsed": false
   },
   "outputs": [],
   "source": [
    "import turtle\n",
    "\n",
    "ts = Screen()\n",
    "ts.bgcolor( \"pink\" )\n",
    "ts.title( \"Hello, world!\" )\n",
    "\n",
    "done()"
   ]
  },
  {
   "cell_type": "markdown",
   "metadata": {},
   "source": [
    "### Turtle objects"
   ]
  },
  {
   "cell_type": "markdown",
   "metadata": {},
   "source": [
    "You can have multiple turtles on the turtle screen. You create them as instances of the `Turtle` class. One way to distinguish them is to give them different colors using the `color()` method."
   ]
  },
  {
   "cell_type": "code",
   "execution_count": null,
   "metadata": {
    "collapsed": true
   },
   "outputs": [],
   "source": [
    "from turtle import *\n",
    "\n",
    "def triangle( t, color ):\n",
    "    t.color( color )\n",
    "    t.forward( 100 )\n",
    "    t.left( 120 )\n",
    "    t.forward( 100 )\n",
    "    t.left( 120 )\n",
    "    t.forward( 100 )\n",
    "\n",
    "t1 = Turtle()\n",
    "t2 = Turtle()\n",
    "\n",
    "triangle( t1, \"red\" )\n",
    "t2.left( 180 )\n",
    "triangle( t2, \"blue\" )\n",
    "\n",
    "done()"
   ]
  },
  {
   "cell_type": "markdown",
   "metadata": {},
   "source": [
    "Some useful methods of turtles are:\n",
    "\n",
    "- `color()` gives the turtle a color. You can actually specify two colors as argument (in the same way as colors are specified for `bgcolor()`), the first being the \"pen color\" (the turtle's trail), and the second being the \"fill color\" (the color used to fill a shape drawn by a turtle). Without arguments, it returns the current values for pen color and fill color.\n",
    "- `pencolor()` gives a value to a turtle's pen color.\n",
    "- `fillcolor()` gives a value to a turtle's fill color.\n",
    "- `pensize()` sets the size of the turtle's pen to a value in pixels.\n",
    "- `penup()` makes the turtle stop drawing when moving.\n",
    "- `pendown()` makes the turtle start drawing when moving.\n",
    "- `begin_fill()` should be called before a shape is drawn so that it can be filled afterwards.\n",
    "- `end_fill()` should be called to fill the shape that the turtle drew after a call to `begin_fill()`.\n",
    "- `hideturtle()` makes the turtle invisible. An invisible turtle can still draw.\n",
    "- `showturtle()` makes the turtle visible.\n",
    "\n",
    "The turtle's state can be queried through various methods:\n",
    "- `isdown()` returns `True` or `False` to reflect the turtle's pen state.\n",
    "- `filling()` returns `True` or `False` to reflect the turtle's fill state.\n",
    "- `isvisible()` returns `True` or `False` to reflect the turtle's visibility state.\n",
    "- `position()` returns the turtle's position as a turple of an `x` coordinate and `y` coordinate.\n",
    "\n",
    "This is not a complete list of turtle methods, but it is enough to get started on drawing some interesting figures.\n",
    "\n",
    "Note that if you do not create an explicit turtle, and use the methods as functions, a default turtle will be used to execute them."
   ]
  },
  {
   "cell_type": "code",
   "execution_count": null,
   "metadata": {
    "collapsed": true
   },
   "outputs": [],
   "source": [
    "from turtle import *\n",
    "\n",
    "color( \"red\", \"yellow\" )\n",
    "begin_fill()\n",
    "for i in range( 0, 360, 30 ):\n",
    "    forward( 150 )\n",
    "    left( 210 )\n",
    "end_fill()\n",
    "hideturtle()\n",
    "\n",
    "done()"
   ]
  },
  {
   "cell_type": "markdown",
   "metadata": {},
   "source": [
    "**Exercise**: Use turtle graphics to draw two rectangles with a fill color of your choosing on an orange background. The rectangles should not touch or overlap."
   ]
  },
  {
   "cell_type": "code",
   "execution_count": null,
   "metadata": {
    "collapsed": true
   },
   "outputs": [],
   "source": [
    "# Two rectangles.\n",
    "from turtle import *\n"
   ]
  },
  {
   "cell_type": "markdown",
   "metadata": {},
   "source": [
    "### Moving a turtle"
   ]
  },
  {
   "cell_type": "markdown",
   "metadata": {},
   "source": [
    "The turtle always starts at its home position, which is `(0,0)`, which is the center of the screen. Various methods are available to move the turtle across the screen. The turtle always has a position and orientation, and when given a command to move or turn, this is from its own position and orientation.\n",
    "\n",
    "- `forward()` moves the turtle forward, for a distance that is given as argument. \n",
    "- `backward()` moves the turtle backward, for a distance that is given as argument.\n",
    "- `right()` turns the turtle right, with an angle expressed in degrees as argument.\n",
    "- `left()` turns the turtle left, with an angle expressed in degrees as argument.\n",
    "- `setposition()` places the turtle at a particular position, expressed as an `x` coordinate and `y` coordinate as argument.\n",
    "- `setx()` sets the `x` coordinate of a turtle.\n",
    "- `sety()` sets the `y` coordinate of a turtle.\n",
    "- `setheading()` turns the turtle at a particular angle, expressed in degrees. Facing the right is 0 degrees, facing upwards is 90 degrees,etcetera.\n",
    "- `home()` moves the turtle to `(0,0)` and sets its angle to 0 degrees.\n",
    "- `circle()` makes the turtle move in a circle with a radius given as its first argument. A second optional argument can be given that determines the angle that it will move, so that not a complete circle is drawn. If the second argument is positive, the circle part is drawn counter-clockwise, otherwise clockwise.\n",
    "- `speed()` sets the turtle's movement speed, a value between 0 and 10 (0 will make the turtle stand still).\n",
    "- `write()` writes the text which is given as argument on the screen. You can give several optional arguments, amongst which `font=<font>`, where `<font>` is a 3-tuple consisting of fontname, fontsize, and fonttype.\n",
    "\n",
    "There are more methods available to move a turtle, but these are the most important ones."
   ]
  },
  {
   "cell_type": "code",
   "execution_count": null,
   "metadata": {
    "collapsed": false
   },
   "outputs": [],
   "source": [
    "from turtle import *\n",
    "\n",
    "color( \"red\" )\n",
    "speed( 10 )\n",
    "for i in range( 360 ):\n",
    "    circle( i+1, 5 )\n",
    "    \n",
    "done()"
   ]
  },
  {
   "cell_type": "markdown",
   "metadata": {},
   "source": [
    "### Turtle events"
   ]
  },
  {
   "cell_type": "markdown",
   "metadata": {},
   "source": [
    "You can interact with the turtle screen using events, but since turtle graphics are not very useful, I will not discuss that. You can find a complete description of all turtle methods in the Python reference."
   ]
  },
  {
   "cell_type": "markdown",
   "metadata": {},
   "source": [
    "---"
   ]
  },
  {
   "cell_type": "markdown",
   "metadata": {},
   "source": [
    "## What you learned"
   ]
  },
  {
   "cell_type": "markdown",
   "metadata": {},
   "source": [
    "In this chapter, you learned about:\n",
    "\n",
    "- Turtle graphics\n",
    "- The turtle screen\n",
    "- Turtle properties\n",
    "- Turtle movement"
   ]
  },
  {
   "cell_type": "markdown",
   "metadata": {},
   "source": [
    "---"
   ]
  },
  {
   "cell_type": "markdown",
   "metadata": {},
   "source": [
    "## Exercises"
   ]
  },
  {
   "cell_type": "markdown",
   "metadata": {},
   "source": [
    "### Exercise 28.1"
   ]
  },
  {
   "cell_type": "markdown",
   "metadata": {},
   "source": [
    "Use turtle graphics to draw a pentagram. For an extra nice pentagram, draw a circle around it."
   ]
  },
  {
   "cell_type": "code",
   "execution_count": null,
   "metadata": {
    "collapsed": true
   },
   "outputs": [],
   "source": [
    "# Pentagram\n",
    "from turtle import *\n"
   ]
  },
  {
   "cell_type": "markdown",
   "metadata": {},
   "source": [
    "### Exercise 28.2"
   ]
  },
  {
   "cell_type": "markdown",
   "metadata": {},
   "source": [
    "Draw a Dutch, Belgian, German, French, Italian, or any other tri-color flag of your choice."
   ]
  },
  {
   "cell_type": "code",
   "execution_count": null,
   "metadata": {
    "collapsed": true
   },
   "outputs": [],
   "source": [
    "# Flag.\n",
    "from turtle import *\n"
   ]
  },
  {
   "cell_type": "markdown",
   "metadata": {},
   "source": [
    "### Exercise 28.3"
   ]
  },
  {
   "cell_type": "markdown",
   "metadata": {},
   "source": [
    "Draw the flag of the United States of America."
   ]
  },
  {
   "cell_type": "code",
   "execution_count": null,
   "metadata": {
    "collapsed": true
   },
   "outputs": [],
   "source": [
    "# US Flag.\n",
    "from turtle import *\n"
   ]
  },
  {
   "cell_type": "markdown",
   "metadata": {},
   "source": [
    "### Exercise 28.4"
   ]
  },
  {
   "cell_type": "markdown",
   "metadata": {},
   "source": [
    "The Koch snowflake is a fractal structure that looks quite nice (look it up). It is drawn recursively. It starts by drawing an equilateral triangle. However, each side of the triangle is drawn as follows: you draw one-third of the side, then you turn left 60 degrees, draw one-third of the side, turn right 120 degrees, draw one-third of the side, turn left 60 degrees, and draw the final one-third of the side. I.e., the side consists of a line with a smaller triangle sticking out of it. Now, for each of those \"one-third of a side\"s you are going to do the same thing: draw one-third, turn, draw one-third, etcetera. And you can go to further depths doing that. So drawing the side of the triangle becomes a recursive call to drawing smaller and smaller sides. You can easily draw a Koch snowflake using turtle graphics. Do so (of course, you can only do it to a limited depth; depth more than 3 will be really slow)."
   ]
  },
  {
   "cell_type": "code",
   "execution_count": null,
   "metadata": {
    "collapsed": true
   },
   "outputs": [],
   "source": [
    "# Kock snowflake\n",
    "from turtle import *\n"
   ]
  },
  {
   "cell_type": "markdown",
   "metadata": {},
   "source": [
    "---"
   ]
  },
  {
   "cell_type": "markdown",
   "metadata": {},
   "source": [
    "End of Chapter 28. Version 1.0. "
   ]
  }
 ],
 "metadata": {
  "kernelspec": {
   "display_name": "Python 3",
   "language": "python",
   "name": "python3"
  },
  "language_info": {
   "codemirror_mode": {
    "name": "ipython",
    "version": 3
   },
   "file_extension": ".py",
   "mimetype": "text/x-python",
   "name": "python",
   "nbconvert_exporter": "python",
   "pygments_lexer": "ipython3",
   "version": "3.4.3"
  }
 },
 "nbformat": 4,
 "nbformat_minor": 0
}
