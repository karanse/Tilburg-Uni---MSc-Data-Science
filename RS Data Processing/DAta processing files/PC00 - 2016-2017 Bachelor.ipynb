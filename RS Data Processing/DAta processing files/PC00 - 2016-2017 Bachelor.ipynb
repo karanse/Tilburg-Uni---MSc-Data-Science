{
 "cells": [
  {
   "cell_type": "markdown",
   "metadata": {},
   "source": [
    "# Data Processing with Python"
   ]
  },
  {
   "cell_type": "markdown",
   "metadata": {},
   "source": [
    "### Course 2016-2017 Bachelor Semester 1"
   ]
  },
  {
   "cell_type": "markdown",
   "metadata": {},
   "source": [
    "---"
   ]
  },
  {
   "cell_type": "markdown",
   "metadata": {},
   "source": [
    "Course instructor: __Pieter Spronck__\n",
    "\n",
    "<a href=\"mailto:p.spronck@gmail.com\">p.spronck@gmail.com</a><br>\n",
    "Room D350"
   ]
  },
  {
   "cell_type": "markdown",
   "metadata": {},
   "source": [
    "---"
   ]
  },
  {
   "cell_type": "markdown",
   "metadata": {},
   "source": [
    "This course consists of a series of lectures that are all fully given in these notebooks. The lectures given in class will be more brief, and will skip material that is found in the notebooks. The oral lectures are meant to give an introduction to the topics covered in the notebooks, to discuss exercises, and to provide further explanations upon request.\n",
    "\n",
    "During the course take-home exercises might be given. These are optional; they will not be graded, though they will be corrected and will lead to feedback to the students. It is therefore recommended that you do them to the best of your ability and submit your answers -- there is no need to worry if you cannot solve an exercise as it will not impact your final grade. \n",
    "\n",
    "The final grade for the course is determined only by a computer exam, that will be given in the exam week after the course. More information on this will be provided on blackboard.\n",
    "\n",
    "Most of the time you spend on the course will be on working through the notebooks, and doing the exercises in the notebooks. Time is set aside to do this in class, but you will also need to work on it at home.  \n",
    "\n",
    "You are allowed to collaborate with others on any of the exercises (except, of course, during the computer exam). However, while you are allowed to do that, I myself think that that is not a good idea. You learn much more when you try to do exercises by yourself. You can only learn programming by doing. In contrast to many other courses, the material taught in this course is not something that you only need to repeat. Programming is a creative process wherein you combine elements that you learned in new and original ways to devise solutions to problems. This is something that does not come naturally to most students, and you have to practice with it. I provide a great many exercises to practice with, so do these exercises and do them by yourself. If you cannot solve an exercise, go back to the relevant notebook and reread the course material, because you probably did not understand something completely. If you remain stuck, ask the course instructor for a hint.\n",
    "\n",
    "Note that many students experience this course as \"heavy\". It may require a considerable time investment. It is a 6 ECTS course, which entails about 180 hours of work, which is a bit more than the average needed for most students. However, some need much less, while others need a lot more. That cannot be helped; it depends on the student's background knowledge and natural aptitude for programming how much work is needed. But even if it takes you a lot of time, know that programming is an exceptionally valuable skill to have, both while doing research and in professional life."
   ]
  },
  {
   "cell_type": "markdown",
   "metadata": {},
   "source": [
    "---"
   ]
  },
  {
   "cell_type": "markdown",
   "metadata": {},
   "source": [
    "## Course program"
   ]
  },
  {
   "cell_type": "markdown",
   "metadata": {},
   "source": [
    "At the moment that I created this notebook, the exact course weeks and locations were unknown. I may update this notebook later, or information on the program will be given on blackboard. However, I can already specify the topics that will be covered during the course, and indicate the materials that need to be studied.\n",
    "\n",
    "In broad strokes, the course program covers the following:\n",
    "\n",
    "Block|Week|Content\n",
    "---|---|---\n",
    "1 | 1 | Introduction, Expressions, Variables, Simple Functions (PC01-PC06)\n",
    "1 | 2 | Conditions (PC07)\n",
    "1 | 3 | Iterations (PC08)\n",
    "1 | 4 | No new material, no lecture. Exercises will still take place.\n",
    "1 | 5 | Functions (PC09)\n",
    "1 | 6 | Recursion (PC10)\n",
    "1 | 7 | Strings (PC11)\n",
    "2 | 1 | Tuples, Lists (PC12-PC13)\n",
    "2 | 2 | Dictionaries, Sets (PC14-PC15)\n",
    "2 | 3 | Operating System, Files, Exceptions (PC16-PC19; PC19 is optional material)\n",
    "2 | 4 | Object Orientation (PC20)\n",
    "2 | 5 | Operator Overloading, Inheritance (PC21-PC22)\n",
    "2 | 6 | Iterators and Generators, Command-line Processing, Regular Expressions (PC23-PC25; optional material)\n",
    "2 | 7 | Exam discussion\n",
    "\n",
    "The computer exam covers Chapters PC01 to PC22, excluding PC19. However, if you need to do further programming during your studies, then I strongly recommend that study the other chapters too."
   ]
  },
  {
   "cell_type": "markdown",
   "metadata": {},
   "source": [
    "---"
   ]
  },
  {
   "cell_type": "markdown",
   "metadata": {},
   "source": [
    "End of Course Program. Version 1.1."
   ]
  }
 ],
 "metadata": {
  "kernelspec": {
   "display_name": "Python 3",
   "language": "python",
   "name": "python3"
  },
  "language_info": {
   "codemirror_mode": {
    "name": "ipython",
    "version": 3
   },
   "file_extension": ".py",
   "mimetype": "text/x-python",
   "name": "python",
   "nbconvert_exporter": "python",
   "pygments_lexer": "ipython3",
   "version": "3.4.3"
  }
 },
 "nbformat": 4,
 "nbformat_minor": 0
}
