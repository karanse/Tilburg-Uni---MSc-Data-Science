{
 "cells": [
  {
   "cell_type": "markdown",
   "metadata": {},
   "source": [
    "# 50 - List of Remaining Chapters"
   ]
  },
  {
   "cell_type": "markdown",
   "metadata": {},
   "source": [
    "---"
   ]
  },
  {
   "cell_type": "markdown",
   "metadata": {},
   "source": [
    "This is a list of the chapters that are still planned. Suggestions are welcome.\n",
    "\n",
    "- 30: GUI: `tkinter`\n",
    "- 31: Visualization: `mathplotlib` (including installation!), `pylab` \n",
    "- 32: Advanced calculations: `numpy` (including installation!), `scipy` [skip `pandas` (with installation)]\n",
    "- 33: Games: [`graphics`,] `pygame` (including installation!)\n",
    "- 34: Complexity theory: easy and hard problems\n",
    "- 35: Computability theory: impossible problems\n",
    "- 36: Parallellizing?\n",
    "- 37: Data structures - trees?\n",
    "- 40 and more: \"Projects\" (sentiment analysis?)\n",
    "\n",
    "To consider:\n",
    "\n",
    "- Program testing\n",
    "- Separate chapter on encodings: ascii, utf-8, latin-1\n",
    "- Creating your own exceptions in the inheritance notebook"
   ]
  },
  {
   "cell_type": "code",
   "execution_count": null,
   "metadata": {
    "collapsed": false
   },
   "outputs": [],
   "source": [
    "import tkinter as tk\n",
    "\n",
    "class Application(tk.Frame):\n",
    "    def __init__(self, master=None):\n",
    "        tk.Frame.__init__(self, master)\n",
    "        self.pack()\n",
    "        self.createWidgets()\n",
    "\n",
    "    def createWidgets(self):\n",
    "        self.hi_there = tk.Button(self)\n",
    "        self.hi_there[\"text\"] = \"Hello World\\n(click me)\"\n",
    "        self.hi_there[\"command\"] = self.say_hi\n",
    "        self.hi_there.pack(side=\"top\")\n",
    "\n",
    "        self.QUIT = tk.Button(self, text=\"QUIT\", fg=\"red\",\n",
    "                                            command=root.destroy)\n",
    "        self.QUIT.pack(side=\"bottom\")\n",
    "\n",
    "    def say_hi(self):\n",
    "        print(\"hi there, everyone!\")\n",
    "\n",
    "root = tk.Tk()\n",
    "app = Application(master=root)\n",
    "app.mainloop()"
   ]
  },
  {
   "cell_type": "code",
   "execution_count": null,
   "metadata": {
    "collapsed": false
   },
   "outputs": [],
   "source": []
  },
  {
   "cell_type": "markdown",
   "metadata": {},
   "source": [
    "---"
   ]
  },
  {
   "cell_type": "markdown",
   "metadata": {},
   "source": [
    "End of Chapter 50. Version 1.0. "
   ]
  }
 ],
 "metadata": {
  "kernelspec": {
   "display_name": "Python 3",
   "language": "python",
   "name": "python3"
  },
  "language_info": {
   "codemirror_mode": {
    "name": "ipython",
    "version": 3
   },
   "file_extension": ".py",
   "mimetype": "text/x-python",
   "name": "python",
   "nbconvert_exporter": "python",
   "pygments_lexer": "ipython3",
   "version": "3.5.1"
  }
 },
 "nbformat": 4,
 "nbformat_minor": 0
}
