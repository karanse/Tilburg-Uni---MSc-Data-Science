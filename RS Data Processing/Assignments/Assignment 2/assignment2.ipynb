{
 "cells": [
  {
   "cell_type": "markdown",
   "metadata": {},
   "source": [
    "**Sema Karan**  \n",
    "*ANR: 924823*"
   ]
  },
  {
   "cell_type": "markdown",
   "metadata": {},
   "source": [
    "Write a function multi3_odd that takes two numbers start and finish, and returns the number of numbers greater than or equal to start and less than finish which are odd and are multiplicates of 3:\n",
    "\n",
    "def multi3_odd(start, finish):\n",
    "\n",
    "        #fill in the body of the function and return the appropriate value.\n",
    "\n",
    "For example, multi3_odd(2,13) returns 2 (because the only numbers between 2 and 13 that are odd and multiplicates of 3 are 3 and 9). \n",
    "\n",
    "You can assume that both start and finish are positive integers."
   ]
  },
  {
   "cell_type": "code",
   "execution_count": 33,
   "metadata": {},
   "outputs": [],
   "source": [
    "def multi3_odd(start, finish):\n",
    "    count =0\n",
    "    for x in range(start,finish):\n",
    "        #print(x)\n",
    "        if x%2 ==1 and x%3 == 0:\n",
    "            count +=1\n",
    "    return(count)"
   ]
  }
 ],
 "metadata": {
  "kernelspec": {
   "display_name": "Python 3",
   "language": "python",
   "name": "python3"
  },
  "language_info": {
   "codemirror_mode": {
    "name": "ipython",
    "version": 3
   },
   "file_extension": ".py",
   "mimetype": "text/x-python",
   "name": "python",
   "nbconvert_exporter": "python",
   "pygments_lexer": "ipython3",
   "version": "3.6.4"
  }
 },
 "nbformat": 4,
 "nbformat_minor": 2
}
